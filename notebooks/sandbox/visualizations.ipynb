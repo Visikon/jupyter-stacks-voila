{
 "cells": [
  {
   "cell_type": "markdown",
   "id": "8e7dee7b-a781-433e-b6f0-941046b791db",
   "metadata": {},
   "source": [
    "# Using matplotlib to visualize data"
   ]
  },
  {
   "cell_type": "code",
   "execution_count": 29,
   "id": "5ca4d0e4-06b0-4150-9b3f-7d961df24b12",
   "metadata": {},
   "outputs": [],
   "source": [
    "import db\n",
    "import parser\n",
    "import pandas as pd\n",
    "from datetime import datetime, timedelta\n",
    "\n",
    "import seaborn as sns\n",
    "sns.set_theme()"
   ]
  },
  {
   "cell_type": "code",
   "execution_count": 80,
   "id": "88b9854e-a4bf-439f-b682-7612c5133b9d",
   "metadata": {},
   "outputs": [
    {
     "data": {
      "application/json": [
       {
        "__v": 0,
        "_id": {
         "$oid": "632c123c9bed81b619c1722e"
        },
        "clientType": "web",
        "createdAt": {
         "$date": "2022-09-22T07:43:56.703Z"
        },
        "log": [
         {
          "_id": {
           "$oid": "632c123ccb347419e335d588"
          },
          "clientVersion": "2.3.3",
          "programId": "62da73f0c2707758b0c12e22",
          "status": "rejected",
          "targetVersion": "2.3.4",
          "timestamp": {
           "$date": "2022-09-22T07:43:56.694Z"
          }
         },
         {
          "_id": {
           "$oid": "632c123ccb347419e335d593"
          },
          "clientVersion": "2.3.3",
          "programId": "62da73f0c2707758b0c12e22",
          "status": "rejected",
          "targetVersion": "2.3.4",
          "timestamp": {
           "$date": "2022-09-22T07:43:56.981Z"
          }
         },
         {
          "_id": {
           "$oid": "632c1259cb347419e335d5a9"
          },
          "clientVersion": "2.3.3",
          "programId": "62da73f0c2707758b0c12e22",
          "status": "rejected",
          "targetVersion": "2.3.4",
          "timestamp": {
           "$date": "2022-09-22T07:44:25.865Z"
          }
         },
         {
          "_id": {
           "$oid": "632c125acb347419e335d5b4"
          },
          "clientVersion": "2.3.3",
          "programId": "62da73f0c2707758b0c12e22",
          "status": "rejected",
          "targetVersion": "2.3.4",
          "timestamp": {
           "$date": "2022-09-22T07:44:26.115Z"
          }
         },
         {
          "_id": {
           "$oid": "632c13482187ea1a40092ee9"
          },
          "clientVersion": "2.3.3",
          "programId": "62da73f0c2707758b0c12e22",
          "status": "rejected",
          "targetVersion": "2.3.4",
          "timestamp": {
           "$date": "2022-09-22T07:48:24.467Z"
          }
         },
         {
          "_id": {
           "$oid": "632c13482187ea1a40092ef4"
          },
          "clientVersion": "2.3.3",
          "programId": "62da73f0c2707758b0c12e22",
          "status": "rejected",
          "targetVersion": "2.3.4",
          "timestamp": {
           "$date": "2022-09-22T07:48:24.725Z"
          }
         },
         {
          "_id": {
           "$oid": "632c144f2187ea1a40092f0a"
          },
          "clientVersion": "2.3.3",
          "programId": "62da73f0c2707758b0c12e22",
          "status": "rejected",
          "targetVersion": "2.3.4",
          "timestamp": {
           "$date": "2022-09-22T07:52:47.456Z"
          }
         },
         {
          "_id": {
           "$oid": "632c144f2187ea1a40092f15"
          },
          "clientVersion": "2.3.3",
          "programId": "62da73f0c2707758b0c12e22",
          "status": "rejected",
          "targetVersion": "2.3.4",
          "timestamp": {
           "$date": "2022-09-22T07:52:47.715Z"
          }
         },
         {
          "_id": {
           "$oid": "632c14522187ea1a40092f2b"
          },
          "clientVersion": "2.3.3",
          "programId": "62da73f0c2707758b0c12e22",
          "status": "rejected",
          "targetVersion": "2.3.4",
          "timestamp": {
           "$date": "2022-09-22T07:52:50.741Z"
          }
         },
         {
          "_id": {
           "$oid": "632c14532187ea1a40092f36"
          },
          "clientVersion": "2.3.3",
          "programId": "62da73f0c2707758b0c12e22",
          "status": "rejected",
          "targetVersion": "2.3.4",
          "timestamp": {
           "$date": "2022-09-22T07:52:51.016Z"
          }
         },
         {
          "_id": {
           "$oid": "632c18212da1f01c2af7caf5"
          },
          "clientVersion": "2.3.3",
          "programId": "62da73f0c2707758b0c12e22",
          "status": "rejected",
          "targetVersion": "2.3.4",
          "timestamp": {
           "$date": "2022-09-22T08:09:05.941Z"
          }
         },
         {
          "_id": {
           "$oid": "632c18222da1f01c2af7cb00"
          },
          "clientVersion": "2.3.3",
          "programId": "62da73f0c2707758b0c12e22",
          "status": "succeeded",
          "targetVersion": "2.3.4",
          "timestamp": {
           "$date": "2022-09-22T08:09:06.200Z"
          }
         }
        ],
        "status": "succeeded",
        "updatedAt": {
         "$date": "2022-09-22T08:09:25.709Z"
        },
        "userId": "63118ee37da4395a758f5c09"
       },
       {
        "__v": 0,
        "_id": {
         "$oid": "632c18a19bed81b619c17712"
        },
        "clientType": "web",
        "createdAt": {
         "$date": "2022-09-22T08:11:13.995Z"
        },
        "log": [
         {
          "_id": {
           "$oid": "632c18a1b8c4f91ca03b7b9a"
          },
          "clientVersion": "2.3.3",
          "programId": "62da73f0c2707758b0c12e22",
          "status": "rejected",
          "targetVersion": "2.3.4",
          "timestamp": {
           "$date": "2022-09-22T08:11:13.994Z"
          }
         },
         {
          "_id": {
           "$oid": "632c18a2b8c4f91ca03b7ba5"
          },
          "clientVersion": "2.3.3",
          "programId": "62da73f0c2707758b0c12e22",
          "status": "rejected",
          "targetVersion": "2.3.4",
          "timestamp": {
           "$date": "2022-09-22T08:11:14.275Z"
          }
         },
         {
          "_id": {
           "$oid": "632c18b9b8c4f91ca03b7bbb"
          },
          "clientVersion": "2.3.3",
          "programId": "62da73f0c2707758b0c12e22",
          "status": "rejected",
          "targetVersion": "2.3.4",
          "timestamp": {
           "$date": "2022-09-22T08:11:37.446Z"
          }
         },
         {
          "_id": {
           "$oid": "632c18b9b8c4f91ca03b7bc6"
          },
          "clientVersion": "2.3.3",
          "programId": "62da73f0c2707758b0c12e22",
          "status": "rejected",
          "targetVersion": "2.3.4",
          "timestamp": {
           "$date": "2022-09-22T08:11:37.694Z"
          }
         },
         {
          "_id": {
           "$oid": "632c18cdb8c4f91ca03b7bdc"
          },
          "clientVersion": "2.3.4",
          "programId": "62da73f0c2707758b0c12e22",
          "status": "succeeded",
          "timestamp": {
           "$date": "2022-09-22T08:11:57.886Z"
          }
         }
        ],
        "status": "succeeded",
        "updatedAt": {
         "$date": "2022-09-22T08:11:57.886Z"
        },
        "userId": "63118ee37da4395a758f5c09"
       },
       {
        "__v": 0,
        "_id": {
         "$oid": "632c2b119bed81b619c182e8"
        },
        "clientType": "ios",
        "createdAt": {
         "$date": "2022-09-22T09:29:53.728Z"
        },
        "log": [
         {
          "_id": {
           "$oid": "632c2b115f2147223d9d2dd7"
          },
          "clientVersion": "2.2.18",
          "programId": "62da73f0c2707758b0c12e22",
          "status": "rejected",
          "targetVersion": "2.3.4",
          "timestamp": {
           "$date": "2022-09-22T09:29:53.727Z"
          }
         },
         {
          "_id": {
           "$oid": "632c2be5d10f1d28a33c6378"
          },
          "clientVersion": "2.2.18",
          "programId": "62da73f0c2707758b0c12e22",
          "status": "rejected",
          "targetVersion": "2.3.4",
          "timestamp": {
           "$date": "2022-09-22T09:33:25.021Z"
          }
         },
         {
          "_id": {
           "$oid": "632c2c81d10f1d28a33c6385"
          },
          "clientVersion": "2.5.0",
          "programId": "62da73f0c2707758b0c12e22",
          "status": "succeeded",
          "timestamp": {
           "$date": "2022-09-22T09:36:01.341Z"
          }
         }
        ],
        "status": "succeeded",
        "updatedAt": {
         "$date": "2022-09-22T09:36:01.342Z"
        },
        "userId": "6329a334815a036554b35b2f"
       },
       {
        "__v": 0,
        "_id": {
         "$oid": "632c58959bed81b619c19b9d"
        },
        "clientType": "ios",
        "createdAt": {
         "$date": "2022-09-22T12:44:05.835Z"
        },
        "log": [
         {
          "_id": {
           "$oid": "632c58950dc6e263f6c4b21f"
          },
          "clientVersion": "2.1.0",
          "programId": "6242d9b0a4ea7a0039a68406",
          "status": "rejected",
          "targetVersion": "2.3.1",
          "timestamp": {
           "$date": "2022-09-22T12:44:05.835Z"
          }
         },
         {
          "_id": {
           "$oid": "632c59030dc6e263f6c4b22c"
          },
          "clientVersion": "2.1.0",
          "programId": "6242d9b0a4ea7a0039a68406",
          "status": "rejected",
          "targetVersion": "2.3.1",
          "timestamp": {
           "$date": "2022-09-22T12:45:55.533Z"
          }
         },
         {
          "_id": {
           "$oid": "632c5a630dc6e263f6c4b239"
          },
          "clientVersion": "2.1.0",
          "programId": "6242d9b0a4ea7a0039a68406",
          "status": "rejected",
          "targetVersion": "2.3.1",
          "timestamp": {
           "$date": "2022-09-22T12:51:47.945Z"
          }
         },
         {
          "_id": {
           "$oid": "632c5dbd74b66367262751e2"
          },
          "clientVersion": "2.1.0",
          "programId": "6242d9b0a4ea7a0039a68406",
          "status": "rejected",
          "targetVersion": "2.3.1",
          "timestamp": {
           "$date": "2022-09-22T13:06:05.476Z"
          }
         }
        ],
        "status": "rejected",
        "updatedAt": {
         "$date": "2022-09-22T13:06:05.477Z"
        },
        "userId": "632c58940dc6e263f6c4b210"
       },
       {
        "__v": 0,
        "_id": {
         "$oid": "632c5ad29bed81b619c19d59"
        },
        "clientType": "web",
        "createdAt": {
         "$date": "2022-09-22T12:53:38.471Z"
        },
        "log": [
         {
          "_id": {
           "$oid": "632c5ad274b66367262751d0"
          },
          "clientVersion": "2.3.0",
          "programId": "6242d9b0a4ea7a0039a68406",
          "status": "rejected",
          "targetVersion": "2.3.1",
          "timestamp": {
           "$date": "2022-09-22T12:53:38.470Z"
          }
         },
         {
          "_id": {
           "$oid": "632c6376cbc2d171ad5548c9"
          },
          "clientVersion": "2.3.4",
          "programId": "6242d9b0a4ea7a0039a68406",
          "status": "succeeded",
          "timestamp": {
           "$date": "2022-09-22T13:30:30.368Z"
          }
         }
        ],
        "status": "succeeded",
        "updatedAt": {
         "$date": "2022-09-22T13:30:30.369Z"
        },
        "userId": "632c5ad174b66367262751c1"
       },
       {
        "__v": 0,
        "_id": {
         "$oid": "6332cdce9bed81b619c2fa31"
        },
        "clientType": "ios",
        "createdAt": {
         "$date": "2022-09-27T10:17:50.163Z"
        },
        "log": [
         {
          "_id": {
           "$oid": "6332cdce3ac74d7c49d18ede"
          },
          "clientVersion": "2.2.18",
          "programId": "6242d9b0a4ea7a0039a68406",
          "status": "rejected",
          "targetVersion": "2.3.1",
          "timestamp": {
           "$date": "2022-09-27T10:17:50.162Z"
          }
         }
        ],
        "status": "rejected",
        "updatedAt": {
         "$date": "2022-09-27T10:17:50.163Z"
        },
        "userId": "6332cdcd3ac74d7c49d18ecf"
       },
       {
        "__v": 0,
        "_id": {
         "$oid": "6336eee49bed81b619c406f2"
        },
        "clientType": "ios",
        "createdAt": {
         "$date": "2022-09-30T13:28:04.604Z"
        },
        "log": [
         {
          "_id": {
           "$oid": "6336eee4397cee21c27590a8"
          },
          "clientVersion": "2.1.0",
          "programId": "62da73f0c2707758b0c12e22",
          "status": "rejected",
          "targetVersion": "2.3.4",
          "timestamp": {
           "$date": "2022-09-30T13:28:04.600Z"
          }
         }
        ],
        "status": "rejected",
        "updatedAt": {
         "$date": "2022-09-30T13:28:04.604Z"
        },
        "userId": "6336ee727223d31b214336ee"
       }
      ],
      "text/plain": [
       "<IPython.core.display.JSON object>"
      ]
     },
     "execution_count": 80,
     "metadata": {
      "application/json": {
       "expanded": false,
       "root": "root"
      }
     },
     "output_type": "execute_result"
    }
   ],
   "source": [
    "dev = db.dev()\n",
    "begin = datetime.today() + timedelta(days=-30)\n",
    "data = list(\n",
    "    dev.AppUpdateLog.find({\"createdAt\": {\"$gt\": begin}})\n",
    ")\n",
    "parser.pretty(data)"
   ]
  },
  {
   "cell_type": "code",
   "execution_count": 130,
   "id": "fa27f033-b79a-4f46-9dfb-38cea6f5bc46",
   "metadata": {},
   "outputs": [],
   "source": [
    "# Explode array\n",
    "df = pd.json_normalize(data, \"log\", record_prefix=\"log.\", meta=['userId', 'clientType', 'status'])"
   ]
  },
  {
   "cell_type": "code",
   "execution_count": 82,
   "id": "aa891393-4f1d-426d-a8cd-5b49338278ad",
   "metadata": {},
   "outputs": [],
   "source": [
    "df = pd.DataFrame({\n",
    "    'timestamp': df['log.timestamp'], \n",
    "    'user': df['userId'],\n",
    "    'os': df['clientType'],\n",
    "    'version': df['log.clientVersion'],\n",
    "    'status': df['log.status'],\n",
    "    'finalStatus': df['status']\n",
    "})\n",
    "df['date'] = df['timestamp'].dt.date"
   ]
  },
  {
   "cell_type": "code",
   "execution_count": 96,
   "id": "df125c46-2e67-43d0-a32d-d9cb4cf6aad3",
   "metadata": {},
   "outputs": [
    {
     "data": {
      "text/html": [
       "<div>\n",
       "<style scoped>\n",
       "    .dataframe tbody tr th:only-of-type {\n",
       "        vertical-align: middle;\n",
       "    }\n",
       "\n",
       "    .dataframe tbody tr th {\n",
       "        vertical-align: top;\n",
       "    }\n",
       "\n",
       "    .dataframe thead th {\n",
       "        text-align: right;\n",
       "    }\n",
       "</style>\n",
       "<table border=\"1\" class=\"dataframe\">\n",
       "  <thead>\n",
       "    <tr style=\"text-align: right;\">\n",
       "      <th></th>\n",
       "      <th></th>\n",
       "      <th></th>\n",
       "      <th></th>\n",
       "      <th>timestamp</th>\n",
       "      <th>user</th>\n",
       "      <th>finalStatus</th>\n",
       "    </tr>\n",
       "    <tr>\n",
       "      <th>date</th>\n",
       "      <th>os</th>\n",
       "      <th>version</th>\n",
       "      <th>status</th>\n",
       "      <th></th>\n",
       "      <th></th>\n",
       "      <th></th>\n",
       "    </tr>\n",
       "  </thead>\n",
       "  <tbody>\n",
       "    <tr>\n",
       "      <th rowspan=\"7\" valign=\"top\">2022-09-22</th>\n",
       "      <th rowspan=\"3\" valign=\"top\">ios</th>\n",
       "      <th>2.1.0</th>\n",
       "      <th>rejected</th>\n",
       "      <td>4</td>\n",
       "      <td>4</td>\n",
       "      <td>4</td>\n",
       "    </tr>\n",
       "    <tr>\n",
       "      <th>2.2.18</th>\n",
       "      <th>rejected</th>\n",
       "      <td>2</td>\n",
       "      <td>2</td>\n",
       "      <td>2</td>\n",
       "    </tr>\n",
       "    <tr>\n",
       "      <th>2.5.0</th>\n",
       "      <th>succeeded</th>\n",
       "      <td>1</td>\n",
       "      <td>1</td>\n",
       "      <td>1</td>\n",
       "    </tr>\n",
       "    <tr>\n",
       "      <th rowspan=\"4\" valign=\"top\">web</th>\n",
       "      <th>2.3.0</th>\n",
       "      <th>rejected</th>\n",
       "      <td>1</td>\n",
       "      <td>1</td>\n",
       "      <td>1</td>\n",
       "    </tr>\n",
       "    <tr>\n",
       "      <th rowspan=\"2\" valign=\"top\">2.3.3</th>\n",
       "      <th>rejected</th>\n",
       "      <td>15</td>\n",
       "      <td>15</td>\n",
       "      <td>15</td>\n",
       "    </tr>\n",
       "    <tr>\n",
       "      <th>succeeded</th>\n",
       "      <td>1</td>\n",
       "      <td>1</td>\n",
       "      <td>1</td>\n",
       "    </tr>\n",
       "    <tr>\n",
       "      <th>2.3.4</th>\n",
       "      <th>succeeded</th>\n",
       "      <td>2</td>\n",
       "      <td>2</td>\n",
       "      <td>2</td>\n",
       "    </tr>\n",
       "    <tr>\n",
       "      <th>2022-09-27</th>\n",
       "      <th>ios</th>\n",
       "      <th>2.2.18</th>\n",
       "      <th>rejected</th>\n",
       "      <td>1</td>\n",
       "      <td>1</td>\n",
       "      <td>1</td>\n",
       "    </tr>\n",
       "    <tr>\n",
       "      <th>2022-09-30</th>\n",
       "      <th>ios</th>\n",
       "      <th>2.1.0</th>\n",
       "      <th>rejected</th>\n",
       "      <td>1</td>\n",
       "      <td>1</td>\n",
       "      <td>1</td>\n",
       "    </tr>\n",
       "  </tbody>\n",
       "</table>\n",
       "</div>"
      ],
      "text/plain": [
       "                                  timestamp  user  finalStatus\n",
       "date       os  version status                                 \n",
       "2022-09-22 ios 2.1.0   rejected           4     4            4\n",
       "               2.2.18  rejected           2     2            2\n",
       "               2.5.0   succeeded          1     1            1\n",
       "           web 2.3.0   rejected           1     1            1\n",
       "               2.3.3   rejected          15    15           15\n",
       "                       succeeded          1     1            1\n",
       "               2.3.4   succeeded          2     2            2\n",
       "2022-09-27 ios 2.2.18  rejected           1     1            1\n",
       "2022-09-30 ios 2.1.0   rejected           1     1            1"
      ]
     },
     "execution_count": 96,
     "metadata": {},
     "output_type": "execute_result"
    }
   ],
   "source": [
    "df.groupby(['date', 'os', 'version', 'status']).count()"
   ]
  },
  {
   "cell_type": "code",
   "execution_count": 129,
   "id": "62d3cda9-21ab-4c0c-ad53-ac18c176b802",
   "metadata": {},
   "outputs": [
    {
     "data": {
      "text/html": [
       "<div>\n",
       "<style scoped>\n",
       "    .dataframe tbody tr th:only-of-type {\n",
       "        vertical-align: middle;\n",
       "    }\n",
       "\n",
       "    .dataframe tbody tr th {\n",
       "        vertical-align: top;\n",
       "    }\n",
       "\n",
       "    .dataframe thead th {\n",
       "        text-align: right;\n",
       "    }\n",
       "</style>\n",
       "<table border=\"1\" class=\"dataframe\">\n",
       "  <thead>\n",
       "    <tr style=\"text-align: right;\">\n",
       "      <th></th>\n",
       "      <th></th>\n",
       "      <th>os</th>\n",
       "    </tr>\n",
       "    <tr>\n",
       "      <th>date</th>\n",
       "      <th>status</th>\n",
       "      <th></th>\n",
       "    </tr>\n",
       "  </thead>\n",
       "  <tbody>\n",
       "    <tr>\n",
       "      <th rowspan=\"2\" valign=\"top\">2022-09-22</th>\n",
       "      <th>rejected</th>\n",
       "      <td>1</td>\n",
       "    </tr>\n",
       "    <tr>\n",
       "      <th>succeeded</th>\n",
       "      <td>4</td>\n",
       "    </tr>\n",
       "    <tr>\n",
       "      <th>2022-09-27</th>\n",
       "      <th>rejected</th>\n",
       "      <td>1</td>\n",
       "    </tr>\n",
       "    <tr>\n",
       "      <th>2022-09-30</th>\n",
       "      <th>rejected</th>\n",
       "      <td>1</td>\n",
       "    </tr>\n",
       "  </tbody>\n",
       "</table>\n",
       "</div>"
      ],
      "text/plain": [
       "                      os\n",
       "date       status       \n",
       "2022-09-22 rejected    1\n",
       "           succeeded   4\n",
       "2022-09-27 rejected    1\n",
       "2022-09-30 rejected    1"
      ]
     },
     "execution_count": 129,
     "metadata": {},
     "output_type": "execute_result"
    }
   ],
   "source": [
    "df2 = pd.DataFrame(data)\n",
    "df2 = pd.DataFrame({\n",
    "    'date': df2['updatedAt'].dt.date,\n",
    "    'os': df2['clientType'],\n",
    "    'status': df2['status']\n",
    "})\n",
    "df2.groupby(['date', 'status']).count()"
   ]
  },
  {
   "cell_type": "code",
   "execution_count": null,
   "id": "06faad0b-c89d-4dc4-9900-857085a6f65f",
   "metadata": {},
   "outputs": [],
   "source": [
    "# Add column\n",
    "# df[\"attempt\"] = df[\"logIndex\"] + 1\n",
    "\n",
    "# Remove column\n",
    "# df=df.drop([\"_id\", \"logIndex\"], axis=1)\n",
    "\n",
    "# Reposition column\n",
    "# df.insert(2, 'attempt', df.pop('attempt'))\n",
    "\n",
    "# Rename and reorder\n",
    "# pd.DataFrame({'timestamp': df['log.timestamp'], 'user': df['userId']})"
   ]
  }
 ],
 "metadata": {
  "kernelspec": {
   "display_name": "Python 3 (ipykernel)",
   "language": "python",
   "name": "python3"
  },
  "language_info": {
   "codemirror_mode": {
    "name": "ipython",
    "version": 3
   },
   "file_extension": ".py",
   "mimetype": "text/x-python",
   "name": "python",
   "nbconvert_exporter": "python",
   "pygments_lexer": "ipython3",
   "version": "3.10.7"
  }
 },
 "nbformat": 4,
 "nbformat_minor": 5
}
