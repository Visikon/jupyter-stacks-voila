{
 "cells": [
  {
   "cell_type": "markdown",
   "id": "8e7dee7b-a781-433e-b6f0-941046b791db",
   "metadata": {},
   "source": [
    "# Using Pandas DataFrames to explore tabular data"
   ]
  },
  {
   "cell_type": "code",
   "execution_count": 17,
   "id": "5ca4d0e4-06b0-4150-9b3f-7d961df24b12",
   "metadata": {},
   "outputs": [],
   "source": [
    "import db\n",
    "import parser\n",
    "import pandas as pd\n",
    "from datetime import datetime, timedelta"
   ]
  },
  {
   "cell_type": "code",
   "execution_count": 19,
   "id": "88b9854e-a4bf-439f-b682-7612c5133b9d",
   "metadata": {},
   "outputs": [
    {
     "name": "stdout",
     "output_type": "stream",
     "text": [
      "CPU times: user 67.7 ms, sys: 24.2 ms, total: 91.9 ms\n",
      "Wall time: 1.44 s\n"
     ]
    },
    {
     "data": {
      "application/json": [
       {
        "__v": 0,
        "_id": {
         "$oid": "5fd7df79d224ebc13a20e9a1"
        },
        "_type": "PublishedContent",
        "approved": true,
        "blobName": "published/mitforlob/20201214215609620_3668904832_5de7aca1464d3f004e208a4e.json",
        "disabled": false,
        "namespace": "mitforlob",
        "originalId": "5de7aca1464d3f004e208a4e",
        "publishedAt": 1607982969739,
        "publishedBy": "jeppe@visikon.com",
        "version": 0
       },
       {
        "__v": 0,
        "_id": {
         "$oid": "5fd7df98d224ebc13a20e9ba"
        },
        "_type": "PublishedContent",
        "approved": true,
        "blobName": "published/mitforlob/20201214215640292_4779088707_5f23cd1ec7c749004cc944ae.json",
        "disabled": false,
        "namespace": "mitforlob",
        "originalId": "5f23cd1ec7c749004cc944ae",
        "publishedAt": 1607983000454,
        "publishedBy": "jeppe@visikon.com",
        "version": 0
       },
       {
        "__v": 0,
        "_id": {
         "$oid": "5fe282515a78ca0039c85044"
        },
        "_type": "PublishedContent",
        "blobName": "published/mitforlob/20201222233337356_9989201312_5eba686c512949004ce36c01.json",
        "disabled": true,
        "namespace": "mitforlob",
        "originalId": "5eba686c512949004ce36c01",
        "publishedAt": 1608680017452,
        "publishedBy": "anders@visikon.com",
        "version": 1
       },
       {
        "__v": 0,
        "_id": {
         "$oid": "5fe283435a78ca0039c85045"
        },
        "_type": "PublishedContent",
        "blobName": "published/mitforlob/20201222233739532_6880264735_5eba686c512949004ce36c01.json",
        "disabled": true,
        "namespace": "mitforlob",
        "originalId": "5eba686c512949004ce36c01",
        "publishedAt": 1608680259651,
        "publishedBy": "anders@visikon.com",
        "version": 2
       },
       {
        "__v": 0,
        "_id": {
         "$oid": "5fe284115a78ca0039c85046"
        },
        "_type": "PublishedContent",
        "blobName": "published/mitforlob/20201222234105540_6282846515_5eba686c512949004ce36c01.json",
        "disabled": true,
        "namespace": "mitforlob",
        "originalId": "5eba686c512949004ce36c01",
        "publishedAt": 1608680465633,
        "publishedBy": "anders@visikon.com",
        "version": 3
       },
       {
        "__v": 0,
        "_id": {
         "$oid": "5fe284cf5a78ca0039c85047"
        },
        "_type": "PublishedContent",
        "blobName": "published/mitforlob/20201222234415657_9438353706_5eba686c512949004ce36c01.json",
        "disabled": true,
        "namespace": "mitforlob",
        "originalId": "5eba686c512949004ce36c01",
        "publishedAt": 1608680655738,
        "publishedBy": "anders@visikon.com",
        "version": 4
       },
       {
        "__v": 0,
        "_id": {
         "$oid": "5fe2f7805a78ca0039c8507b"
        },
        "_type": "PublishedContent",
        "blobName": "published/mitforlob/20201223075336049_2143152965_5eba686c512949004ce36c01.json",
        "disabled": true,
        "namespace": "mitforlob",
        "originalId": "5eba686c512949004ce36c01",
        "publishedAt": 1608710016183,
        "publishedBy": "anders@visikon.com",
        "version": 5
       },
       {
        "__v": 0,
        "_id": {
         "$oid": "5fe2f7b45a78ca0039c8507c"
        },
        "_type": "PublishedContent",
        "blobName": "published/mitforlob/20201223075428372_5660573040_5eba686c512949004ce36c01.json",
        "disabled": true,
        "namespace": "mitforlob",
        "originalId": "5eba686c512949004ce36c01",
        "publishedAt": 1608710068453,
        "publishedBy": "anders@visikon.com",
        "version": 6
       },
       {
        "__v": 0,
        "_id": {
         "$oid": "5fe307b85a78ca0039c85096"
        },
        "_type": "PublishedContent",
        "approved": true,
        "blobName": "published/mitforlob/20201223090248757_7385937869_5fa558b9c556ef00399297cf.json",
        "disabled": false,
        "namespace": "mitforlob",
        "originalId": "5fa558b9c556ef00399297cf",
        "publishedAt": 1608714168832,
        "publishedBy": "mette@visikon.com",
        "version": 1
       },
       {
        "__v": 0,
        "_id": {
         "$oid": "5ff315ba61b02c003931d498"
        },
        "_type": "PublishedContent",
        "blobName": "published/mitforlob/20210104131850355_8737015763_5eba686c512949004ce36c01.json",
        "disabled": true,
        "namespace": "mitforlob",
        "originalId": "5eba686c512949004ce36c01",
        "publishedAt": 1609766330406,
        "publishedBy": "sameer@visikon.com",
        "version": 26
       },
       {
        "__v": 0,
        "_id": {
         "$oid": "5fff4d980db7f800393ec518"
        },
        "_type": "PublishedContent",
        "approved": true,
        "blobName": "published/mitforlob/20210113194424149_4120150249_5de7ada9464d3f004e208a54.json",
        "disabled": false,
        "namespace": "mitforlob",
        "originalId": "5de7ada9464d3f004e208a54",
        "publishedAt": 1610567064217,
        "publishedBy": "sameer@visikon.com",
        "version": 1
       },
       {
        "__v": 0,
        "_id": {
         "$oid": "5fff4dab0db7f800393ec531"
        },
        "_type": "PublishedContent",
        "approved": true,
        "blobName": "published/mitforlob/20210113194443905_2994531731_5f23ce1fc7c749004cc944b0.json",
        "disabled": false,
        "namespace": "mitforlob",
        "originalId": "5f23ce1fc7c749004cc944b0",
        "publishedAt": 1610567083983,
        "publishedBy": "sameer@visikon.com",
        "version": 1
       },
       {
        "__v": 0,
        "_id": {
         "$oid": "5fff4dba0db7f800393ec549"
        },
        "_type": "PublishedContent",
        "approved": true,
        "blobName": "published/mitforlob/20210113194458905_2976036644_5fd32346a536750035e9564b.json",
        "disabled": false,
        "namespace": "mitforlob",
        "originalId": "5fd32346a536750035e9564b",
        "publishedAt": 1610567098969,
        "publishedBy": "sameer@visikon.com",
        "version": 1
       },
       {
        "__v": 0,
        "_id": {
         "$oid": "5fff4ec60db7f800393ec560"
        },
        "_type": "PublishedContent",
        "approved": true,
        "blobName": "published/mitforlob/20210113194926930_8357229644_5b9781b6ce298900381d1a5d.json",
        "disabled": false,
        "namespace": "mitforlob",
        "originalId": "5b9781b6ce298900381d1a5d",
        "publishedAt": 1610567366987,
        "publishedBy": "sameer@visikon.com",
        "version": 2
       },
       {
        "__v": 0,
        "_id": {
         "$oid": "5fff4ed30db7f800393ec56e"
        },
        "_type": "PublishedContent",
        "approved": true,
        "blobName": "published/mitforlob/20210113194939832_994717683_5bfdbc19e6fdb90039e36d4d.json",
        "disabled": false,
        "namespace": "mitforlob",
        "originalId": "5bfdbc19e6fdb90039e36d4d",
        "publishedAt": 1610567379914,
        "publishedBy": "sameer@visikon.com",
        "version": 2
       },
       {
        "__v": 0,
        "_id": {
         "$oid": "5fff4f030db7f800393ec591"
        },
        "_type": "PublishedContent",
        "approved": true,
        "blobName": "published/mitforlob/20210113195027415_9481148387_5e6ba9505758f90051189fe1.json",
        "disabled": false,
        "namespace": "mitforlob",
        "originalId": "5e6ba9505758f90051189fe1",
        "publishedAt": 1610567427481,
        "publishedBy": "sameer@visikon.com",
        "version": 2
       },
       {
        "__v": 0,
        "_id": {
         "$oid": "5fff4f050db7f800393ec593"
        },
        "_type": "PublishedContent",
        "approved": true,
        "blobName": "published/mitforlob/20210113195029232_9054033777_5e74f6ebe7c8ef004ed66c1a.json",
        "disabled": false,
        "namespace": "mitforlob",
        "originalId": "5e74f6ebe7c8ef004ed66c1a",
        "publishedAt": 1610567429308,
        "publishedBy": "sameer@visikon.com",
        "version": 2
       },
       {
        "__v": 0,
        "_id": {
         "$oid": "5fff4f0b0db7f800393ec59e"
        },
        "_type": "PublishedContent",
        "approved": true,
        "blobName": "published/mitforlob/20210113195035741_8417047341_5f23ce1fc7c749004cc944b0.json",
        "disabled": false,
        "namespace": "mitforlob",
        "originalId": "5f23ce1fc7c749004cc944b0",
        "publishedAt": 1610567435804,
        "publishedBy": "sameer@visikon.com",
        "version": 2
       },
       {
        "__v": 0,
        "_id": {
         "$oid": "5fff4f140db7f800393ec5ad"
        },
        "_type": "PublishedContent",
        "approved": true,
        "blobName": "published/mitforlob/20210113195043982_3422859430_5fa921eef038e90035e7bd94.json",
        "disabled": false,
        "namespace": "mitforlob",
        "originalId": "5fa921eef038e90035e7bd94",
        "publishedAt": 1610567444032,
        "publishedBy": "sameer@visikon.com",
        "version": 2
       },
       {
        "__v": 0,
        "_id": {
         "$oid": "5fff55147d1f150035d020b3"
        },
        "_type": "PublishedContent",
        "approved": true,
        "blobName": "published/mitforlob/20210113201620213_548047788_5b978157ce298900381d1a5b.json",
        "disabled": false,
        "namespace": "mitforlob",
        "originalId": "5b978157ce298900381d1a5b",
        "publishedAt": 1610568980347,
        "publishedBy": "sameer@visikon.com",
        "version": 3
       },
       {
        "__v": 0,
        "_id": {
         "$oid": "5fff55227d1f150035d020c3"
        },
        "_type": "PublishedContent",
        "approved": true,
        "blobName": "published/mitforlob/20210113201634748_3825094606_5c909630a12b7a003876bf57.json",
        "disabled": false,
        "namespace": "mitforlob",
        "originalId": "5c909630a12b7a003876bf57",
        "publishedAt": 1610568994818,
        "publishedBy": "sameer@visikon.com",
        "version": 3
       },
       {
        "__v": 0,
        "_id": {
         "$oid": "5fff554e7d1f150035d020dc"
        },
        "_type": "PublishedContent",
        "approved": true,
        "blobName": "published/mitforlob/20210113201718242_298251267_5df77100f79c2d004ea88167.json",
        "disabled": false,
        "namespace": "mitforlob",
        "originalId": "5df77100f79c2d004ea88167",
        "publishedAt": 1610569038288,
        "publishedBy": "sameer@visikon.com",
        "version": 3
       },
       {
        "__v": 0,
        "_id": {
         "$oid": "5fff55617d1f150035d020f4"
        },
        "_type": "PublishedContent",
        "approved": true,
        "blobName": "published/mitforlob/20210113201737124_9425955553_5f3686867ce2c1004bc8fc4b.json",
        "disabled": false,
        "namespace": "mitforlob",
        "originalId": "5f3686867ce2c1004bc8fc4b",
        "publishedAt": 1610569057181,
        "publishedBy": "sameer@visikon.com",
        "version": 3
       },
       {
        "__v": 0,
        "_id": {
         "$oid": "5fff556d7d1f150035d0210b"
        },
        "_type": "PublishedContent",
        "approved": true,
        "blobName": "published/mitforlob/20210113201749897_7592925046_5fda293bbe5ada0039e97634.json",
        "disabled": false,
        "namespace": "mitforlob",
        "originalId": "5fda293bbe5ada0039e97634",
        "publishedAt": 1610569069959,
        "publishedBy": "sameer@visikon.com",
        "version": 7
       },
       {
        "__v": 0,
        "_id": {
         "$oid": "600aa762a74589003944863c"
        },
        "_type": "PublishedContent",
        "approved": true,
        "blobName": "published/mitforlob/20210122102226448_3943710008_5ffee5f1a0731b0035753383.json",
        "disabled": false,
        "namespace": "mitforlob",
        "originalId": "5ffee5f1a0731b0035753383",
        "publishedAt": 1611310946503,
        "publishedBy": "mette@visikon.com",
        "version": 13
       },
       {
        "__v": 0,
        "_id": {
         "$oid": "600aa76fa74589003944863d"
        },
        "_type": "PublishedContent",
        "approved": true,
        "blobName": "published/mitforlob/20210122102238870_2831369922_5ffee5f2a0731b0035753385.json",
        "disabled": false,
        "namespace": "mitforlob",
        "originalId": "5ffee5f2a0731b0035753385",
        "publishedAt": 1611310959001,
        "publishedBy": "mette@visikon.com",
        "version": 10
       },
       {
        "__v": 0,
        "_id": {
         "$oid": "600aa77aa74589003944863e"
        },
        "_type": "PublishedContent",
        "approved": true,
        "blobName": "published/mitforlob/20210122102250924_6995090981_5ffee5f2a0731b0035753387.json",
        "disabled": false,
        "namespace": "mitforlob",
        "originalId": "5ffee5f2a0731b0035753387",
        "publishedAt": 1611310970991,
        "publishedBy": "mette@visikon.com",
        "version": 9
       },
       {
        "__v": 0,
        "_id": {
         "$oid": "600abda1a745890039448640"
        },
        "_type": "PublishedContent",
        "approved": true,
        "blobName": "published/mitforlob/20210122115721458_4860121848_5ffee5f1a0731b0035753383.json",
        "disabled": false,
        "namespace": "mitforlob",
        "originalId": "5ffee5f1a0731b0035753383",
        "publishedAt": 1611316641803,
        "publishedBy": "mette@visikon.com",
        "version": 14
       },
       {
        "__v": 0,
        "_id": {
         "$oid": "600abde7a745890039448641"
        },
        "_type": "PublishedContent",
        "approved": true,
        "blobName": "published/mitforlob/20210122115831534_1480138565_5fd32346a536750035e9564b.json",
        "disabled": false,
        "namespace": "mitforlob",
        "originalId": "5fd32346a536750035e9564b",
        "publishedAt": 1611316711605,
        "publishedBy": "mette@visikon.com",
        "version": 11
       },
       {
        "__v": 0,
        "_id": {
         "$oid": "600abe07a745890039448643"
        },
        "_type": "PublishedContent",
        "approved": true,
        "blobName": "published/mitforlob/20210122115903552_6656312969_5ffee5f2a0731b0035753385.json",
        "disabled": false,
        "namespace": "mitforlob",
        "originalId": "5ffee5f2a0731b0035753385",
        "publishedAt": 1611316743599,
        "publishedBy": "mette@visikon.com",
        "version": 11
       },
       {
        "__v": 0,
        "_id": {
         "$oid": "600abdf9a745890039448642"
        },
        "_type": "PublishedContent",
        "approved": true,
        "blobName": "published/mitforlob/20210122115849417_7305127235_5ffee5f1a0731b0035753383.json",
        "disabled": false,
        "namespace": "mitforlob",
        "originalId": "5ffee5f1a0731b0035753383",
        "publishedAt": 1611316729493,
        "publishedBy": "mette@visikon.com",
        "version": 15
       },
       {
        "__v": 0,
        "_id": {
         "$oid": "600abe14a745890039448644"
        },
        "_type": "PublishedContent",
        "approved": true,
        "blobName": "published/mitforlob/20210122115916818_4045170826_5ffee5f2a0731b0035753387.json",
        "disabled": false,
        "namespace": "mitforlob",
        "originalId": "5ffee5f2a0731b0035753387",
        "publishedAt": 1611316756895,
        "publishedBy": "mette@visikon.com",
        "version": 10
       },
       {
        "__v": 0,
        "_id": {
         "$oid": "60100fe9a7458900394486b8"
        },
        "_type": "PublishedContent",
        "approved": true,
        "blobName": "published/mitforlob/20210126124945413_7746952044_5fda293bbe5ada0039e97634.json",
        "disabled": false,
        "namespace": "mitforlob",
        "originalId": "5fda293bbe5ada0039e97634",
        "publishedAt": 1611665385799,
        "publishedBy": "mette@visikon.com",
        "version": 8
       },
       {
        "__v": 0,
        "_id": {
         "$oid": "6010104ba7458900394486b9"
        },
        "_type": "PublishedContent",
        "approved": true,
        "blobName": "published/mitforlob/20210126125123313_3310358044_5fda293bbe5ada0039e97634.json",
        "disabled": false,
        "namespace": "mitforlob",
        "originalId": "5fda293bbe5ada0039e97634",
        "publishedAt": 1611665483442,
        "publishedBy": "mette@visikon.com",
        "version": 9
       },
       {
        "__v": 0,
        "_id": {
         "$oid": "6010488ca7458900394486e5"
        },
        "_type": "PublishedContent",
        "approved": true,
        "blobName": "published/mitforlob/20210126165124292_6149030417_5fda293bbe5ada0039e97634.json",
        "disabled": false,
        "namespace": "mitforlob",
        "originalId": "5fda293bbe5ada0039e97634",
        "publishedAt": 1611679884728,
        "publishedBy": "mette@visikon.com",
        "version": 10
       },
       {
        "__v": 0,
        "_id": {
         "$oid": "601048aea7458900394486e6"
        },
        "_type": "PublishedContent",
        "approved": true,
        "blobName": "published/mitforlob/20210126165157966_1489355482_5ffee558a0731b003575337f.json",
        "disabled": false,
        "namespace": "mitforlob",
        "originalId": "5ffee558a0731b003575337f",
        "publishedAt": 1611679918049,
        "publishedBy": "mette@visikon.com",
        "version": 4
       },
       {
        "__v": 0,
        "_id": {
         "$oid": "601048d7a7458900394486e7"
        },
        "_type": "PublishedContent",
        "approved": true,
        "blobName": "published/mitforlob/20210126165239412_7443784420_5ffee559a0731b0035753381.json",
        "disabled": false,
        "namespace": "mitforlob",
        "originalId": "5ffee559a0731b0035753381",
        "publishedAt": 1611679959474,
        "publishedBy": "mette@visikon.com",
        "version": 4
       },
       {
        "__v": 0,
        "_id": {
         "$oid": "601d727a7470e100390f03eb"
        },
        "_type": "PublishedContent",
        "approved": true,
        "blobName": "published/mitforlob/20210205162946527_7690486108_601d72297470e100390f03e9.json",
        "disabled": false,
        "namespace": "mitforlob",
        "originalId": "601d72297470e100390f03e9",
        "publishedAt": 1612542586661,
        "publishedBy": "mette@visikon.com",
        "version": 0
       },
       {
        "__v": 0,
        "_id": {
         "$oid": "601d72ea7470e100390f03ee"
        },
        "_type": "PublishedContent",
        "approved": true,
        "blobName": "published/mitforlob/20210205163138798_677261925_601d729d7470e100390f03ec.json",
        "disabled": false,
        "namespace": "mitforlob",
        "originalId": "601d729d7470e100390f03ec",
        "publishedAt": 1612542698897,
        "publishedBy": "mette@visikon.com",
        "version": 0
       },
       {
        "__v": 0,
        "_id": {
         "$oid": "601d73147470e100390f03ef"
        },
        "_type": "PublishedContent",
        "approved": true,
        "blobName": "published/mitforlob/20210205163220156_6282693847_601d72297470e100390f03e9.json",
        "disabled": true,
        "namespace": "mitforlob",
        "originalId": "601d72297470e100390f03e9",
        "publishedAt": 1612542740226,
        "publishedBy": "mette@visikon.com",
        "version": 1
       },
       {
        "__v": 0,
        "_id": {
         "$oid": "601d73497470e100390f03f2"
        },
        "_type": "PublishedContent",
        "approved": true,
        "blobName": "published/mitforlob/20210205163313197_7818345312_601d73277470e100390f03f0.json",
        "disabled": false,
        "namespace": "mitforlob",
        "originalId": "601d73277470e100390f03f0",
        "publishedAt": 1612542793300,
        "publishedBy": "mette@visikon.com",
        "version": 0
       },
       {
        "__v": 0,
        "_id": {
         "$oid": "601d735c7470e100390f03f3"
        },
        "_type": "PublishedContent",
        "approved": true,
        "blobName": "published/mitforlob/20210205163332563_9926236538_601d72297470e100390f03e9.json",
        "disabled": true,
        "namespace": "mitforlob",
        "originalId": "601d72297470e100390f03e9",
        "publishedAt": 1612542812615,
        "publishedBy": "mette@visikon.com",
        "version": 2
       },
       {
        "__v": 0,
        "_id": {
         "$oid": "601d73717470e100390f03f4"
        },
        "_type": "PublishedContent",
        "approved": true,
        "blobName": "published/mitforlob/20210205163353018_3365022610_601d729d7470e100390f03ec.json",
        "disabled": false,
        "namespace": "mitforlob",
        "originalId": "601d729d7470e100390f03ec",
        "publishedAt": 1612542833073,
        "publishedBy": "mette@visikon.com",
        "version": 1
       },
       {
        "__v": 0,
        "_id": {
         "$oid": "601d73bb7470e100390f03f7"
        },
        "_type": "PublishedContent",
        "approved": true,
        "blobName": "published/mitforlob/20210205163507643_1426150958_601d73877470e100390f03f5.json",
        "disabled": false,
        "namespace": "mitforlob",
        "originalId": "601d73877470e100390f03f5",
        "publishedAt": 1612542907752,
        "publishedBy": "mette@visikon.com",
        "version": 0
       },
       {
        "__v": 0,
        "_id": {
         "$oid": "602a695b7470e100390f0783"
        },
        "_type": "PublishedContent",
        "approved": true,
        "blobName": "published/mitforlob/20210215123019435_2776677186_5fda293bbe5ada0039e97634.json",
        "disabled": false,
        "namespace": "mitforlob",
        "originalId": "5fda293bbe5ada0039e97634",
        "publishedAt": 1613392219510,
        "publishedBy": "mette@visikon.com",
        "version": 11
       },
       {
        "__v": 0,
        "_id": {
         "$oid": "6033ade87c66e00039a90b6d"
        },
        "_type": "PublishedContent",
        "approved": false,
        "blobName": "published/mitforlob/20210222131312179_8557092206_6011ccd01d0fc2003937373e.json",
        "disabled": true,
        "namespace": "mitforlob",
        "originalId": "6011ccd01d0fc2003937373e",
        "publishedAt": 1613999592269,
        "publishedBy": "mette@visikon.com",
        "version": 1
       },
       {
        "__v": 0,
        "_id": {
         "$oid": "6033b0a47c66e00039a90b75"
        },
        "_type": "PublishedContent",
        "approved": false,
        "blobName": "published/mitforlob/20210222132452818_6533183180_6011ccd01d0fc2003937373e.json",
        "disabled": true,
        "namespace": "mitforlob",
        "originalId": "6011ccd01d0fc2003937373e",
        "publishedAt": 1614000292970,
        "publishedBy": "mette@visikon.com",
        "version": 2
       },
       {
        "__v": 0,
        "_id": {
         "$oid": "60352c85ad0172003969a5b9"
        },
        "_type": "PublishedContent",
        "approved": true,
        "blobName": "published/mitforlob/20210223162540982_9393760943_5f9e904cf6c80700393b4305.json",
        "disabled": false,
        "namespace": "mitforlob",
        "originalId": "5f9e904cf6c80700393b4305",
        "publishedAt": 1614097541069,
        "publishedBy": "anders@visikon.com",
        "version": 4
       },
       {
        "__v": 0,
        "_id": {
         "$oid": "60352dcdad0172003969a5c1"
        },
        "_type": "PublishedContent",
        "approved": true,
        "blobName": "published/mitforlob/20210223163109513_5210599807_5ffee488a0731b003575336a.json",
        "disabled": false,
        "namespace": "mitforlob",
        "originalId": "5ffee488a0731b003575336a",
        "publishedAt": 1614097869565,
        "publishedBy": "anders@visikon.com",
        "version": 6
       },
       {
        "__v": 0,
        "_id": {
         "$oid": "60352cffad0172003969a5c0"
        },
        "_type": "PublishedContent",
        "approved": true,
        "blobName": "published/mitforlob/20210223162743581_1471612713_5ff2f232f89f3c0039ba0746.json",
        "disabled": false,
        "namespace": "mitforlob",
        "originalId": "5ff2f232f89f3c0039ba0746",
        "publishedAt": 1614097663660,
        "publishedBy": "anders@visikon.com",
        "version": 3
       },
       {
        "__v": 0,
        "_id": {
         "$oid": "60352f8dad0172003969a5c2"
        },
        "_type": "PublishedContent",
        "approved": true,
        "blobName": "published/mitforlob/20210223163837702_3126130216_5ffee489a0731b003575336c.json",
        "disabled": true,
        "namespace": "mitforlob",
        "originalId": "5ffee489a0731b003575336c",
        "publishedAt": 1614098317758,
        "publishedBy": "anders@visikon.com",
        "version": 4
       },
       {
        "__v": 0,
        "_id": {
         "$oid": "60353651ad0172003969a5c3"
        },
        "_type": "PublishedContent",
        "approved": true,
        "blobName": "published/mitforlob/20210223170729634_5802357998_5ffee48aa0731b003575336e.json",
        "disabled": false,
        "namespace": "mitforlob",
        "originalId": "5ffee48aa0731b003575336e",
        "publishedAt": 1614100049699,
        "publishedBy": "anders@visikon.com",
        "version": 3
       },
       {
        "__v": 0,
        "_id": {
         "$oid": "60390961622156003908d48b"
        },
        "_type": "PublishedContent",
        "approved": true,
        "blobName": "published/mitforlob/20210226144449875_9840254866_5beec973c13fc80038fd981d.json",
        "disabled": false,
        "namespace": "mitforlob",
        "originalId": "5beec973c13fc80038fd981d",
        "publishedAt": 1614350689954,
        "publishedBy": "mette@visikon.com",
        "version": 4
       },
       {
        "__v": 0,
        "_id": {
         "$oid": "603b9c5bc80f8d0039a3dc94"
        },
        "_type": "PublishedContent",
        "approved": true,
        "blobName": "published/mitforlob/20210228133627773_2183352390_5de7aca1464d3f004e208a4e.json",
        "disabled": false,
        "namespace": "mitforlob",
        "originalId": "5de7aca1464d3f004e208a4e",
        "publishedAt": 1614519387829,
        "publishedBy": "mette@visikon.com",
        "version": 4
       },
       {
        "__v": 0,
        "_id": {
         "$oid": "603b9f22c80f8d0039a3dc9d"
        },
        "_type": "PublishedContent",
        "approved": true,
        "blobName": "published/mitforlob/20210228134818283_878007530_5de7ada9464d3f004e208a54.json",
        "disabled": false,
        "namespace": "mitforlob",
        "originalId": "5de7ada9464d3f004e208a54",
        "publishedAt": 1614520098397,
        "publishedBy": "mette@visikon.com",
        "version": 4
       },
       {
        "__v": 0,
        "_id": {
         "$oid": "603e330c3a64cd0039b797dc"
        },
        "_type": "PublishedContent",
        "approved": true,
        "blobName": "published/mitforlob/20210302124356326_5571545964_5f23ce1fc7c749004cc944b0.json",
        "disabled": false,
        "namespace": "mitforlob",
        "originalId": "5f23ce1fc7c749004cc944b0",
        "publishedAt": 1614689036390,
        "publishedBy": "mette@visikon.com",
        "version": 4
       },
       {
        "__v": 0,
        "_id": {
         "$oid": "604e6fb2b9ad660035290a74"
        },
        "_type": "PublishedContent",
        "approved": true,
        "blobName": "published/mitforlob/20210314201858833_6668691396_5fd32346a536750035e9564b.json",
        "disabled": false,
        "namespace": "mitforlob",
        "originalId": "5fd32346a536750035e9564b",
        "publishedAt": 1615753138915,
        "publishedBy": "mette@visikon.com",
        "version": 13
       },
       {
        "__v": 0,
        "_id": {
         "$oid": "6055fbb878e2ca0039e0ce5f"
        },
        "_type": "PublishedContent",
        "approved": false,
        "blobName": "published/mitforlob/20210320134216880_2627437023_5d96612b455bcb002f1ca479.json",
        "disabled": true,
        "namespace": "mitforlob",
        "originalId": "5d96612b455bcb002f1ca479",
        "publishedAt": 1616247736979,
        "publishedBy": "mette@visikon.com",
        "version": 5
       },
       {
        "__v": 0,
        "_id": {
         "$oid": "6055febb78e2ca0039e0ce63"
        },
        "_type": "PublishedContent",
        "approved": false,
        "blobName": "published/mitforlob/20210320135507310_2118374881_5d97704f541886002ff7a228.json",
        "disabled": true,
        "namespace": "mitforlob",
        "originalId": "5d97704f541886002ff7a228",
        "publishedAt": 1616248507389,
        "publishedBy": "mette@visikon.com",
        "version": 8
       },
       {
        "__v": 0,
        "_id": {
         "$oid": "6055fed178e2ca0039e0ce64"
        },
        "_type": "PublishedContent",
        "approved": false,
        "blobName": "published/mitforlob/20210320135529113_1782657707_5d97704f541886002ff7a228.json",
        "disabled": true,
        "namespace": "mitforlob",
        "originalId": "5d97704f541886002ff7a228",
        "publishedAt": 1616248529168,
        "publishedBy": "mette@visikon.com",
        "version": 9
       },
       {
        "__v": 0,
        "_id": {
         "$oid": "6055ff1d78e2ca0039e0ce65"
        },
        "_type": "PublishedContent",
        "approved": false,
        "blobName": "published/mitforlob/20210320135645388_4777627013_5d9771a4541886002ff7a22a.json",
        "disabled": true,
        "namespace": "mitforlob",
        "originalId": "5d9771a4541886002ff7a22a",
        "publishedAt": 1616248605476,
        "publishedBy": "mette@visikon.com",
        "version": 6
       },
       {
        "__v": 0,
        "_id": {
         "$oid": "6055ff8478e2ca0039e0ce66"
        },
        "_type": "PublishedContent",
        "approved": false,
        "blobName": "published/mitforlob/20210320135828944_2283550403_5d9761a5039ff5002fc1a069.json",
        "disabled": true,
        "namespace": "mitforlob",
        "originalId": "5d9761a5039ff5002fc1a069",
        "publishedAt": 1616248708997,
        "publishedBy": "mette@visikon.com",
        "version": 7
       },
       {
        "__v": 0,
        "_id": {
         "$oid": "605604bd78e2ca0039e0ce6c"
        },
        "_type": "PublishedContent",
        "approved": false,
        "blobName": "published/mitforlob/20210320142045024_193870987_5d96612b455bcb002f1ca479.json",
        "disabled": true,
        "namespace": "mitforlob",
        "originalId": "5d96612b455bcb002f1ca479",
        "publishedAt": 1616250045160,
        "publishedBy": "mette@visikon.com",
        "version": 7
       },
       {
        "__v": 0,
        "_id": {
         "$oid": "605604c878e2ca0039e0ce6d"
        },
        "_type": "PublishedContent",
        "approved": false,
        "blobName": "published/mitforlob/20210320142056660_950097264_5d9761a5039ff5002fc1a069.json",
        "disabled": true,
        "namespace": "mitforlob",
        "originalId": "5d9761a5039ff5002fc1a069",
        "publishedAt": 1616250056738,
        "publishedBy": "mette@visikon.com",
        "version": 8
       },
       {
        "__v": 0,
        "_id": {
         "$oid": "605605ef78e2ca0039e0ce70"
        },
        "_type": "PublishedContent",
        "approved": false,
        "blobName": "published/mitforlob/20210320142551592_4112191169_5d96612b455bcb002f1ca479.json",
        "disabled": true,
        "namespace": "mitforlob",
        "originalId": "5d96612b455bcb002f1ca479",
        "publishedAt": 1616250351699,
        "publishedBy": "mette@visikon.com",
        "version": 8
       },
       {
        "__v": 0,
        "_id": {
         "$oid": "605605f578e2ca0039e0ce71"
        },
        "_type": "PublishedContent",
        "approved": false,
        "blobName": "published/mitforlob/20210320142557459_7468071827_5d9761a5039ff5002fc1a069.json",
        "disabled": true,
        "namespace": "mitforlob",
        "originalId": "5d9761a5039ff5002fc1a069",
        "publishedAt": 1616250357530,
        "publishedBy": "mette@visikon.com",
        "version": 9
       },
       {
        "__v": 0,
        "_id": {
         "$oid": "605605fa78e2ca0039e0ce72"
        },
        "_type": "PublishedContent",
        "approved": false,
        "blobName": "published/mitforlob/20210320142602271_4298917153_5d97704f541886002ff7a228.json",
        "disabled": true,
        "namespace": "mitforlob",
        "originalId": "5d97704f541886002ff7a228",
        "publishedAt": 1616250362358,
        "publishedBy": "mette@visikon.com",
        "version": 11
       },
       {
        "__v": 0,
        "_id": {
         "$oid": "605605ff78e2ca0039e0ce73"
        },
        "_type": "PublishedContent",
        "approved": false,
        "blobName": "published/mitforlob/20210320142607753_8607386632_5d9771a4541886002ff7a22a.json",
        "disabled": true,
        "namespace": "mitforlob",
        "originalId": "5d9771a4541886002ff7a22a",
        "publishedAt": 1616250367807,
        "publishedBy": "mette@visikon.com",
        "version": 8
       },
       {
        "__v": 0,
        "_id": {
         "$oid": "6056068878e2ca0039e0ce74"
        },
        "_type": "PublishedContent",
        "approved": false,
        "blobName": "published/mitforlob/20210320142824132_4879111765_5d97704f541886002ff7a228.json",
        "disabled": true,
        "namespace": "mitforlob",
        "originalId": "5d97704f541886002ff7a228",
        "publishedAt": 1616250504258,
        "publishedBy": "mette@visikon.com",
        "version": 12
       },
       {
        "__v": 0,
        "_id": {
         "$oid": "605604d078e2ca0039e0ce6e"
        },
        "_type": "PublishedContent",
        "approved": false,
        "blobName": "published/mitforlob/20210320142104372_1599658638_5d97704f541886002ff7a228.json",
        "disabled": true,
        "namespace": "mitforlob",
        "originalId": "5d97704f541886002ff7a228",
        "publishedAt": 1616250064424,
        "publishedBy": "mette@visikon.com",
        "version": 10
       },
       {
        "__v": 0,
        "_id": {
         "$oid": "6056068e78e2ca0039e0ce75"
        },
        "_type": "PublishedContent",
        "approved": false,
        "blobName": "published/mitforlob/20210320142830648_4479523754_5d9771a4541886002ff7a22a.json",
        "disabled": true,
        "namespace": "mitforlob",
        "originalId": "5d9771a4541886002ff7a22a",
        "publishedAt": 1616250510731,
        "publishedBy": "mette@visikon.com",
        "version": 9
       },
       {
        "__v": 0,
        "_id": {
         "$oid": "605604d578e2ca0039e0ce6f"
        },
        "_type": "PublishedContent",
        "approved": false,
        "blobName": "published/mitforlob/20210320142109881_1654612542_5d9771a4541886002ff7a22a.json",
        "disabled": true,
        "namespace": "mitforlob",
        "originalId": "5d9771a4541886002ff7a22a",
        "publishedAt": 1616250069940,
        "publishedBy": "mette@visikon.com",
        "version": 7
       },
       {
        "__v": 0,
        "_id": {
         "$oid": "605606da78e2ca0039e0ce76"
        },
        "_type": "PublishedContent",
        "approved": false,
        "blobName": "published/mitforlob/20210320142946239_7422329873_5d97704f541886002ff7a228.json",
        "disabled": true,
        "namespace": "mitforlob",
        "originalId": "5d97704f541886002ff7a228",
        "publishedAt": 1616250586292,
        "publishedBy": "mette@visikon.com",
        "version": 13
       },
       {
        "__v": 0,
        "_id": {
         "$oid": "605607f678e2ca0039e0ce79"
        },
        "_type": "PublishedContent",
        "approved": false,
        "blobName": "published/mitforlob/20210320143429860_1125030522_5d96612b455bcb002f1ca479.json",
        "disabled": true,
        "namespace": "mitforlob",
        "originalId": "5d96612b455bcb002f1ca479",
        "publishedAt": 1616250870013,
        "publishedBy": "mette@visikon.com",
        "version": 9
       },
       {
        "__v": 0,
        "_id": {
         "$oid": "605607fb78e2ca0039e0ce7c"
        },
        "_type": "PublishedContent",
        "approved": false,
        "blobName": "published/mitforlob/20210320143435509_3481568294_5d9761a5039ff5002fc1a069.json",
        "disabled": true,
        "namespace": "mitforlob",
        "originalId": "5d9761a5039ff5002fc1a069",
        "publishedAt": 1616250875767,
        "publishedBy": "mette@visikon.com",
        "version": 10
       },
       {
        "__v": 0,
        "_id": {
         "$oid": "6056080078e2ca0039e0ce7d"
        },
        "_type": "PublishedContent",
        "approved": false,
        "blobName": "published/mitforlob/20210320143440882_6761056539_5d97704f541886002ff7a228.json",
        "disabled": true,
        "namespace": "mitforlob",
        "originalId": "5d97704f541886002ff7a228",
        "publishedAt": 1616250880941,
        "publishedBy": "mette@visikon.com",
        "version": 14
       },
       {
        "__v": 0,
        "_id": {
         "$oid": "6056080678e2ca0039e0ce7e"
        },
        "_type": "PublishedContent",
        "approved": false,
        "blobName": "published/mitforlob/20210320143445990_800434217_5d9771a4541886002ff7a22a.json",
        "disabled": true,
        "namespace": "mitforlob",
        "originalId": "5d9771a4541886002ff7a22a",
        "publishedAt": 1616250886041,
        "publishedBy": "mette@visikon.com",
        "version": 10
       },
       {
        "__v": 0,
        "_id": {
         "$oid": "607c7e21874598003941c1b1"
        },
        "_type": "PublishedContent",
        "approved": true,
        "blobName": "published/mitforlob/20210418184449738_8067892922_5eba686c512949004ce36c01.json",
        "disabled": false,
        "namespace": "mitforlob",
        "originalId": "5eba686c512949004ce36c01",
        "publishedAt": 1618771489873,
        "publishedBy": "anders@visikon.com",
        "version": 38
       },
       {
        "__v": 0,
        "_id": {
         "$oid": "607f082191eedd0035bd6e0e"
        },
        "_type": "PublishedContent",
        "approved": false,
        "blobName": "published/mitforlob/20210420165809411_6051392560_5f915abbef94e70039f4843b.json",
        "disabled": true,
        "namespace": "mitforlob",
        "originalId": "5f915abbef94e70039f4843b",
        "publishedAt": 1618937889515,
        "publishedBy": "mette@visikon.com",
        "version": 6
       },
       {
        "__v": 0,
        "_id": {
         "$oid": "607f0a1491eedd0035bd6e13"
        },
        "_type": "PublishedContent",
        "approved": false,
        "blobName": "published/mitforlob/20210420170628753_9577031253_5ffee5f2a0731b0035753387.json",
        "disabled": true,
        "namespace": "mitforlob",
        "originalId": "5ffee5f2a0731b0035753387",
        "publishedAt": 1618938388886,
        "publishedBy": "mette@visikon.com",
        "version": 15
       },
       {
        "__v": 0,
        "_id": {
         "$oid": "607f0f2c91eedd0035bd6e14"
        },
        "_type": "PublishedContent",
        "approved": false,
        "blobName": "published/mitforlob/20210420172812650_116512833_5e1b8c908cf40c004e7d0b89.json",
        "disabled": true,
        "namespace": "mitforlob",
        "originalId": "5e1b8c908cf40c004e7d0b89",
        "publishedAt": 1618939692780,
        "publishedBy": "mette@visikon.com",
        "version": 8
       },
       {
        "__v": 0,
        "_id": {
         "$oid": "607f0f3f91eedd0035bd6e15"
        },
        "_type": "PublishedContent",
        "approved": true,
        "blobName": "published/mitforlob/20210420172831016_3975080809_5e1c420b0a54b800507e2328.json",
        "disabled": false,
        "namespace": "mitforlob",
        "originalId": "5e1c420b0a54b800507e2328",
        "publishedAt": 1618939711071,
        "publishedBy": "mette@visikon.com",
        "version": 4
       },
       {
        "__v": 0,
        "_id": {
         "$oid": "607f0f4b91eedd0035bd6e16"
        },
        "_type": "PublishedContent",
        "approved": false,
        "blobName": "published/mitforlob/20210420172843539_9857142820_5f915abbef94e70039f4843b.json",
        "disabled": true,
        "namespace": "mitforlob",
        "originalId": "5f915abbef94e70039f4843b",
        "publishedAt": 1618939723588,
        "publishedBy": "mette@visikon.com",
        "version": 7
       },
       {
        "__v": 0,
        "_id": {
         "$oid": "607f0f5891eedd0035bd6e17"
        },
        "_type": "PublishedContent",
        "approved": false,
        "blobName": "published/mitforlob/20210420172856067_9595665516_5ffee48aa0731b003575336e.json",
        "disabled": true,
        "namespace": "mitforlob",
        "originalId": "5ffee48aa0731b003575336e",
        "publishedAt": 1618939736119,
        "publishedBy": "mette@visikon.com",
        "version": 5
       },
       {
        "__v": 0,
        "_id": {
         "$oid": "607f0f6691eedd0035bd6e18"
        },
        "_type": "PublishedContent",
        "approved": false,
        "blobName": "published/mitforlob/20210420172910077_9085618939_5ffee559a0731b0035753381.json",
        "disabled": true,
        "namespace": "mitforlob",
        "originalId": "5ffee559a0731b0035753381",
        "publishedAt": 1618939750129,
        "publishedBy": "mette@visikon.com",
        "version": 6
       },
       {
        "__v": 0,
        "_id": {
         "$oid": "607f0f8091eedd0035bd6e1a"
        },
        "_type": "PublishedContent",
        "approved": false,
        "blobName": "published/mitforlob/20210420172936350_8102754186_5ffee752a0731b0035753390.json",
        "disabled": true,
        "namespace": "mitforlob",
        "originalId": "5ffee752a0731b0035753390",
        "publishedAt": 1618939776395,
        "publishedBy": "mette@visikon.com",
        "version": 9
       },
       {
        "__v": 0,
        "_id": {
         "$oid": "607f0f7391eedd0035bd6e19"
        },
        "_type": "PublishedContent",
        "approved": false,
        "blobName": "published/mitforlob/20210420172923393_9621875151_5ffee5f2a0731b0035753387.json",
        "disabled": true,
        "namespace": "mitforlob",
        "originalId": "5ffee5f2a0731b0035753387",
        "publishedAt": 1618939763442,
        "publishedBy": "mette@visikon.com",
        "version": 16
       },
       {
        "__v": 0,
        "_id": {
         "$oid": "607f108c91eedd0035bd6e1f"
        },
        "_type": "PublishedContent",
        "approved": false,
        "blobName": "published/mitforlob/20210420173404316_888303863_5ffee752a0731b0035753390.json",
        "disabled": true,
        "namespace": "mitforlob",
        "originalId": "5ffee752a0731b0035753390",
        "publishedAt": 1618940044390,
        "publishedBy": "mette@visikon.com",
        "version": 10
       },
       {
        "__v": 0,
        "_id": {
         "$oid": "607f119291eedd0035bd6e22"
        },
        "_type": "PublishedContent",
        "approved": false,
        "blobName": "published/mitforlob/20210420173826256_3227492198_5ffee559a0731b0035753381.json",
        "disabled": true,
        "namespace": "mitforlob",
        "originalId": "5ffee559a0731b0035753381",
        "publishedAt": 1618940306310,
        "publishedBy": "mette@visikon.com",
        "version": 7
       },
       {
        "__v": 0,
        "_id": {
         "$oid": "607f13fb91eedd0035bd6e25"
        },
        "_type": "PublishedContent",
        "approved": false,
        "blobName": "published/mitforlob/20210420174843185_6182659438_5ffee559a0731b0035753381.json",
        "disabled": true,
        "namespace": "mitforlob",
        "originalId": "5ffee559a0731b0035753381",
        "publishedAt": 1618940923323,
        "publishedBy": "mette@visikon.com",
        "version": 8
       },
       {
        "__v": 0,
        "_id": {
         "$oid": "607f143991eedd0035bd6e26"
        },
        "_type": "PublishedContent",
        "approved": false,
        "blobName": "published/mitforlob/20210420174945215_9456161590_5ffee559a0731b0035753381.json",
        "disabled": true,
        "namespace": "mitforlob",
        "originalId": "5ffee559a0731b0035753381",
        "publishedAt": 1618940985270,
        "publishedBy": "mette@visikon.com",
        "version": 9
       },
       {
        "__v": 0,
        "_id": {
         "$oid": "607f155891eedd0035bd6e2b"
        },
        "_type": "PublishedContent",
        "approved": true,
        "blobName": "published/mitforlob/20210420175432642_5567674486_5e1c420b0a54b800507e2328.json",
        "disabled": false,
        "namespace": "mitforlob",
        "originalId": "5e1c420b0a54b800507e2328",
        "publishedAt": 1618941272698,
        "publishedBy": "mette@visikon.com",
        "version": 5
       },
       {
        "__v": 0,
        "_id": {
         "$oid": "608148df6e24420039370134"
        },
        "_type": "PublishedContent",
        "approved": false,
        "blobName": "published/mitforlob/20210422095855249_3319342925_5fb3d128ff01c80035697021.json",
        "disabled": true,
        "namespace": "mitforlob",
        "originalId": "5fb3d128ff01c80035697021",
        "publishedAt": 1619085535309,
        "publishedBy": "mette@visikon.com",
        "version": 6
       },
       {
        "__v": 0,
        "_id": {
         "$oid": "608683c86e2442003937024e"
        },
        "_type": "PublishedContent",
        "approved": false,
        "blobName": "published/mitforlob/20210426091136753_9437354867_5fb3a6eeff01c80035696efe.json",
        "disabled": true,
        "namespace": "mitforlob",
        "originalId": "5fb3a6eeff01c80035696efe",
        "publishedAt": 1619428296845,
        "publishedBy": "mette@visikon.com",
        "version": 14
       },
       {
        "__v": 0,
        "_id": {
         "$oid": "6099383e37745000357bb6a4"
        },
        "_type": "PublishedContent",
        "approved": false,
        "blobName": "published/mitforlob/20210510134222026_6964578403_5ffee752a0731b0035753390.json",
        "disabled": true,
        "namespace": "mitforlob",
        "originalId": "5ffee752a0731b0035753390",
        "publishedAt": 1620654142074,
        "publishedBy": "mette@visikon.com",
        "version": 13
       },
       {
        "__v": 0,
        "_id": {
         "$oid": "609a441a294a46003956fcf0"
        },
        "_type": "PublishedContent",
        "approved": true,
        "blobName": "published/mitforlob/20210511084514661_909420600_5de8e137464d3f004e208a8d.json",
        "disabled": false,
        "namespace": "mitforlob",
        "originalId": "5de8e137464d3f004e208a8d",
        "publishedAt": 1620722714726,
        "publishedBy": "mette@visikon.com",
        "version": 5
       },
       {
        "__v": 0,
        "_id": {
         "$oid": "609a4425294a46003956fcf1"
        },
        "_type": "PublishedContent",
        "approved": true,
        "blobName": "published/mitforlob/20210511084525868_1757145557_5e1b8a678cf40c004e7d0b7f.json",
        "disabled": false,
        "namespace": "mitforlob",
        "originalId": "5e1b8a678cf40c004e7d0b7f",
        "publishedAt": 1620722725922,
        "publishedBy": "mette@visikon.com",
        "version": 5
       },
       {
        "__v": 0,
        "_id": {
         "$oid": "609a4430294a46003956fcf2"
        },
        "_type": "PublishedContent",
        "approved": true,
        "blobName": "published/mitforlob/20210511084536192_1050993387_5e1b8c908cf40c004e7d0b89.json",
        "disabled": false,
        "namespace": "mitforlob",
        "originalId": "5e1b8c908cf40c004e7d0b89",
        "publishedAt": 1620722736257,
        "publishedBy": "mette@visikon.com",
        "version": 11
       },
       {
        "__v": 0,
        "_id": {
         "$oid": "609a443a294a46003956fcf3"
        },
        "_type": "PublishedContent",
        "approved": true,
        "blobName": "published/mitforlob/20210511084546885_6207033088_5e1b8cbb8cf40c004e7d0b8b.json",
        "disabled": false,
        "namespace": "mitforlob",
        "originalId": "5e1b8cbb8cf40c004e7d0b8b",
        "publishedAt": 1620722746941,
        "publishedBy": "mette@visikon.com",
        "version": 5
       },
       {
        "__v": 0,
        "_id": {
         "$oid": "609a47ff294a46003956fcf6"
        },
        "_type": "PublishedContent",
        "approved": true,
        "blobName": "published/mitforlob/20210511090151359_6182830682_601d74ef7470e100390f03ff.json",
        "disabled": false,
        "namespace": "mitforlob",
        "originalId": "601d74ef7470e100390f03ff",
        "publishedAt": 1620723711419,
        "publishedBy": "mette@visikon.com",
        "version": 3
       },
       {
        "__v": 0,
        "_id": {
         "$oid": "609a480d294a46003956fcf7"
        },
        "_type": "PublishedContent",
        "approved": true,
        "blobName": "published/mitforlob/20210511090205181_8524086865_5e7db9df930532004eafe1bf.json",
        "disabled": true,
        "namespace": "mitforlob",
        "originalId": "5e7db9df930532004eafe1bf",
        "publishedAt": 1620723725234,
        "publishedBy": "mette@visikon.com",
        "version": 6
       },
       {
        "__v": 0,
        "_id": {
         "$oid": "609a481e294a46003956fcf8"
        },
        "_type": "PublishedContent",
        "approved": true,
        "blobName": "published/mitforlob/20210511090222092_6998905689_5e7dba21930532004eafe1c3.json",
        "disabled": true,
        "namespace": "mitforlob",
        "originalId": "5e7dba21930532004eafe1c3",
        "publishedAt": 1620723742140,
        "publishedBy": "mette@visikon.com",
        "version": 6
       },
       {
        "__v": 0,
        "_id": {
         "$oid": "609a482c294a46003956fcfb"
        },
        "_type": "PublishedContent",
        "approved": true,
        "blobName": "published/mitforlob/20210511090236549_9114029590_604233afb9ad660035290084.json",
        "disabled": true,
        "namespace": "mitforlob",
        "originalId": "604233afb9ad660035290084",
        "publishedAt": 1620723756631,
        "publishedBy": "mette@visikon.com",
        "version": 5
       },
       {
        "__v": 0,
        "_id": {
         "$oid": "609a70bf294a46003956fd11"
        },
        "_type": "PublishedContent",
        "approved": true,
        "blobName": "published/mitforlob/20210511115543845_5768377143_5f4f58844988ef0034229051.json",
        "disabled": false,
        "namespace": "mitforlob",
        "originalId": "5f4f58844988ef0034229051",
        "publishedAt": 1620734143930,
        "publishedBy": "nini@visikon.com",
        "version": 8
       },
       {
        "__v": 0,
        "_id": {
         "$oid": "609b8a5c4cfec50039bbe2ec"
        },
        "_type": "PublishedContent",
        "approved": true,
        "blobName": "published/mitforlob/20210512075716084_873456486_5ffee488a0731b003575336a.json",
        "disabled": false,
        "namespace": "mitforlob",
        "originalId": "5ffee488a0731b003575336a",
        "publishedAt": 1620806236150,
        "publishedBy": "mette@visikon.com",
        "version": 8
       },
       {
        "__v": 0,
        "_id": {
         "$oid": "609b8bb74cfec50039bbe2ed"
        },
        "_type": "PublishedContent",
        "approved": true,
        "blobName": "published/mitforlob/20210512080303745_1756554360_5f9e904cf6c80700393b4305.json",
        "disabled": false,
        "namespace": "mitforlob",
        "originalId": "5f9e904cf6c80700393b4305",
        "publishedAt": 1620806583861,
        "publishedBy": "mette@visikon.com",
        "version": 6
       },
       {
        "__v": 0,
        "_id": {
         "$oid": "609b8c044cfec50039bbe2ee"
        },
        "_type": "PublishedContent",
        "approved": false,
        "blobName": "published/mitforlob/20210512080420174_2680050043_5f9e904cf6c80700393b4305.json",
        "disabled": true,
        "namespace": "mitforlob",
        "originalId": "5f9e904cf6c80700393b4305",
        "publishedAt": 1620806660239,
        "publishedBy": "mette@visikon.com",
        "version": 7
       },
       {
        "__v": 0,
        "_id": {
         "$oid": "609b8c0b4cfec50039bbe2ef"
        },
        "_type": "PublishedContent",
        "approved": true,
        "blobName": "published/mitforlob/20210512080427244_5993491377_5f9e904cf6c80700393b4305.json",
        "disabled": false,
        "namespace": "mitforlob",
        "originalId": "5f9e904cf6c80700393b4305",
        "publishedAt": 1620806667290,
        "publishedBy": "mette@visikon.com",
        "version": 8
       },
       {
        "__v": 0,
        "_id": {
         "$oid": "609b8c694cfec50039bbe2f0"
        },
        "_type": "PublishedContent",
        "approved": true,
        "blobName": "published/mitforlob/20210512080601384_7097493332_5f9e904cf6c80700393b4305.json",
        "disabled": false,
        "namespace": "mitforlob",
        "originalId": "5f9e904cf6c80700393b4305",
        "publishedAt": 1620806761472,
        "publishedBy": "mette@visikon.com",
        "version": 9
       },
       {
        "__v": 0,
        "_id": {
         "$oid": "609b8cb84cfec50039bbe2f1"
        },
        "_type": "PublishedContent",
        "approved": true,
        "blobName": "published/mitforlob/20210512080720783_4081562712_5ffee489a0731b003575336c.json",
        "disabled": true,
        "namespace": "mitforlob",
        "originalId": "5ffee489a0731b003575336c",
        "publishedAt": 1620806840873,
        "publishedBy": "mette@visikon.com",
        "version": 6
       },
       {
        "__v": 0,
        "_id": {
         "$oid": "609b8ce54cfec50039bbe2f2"
        },
        "_type": "PublishedContent",
        "approved": true,
        "blobName": "published/mitforlob/20210512080805839_8628256202_5ffee48aa0731b003575336e.json",
        "disabled": false,
        "namespace": "mitforlob",
        "originalId": "5ffee48aa0731b003575336e",
        "publishedAt": 1620806885922,
        "publishedBy": "mette@visikon.com",
        "version": 9
       },
       {
        "__v": 0,
        "_id": {
         "$oid": "609b90e44cfec50039bbe2f5"
        },
        "_type": "PublishedContent",
        "approved": false,
        "blobName": "published/mitforlob/20210512082508439_9346466719_5f9e904cf6c80700393b4305.json",
        "disabled": true,
        "namespace": "mitforlob",
        "originalId": "5f9e904cf6c80700393b4305",
        "publishedAt": 1620807908544,
        "publishedBy": "elisabeth@visikon.com",
        "version": 10
       },
       {
        "__v": 0,
        "_id": {
         "$oid": "609bbc704cfec50039bbe309"
        },
        "_type": "PublishedContent",
        "approved": true,
        "blobName": "published/mitforlob/20210512113056381_4435043792_609930f237745000357bb68f.json",
        "disabled": false,
        "namespace": "mitforlob",
        "originalId": "609930f237745000357bb68f",
        "publishedAt": 1620819056489,
        "publishedBy": "mette@visikon.com",
        "version": 0
       },
       {
        "__v": 0,
        "_id": {
         "$oid": "609bbcc74cfec50039bbe30a"
        },
        "_type": "PublishedContent",
        "approved": true,
        "blobName": "published/mitforlob/20210512113223528_2076828113_60992efe37745000357bb684.json",
        "disabled": false,
        "namespace": "mitforlob",
        "originalId": "60992efe37745000357bb684",
        "publishedAt": 1620819143592,
        "publishedBy": "mette@visikon.com",
        "version": 0
       },
       {
        "__v": 0,
        "_id": {
         "$oid": "609bbce64cfec50039bbe30c"
        },
        "_type": "PublishedContent",
        "approved": true,
        "blobName": "published/mitforlob/20210512113254823_8105159496_6099310b37745000357bb691.json",
        "disabled": false,
        "namespace": "mitforlob",
        "originalId": "6099310b37745000357bb691",
        "publishedAt": 1620819174903,
        "publishedBy": "mette@visikon.com",
        "version": 0
       },
       {
        "__v": 0,
        "_id": {
         "$oid": "609bbcd14cfec50039bbe30b"
        },
        "_type": "PublishedContent",
        "approved": false,
        "blobName": "published/mitforlob/20210512113233862_5795236813_60992efe37745000357bb684.json",
        "disabled": true,
        "namespace": "mitforlob",
        "originalId": "60992efe37745000357bb684",
        "publishedAt": 1620819153918,
        "publishedBy": "mette@visikon.com",
        "version": 1
       },
       {
        "__v": 0,
        "_id": {
         "$oid": "609bc9524cfec50039bbe31d"
        },
        "_type": "PublishedContent",
        "approved": true,
        "blobName": "published/mitforlob/20210512122553976_5024380300_609bc8e04cfec50039bbe31b.json",
        "disabled": false,
        "namespace": "mitforlob",
        "originalId": "609bc8e04cfec50039bbe31b",
        "publishedAt": 1620822354076,
        "publishedBy": "mette@visikon.com",
        "version": 0
       },
       {
        "__v": 0,
        "_id": {
         "$oid": "609bea554cfec50039bbe336"
        },
        "_type": "PublishedContent",
        "approved": true,
        "blobName": "published/mitforlob/20210512144645146_475711463_5d148b88fbbed2003ad57d05.json",
        "disabled": false,
        "namespace": "mitforlob",
        "originalId": "5d148b88fbbed2003ad57d05",
        "publishedAt": 1620830805243,
        "publishedBy": "nini@visikon.com",
        "version": 4
       },
       {
        "__v": 0,
        "_id": {
         "$oid": "609bea8f4cfec50039bbe337"
        },
        "_type": "PublishedContent",
        "approved": true,
        "blobName": "published/mitforlob/20210512144743847_4397480798_5d148b88fbbed2003ad57d05.json",
        "disabled": false,
        "namespace": "mitforlob",
        "originalId": "5d148b88fbbed2003ad57d05",
        "publishedAt": 1620830863902,
        "publishedBy": "nini@visikon.com",
        "version": 5
       },
       {
        "__v": 0,
        "_id": {
         "$oid": "60a223b84cfec50039bbe6aa"
        },
        "_type": "PublishedContent",
        "approved": true,
        "blobName": "published/mitforlob/20210517080511417_8103024953_609e66174cfec50039bbe45e.json",
        "disabled": false,
        "namespace": "mitforlob",
        "originalId": "609e66174cfec50039bbe45e",
        "publishedAt": 1621238712841,
        "publishedBy": "elisabeth@visikon.com",
        "version": 3
       },
       {
        "__v": 0,
        "_id": {
         "$oid": "60a260934cfec50039bbe71c"
        },
        "_type": "PublishedContent",
        "approved": true,
        "blobName": "published/mitforlob/20210517122451603_84638172_6011cd5f1d0fc20039373741.json",
        "disabled": false,
        "namespace": "mitforlob",
        "originalId": "6011cd5f1d0fc20039373741",
        "publishedAt": 1621254291663,
        "publishedBy": "sameer@visikon.com",
        "version": 8
       },
       {
        "__v": 0,
        "_id": {
         "$oid": "60a51b534cfec50039bbf3ee"
        },
        "_type": "PublishedContent",
        "approved": false,
        "blobName": "published/mitforlob/20210519140611751_3823563671_609e66174cfec50039bbe45e.json",
        "disabled": true,
        "namespace": "mitforlob",
        "originalId": "609e66174cfec50039bbe45e",
        "publishedAt": 1621433171823,
        "publishedBy": "mette@visikon.com",
        "version": 7
       },
       {
        "__v": 0,
        "_id": {
         "$oid": "60bf6bca25b4d60035e40a9e"
        },
        "_type": "PublishedContent",
        "approved": true,
        "blobName": "published/mitforlob/20210608130826663_8605433240_5f3f96de7ce2c1004bc8fd88.json",
        "disabled": false,
        "namespace": "mitforlob",
        "originalId": "5f3f96de7ce2c1004bc8fd88",
        "publishedAt": 1623157706757,
        "publishedBy": "mette@visikon.com",
        "version": 12
       },
       {
        "__v": 0,
        "_id": {
         "$oid": "60bf6bd925b4d60035e40a9f"
        },
        "_type": "PublishedContent",
        "approved": true,
        "blobName": "published/mitforlob/20210608130841716_9368619971_5f3f97667ce2c1004bc8fd8b.json",
        "disabled": false,
        "namespace": "mitforlob",
        "originalId": "5f3f97667ce2c1004bc8fd8b",
        "publishedAt": 1623157721780,
        "publishedBy": "mette@visikon.com",
        "version": 17
       },
       {
        "__v": 0,
        "_id": {
         "$oid": "60bf6bf325b4d60035e40aa1"
        },
        "_type": "PublishedContent",
        "approved": true,
        "blobName": "published/mitforlob/20210608130907854_7639538891_603fc34d0ad4490036444b61.json",
        "disabled": false,
        "namespace": "mitforlob",
        "originalId": "603fc34d0ad4490036444b61",
        "publishedAt": 1623157747925,
        "publishedBy": "mette@visikon.com",
        "version": 11
       },
       {
        "__v": 0,
        "_id": {
         "$oid": "60bf6be625b4d60035e40aa0"
        },
        "_type": "PublishedContent",
        "approved": true,
        "blobName": "published/mitforlob/20210608130854335_9752163696_603fc3340ad4490036444b5f.json",
        "disabled": false,
        "namespace": "mitforlob",
        "originalId": "603fc3340ad4490036444b5f",
        "publishedAt": 1623157734413,
        "publishedBy": "mette@visikon.com",
        "version": 13
       },
       {
        "__v": 0,
        "_id": {
         "$oid": "60bf6cc625b4d60035e40aa2"
        },
        "_type": "PublishedContent",
        "approved": true,
        "blobName": "published/mitforlob/20210608131238463_6396401337_5f3f97667ce2c1004bc8fd8b.json",
        "disabled": false,
        "namespace": "mitforlob",
        "originalId": "5f3f97667ce2c1004bc8fd8b",
        "publishedAt": 1623157958585,
        "publishedBy": "mette@visikon.com",
        "version": 18
       },
       {
        "__v": 0,
        "_id": {
         "$oid": "60bf6cdf25b4d60035e40aa3"
        },
        "_type": "PublishedContent",
        "approved": true,
        "blobName": "published/mitforlob/20210608131303913_248827696_603fc3340ad4490036444b5f.json",
        "disabled": false,
        "namespace": "mitforlob",
        "originalId": "603fc3340ad4490036444b5f",
        "publishedAt": 1623157983978,
        "publishedBy": "mette@visikon.com",
        "version": 14
       },
       {
        "__v": 0,
        "_id": {
         "$oid": "60bf6cf225b4d60035e40aa4"
        },
        "_type": "PublishedContent",
        "approved": true,
        "blobName": "published/mitforlob/20210608131322330_3317518596_603fc34d0ad4490036444b61.json",
        "disabled": false,
        "namespace": "mitforlob",
        "originalId": "603fc34d0ad4490036444b61",
        "publishedAt": 1623158002392,
        "publishedBy": "mette@visikon.com",
        "version": 12
       },
       {
        "__v": 0,
        "_id": {
         "$oid": "60bf701325b4d60035e40ab8"
        },
        "_type": "PublishedContent",
        "approved": true,
        "blobName": "published/mitforlob/20210608132643180_8867821726_5f3f96de7ce2c1004bc8fd88.json",
        "disabled": false,
        "namespace": "mitforlob",
        "originalId": "5f3f96de7ce2c1004bc8fd88",
        "publishedAt": 1623158803335,
        "publishedBy": "mette@visikon.com",
        "version": 13
       },
       {
        "__v": 0,
        "_id": {
         "$oid": "60bf708625b4d60035e40abb"
        },
        "_type": "PublishedContent",
        "approved": true,
        "blobName": "published/mitforlob/20210608132837924_6073905343_5f3f96de7ce2c1004bc8fd88.json",
        "disabled": false,
        "namespace": "mitforlob",
        "originalId": "5f3f96de7ce2c1004bc8fd88",
        "publishedAt": 1623158918010,
        "publishedBy": "mette@visikon.com",
        "version": 14
       },
       {
        "__v": 0,
        "_id": {
         "$oid": "60bf70d625b4d60035e40ac2"
        },
        "_type": "PublishedContent",
        "approved": true,
        "blobName": "published/mitforlob/20210608132958215_1980185486_5f3f96de7ce2c1004bc8fd88.json",
        "disabled": false,
        "namespace": "mitforlob",
        "originalId": "5f3f96de7ce2c1004bc8fd88",
        "publishedAt": 1623158998320,
        "publishedBy": "mette@visikon.com",
        "version": 15
       },
       {
        "__v": 0,
        "_id": {
         "$oid": "60bf71e825b4d60035e40aca"
        },
        "_type": "PublishedContent",
        "approved": true,
        "blobName": "published/mitforlob/20210608133432115_816274949_5f3f96de7ce2c1004bc8fd88.json",
        "disabled": false,
        "namespace": "mitforlob",
        "originalId": "5f3f96de7ce2c1004bc8fd88",
        "publishedAt": 1623159272206,
        "publishedBy": "mette@visikon.com",
        "version": 16
       },
       {
        "__v": 0,
        "_id": {
         "$oid": "60bf71f525b4d60035e40acc"
        },
        "_type": "PublishedContent",
        "approved": true,
        "blobName": "published/mitforlob/20210608133445802_4261266218_5f3f97667ce2c1004bc8fd8b.json",
        "disabled": false,
        "namespace": "mitforlob",
        "originalId": "5f3f97667ce2c1004bc8fd8b",
        "publishedAt": 1623159285858,
        "publishedBy": "mette@visikon.com",
        "version": 19
       },
       {
        "__v": 0,
        "_id": {
         "$oid": "60bf721225b4d60035e40acf"
        },
        "_type": "PublishedContent",
        "approved": true,
        "blobName": "published/mitforlob/20210608133514761_116845764_603fc34d0ad4490036444b61.json",
        "disabled": false,
        "namespace": "mitforlob",
        "originalId": "603fc34d0ad4490036444b61",
        "publishedAt": 1623159314839,
        "publishedBy": "mette@visikon.com",
        "version": 13
       },
       {
        "__v": 0,
        "_id": {
         "$oid": "60bf74e025b4d60035e40aec"
        },
        "_type": "PublishedContent",
        "approved": true,
        "blobName": "published/mitforlob/20210608134712810_8143317633_603fc34d0ad4490036444b61.json",
        "disabled": false,
        "namespace": "mitforlob",
        "originalId": "603fc34d0ad4490036444b61",
        "publishedAt": 1623160032868,
        "publishedBy": "mette@visikon.com",
        "version": 14
       },
       {
        "__v": 0,
        "_id": {
         "$oid": "60bf74c525b4d60035e40aea"
        },
        "_type": "PublishedContent",
        "approved": true,
        "blobName": "published/mitforlob/20210608134645898_9618127372_5f3f97667ce2c1004bc8fd8b.json",
        "disabled": false,
        "namespace": "mitforlob",
        "originalId": "5f3f97667ce2c1004bc8fd8b",
        "publishedAt": 1623160005951,
        "publishedBy": "mette@visikon.com",
        "version": 20
       },
       {
        "__v": 0,
        "_id": {
         "$oid": "60bf74d325b4d60035e40aeb"
        },
        "_type": "PublishedContent",
        "approved": true,
        "blobName": "published/mitforlob/20210608134659207_4664522531_603fc3340ad4490036444b5f.json",
        "disabled": false,
        "namespace": "mitforlob",
        "originalId": "603fc3340ad4490036444b5f",
        "publishedAt": 1623160019275,
        "publishedBy": "mette@visikon.com",
        "version": 16
       },
       {
        "__v": 0,
        "_id": {
         "$oid": "60bf720225b4d60035e40ace"
        },
        "_type": "PublishedContent",
        "approved": true,
        "blobName": "published/mitforlob/20210608133458575_3026092887_603fc3340ad4490036444b5f.json",
        "disabled": false,
        "namespace": "mitforlob",
        "originalId": "603fc3340ad4490036444b5f",
        "publishedAt": 1623159298646,
        "publishedBy": "mette@visikon.com",
        "version": 15
       },
       {
        "__v": 0,
        "_id": {
         "$oid": "60bf74ee25b4d60035e40aed"
        },
        "_type": "PublishedContent",
        "approved": true,
        "blobName": "published/mitforlob/20210608134726603_2804431306_5f3f96de7ce2c1004bc8fd88.json",
        "disabled": false,
        "namespace": "mitforlob",
        "originalId": "5f3f96de7ce2c1004bc8fd88",
        "publishedAt": 1623160046654,
        "publishedBy": "mette@visikon.com",
        "version": 17
       },
       {
        "__v": 0,
        "_id": {
         "$oid": "60bf841325b4d60035e40af3"
        },
        "_type": "PublishedContent",
        "approved": true,
        "blobName": "published/mitforlob/20210608145203271_9498035250_5f3f96de7ce2c1004bc8fd88.json",
        "disabled": false,
        "namespace": "mitforlob",
        "originalId": "5f3f96de7ce2c1004bc8fd88",
        "publishedAt": 1623163923422,
        "publishedBy": "mette@visikon.com",
        "version": 18
       },
       {
        "__v": 0,
        "_id": {
         "$oid": "60bf847825b4d60035e40af4"
        },
        "_type": "PublishedContent",
        "approved": true,
        "blobName": "published/mitforlob/20210608145344814_5285949386_603fc3340ad4490036444b5f.json",
        "disabled": false,
        "namespace": "mitforlob",
        "originalId": "603fc3340ad4490036444b5f",
        "publishedAt": 1623164024916,
        "publishedBy": "mette@visikon.com",
        "version": 17
       },
       {
        "__v": 0,
        "_id": {
         "$oid": "60bf849725b4d60035e40af5"
        },
        "_type": "PublishedContent",
        "approved": true,
        "blobName": "published/mitforlob/20210608145415646_3263227700_603fc34d0ad4490036444b61.json",
        "disabled": false,
        "namespace": "mitforlob",
        "originalId": "603fc34d0ad4490036444b61",
        "publishedAt": 1623164055720,
        "publishedBy": "mette@visikon.com",
        "version": 15
       },
       {
        "__v": 0,
        "_id": {
         "$oid": "60bf856425b4d60035e40af6"
        },
        "_type": "PublishedContent",
        "approved": true,
        "blobName": "published/mitforlob/20210608145740138_253003347_5f3f97667ce2c1004bc8fd8b.json",
        "disabled": false,
        "namespace": "mitforlob",
        "originalId": "5f3f97667ce2c1004bc8fd8b",
        "publishedAt": 1623164260285,
        "publishedBy": "mette@visikon.com",
        "version": 21
       },
       {
        "__v": 0,
        "_id": {
         "$oid": "60c0dc5125b4d60035e40bc8"
        },
        "_type": "PublishedContent",
        "approved": true,
        "blobName": "published/mitforlob/20210609152049513_1159337505_5f3f97667ce2c1004bc8fd8b.json",
        "disabled": false,
        "namespace": "mitforlob",
        "originalId": "5f3f97667ce2c1004bc8fd8b",
        "publishedAt": 1623252049586,
        "publishedBy": "mette@visikon.com",
        "version": 22
       },
       {
        "__v": 0,
        "_id": {
         "$oid": "60c0dc6225b4d60035e40bc9"
        },
        "_type": "PublishedContent",
        "approved": true,
        "blobName": "published/mitforlob/20210609152106303_134682047_603fc3340ad4490036444b5f.json",
        "disabled": false,
        "namespace": "mitforlob",
        "originalId": "603fc3340ad4490036444b5f",
        "publishedAt": 1623252066370,
        "publishedBy": "mette@visikon.com",
        "version": 18
       },
       {
        "__v": 0,
        "_id": {
         "$oid": "60c0dc7125b4d60035e40bca"
        },
        "_type": "PublishedContent",
        "approved": true,
        "blobName": "published/mitforlob/20210609152121180_5370082574_603fc34d0ad4490036444b61.json",
        "disabled": false,
        "namespace": "mitforlob",
        "originalId": "603fc34d0ad4490036444b61",
        "publishedAt": 1623252081260,
        "publishedBy": "mette@visikon.com",
        "version": 16
       },
       {
        "__v": 0,
        "_id": {
         "$oid": "60c0dc8025b4d60035e40bcb"
        },
        "_type": "PublishedContent",
        "approved": true,
        "blobName": "published/mitforlob/20210609152136746_3848537724_5f3f96de7ce2c1004bc8fd88.json",
        "disabled": false,
        "namespace": "mitforlob",
        "originalId": "5f3f96de7ce2c1004bc8fd88",
        "publishedAt": 1623252096808,
        "publishedBy": "mette@visikon.com",
        "version": 19
       },
       {
        "__v": 0,
        "_id": {
         "$oid": "60c0e36f25b4d60035e40bcf"
        },
        "_type": "PublishedContent",
        "approved": true,
        "blobName": "published/mitforlob/20210609155111873_8721632542_5bbb37e951c48400388314dc.json",
        "disabled": false,
        "namespace": "mitforlob",
        "originalId": "5bbb37e951c48400388314dc",
        "publishedAt": 1623253871953,
        "publishedBy": "mette@visikon.com",
        "version": 4
       },
       {
        "__v": 0,
        "_id": {
         "$oid": "60c0e38525b4d60035e40bd0"
        },
        "_type": "PublishedContent",
        "approved": true,
        "blobName": "published/mitforlob/20210609155132994_7643236777_5bbb1c46e0744d00385a0020.json",
        "disabled": false,
        "namespace": "mitforlob",
        "originalId": "5bbb1c46e0744d00385a0020",
        "publishedAt": 1623253893078,
        "publishedBy": "mette@visikon.com",
        "version": 4
       },
       {
        "__v": 0,
        "_id": {
         "$oid": "60c0e2f825b4d60035e40bcd"
        },
        "_type": "PublishedContent",
        "approved": true,
        "blobName": "published/mitforlob/20210609154912667_2168661040_5f23cd1ec7c749004cc944ae.json",
        "disabled": false,
        "namespace": "mitforlob",
        "originalId": "5f23cd1ec7c749004cc944ae",
        "publishedAt": 1623253752791,
        "publishedBy": "mette@visikon.com",
        "version": 4
       },
       {
        "__v": 0,
        "_id": {
         "$oid": "60c0e33825b4d60035e40bce"
        },
        "_type": "PublishedContent",
        "approved": true,
        "blobName": "published/mitforlob/20210609155016850_3574185271_5de7aca1464d3f004e208a4e.json",
        "disabled": false,
        "namespace": "mitforlob",
        "originalId": "5de7aca1464d3f004e208a4e",
        "publishedAt": 1623253816957,
        "publishedBy": "mette@visikon.com",
        "version": 5
       },
       {
        "__v": 0,
        "_id": {
         "$oid": "60c1aa73195db90039b54009"
        },
        "_type": "PublishedContent",
        "approved": true,
        "blobName": "published/mitforlob/20210610060018967_3122891639_5b9117559bfc750039a3369f.json",
        "disabled": false,
        "namespace": "mitforlob",
        "originalId": "5b9117559bfc750039a3369f",
        "publishedAt": 1623304819102,
        "publishedBy": "elisabeth@visikon.com",
        "version": 10
       },
       {
        "__v": 0,
        "_id": {
         "$oid": "60c34e75195db90039b5418b"
        },
        "_type": "PublishedContent",
        "approved": false,
        "blobName": "published/mitforlob/20210611115221366_3844189860_5e1c41c40a54b800507e2325.json",
        "disabled": true,
        "namespace": "mitforlob",
        "originalId": "5e1c41c40a54b800507e2325",
        "publishedAt": 1623412341411,
        "publishedBy": "elisabeth@visikon.com",
        "version": 4
       },
       {
        "__v": 0,
        "_id": {
         "$oid": "60d1e9d912f31800352e3e1b"
        },
        "_type": "PublishedContent",
        "approved": true,
        "blobName": "published/mitforlob/20210622134705258_2282694732_5b93f0ec498fad0038e6b0e1.json",
        "disabled": false,
        "namespace": "mitforlob",
        "originalId": "5b93f0ec498fad0038e6b0e1",
        "publishedAt": 1624369625374,
        "publishedBy": "anders@visikon.com",
        "version": 4
       },
       {
        "__v": 0,
        "_id": {
         "$oid": "60d1eada12f31800352e3e2b"
        },
        "_type": "PublishedContent",
        "approved": true,
        "blobName": "published/mitforlob/20210622135121990_3721179170_5b93f0ec498fad0038e6b0e1.json",
        "disabled": false,
        "namespace": "mitforlob",
        "originalId": "5b93f0ec498fad0038e6b0e1",
        "publishedAt": 1624369882078,
        "publishedBy": "anders@visikon.com",
        "version": 5
       },
       {
        "__v": 0,
        "_id": {
         "$oid": "60d1eb2512f31800352e3e2c"
        },
        "_type": "PublishedContent",
        "approved": true,
        "blobName": "published/mitforlob/20210622135237695_5431139027_5b93f0ec498fad0038e6b0e1.json",
        "disabled": false,
        "namespace": "mitforlob",
        "originalId": "5b93f0ec498fad0038e6b0e1",
        "publishedAt": 1624369957754,
        "publishedBy": "anders@visikon.com",
        "version": 6
       },
       {
        "__v": 0,
        "_id": {
         "$oid": "60d1ebb812f31800352e3e2d"
        },
        "_type": "PublishedContent",
        "approved": true,
        "blobName": "published/mitforlob/20210622135503921_9786251869_5b93f0ec498fad0038e6b0e1.json",
        "disabled": false,
        "namespace": "mitforlob",
        "originalId": "5b93f0ec498fad0038e6b0e1",
        "publishedAt": 1624370104004,
        "publishedBy": "anders@visikon.com",
        "version": 7
       },
       {
        "__v": 0,
        "_id": {
         "$oid": "60d1ecb712f31800352e3e2e"
        },
        "_type": "PublishedContent",
        "approved": true,
        "blobName": "published/mitforlob/20210622135918932_558983599_5b93f0ec498fad0038e6b0e1.json",
        "disabled": false,
        "namespace": "mitforlob",
        "originalId": "5b93f0ec498fad0038e6b0e1",
        "publishedAt": 1624370359053,
        "publishedBy": "anders@visikon.com",
        "version": 8
       },
       {
        "__v": 0,
        "_id": {
         "$oid": "60d2377eff09800039b00148"
        },
        "_type": "PublishedContent",
        "approved": true,
        "blobName": "published/mitforlob/20210622191822492_2815241069_5b93f0ec498fad0038e6b0e1.json",
        "disabled": false,
        "namespace": "mitforlob",
        "originalId": "5b93f0ec498fad0038e6b0e1",
        "publishedAt": 1624389502585,
        "publishedBy": "anders@visikon.com",
        "version": 10
       },
       {
        "__v": 0,
        "_id": {
         "$oid": "60d23716ff09800039b00147"
        },
        "_type": "PublishedContent",
        "approved": true,
        "blobName": "published/mitforlob/20210622191638522_424478868_5b93f0ec498fad0038e6b0e1.json",
        "disabled": false,
        "namespace": "mitforlob",
        "originalId": "5b93f0ec498fad0038e6b0e1",
        "publishedAt": 1624389398696,
        "publishedBy": "anders@visikon.com",
        "version": 9
       },
       {
        "__v": 0,
        "_id": {
         "$oid": "60d2dfd6ff09800039b002e6"
        },
        "_type": "PublishedContent",
        "approved": false,
        "blobName": "published/mitforlob/20210623071638697_5475400357_5f9e904cf6c80700393b4305.json",
        "disabled": true,
        "namespace": "mitforlob",
        "originalId": "5f9e904cf6c80700393b4305",
        "publishedAt": 1624432598820,
        "publishedBy": "elisabeth@visikon.com",
        "version": 14
       },
       {
        "__v": 0,
        "_id": {
         "$oid": "60e2d3d388f48c0039a50acc"
        },
        "_type": "PublishedContent",
        "approved": false,
        "blobName": "published/mitforlob/20210705094139684_2674157164_609e64484cfec50039bbe448.json",
        "disabled": false,
        "namespace": "mitforlob",
        "originalId": "609e64484cfec50039bbe448",
        "publishedAt": 1625478099755,
        "publishedBy": "elisabeth@visikon.com",
        "version": 9
       },
       {
        "__v": 0,
        "_id": {
         "$oid": "60ec27eb88f48c0039a51d0e"
        },
        "_type": "PublishedContent",
        "approved": true,
        "blobName": "published/mitforlob/20210712113051228_7005183618_60ec24a288f48c0039a51cfc.json",
        "disabled": false,
        "namespace": "mitforlob",
        "originalId": "60ec24a288f48c0039a51cfc",
        "publishedAt": 1626089451301,
        "publishedBy": "anders@visikon.com",
        "version": 2
       },
       {
        "__v": 0,
        "_id": {
         "$oid": "610d153f812cb500392d5471"
        },
        "_type": "PublishedContent",
        "approved": false,
        "blobName": "published/mitforlob/20210806105559202_2858484935_60e5a74888f48c0039a51552.json",
        "disabled": true,
        "namespace": "mitforlob",
        "originalId": "60e5a74888f48c0039a51552",
        "publishedAt": 1628247359282,
        "publishedBy": "elisabeth@visikon.com",
        "version": 1
       },
       {
        "__v": 0,
        "_id": {
         "$oid": "611a48cbc35f1700351b81b4"
        },
        "_type": "PublishedContent",
        "approved": true,
        "blobName": "published/mitforlob/20210816111523892_7502029029_60d88a617c502700399f4b15.json",
        "disabled": false,
        "namespace": "mitforlob",
        "originalId": "60d88a617c502700399f4b15",
        "publishedAt": 1629112523987,
        "publishedBy": "mette@visikon.com",
        "version": 3
       },
       {
        "__v": 0,
        "_id": {
         "$oid": "611f4a2afadd3c0039dba819"
        },
        "_type": "PublishedContent",
        "approved": true,
        "blobName": "published/mitforlob/20210820062234521_8042164990_61164e71c35f1700351b7e74.json",
        "disabled": false,
        "namespace": "mitforlob",
        "originalId": "61164e71c35f1700351b7e74",
        "publishedAt": 1629440554652,
        "publishedBy": "mette@visikon.com",
        "version": 0
       },
       {
        "__v": 0,
        "_id": {
         "$oid": "6124f3da7a804c00387f5cd3"
        },
        "_type": "PublishedContent",
        "approved": true,
        "blobName": "published/mitforlob/20210824132754801_6666819813_6124e3ce7a804c00387f5cc6.json",
        "disabled": false,
        "namespace": "mitforlob",
        "originalId": "6124e3ce7a804c00387f5cc6",
        "publishedAt": 1629811674897,
        "publishedBy": "elisabeth@visikon.com",
        "version": 0
       },
       {
        "__v": 0,
        "_id": {
         "$oid": "61306d1d7a804c00387f814b"
        },
        "_type": "PublishedContent",
        "approved": true,
        "blobName": "published/mitforlob/20210902062013568_5934244011_60c1fe6f195db90039b5412f.json",
        "disabled": false,
        "namespace": "mitforlob",
        "originalId": "60c1fe6f195db90039b5412f",
        "publishedAt": 1630563613685,
        "publishedBy": "elisabeth@visikon.com",
        "version": 9
       },
       {
        "__v": 0,
        "_id": {
         "$oid": "613214397a804c00387f81a4"
        },
        "_type": "PublishedContent",
        "approved": false,
        "blobName": "published/mitforlob/20210903122528989_3091450975_60e5a74888f48c0039a51552.json",
        "disabled": true,
        "namespace": "mitforlob",
        "originalId": "60e5a74888f48c0039a51552",
        "publishedAt": 1630671929167,
        "publishedBy": "elisabeth@visikon.com",
        "version": 10
       },
       {
        "__v": 0,
        "_id": {
         "$oid": "61443eb82ccfb00039a23a9f"
        },
        "_type": "PublishedContent",
        "approved": true,
        "blobName": "published/mitforlob/20210917070736046_3107060428_6011cc2b1d0fc2003937373c.json",
        "disabled": false,
        "namespace": "mitforlob",
        "originalId": "6011cc2b1d0fc2003937373c",
        "publishedAt": 1631862456112,
        "publishedBy": "elisabeth@visikon.com",
        "version": 16
       },
       {
        "__v": 0,
        "_id": {
         "$oid": "6148812c2ccfb00039a23dcc"
        },
        "_type": "PublishedContent",
        "approved": false,
        "blobName": "published/mitforlob/20210920124011911_732860162_6099310b37745000357bb691.json",
        "disabled": true,
        "namespace": "mitforlob",
        "originalId": "6099310b37745000357bb691",
        "publishedAt": 1632141612043,
        "publishedBy": "mette@visikon.com",
        "version": 9
       },
       {
        "__v": 0,
        "_id": {
         "$oid": "614d7f692ccfb00039a23f2b"
        },
        "_type": "PublishedContent",
        "approved": true,
        "blobName": "published/mitforlob/20210924073401426_1934749200_60c1ff7f195db90039b54135.json",
        "disabled": false,
        "namespace": "mitforlob",
        "originalId": "60c1ff7f195db90039b54135",
        "publishedAt": 1632468841508,
        "publishedBy": "mette@visikon.com",
        "version": 9
       },
       {
        "__v": 0,
        "_id": {
         "$oid": "614d7f7f2ccfb00039a23f2c"
        },
        "_type": "PublishedContent",
        "approved": true,
        "blobName": "published/mitforlob/20210924073422966_8380581386_60c1ff44195db90039b54133.json",
        "disabled": false,
        "namespace": "mitforlob",
        "originalId": "60c1ff44195db90039b54133",
        "publishedAt": 1632468863046,
        "publishedBy": "mette@visikon.com",
        "version": 10
       },
       {
        "__v": 0,
        "_id": {
         "$oid": "614d7f8e2ccfb00039a23f2d"
        },
        "_type": "PublishedContent",
        "approved": true,
        "blobName": "published/mitforlob/20210924073438564_100820633_60c1ff08195db90039b54131.json",
        "disabled": false,
        "namespace": "mitforlob",
        "originalId": "60c1ff08195db90039b54131",
        "publishedAt": 1632468878655,
        "publishedBy": "mette@visikon.com",
        "version": 10
       },
       {
        "__v": 0,
        "_id": {
         "$oid": "614d7fd72ccfb00039a23f2e"
        },
        "_type": "PublishedContent",
        "approved": true,
        "blobName": "published/mitforlob/20210924073551786_4354275244_60c1fe6f195db90039b5412f.json",
        "disabled": false,
        "namespace": "mitforlob",
        "originalId": "60c1fe6f195db90039b5412f",
        "publishedAt": 1632468951889,
        "publishedBy": "mette@visikon.com",
        "version": 11
       },
       {
        "__v": 0,
        "_id": {
         "$oid": "614d7fe72ccfb00039a23f2f"
        },
        "_type": "PublishedContent",
        "approved": true,
        "blobName": "published/mitforlob/20210924073607470_7363485046_6011cea61d0fc20039373749.json",
        "disabled": false,
        "namespace": "mitforlob",
        "originalId": "6011cea61d0fc20039373749",
        "publishedAt": 1632468967541,
        "publishedBy": "mette@visikon.com",
        "version": 16
       },
       {
        "__v": 0,
        "_id": {
         "$oid": "614d7ff62ccfb00039a23f30"
        },
        "_type": "PublishedContent",
        "approved": true,
        "blobName": "published/mitforlob/20210924073622512_9198506962_6011ce171d0fc20039373747.json",
        "disabled": false,
        "namespace": "mitforlob",
        "originalId": "6011ce171d0fc20039373747",
        "publishedAt": 1632468982572,
        "publishedBy": "mette@visikon.com",
        "version": 14
       },
       {
        "__v": 0,
        "_id": {
         "$oid": "614d80052ccfb00039a23f31"
        },
        "_type": "PublishedContent",
        "approved": true,
        "blobName": "published/mitforlob/20210924073637067_2690658304_6011cdb71d0fc20039373745.json",
        "disabled": false,
        "namespace": "mitforlob",
        "originalId": "6011cdb71d0fc20039373745",
        "publishedAt": 1632468997146,
        "publishedBy": "mette@visikon.com",
        "version": 21
       },
       {
        "__v": 0,
        "_id": {
         "$oid": "614d80392ccfb00039a23f33"
        },
        "_type": "PublishedContent",
        "approved": true,
        "blobName": "published/mitforlob/20210924073729065_9860140062_6011ccd01d0fc2003937373e.json",
        "disabled": false,
        "namespace": "mitforlob",
        "originalId": "6011ccd01d0fc2003937373e",
        "publishedAt": 1632469049122,
        "publishedBy": "mette@visikon.com",
        "version": 22
       },
       {
        "__v": 0,
        "_id": {
         "$oid": "614d804c2ccfb00039a23f34"
        },
        "_type": "PublishedContent",
        "approved": true,
        "blobName": "published/mitforlob/20210924073748486_8056222565_6011cc2b1d0fc2003937373c.json",
        "disabled": false,
        "namespace": "mitforlob",
        "originalId": "6011cc2b1d0fc2003937373c",
        "publishedAt": 1632469068558,
        "publishedBy": "mette@visikon.com",
        "version": 17
       },
       {
        "__v": 0,
        "_id": {
         "$oid": "614d80272ccfb00039a23f32"
        },
        "_type": "PublishedContent",
        "approved": true,
        "blobName": "published/mitforlob/20210924073711471_297668091_6011cd5f1d0fc20039373741.json",
        "disabled": false,
        "namespace": "mitforlob",
        "originalId": "6011cd5f1d0fc20039373741",
        "publishedAt": 1632469031582,
        "publishedBy": "mette@visikon.com",
        "version": 22
       },
       {
        "__v": 0,
        "_id": {
         "$oid": "614d805f2ccfb00039a23f35"
        },
        "_type": "PublishedContent",
        "approved": true,
        "blobName": "published/mitforlob/20210924073807158_445026688_6011cbb91d0fc2003937373a.json",
        "disabled": false,
        "namespace": "mitforlob",
        "originalId": "6011cbb91d0fc2003937373a",
        "publishedAt": 1632469087229,
        "publishedBy": "mette@visikon.com",
        "version": 23
       },
       {
        "__v": 0,
        "_id": {
         "$oid": "614d806d2ccfb00039a23f36"
        },
        "_type": "PublishedContent",
        "approved": true,
        "blobName": "published/mitforlob/20210924073821176_6576468614_6011cb2d1d0fc20039373738.json",
        "disabled": false,
        "namespace": "mitforlob",
        "originalId": "6011cb2d1d0fc20039373738",
        "publishedAt": 1632469101245,
        "publishedBy": "mette@visikon.com",
        "version": 22
       },
       {
        "__v": 0,
        "_id": {
         "$oid": "615438e8dfc38b00399511cd"
        },
        "_type": "PublishedContent",
        "approved": true,
        "blobName": "published/mitforlob/20210929095904151_8142115758_60ec2bba88f48c0039a51d10.json",
        "disabled": false,
        "namespace": "mitforlob",
        "originalId": "60ec2bba88f48c0039a51d10",
        "publishedAt": 1632909544226,
        "publishedBy": "katharina@visikon.com",
        "version": 3
       },
       {
        "__v": 0,
        "_id": {
         "$oid": "61543a1ddfc38b00399511ce"
        },
        "_type": "PublishedContent",
        "approved": false,
        "blobName": "published/mitforlob/20210929100413015_1959224192_60ec2bba88f48c0039a51d10.json",
        "disabled": true,
        "namespace": "mitforlob",
        "originalId": "60ec2bba88f48c0039a51d10",
        "publishedAt": 1632909853097,
        "publishedBy": "katharina@visikon.com",
        "version": 4
       },
       {
        "__v": 0,
        "_id": {
         "$oid": "61543bbfdfc38b00399511cf"
        },
        "_type": "PublishedContent",
        "approved": false,
        "blobName": "published/mitforlob/20210929101111501_3722420198_60ec2bba88f48c0039a51d10.json",
        "disabled": true,
        "namespace": "mitforlob",
        "originalId": "60ec2bba88f48c0039a51d10",
        "publishedAt": 1632910271594,
        "publishedBy": "katharina@visikon.com",
        "version": 5
       },
       {
        "__v": 0,
        "_id": {
         "$oid": "61543bc7dfc38b00399511d0"
        },
        "_type": "PublishedContent",
        "approved": false,
        "blobName": "published/mitforlob/20210929101119589_3463039512_60ec2bba88f48c0039a51d10.json",
        "disabled": true,
        "namespace": "mitforlob",
        "originalId": "60ec2bba88f48c0039a51d10",
        "publishedAt": 1632910279654,
        "publishedBy": "katharina@visikon.com",
        "version": 6
       },
       {
        "__v": 0,
        "_id": {
         "$oid": "61571a4b03dba70039ab05ae"
        },
        "_type": "PublishedContent",
        "approved": false,
        "blobName": "published/mitforlob/20211001142515364_3334707381_61487f752ccfb00039a23dc9.json",
        "disabled": true,
        "namespace": "mitforlob",
        "originalId": "61487f752ccfb00039a23dc9",
        "publishedAt": 1633098315452,
        "publishedBy": "mette@visikon.com",
        "version": 2
       },
       {
        "__v": 0,
        "_id": {
         "$oid": "61571a5403dba70039ab05af"
        },
        "_type": "PublishedContent",
        "approved": true,
        "blobName": "published/mitforlob/20211001142524044_9367605451_609930f237745000357bb68f.json",
        "disabled": false,
        "namespace": "mitforlob",
        "originalId": "609930f237745000357bb68f",
        "publishedAt": 1633098324132,
        "publishedBy": "mette@visikon.com",
        "version": 7
       },
       {
        "__v": 0,
        "_id": {
         "$oid": "61571a5e03dba70039ab05b0"
        },
        "_type": "PublishedContent",
        "approved": true,
        "blobName": "published/mitforlob/20211001142534033_971192606_60992efe37745000357bb684.json",
        "disabled": false,
        "namespace": "mitforlob",
        "originalId": "60992efe37745000357bb684",
        "publishedAt": 1633098334112,
        "publishedBy": "mette@visikon.com",
        "version": 8
       },
       {
        "__v": 0,
        "_id": {
         "$oid": "61571a6503dba70039ab05b1"
        },
        "_type": "PublishedContent",
        "approved": true,
        "blobName": "published/mitforlob/20211001142540936_4552133610_6099310b37745000357bb691.json",
        "disabled": false,
        "namespace": "mitforlob",
        "originalId": "6099310b37745000357bb691",
        "publishedAt": 1633098341012,
        "publishedBy": "mette@visikon.com",
        "version": 11
       },
       {
        "__v": 0,
        "_id": {
         "$oid": "61769654a10f5e003a196f80"
        },
        "_type": "PublishedContent",
        "approved": false,
        "blobName": "published/mitforlob/20211025113444794_5698025804_6099310b37745000357bb691.json",
        "disabled": true,
        "namespace": "mitforlob",
        "originalId": "6099310b37745000357bb691",
        "publishedAt": 1635161684930,
        "publishedBy": "mette@visikon.com",
        "version": 12
       },
       {
        "__v": 0,
        "_id": {
         "$oid": "61769667a10f5e003a196f81"
        },
        "_type": "PublishedContent",
        "approved": true,
        "blobName": "published/mitforlob/20211025113503648_5545006739_6099310b37745000357bb691.json",
        "disabled": false,
        "namespace": "mitforlob",
        "originalId": "6099310b37745000357bb691",
        "publishedAt": 1635161703699,
        "publishedBy": "mette@visikon.com",
        "version": 12
       },
       {
        "__v": 0,
        "_id": {
         "$oid": "61769676a10f5e003a196f82"
        },
        "_type": "PublishedContent",
        "approved": true,
        "blobName": "published/mitforlob/20211025113518001_8409650680_60992efe37745000357bb684.json",
        "disabled": false,
        "namespace": "mitforlob",
        "originalId": "60992efe37745000357bb684",
        "publishedAt": 1635161718077,
        "publishedBy": "mette@visikon.com",
        "version": 9
       },
       {
        "__v": 0,
        "_id": {
         "$oid": "61769683a10f5e003a196f83"
        },
        "_type": "PublishedContent",
        "approved": true,
        "blobName": "published/mitforlob/20211025113531209_5209174074_61487f752ccfb00039a23dc9.json",
        "disabled": false,
        "namespace": "mitforlob",
        "originalId": "61487f752ccfb00039a23dc9",
        "publishedAt": 1635161731275,
        "publishedBy": "mette@visikon.com",
        "version": 5
       },
       {
        "__v": 0,
        "_id": {
         "$oid": "61769690a10f5e003a196f85"
        },
        "_type": "PublishedContent",
        "approved": true,
        "blobName": "published/mitforlob/20211025113544626_2678485172_609930f237745000357bb68f.json",
        "disabled": false,
        "namespace": "mitforlob",
        "originalId": "609930f237745000357bb68f",
        "publishedAt": 1635161744703,
        "publishedBy": "mette@visikon.com",
        "version": 8
       },
       {
        "__v": 0,
        "_id": {
         "$oid": "6176a7a4a10f5e003a196fa8"
        },
        "_type": "PublishedContent",
        "approved": true,
        "blobName": "published/mitforlob/20211025124836353_2989466684_60992efe37745000357bb684.json",
        "disabled": false,
        "namespace": "mitforlob",
        "originalId": "60992efe37745000357bb684",
        "publishedAt": 1635166116449,
        "publishedBy": "mette@visikon.com",
        "version": 10
       },
       {
        "__v": 0,
        "_id": {
         "$oid": "6176a7d6a10f5e003a196fa9"
        },
        "_type": "PublishedContent",
        "approved": true,
        "blobName": "published/mitforlob/20211025124925926_8704153496_609930f237745000357bb68f.json",
        "disabled": false,
        "namespace": "mitforlob",
        "originalId": "609930f237745000357bb68f",
        "publishedAt": 1635166166012,
        "publishedBy": "mette@visikon.com",
        "version": 9
       },
       {
        "__v": 0,
        "_id": {
         "$oid": "6176a867a10f5e003a196fae"
        },
        "_type": "PublishedContent",
        "approved": true,
        "blobName": "published/mitforlob/20211025125151464_9977236132_60992efe37745000357bb684.json",
        "disabled": false,
        "namespace": "mitforlob",
        "originalId": "60992efe37745000357bb684",
        "publishedAt": 1635166311544,
        "publishedBy": "mette@visikon.com",
        "version": 11
       },
       {
        "__v": 0,
        "_id": {
         "$oid": "6176a876a10f5e003a196fb0"
        },
        "_type": "PublishedContent",
        "approved": true,
        "blobName": "published/mitforlob/20211025125206564_5105637017_609930f237745000357bb68f.json",
        "disabled": false,
        "namespace": "mitforlob",
        "originalId": "609930f237745000357bb68f",
        "publishedAt": 1635166326640,
        "publishedBy": "mette@visikon.com",
        "version": 10
       },
       {
        "__v": 0,
        "_id": {
         "$oid": "6176e1b7a10f5e003a197062"
        },
        "_type": "PublishedContent",
        "approved": true,
        "blobName": "published/mitforlob/20211025165623631_8306068706_60992efe37745000357bb684.json",
        "disabled": false,
        "namespace": "mitforlob",
        "originalId": "60992efe37745000357bb684",
        "publishedAt": 1635180983708,
        "publishedBy": "mette@visikon.com",
        "version": 13
       },
       {
        "__v": 0,
        "_id": {
         "$oid": "6176b24aa10f5e003a196ff5"
        },
        "_type": "PublishedContent",
        "approved": true,
        "blobName": "published/mitforlob/20211025133402754_2812707148_60992efe37745000357bb684.json",
        "disabled": false,
        "namespace": "mitforlob",
        "originalId": "60992efe37745000357bb684",
        "publishedAt": 1635168842854,
        "publishedBy": "mette@visikon.com",
        "version": 12
       },
       {
        "__v": 0,
        "_id": {
         "$oid": "6176e288a10f5e003a197066"
        },
        "_type": "PublishedContent",
        "approved": true,
        "blobName": "published/mitforlob/20211025165952875_105869070_61487f752ccfb00039a23dc9.json",
        "disabled": false,
        "namespace": "mitforlob",
        "originalId": "61487f752ccfb00039a23dc9",
        "publishedAt": 1635181192943,
        "publishedBy": "mette@visikon.com",
        "version": 7
       },
       {
        "__v": 0,
        "_id": {
         "$oid": "6176e29da10f5e003a197067"
        },
        "_type": "PublishedContent",
        "approved": true,
        "blobName": "published/mitforlob/20211025170013424_54438054_609930f237745000357bb68f.json",
        "disabled": false,
        "namespace": "mitforlob",
        "originalId": "609930f237745000357bb68f",
        "publishedAt": 1635181213490,
        "publishedBy": "mette@visikon.com",
        "version": 11
       },
       {
        "__v": 0,
        "_id": {
         "$oid": "6176e2b0a10f5e003a197068"
        },
        "_type": "PublishedContent",
        "approved": true,
        "blobName": "published/mitforlob/20211025170032098_804650232_6099310b37745000357bb691.json",
        "disabled": false,
        "namespace": "mitforlob",
        "originalId": "6099310b37745000357bb691",
        "publishedAt": 1635181232179,
        "publishedBy": "mette@visikon.com",
        "version": 13
       },
       {
        "__v": 0,
        "_id": {
         "$oid": "6176e1c7a10f5e003a197063"
        },
        "_type": "PublishedContent",
        "approved": true,
        "blobName": "published/mitforlob/20211025165638957_6673174857_61487f752ccfb00039a23dc9.json",
        "disabled": false,
        "namespace": "mitforlob",
        "originalId": "61487f752ccfb00039a23dc9",
        "publishedAt": 1635180999043,
        "publishedBy": "mette@visikon.com",
        "version": 6
       },
       {
        "__v": 0,
        "_id": {
         "$oid": "6176e266a10f5e003a197064"
        },
        "_type": "PublishedContent",
        "approved": true,
        "blobName": "published/mitforlob/20211025165918904_4332462702_60992efe37745000357bb684.json",
        "disabled": false,
        "namespace": "mitforlob",
        "originalId": "60992efe37745000357bb684",
        "publishedAt": 1635181158970,
        "publishedBy": "mette@visikon.com",
        "version": 14
       },
       {
        "__v": 0,
        "_id": {
         "$oid": "6176e39ea10f5e003a197069"
        },
        "_type": "PublishedContent",
        "approved": true,
        "blobName": "published/mitforlob/20211025170430686_1291731791_609930f237745000357bb68f.json",
        "disabled": false,
        "namespace": "mitforlob",
        "originalId": "609930f237745000357bb68f",
        "publishedAt": 1635181470773,
        "publishedBy": "mette@visikon.com",
        "version": 12
       },
       {
        "__v": 0,
        "_id": {
         "$oid": "6176e431a10f5e003a19706a"
        },
        "_type": "PublishedContent",
        "approved": true,
        "blobName": "published/mitforlob/20211025170657445_5755116764_60992efe37745000357bb684.json",
        "disabled": false,
        "namespace": "mitforlob",
        "originalId": "60992efe37745000357bb684",
        "publishedAt": 1635181617545,
        "publishedBy": "mette@visikon.com",
        "version": 15
       },
       {
        "__v": 0,
        "_id": {
         "$oid": "6176e829a10f5e003a19706e"
        },
        "_type": "PublishedContent",
        "approved": true,
        "blobName": "published/mitforlob/20211025172353259_8047018669_6099310b37745000357bb691.json",
        "disabled": false,
        "namespace": "mitforlob",
        "originalId": "6099310b37745000357bb691",
        "publishedAt": 1635182633326,
        "publishedBy": "mette@visikon.com",
        "version": 15
       },
       {
        "__v": 0,
        "_id": {
         "$oid": "6176e496a10f5e003a19706d"
        },
        "_type": "PublishedContent",
        "approved": true,
        "blobName": "published/mitforlob/20211025170838499_3122561385_6099310b37745000357bb691.json",
        "disabled": false,
        "namespace": "mitforlob",
        "originalId": "6099310b37745000357bb691",
        "publishedAt": 1635181718578,
        "publishedBy": "mette@visikon.com",
        "version": 14
       },
       {
        "__v": 0,
        "_id": {
         "$oid": "6176e475a10f5e003a19706c"
        },
        "_type": "PublishedContent",
        "approved": true,
        "blobName": "published/mitforlob/20211025170805647_4726129950_609930f237745000357bb68f.json",
        "disabled": false,
        "namespace": "mitforlob",
        "originalId": "609930f237745000357bb68f",
        "publishedAt": 1635181685724,
        "publishedBy": "mette@visikon.com",
        "version": 13
       },
       {
        "__v": 0,
        "_id": {
         "$oid": "617e83e35c05e8003a143aea"
        },
        "_type": "PublishedContent",
        "approved": false,
        "blobName": "published/mitforlob/20211031115409883_4226771453_6124e8c47a804c00387f5cce.json",
        "disabled": true,
        "namespace": "mitforlob",
        "originalId": "6124e8c47a804c00387f5cce",
        "publishedAt": 1635681251771,
        "publishedBy": "mette@visikon.com",
        "version": 5
       },
       {
        "__v": 0,
        "_id": {
         "$oid": "618000115c05e8003a143c87"
        },
        "_type": "PublishedContent",
        "approved": false,
        "blobName": "published/mitforlob/20211101145617110_377239263_60e5afac88f48c0039a5155c.json",
        "disabled": true,
        "namespace": "mitforlob",
        "originalId": "60e5afac88f48c0039a5155c",
        "publishedAt": 1635778577218,
        "publishedBy": "mette@visikon.com",
        "version": 6
       },
       {
        "__v": 0,
        "_id": {
         "$oid": "6180003f5c05e8003a143c89"
        },
        "_type": "PublishedContent",
        "approved": true,
        "blobName": "published/mitforlob/20211101145703576_7393059433_60e5b19c88f48c0039a5155e.json",
        "disabled": false,
        "namespace": "mitforlob",
        "originalId": "60e5b19c88f48c0039a5155e",
        "publishedAt": 1635778623635,
        "publishedBy": "mette@visikon.com",
        "version": 6
       },
       {
        "__v": 0,
        "_id": {
         "$oid": "618106b75c05e8003a143ca1"
        },
        "_type": "PublishedContent",
        "approved": true,
        "blobName": "published/mitforlob/20211102093655654_1160947588_61370d8a7a804c00387f8239.json",
        "disabled": false,
        "namespace": "mitforlob",
        "originalId": "61370d8a7a804c00387f8239",
        "publishedAt": 1635845815778,
        "publishedBy": "anders@visikon.com",
        "version": 4
       },
       {
        "__v": 0,
        "_id": {
         "$oid": "618107c75c05e8003a143ca2"
        },
        "_type": "PublishedContent",
        "approved": true,
        "blobName": "published/mitforlob/20211102094127125_6016356174_61370d8a7a804c00387f8239.json",
        "disabled": false,
        "namespace": "mitforlob",
        "originalId": "61370d8a7a804c00387f8239",
        "publishedAt": 1635846087294,
        "publishedBy": "anders@visikon.com",
        "version": 5
       },
       {
        "__v": 0,
        "_id": {
         "$oid": "6181088f5c05e8003a143ca4"
        },
        "_type": "PublishedContent",
        "approved": false,
        "blobName": "published/mitforlob/20211102094446942_1894365111_61370d8a7a804c00387f8239.json",
        "disabled": false,
        "namespace": "mitforlob",
        "originalId": "61370d8a7a804c00387f8239",
        "publishedAt": 1635846287038,
        "publishedBy": "anders@visikon.com",
        "version": 6
       },
       {
        "__v": 0,
        "_id": {
         "$oid": "6181149c5c05e8003a143cad"
        },
        "_type": "PublishedContent",
        "approved": false,
        "blobName": "published/mitforlob/20211102103612187_7463204214_5ffee488a0731b003575336a.json",
        "disabled": false,
        "namespace": "mitforlob",
        "originalId": "5ffee488a0731b003575336a",
        "publishedAt": 1635849372257,
        "publishedBy": "elisabeth@visikon.com",
        "version": 5
       },
       {
        "__v": 0,
        "_id": {
         "$oid": "618114c65c05e8003a143cae"
        },
        "_type": "PublishedContent",
        "approved": false,
        "blobName": "published/mitforlob/20211102103654165_8940574705_5ffee488a0731b003575336a.json",
        "disabled": false,
        "namespace": "mitforlob",
        "originalId": "5ffee488a0731b003575336a",
        "publishedAt": 1635849414242,
        "publishedBy": "elisabeth@visikon.com",
        "version": 6
       },
       {
        "__v": 0,
        "_id": {
         "$oid": "618114f55c05e8003a143caf"
        },
        "_type": "PublishedContent",
        "approved": false,
        "blobName": "published/mitforlob/20211102103741583_3388566601_5ffee488a0731b003575336a.json",
        "disabled": false,
        "namespace": "mitforlob",
        "originalId": "5ffee488a0731b003575336a",
        "publishedAt": 1635849461697,
        "publishedBy": "elisabeth@visikon.com",
        "version": 7
       },
       {
        "__v": 0,
        "_id": {
         "$oid": "618115115c05e8003a143cb0"
        },
        "_type": "PublishedContent",
        "approved": true,
        "blobName": "published/mitforlob/20211102103809029_5088122697_5ffee488a0731b003575336a.json",
        "disabled": false,
        "namespace": "mitforlob",
        "originalId": "5ffee488a0731b003575336a",
        "publishedAt": 1635849489125,
        "publishedBy": "elisabeth@visikon.com",
        "version": 11
       },
       {
        "__v": 0,
        "_id": {
         "$oid": "618121915c05e8003a143cc2"
        },
        "_type": "PublishedContent",
        "approved": true,
        "blobName": "published/mitforlob/20211102113129151_4016597964_61370d8a7a804c00387f8239.json",
        "disabled": false,
        "namespace": "mitforlob",
        "originalId": "61370d8a7a804c00387f8239",
        "publishedAt": 1635852689340,
        "publishedBy": "anders@visikon.com",
        "version": 7
       },
       {
        "__v": 0,
        "_id": {
         "$oid": "619b903e9c75ff003a29fdc6"
        },
        "_type": "PublishedContent",
        "approved": false,
        "blobName": "published/mitforlob/20211122124237917_5995579917_61487f752ccfb00039a23dc9.json",
        "disabled": true,
        "namespace": "mitforlob",
        "originalId": "61487f752ccfb00039a23dc9",
        "publishedAt": 1637584958048,
        "publishedBy": "elisabeth@visikon.com",
        "version": 11
       },
       {
        "__v": 0,
        "_id": {
         "$oid": "619b94a79c75ff003a29fdc8"
        },
        "_type": "PublishedContent",
        "approved": true,
        "blobName": "published/mitforlob/20211122130126895_7401564099_61487f752ccfb00039a23dc9.json",
        "disabled": false,
        "namespace": "mitforlob",
        "originalId": "61487f752ccfb00039a23dc9",
        "publishedAt": 1637586087040,
        "publishedBy": "sameer@visikon.com",
        "version": 13
       },
       {
        "__v": 0,
        "_id": {
         "$oid": "61c0a7463fa1bd003a9b4023"
        },
        "_type": "PublishedContent",
        "approved": false,
        "blobName": "published/mitforlob/20211220155446756_2912868881_60e5a74888f48c0039a51552.json",
        "disabled": true,
        "namespace": "mitforlob",
        "originalId": "60e5a74888f48c0039a51552",
        "publishedAt": 1640015686849,
        "publishedBy": "mette@visikon.com",
        "version": 13
       },
       {
        "__v": 0,
        "_id": {
         "$oid": "61cde3ba85fd04003a250a1f"
        },
        "_type": "PublishedContent",
        "approved": true,
        "blobName": "published/mitforlob/20211230165210740_2216131434_5d14b6102a6a7a0039bc4529.json",
        "disabled": false,
        "namespace": "mitforlob",
        "originalId": "5d14b6102a6a7a0039bc4529",
        "publishedAt": 1640883130866,
        "publishedBy": "anders@visikon.com",
        "version": 7
       },
       {
        "__v": 0,
        "_id": {
         "$oid": "61d564826b3954003a4258c8"
        },
        "_type": "PublishedContent",
        "approved": true,
        "blobName": "published/mitforlob/20220105092730454_3610288433_61d553ab6b3954003a425897.json",
        "disabled": true,
        "namespace": "mitforlob",
        "originalId": "61d553ab6b3954003a425897",
        "publishedAt": 1641374850604,
        "publishedBy": "alexandra@visikon.com",
        "version": 5
       },
       {
        "__v": 0,
        "_id": {
         "$oid": "61efea80b1fd53003a32030a"
        },
        "_type": "PublishedContent",
        "approved": false,
        "blobName": "published/mitforlob/20220125121808110_7937243112_60e5b19c88f48c0039a5155e.json",
        "disabled": true,
        "namespace": "mitforlob",
        "originalId": "60e5b19c88f48c0039a5155e",
        "publishedAt": 1643113088227,
        "publishedBy": "mette@visikon.com",
        "version": 8
       },
       {
        "__v": 0,
        "_id": {
         "$oid": "61efed25b1fd53003a32030d"
        },
        "_type": "PublishedContent",
        "approved": false,
        "blobName": "published/mitforlob/20220125122925806_3135181474_60e5b19c88f48c0039a5155e.json",
        "disabled": true,
        "namespace": "mitforlob",
        "originalId": "60e5b19c88f48c0039a5155e",
        "publishedAt": 1643113765973,
        "publishedBy": "mette@visikon.com",
        "version": 9
       },
       {
        "__v": 0,
        "_id": {
         "$oid": "61efedefb1fd53003a32030e"
        },
        "_type": "PublishedContent",
        "approved": false,
        "blobName": "published/mitforlob/20220125123247867_8675273223_60e5b19c88f48c0039a5155e.json",
        "disabled": true,
        "namespace": "mitforlob",
        "originalId": "60e5b19c88f48c0039a5155e",
        "publishedAt": 1643113967981,
        "publishedBy": "mette@visikon.com",
        "version": 10
       },
       {
        "__v": 0,
        "_id": {
         "$oid": "61efef8ab1fd53003a32030f"
        },
        "_type": "PublishedContent",
        "approved": false,
        "blobName": "published/mitforlob/20220125123938627_4242075231_60e5afac88f48c0039a5155c.json",
        "disabled": true,
        "namespace": "mitforlob",
        "originalId": "60e5afac88f48c0039a5155c",
        "publishedAt": 1643114378801,
        "publishedBy": "alexandra@visikon.com",
        "version": 9
       },
       {
        "__v": 0,
        "_id": {
         "$oid": "6200e150b1fd53003a321dd7"
        },
        "_type": "PublishedContent",
        "approved": false,
        "blobName": "published/mitforlob/20220207090728464_7384207359_615bdef903dba70039ab0700.json",
        "disabled": true,
        "namespace": "mitforlob",
        "originalId": "615bdef903dba70039ab0700",
        "publishedAt": 1644224848519,
        "publishedBy": "marie@visikon.com",
        "version": 11
       },
       {
        "__v": 0,
        "_id": {
         "$oid": "62010d9eb1fd53003a321e2b"
        },
        "_type": "PublishedContent",
        "approved": false,
        "blobName": "published/mitforlob/20220207121630503_3070166044_6011cb2d1d0fc20039373738.json",
        "disabled": true,
        "namespace": "mitforlob",
        "originalId": "6011cb2d1d0fc20039373738",
        "publishedAt": 1644236190594,
        "publishedBy": "marie@visikon.com",
        "version": 24
       },
       {
        "__v": 0,
        "_id": {
         "$oid": "6202747a8f79da003a3e425c"
        },
        "_type": "PublishedContent",
        "approved": false,
        "blobName": "published/mitforlob/20220208134738317_9829266607_6124e8c47a804c00387f5cce.json",
        "disabled": true,
        "namespace": "mitforlob",
        "originalId": "6124e8c47a804c00387f5cce",
        "publishedAt": 1644328058478,
        "publishedBy": "marie@visikon.com",
        "version": 8
       },
       {
        "__v": 0,
        "_id": {
         "$oid": "620274fc8f79da003a3e425d"
        },
        "_type": "PublishedContent",
        "approved": false,
        "blobName": "published/mitforlob/20220208134948215_6304573204_6124e8067a804c00387f5ccc.json",
        "disabled": true,
        "namespace": "mitforlob",
        "originalId": "6124e8067a804c00387f5ccc",
        "publishedAt": 1644328188272,
        "publishedBy": "marie@visikon.com",
        "version": 7
       },
       {
        "__v": 0,
        "_id": {
         "$oid": "620275468f79da003a3e425e"
        },
        "_type": "PublishedContent",
        "approved": false,
        "blobName": "published/mitforlob/20220208135102557_460176042_6124e6e47a804c00387f5cca.json",
        "disabled": true,
        "namespace": "mitforlob",
        "originalId": "6124e6e47a804c00387f5cca",
        "publishedAt": 1644328262621,
        "publishedBy": "marie@visikon.com",
        "version": 7
       },
       {
        "__v": 0,
        "_id": {
         "$oid": "620275818f79da003a3e425f"
        },
        "_type": "PublishedContent",
        "approved": false,
        "blobName": "published/mitforlob/20220208135201740_6452366654_6124e3ce7a804c00387f5cc6.json",
        "disabled": true,
        "namespace": "mitforlob",
        "originalId": "6124e3ce7a804c00387f5cc6",
        "publishedAt": 1644328321879,
        "publishedBy": "marie@visikon.com",
        "version": 7
       },
       {
        "__v": 0,
        "_id": {
         "$oid": "620275f28f79da003a3e4260"
        },
        "_type": "PublishedContent",
        "approved": false,
        "blobName": "published/mitforlob/20220208135354147_8607271_60e5b76988f48c0039a51758.json",
        "disabled": true,
        "namespace": "mitforlob",
        "originalId": "60e5b76988f48c0039a51758",
        "publishedAt": 1644328434209,
        "publishedBy": "marie@visikon.com",
        "version": 14
       },
       {
        "__v": 0,
        "_id": {
         "$oid": "620276818f79da003a3e4261"
        },
        "_type": "PublishedContent",
        "approved": false,
        "blobName": "published/mitforlob/20220208135617177_5581044716_60e5b25188f48c0039a51560.json",
        "disabled": true,
        "namespace": "mitforlob",
        "originalId": "60e5b25188f48c0039a51560",
        "publishedAt": 1644328577240,
        "publishedBy": "marie@visikon.com",
        "version": 13
       },
       {
        "__v": 0,
        "_id": {
         "$oid": "620276d28f79da003a3e4262"
        },
        "_type": "PublishedContent",
        "approved": false,
        "blobName": "published/mitforlob/20220208135738098_2109092933_60e5b19c88f48c0039a5155e.json",
        "disabled": true,
        "namespace": "mitforlob",
        "originalId": "60e5b19c88f48c0039a5155e",
        "publishedAt": 1644328658206,
        "publishedBy": "marie@visikon.com",
        "version": 11
       },
       {
        "__v": 0,
        "_id": {
         "$oid": "6202771b8f79da003a3e4263"
        },
        "_type": "PublishedContent",
        "approved": false,
        "blobName": "published/mitforlob/20220208135851067_6222607733_60e5afac88f48c0039a5155c.json",
        "disabled": true,
        "namespace": "mitforlob",
        "originalId": "60e5afac88f48c0039a5155c",
        "publishedAt": 1644328731130,
        "publishedBy": "marie@visikon.com",
        "version": 10
       },
       {
        "__v": 0,
        "_id": {
         "$oid": "6202779c8f79da003a3e4264"
        },
        "_type": "PublishedContent",
        "approved": false,
        "blobName": "published/mitforlob/20220208140100255_1219058224_60e5a74888f48c0039a51552.json",
        "disabled": true,
        "namespace": "mitforlob",
        "originalId": "60e5a74888f48c0039a51552",
        "publishedAt": 1644328860361,
        "publishedBy": "marie@visikon.com",
        "version": 15
       },
       {
        "__v": 0,
        "_id": {
         "$oid": "620277d28f79da003a3e4265"
        },
        "_type": "PublishedContent",
        "approved": false,
        "blobName": "published/mitforlob/20220208140154564_520740755_60e5b38088f48c0039a515a3.json",
        "disabled": true,
        "namespace": "mitforlob",
        "originalId": "60e5b38088f48c0039a515a3",
        "publishedAt": 1644328914625,
        "publishedBy": "marie@visikon.com",
        "version": 10
       },
       {
        "__v": 0,
        "_id": {
         "$oid": "6202797c8f79da003a3e4269"
        },
        "_type": "PublishedContent",
        "approved": false,
        "blobName": "published/mitforlob/20220208140900398_9529508765_60e5b57f88f48c0039a515c1.json",
        "disabled": true,
        "namespace": "mitforlob",
        "originalId": "60e5b57f88f48c0039a515c1",
        "publishedAt": 1644329340456,
        "publishedBy": "marie@visikon.com",
        "version": 10
       },
       {
        "__v": 0,
        "_id": {
         "$oid": "620371c88f79da003a3e4299"
        },
        "_type": "PublishedContent",
        "approved": false,
        "blobName": "published/mitforlob/20220209074824411_9607059764_60e5b25188f48c0039a51560.json",
        "disabled": true,
        "namespace": "mitforlob",
        "originalId": "60e5b25188f48c0039a51560",
        "publishedAt": 1644392904537,
        "publishedBy": "marie@visikon.com",
        "version": 14
       },
       {
        "__v": 0,
        "_id": {
         "$oid": "621357b1b57e94003622c8a6"
        },
        "_type": "PublishedContent",
        "approved": false,
        "blobName": "published/mitforlob/20220221091321685_7111010671_60e5a74888f48c0039a51552.json",
        "disabled": true,
        "namespace": "mitforlob",
        "originalId": "60e5a74888f48c0039a51552",
        "publishedAt": 1645434801854,
        "publishedBy": "marie@visikon.com",
        "version": 16
       },
       {
        "__v": 0,
        "_id": {
         "$oid": "6214b68db57e94003622ca75"
        },
        "_type": "PublishedContent",
        "approved": false,
        "blobName": "published/mitforlob/20220222101021309_4186071426_61ae12a39c75ff003a2a0585.json",
        "disabled": true,
        "namespace": "mitforlob",
        "originalId": "61ae12a39c75ff003a2a0585",
        "publishedAt": 1645524621379,
        "publishedBy": "marie@visikon.com",
        "version": 11
       },
       {
        "__v": 0,
        "_id": {
         "$oid": "62160f59b57e94003622ccf0"
        },
        "_type": "PublishedContent",
        "approved": true,
        "blobName": "published/mitforlob/20220223104129627_615010584_5d604d5337bf44002f4ee622.json",
        "disabled": false,
        "namespace": "mitforlob",
        "originalId": "5d604d5337bf44002f4ee622",
        "publishedAt": 1645612889732,
        "publishedBy": "alexandra@visikon.com",
        "version": 7
       },
       {
        "__v": 0,
        "_id": {
         "$oid": "621640ecb57e94003622cd69"
        },
        "_type": "PublishedContent",
        "approved": true,
        "blobName": "published/mitforlob/20220223141300874_9307635292_5e1b8a678cf40c004e7d0b7f.json",
        "disabled": false,
        "namespace": "mitforlob",
        "originalId": "5e1b8a678cf40c004e7d0b7f",
        "publishedAt": 1645625580960,
        "publishedBy": "alexandra@visikon.com",
        "version": 8
       },
       {
        "__v": 0,
        "_id": {
         "$oid": "621c9e81b57e94003622d05b"
        },
        "_type": "PublishedContent",
        "approved": true,
        "blobName": "published/mitforlob/20220228100553053_530649872_62021c118f79da003a3e415c.json",
        "disabled": false,
        "namespace": "mitforlob",
        "originalId": "62021c118f79da003a3e415c",
        "publishedAt": 1646042753252,
        "publishedBy": "marie@visikon.com",
        "version": 1
       },
       {
        "__v": 0,
        "_id": {
         "$oid": "621ca5a8b57e94003622d06b"
        },
        "_type": "PublishedContent",
        "approved": false,
        "blobName": "published/mitforlob/20220228103624098_1493987845_616fb022145521003944227d.json",
        "disabled": true,
        "namespace": "mitforlob",
        "originalId": "616fb022145521003944227d",
        "publishedAt": 1646044584197,
        "publishedBy": "marie@visikon.com",
        "version": 6
       },
       {
        "__v": 0,
        "_id": {
         "$oid": "621ca5e9b57e94003622d06c"
        },
        "_type": "PublishedContent",
        "approved": false,
        "blobName": "published/mitforlob/20220228103728886_7194973401_616fb022145521003944227d.json",
        "disabled": true,
        "namespace": "mitforlob",
        "originalId": "616fb022145521003944227d",
        "publishedAt": 1646044649005,
        "publishedBy": "marie@visikon.com",
        "version": 7
       },
       {
        "__v": 0,
        "_id": {
         "$oid": "621ca638b57e94003622d06d"
        },
        "_type": "PublishedContent",
        "approved": true,
        "blobName": "published/mitforlob/20220228103848051_8494155151_616fb022145521003944227d.json",
        "disabled": true,
        "namespace": "mitforlob",
        "originalId": "616fb022145521003944227d",
        "publishedAt": 1646044728120,
        "publishedBy": "marie@visikon.com",
        "version": 8
       },
       {
        "__v": 0,
        "_id": {
         "$oid": "621cc2efb57e94003622d079"
        },
        "_type": "PublishedContent",
        "approved": true,
        "blobName": "published/mitforlob/20220228124119665_5837896507_62021a368f79da003a3e415a.json",
        "disabled": true,
        "namespace": "mitforlob",
        "originalId": "62021a368f79da003a3e415a",
        "publishedAt": 1646052079778,
        "publishedBy": "alexandra@visikon.com",
        "version": 3
       },
       {
        "__v": 0,
        "_id": {
         "$oid": "621cc2afb57e94003622d078"
        },
        "_type": "PublishedContent",
        "approved": true,
        "blobName": "published/mitforlob/20220228124015639_6331858909_62021a368f79da003a3e415a.json",
        "disabled": true,
        "namespace": "mitforlob",
        "originalId": "62021a368f79da003a3e415a",
        "publishedAt": 1646052015707,
        "publishedBy": "alexandra@visikon.com",
        "version": 2
       },
       {
        "__v": 0,
        "_id": {
         "$oid": "621cc3ddb57e94003622d07a"
        },
        "_type": "PublishedContent",
        "approved": true,
        "blobName": "published/mitforlob/20220228124517128_7672764613_62021c698f79da003a3e415e.json",
        "disabled": true,
        "namespace": "mitforlob",
        "originalId": "62021c698f79da003a3e415e",
        "publishedAt": 1646052317202,
        "publishedBy": "alexandra@visikon.com",
        "version": 2
       },
       {
        "__v": 0,
        "_id": {
         "$oid": "621cc422b57e94003622d07b"
        },
        "_type": "PublishedContent",
        "approved": true,
        "blobName": "published/mitforlob/20220228124626590_8955628637_62021cbc8f79da003a3e4160.json",
        "disabled": true,
        "namespace": "mitforlob",
        "originalId": "62021cbc8f79da003a3e4160",
        "publishedAt": 1646052386708,
        "publishedBy": "alexandra@visikon.com",
        "version": 2
       },
       {
        "__v": 0,
        "_id": {
         "$oid": "621cc45cb57e94003622d07c"
        },
        "_type": "PublishedContent",
        "approved": true,
        "blobName": "published/mitforlob/20220228124723932_2529130428_62021cff8f79da003a3e4162.json",
        "disabled": true,
        "namespace": "mitforlob",
        "originalId": "62021cff8f79da003a3e4162",
        "publishedAt": 1646052444021,
        "publishedBy": "alexandra@visikon.com",
        "version": 2
       },
       {
        "__v": 0,
        "_id": {
         "$oid": "621ce501b57e94003622d0c4"
        },
        "_type": "PublishedContent",
        "approved": true,
        "blobName": "published/mitforlob/20220228150641417_3549307552_5ffee558a0731b003575337d.json",
        "disabled": false,
        "namespace": "mitforlob",
        "originalId": "5ffee558a0731b003575337d",
        "publishedAt": 1646060801473,
        "publishedBy": "alexandra@visikon.com",
        "version": 8
       },
       {
        "__v": 0,
        "_id": {
         "$oid": "622b384190acb20035653af3"
        },
        "_type": "PublishedContent",
        "approved": true,
        "blobName": "published/mitforlob/20220311115337470_8875862165_60911b648561e50039bc0b87.json",
        "disabled": false,
        "namespace": "mitforlob",
        "originalId": "60911b648561e50039bc0b87",
        "publishedAt": 1646999617618,
        "publishedBy": "sameer@visikon.com",
        "version": 32
       },
       {
        "__v": 0,
        "_id": {
         "$oid": "624be721bd5e2a003564a5da"
        },
        "_type": "PublishedContent",
        "approved": false,
        "blobName": "published/mitforlob/20220405065217704_160194679_5e7dba21930532004eafe1c3.json",
        "disabled": true,
        "namespace": "mitforlob",
        "originalId": "5e7dba21930532004eafe1c3",
        "publishedAt": 1649141537879,
        "publishedBy": "mette@visikon.com",
        "version": 10
       },
       {
        "__v": 0,
        "_id": {
         "$oid": "625598953ed8ac00390fe82c"
        },
        "_type": "PublishedContent",
        "approved": true,
        "blobName": "published/mitforlob/20220412151949741_7318932817_60cb467d0e3e970039d19888.json",
        "disabled": false,
        "namespace": "mitforlob",
        "originalId": "60cb467d0e3e970039d19888",
        "publishedAt": 1649776789882,
        "publishedBy": "mette@visikon.com",
        "version": 6
       },
       {
        "__v": 0,
        "_id": {
         "$oid": "625598bb3ed8ac00390fe82d"
        },
        "_type": "PublishedContent",
        "approved": true,
        "blobName": "published/mitforlob/20220412152027056_2628224848_60cb467d0e3e970039d19888.json",
        "disabled": false,
        "namespace": "mitforlob",
        "originalId": "60cb467d0e3e970039d19888",
        "publishedAt": 1649776827145,
        "publishedBy": "mette@visikon.com",
        "version": 7
       },
       {
        "__v": 0,
        "_id": {
         "$oid": "625598f93ed8ac00390fe82e"
        },
        "_type": "PublishedContent",
        "approved": true,
        "blobName": "published/mitforlob/20220412152129545_2861535238_60cb467d0e3e970039d19888.json",
        "disabled": false,
        "namespace": "mitforlob",
        "originalId": "60cb467d0e3e970039d19888",
        "publishedAt": 1649776889624,
        "publishedBy": "mette@visikon.com",
        "version": 8
       },
       {
        "__v": 0,
        "_id": {
         "$oid": "6261161b3ed8ac00390fed5c"
        },
        "_type": "PublishedContent",
        "approved": false,
        "blobName": "published/mitforlob/20220421083018975_2086371795_5e1b8cbb8cf40c004e7d0b8b.json",
        "disabled": true,
        "namespace": "mitforlob",
        "originalId": "5e1b8cbb8cf40c004e7d0b8b",
        "publishedAt": 1650529819085,
        "publishedBy": "alexandra@visikon.com",
        "version": 9
       },
       {
        "__v": 0,
        "_id": {
         "$oid": "626164103ed8ac00390ff35d"
        },
        "_type": "PublishedContent",
        "approved": true,
        "blobName": "published/mitforlob/20220421140256337_1784373690_5e1b8c908cf40c004e7d0b89.json",
        "disabled": false,
        "namespace": "mitforlob",
        "originalId": "5e1b8c908cf40c004e7d0b89",
        "publishedAt": 1650549776427,
        "publishedBy": "mette@visikon.com",
        "version": 15
       },
       {
        "__v": 0,
        "_id": {
         "$oid": "6265858b892f2f0039e0af03"
        },
        "_type": "PublishedContent",
        "approved": true,
        "blobName": "published/mitforlob/20220424171451569_5943767540_601d74087470e100390f03fb.json",
        "disabled": false,
        "namespace": "mitforlob",
        "originalId": "601d74087470e100390f03fb",
        "publishedAt": 1650820491653,
        "publishedBy": "mette@visikon.com",
        "version": 10
       },
       {
        "__v": 0,
        "_id": {
         "$oid": "6274d3caf8495700357e98cf"
        },
        "_type": "PublishedContent",
        "approved": false,
        "blobName": "published/mitforlob/20220506075242681_5243824619_5e1b8c908cf40c004e7d0b89.json",
        "disabled": false,
        "namespace": "mitforlob",
        "originalId": "5e1b8c908cf40c004e7d0b89",
        "publishedAt": 1651823562748,
        "publishedBy": "marie@visikon.com",
        "version": 16
       },
       {
        "__v": 0,
        "_id": {
         "$oid": "6274d3e2f8495700357e98d0"
        },
        "_type": "PublishedContent",
        "approved": false,
        "blobName": "published/mitforlob/20220506075306272_7782632691_5e1b8a678cf40c004e7d0b7f.json",
        "disabled": false,
        "namespace": "mitforlob",
        "originalId": "5e1b8a678cf40c004e7d0b7f",
        "publishedAt": 1651823586328,
        "publishedBy": "marie@visikon.com",
        "version": 9
       },
       {
        "__v": 0,
        "_id": {
         "$oid": "6274d3f1f8495700357e98d1"
        },
        "_type": "PublishedContent",
        "approved": false,
        "blobName": "published/mitforlob/20220506075320870_3589425130_5de8e137464d3f004e208a8d.json",
        "disabled": false,
        "namespace": "mitforlob",
        "originalId": "5de8e137464d3f004e208a8d",
        "publishedAt": 1651823601078,
        "publishedBy": "marie@visikon.com",
        "version": 9
       },
       {
        "__v": 0,
        "_id": {
         "$oid": "6274dcbdf8495700357e98da"
        },
        "_type": "PublishedContent",
        "approved": false,
        "blobName": "published/mitforlob/20220506083053294_9948877886_5ffee489a0731b003575336c.json",
        "disabled": false,
        "namespace": "mitforlob",
        "originalId": "5ffee489a0731b003575336c",
        "publishedAt": 1651825853366,
        "publishedBy": "marie@visikon.com",
        "version": 11
       },
       {
        "__v": 0,
        "_id": {
         "$oid": "6274df87f8495700357e98db"
        },
        "_type": "PublishedContent",
        "approved": false,
        "blobName": "published/mitforlob/20220506084247255_1971366661_5de8cd2a464d3f004e208a6e.json",
        "disabled": false,
        "namespace": "mitforlob",
        "originalId": "5de8cd2a464d3f004e208a6e",
        "publishedAt": 1651826567388,
        "publishedBy": "marie@visikon.com",
        "version": 8
       },
       {
        "__v": 0,
        "_id": {
         "$oid": "6274ed88f8495700357e98ee"
        },
        "_type": "PublishedContent",
        "approved": false,
        "blobName": "published/mitforlob/20220506094231925_9936734616_5fa558b9c556ef00399297cf.json",
        "disabled": false,
        "namespace": "mitforlob",
        "originalId": "5fa558b9c556ef00399297cf",
        "publishedAt": 1651830152001,
        "publishedBy": "marie@visikon.com",
        "version": 8
       },
       {
        "__v": 0,
        "_id": {
         "$oid": "6274f012f8495700357e98ef"
        },
        "_type": "PublishedContent",
        "approved": false,
        "blobName": "published/mitforlob/20220506095321883_6809763522_5f915abbef94e70039f4843b.json",
        "disabled": false,
        "namespace": "mitforlob",
        "originalId": "5f915abbef94e70039f4843b",
        "publishedAt": 1651830802059,
        "publishedBy": "marie@visikon.com",
        "version": 14
       },
       {
        "__v": 0,
        "_id": {
         "$oid": "6274f03ff8495700357e98f0"
        },
        "_type": "PublishedContent",
        "approved": false,
        "blobName": "published/mitforlob/20220506095407562_3620205623_5ff2f232f89f3c0039ba0746.json",
        "disabled": false,
        "namespace": "mitforlob",
        "originalId": "5ff2f232f89f3c0039ba0746",
        "publishedAt": 1651830847616,
        "publishedBy": "marie@visikon.com",
        "version": 9
       },
       {
        "__v": 0,
        "_id": {
         "$oid": "627505f9f8495700357e98f7"
        },
        "_type": "PublishedContent",
        "approved": true,
        "blobName": "published/mitforlob/20220506112649088_9911214880_603fc34d0ad4490036444b61.json",
        "disabled": false,
        "namespace": "mitforlob",
        "originalId": "603fc34d0ad4490036444b61",
        "publishedAt": 1651836409155,
        "publishedBy": "alexandra@visikon.com",
        "version": 19
       },
       {
        "__v": 0,
        "_id": {
         "$oid": "6275060ff8495700357e98f8"
        },
        "_type": "PublishedContent",
        "approved": true,
        "blobName": "published/mitforlob/20220506112711129_9712978044_603fc3340ad4490036444b5f.json",
        "disabled": false,
        "namespace": "mitforlob",
        "originalId": "603fc3340ad4490036444b5f",
        "publishedAt": 1651836431216,
        "publishedBy": "alexandra@visikon.com",
        "version": 22
       },
       {
        "__v": 0,
        "_id": {
         "$oid": "6275062df8495700357e98f9"
        },
        "_type": "PublishedContent",
        "approved": true,
        "blobName": "published/mitforlob/20220506112741164_5291445069_5f3f97667ce2c1004bc8fd8b.json",
        "disabled": false,
        "namespace": "mitforlob",
        "originalId": "5f3f97667ce2c1004bc8fd8b",
        "publishedAt": 1651836461222,
        "publishedBy": "alexandra@visikon.com",
        "version": 26
       },
       {
        "__v": 0,
        "_id": {
         "$oid": "6278b241f8495700357e995a"
        },
        "_type": "PublishedContent",
        "approved": false,
        "blobName": "published/mitforlob/20220509061841325_5465228427_5ffee3d9a0731b0035753368.json",
        "disabled": false,
        "namespace": "mitforlob",
        "originalId": "5ffee3d9a0731b0035753368",
        "publishedAt": 1652077121440,
        "publishedBy": "marie@visikon.com",
        "version": 7
       },
       {
        "__v": 0,
        "_id": {
         "$oid": "5fd7df29d224ebc13a20e97e"
        },
        "_type": "PublishedContent",
        "approved": "true",
        "blobName": "published/mitforlob/20201214215449446_6148773575_5b979565aab66500386d670a.json",
        "disabled": false,
        "namespace": "mitforlob",
        "originalId": "5b979565aab66500386d670a",
        "publishedAt": 1607982889662,
        "publishedBy": "jeppe@visikon.com",
        "version": 0
       },
       {
        "__v": 0,
        "_id": {
         "$oid": "5fd7df30d224ebc13a20e984"
        },
        "_type": "PublishedContent",
        "approved": true,
        "blobName": "published/mitforlob/20201214215456804_1623520626_5b97a673aab66500386d6716.json",
        "disabled": false,
        "namespace": "mitforlob",
        "originalId": "5b97a673aab66500386d6716",
        "publishedAt": 1607982896947,
        "publishedBy": "jeppe@visikon.com",
        "version": 0
       },
       {
        "__v": 0,
        "_id": {
         "$oid": "5fd7df3bd224ebc13a20e98a"
        },
        "_type": "PublishedContent",
        "approved": true,
        "blobName": "published/mitforlob/20201214215507016_7193257439_5beec973c13fc80038fd981d.json",
        "disabled": false,
        "namespace": "mitforlob",
        "originalId": "5beec973c13fc80038fd981d",
        "publishedAt": 1607982907174,
        "publishedBy": "jeppe@visikon.com",
        "version": 0
       },
       {
        "__v": 0,
        "_id": {
         "$oid": "5fd7df3cd224ebc13a20e98b"
        },
        "_type": "PublishedContent",
        "approved": true,
        "blobName": "published/mitforlob/20201214215508518_9462449472_5bfdbc19e6fdb90039e36d4d.json",
        "disabled": false,
        "namespace": "mitforlob",
        "originalId": "5bfdbc19e6fdb90039e36d4d",
        "publishedAt": 1607982908696,
        "publishedBy": "jeppe@visikon.com",
        "version": 0
       },
       {
        "__v": 0,
        "_id": {
         "$oid": "5fd7df6ad224ebc13a20e99b"
        },
        "_type": "PublishedContent",
        "approved": true,
        "blobName": "published/mitforlob/20201214215553988_1002801964_5d9761a5039ff5002fc1a069.json",
        "disabled": false,
        "namespace": "mitforlob",
        "originalId": "5d9761a5039ff5002fc1a069",
        "publishedAt": 1607982954123,
        "publishedBy": "jeppe@visikon.com",
        "version": 0
       },
       {
        "__v": 0,
        "_id": {
         "$oid": "5fd7df70d224ebc13a20e99f"
        },
        "_type": "PublishedContent",
        "approved": true,
        "blobName": "published/mitforlob/20201214215600135_5821512694_5dc14a919d06770048107971.json",
        "disabled": false,
        "namespace": "mitforlob",
        "originalId": "5dc14a919d06770048107971",
        "publishedAt": 1607982960254,
        "publishedBy": "jeppe@visikon.com",
        "version": 0
       },
       {
        "__v": 0,
        "_id": {
         "$oid": "5fd7df7ed224ebc13a20e9a6"
        },
        "_type": "PublishedContent",
        "approved": true,
        "blobName": "published/mitforlob/20201214215614514_8282194649_5e1b8a678cf40c004e7d0b7f.json",
        "disabled": false,
        "namespace": "mitforlob",
        "originalId": "5e1b8a678cf40c004e7d0b7f",
        "publishedAt": 1607982974636,
        "publishedBy": "jeppe@visikon.com",
        "version": 0
       },
       {
        "__v": 0,
        "_id": {
         "$oid": "5fd7dfabd224ebc13a20e9cd"
        },
        "_type": "PublishedContent",
        "blobName": "published/mitforlob/20201214215659754_9421129740_5fb3a6eeff01c80035696efe.json",
        "disabled": false,
        "namespace": "mitforlob",
        "originalId": "5fb3a6eeff01c80035696efe",
        "publishedAt": 1607983019984,
        "publishedBy": "jeppe@visikon.com",
        "version": 0
       },
       {
        "__v": 0,
        "_id": {
         "$oid": "5fe9f7cdd653b50039b14663"
        },
        "_type": "PublishedContent",
        "blobName": "published/mitforlob/20201228152044823_8248421882_5eba686c512949004ce36c01.json",
        "disabled": true,
        "namespace": "mitforlob",
        "originalId": "5eba686c512949004ce36c01",
        "publishedAt": 1609168845098,
        "publishedBy": "anders@visikon.com",
        "version": 7
       },
       {
        "__v": 0,
        "_id": {
         "$oid": "5fe9fc51d653b50039b14667"
        },
        "_type": "PublishedContent",
        "blobName": "published/mitforlob/20201228154001297_2280728872_5eba686c512949004ce36c01.json",
        "disabled": true,
        "namespace": "mitforlob",
        "originalId": "5eba686c512949004ce36c01",
        "publishedAt": 1609170001491,
        "publishedBy": "anders@visikon.com",
        "version": 8
       },
       {
        "__v": 0,
        "_id": {
         "$oid": "5ff2e100f89f3c0039ba0742"
        },
        "_type": "PublishedContent",
        "blobName": "published/mitforlob/20210104093352433_9226728441_5eba686c512949004ce36c01.json",
        "disabled": true,
        "namespace": "mitforlob",
        "originalId": "5eba686c512949004ce36c01",
        "publishedAt": 1609752832536,
        "publishedBy": "anders@visikon.com",
        "version": 9
       },
       {
        "__v": 0,
        "_id": {
         "$oid": "5ff2f801f89f3c0039ba074c"
        },
        "_type": "PublishedContent",
        "blobName": "published/mitforlob/20210104111201763_969892959_5eba686c512949004ce36c01.json",
        "disabled": true,
        "namespace": "mitforlob",
        "originalId": "5eba686c512949004ce36c01",
        "publishedAt": 1609758721849,
        "publishedBy": "sameer@visikon.com",
        "version": 10
       },
       {
        "__v": 0,
        "_id": {
         "$oid": "5ff2f8a3f89f3c0039ba074d"
        },
        "_type": "PublishedContent",
        "blobName": "published/mitforlob/20210104111443917_3415789103_5eba686c512949004ce36c01.json",
        "disabled": true,
        "namespace": "mitforlob",
        "originalId": "5eba686c512949004ce36c01",
        "publishedAt": 1609758883985,
        "publishedBy": "sameer@visikon.com",
        "version": 11
       },
       {
        "__v": 0,
        "_id": {
         "$oid": "5ff2fec4f89f3c0039ba074e"
        },
        "_type": "PublishedContent",
        "blobName": "published/mitforlob/20210104114052103_1378468750_5eba686c512949004ce36c01.json",
        "disabled": true,
        "namespace": "mitforlob",
        "originalId": "5eba686c512949004ce36c01",
        "publishedAt": 1609760452168,
        "publishedBy": "sameer@visikon.com",
        "version": 12
       },
       {
        "__v": 0,
        "_id": {
         "$oid": "5ff2ff4861b02c003931d48a"
        },
        "_type": "PublishedContent",
        "blobName": "published/mitforlob/20210104114304379_7890642408_5eba686c512949004ce36c01.json",
        "disabled": true,
        "namespace": "mitforlob",
        "originalId": "5eba686c512949004ce36c01",
        "publishedAt": 1609760584529,
        "publishedBy": "sameer@visikon.com",
        "version": 13
       },
       {
        "__v": 0,
        "_id": {
         "$oid": "5ff3002961b02c003931d48b"
        },
        "_type": "PublishedContent",
        "blobName": "published/mitforlob/20210104114649506_4334990736_5eba686c512949004ce36c01.json",
        "disabled": true,
        "namespace": "mitforlob",
        "originalId": "5eba686c512949004ce36c01",
        "publishedAt": 1609760809568,
        "publishedBy": "sameer@visikon.com",
        "version": 14
       },
       {
        "__v": 0,
        "_id": {
         "$oid": "5ff3037a61b02c003931d48c"
        },
        "_type": "PublishedContent",
        "blobName": "published/mitforlob/20210104120058419_6744542817_5eba686c512949004ce36c01.json",
        "disabled": true,
        "namespace": "mitforlob",
        "originalId": "5eba686c512949004ce36c01",
        "publishedAt": 1609761658482,
        "publishedBy": "sameer@visikon.com",
        "version": 15
       },
       {
        "__v": 0,
        "_id": {
         "$oid": "5ff303d061b02c003931d48d"
        },
        "_type": "PublishedContent",
        "blobName": "published/mitforlob/20210104120223940_1902004147_5eba686c512949004ce36c01.json",
        "disabled": true,
        "namespace": "mitforlob",
        "originalId": "5eba686c512949004ce36c01",
        "publishedAt": 1609761744016,
        "publishedBy": "sameer@visikon.com",
        "version": 16
       },
       {
        "__v": 0,
        "_id": {
         "$oid": "5ff305b261b02c003931d48e"
        },
        "_type": "PublishedContent",
        "blobName": "published/mitforlob/20210104121026131_2946818785_5eba686c512949004ce36c01.json",
        "disabled": true,
        "namespace": "mitforlob",
        "originalId": "5eba686c512949004ce36c01",
        "publishedAt": 1609762226348,
        "publishedBy": "sameer@visikon.com",
        "version": 17
       },
       {
        "__v": 0,
        "_id": {
         "$oid": "5ff3060761b02c003931d48f"
        },
        "_type": "PublishedContent",
        "blobName": "published/mitforlob/20210104121151436_1521652911_5eba686c512949004ce36c01.json",
        "disabled": true,
        "namespace": "mitforlob",
        "originalId": "5eba686c512949004ce36c01",
        "publishedAt": 1609762311512,
        "publishedBy": "sameer@visikon.com",
        "version": 18
       },
       {
        "__v": 0,
        "_id": {
         "$oid": "5ff3110c61b02c003931d491"
        },
        "_type": "PublishedContent",
        "blobName": "published/mitforlob/20210104125852555_3407974288_5eba686c512949004ce36c01.json",
        "disabled": true,
        "namespace": "mitforlob",
        "originalId": "5eba686c512949004ce36c01",
        "publishedAt": 1609765132632,
        "publishedBy": "sameer@visikon.com",
        "version": 19
       },
       {
        "__v": 0,
        "_id": {
         "$oid": "5ff3117b61b02c003931d492"
        },
        "_type": "PublishedContent",
        "blobName": "published/mitforlob/20210104130043592_1087609004_5eba686c512949004ce36c01.json",
        "disabled": true,
        "namespace": "mitforlob",
        "originalId": "5eba686c512949004ce36c01",
        "publishedAt": 1609765243647,
        "publishedBy": "sameer@visikon.com",
        "version": 20
       },
       {
        "__v": 0,
        "_id": {
         "$oid": "5ff3118e61b02c003931d493"
        },
        "_type": "PublishedContent",
        "blobName": "published/mitforlob/20210104130102899_3219598248_5eba686c512949004ce36c01.json",
        "disabled": true,
        "namespace": "mitforlob",
        "originalId": "5eba686c512949004ce36c01",
        "publishedAt": 1609765262978,
        "publishedBy": "sameer@visikon.com",
        "version": 21
       },
       {
        "__v": 0,
        "_id": {
         "$oid": "5ff3121761b02c003931d494"
        },
        "_type": "PublishedContent",
        "blobName": "published/mitforlob/20210104130319568_1650299914_5eba686c512949004ce36c01.json",
        "disabled": true,
        "namespace": "mitforlob",
        "originalId": "5eba686c512949004ce36c01",
        "publishedAt": 1609765399656,
        "publishedBy": "sameer@visikon.com",
        "version": 22
       },
       {
        "__v": 0,
        "_id": {
         "$oid": "5ff312f761b02c003931d495"
        },
        "_type": "PublishedContent",
        "blobName": "published/mitforlob/20210104130703546_4618699317_5eba686c512949004ce36c01.json",
        "disabled": true,
        "namespace": "mitforlob",
        "originalId": "5eba686c512949004ce36c01",
        "publishedAt": 1609765623606,
        "publishedBy": "sameer@visikon.com",
        "version": 23
       },
       {
        "__v": 0,
        "_id": {
         "$oid": "5ff314ae61b02c003931d496"
        },
        "_type": "PublishedContent",
        "blobName": "published/mitforlob/20210104131422799_785142046_5eba686c512949004ce36c01.json",
        "disabled": true,
        "namespace": "mitforlob",
        "originalId": "5eba686c512949004ce36c01",
        "publishedAt": 1609766062934,
        "publishedBy": "sameer@visikon.com",
        "version": 24
       },
       {
        "__v": 0,
        "_id": {
         "$oid": "5ff3156661b02c003931d497"
        },
        "_type": "PublishedContent",
        "blobName": "published/mitforlob/20210104131726846_5443760419_5eba686c512949004ce36c01.json",
        "disabled": true,
        "namespace": "mitforlob",
        "originalId": "5eba686c512949004ce36c01",
        "publishedAt": 1609766246917,
        "publishedBy": "sameer@visikon.com",
        "version": 25
       },
       {
        "__v": 0,
        "_id": {
         "$oid": "5ff31efe61b02c003931d49b"
        },
        "_type": "PublishedContent",
        "blobName": "published/mitforlob/20210104135822484_4285327662_5eba686c512949004ce36c01.json",
        "disabled": true,
        "namespace": "mitforlob",
        "originalId": "5eba686c512949004ce36c01",
        "publishedAt": 1609768702562,
        "publishedBy": "anders@visikon.com",
        "version": 27
       },
       {
        "__v": 0,
        "_id": {
         "$oid": "5ff31f1461b02c003931d49c"
        },
        "_type": "PublishedContent",
        "blobName": "published/mitforlob/20210104135844248_9704672000_5eba686c512949004ce36c01.json",
        "disabled": true,
        "namespace": "mitforlob",
        "originalId": "5eba686c512949004ce36c01",
        "publishedAt": 1609768724309,
        "publishedBy": "anders@visikon.com",
        "version": 28
       },
       {
        "__v": 0,
        "_id": {
         "$oid": "5ff3204361b02c003931d49d"
        },
        "_type": "PublishedContent",
        "blobName": "published/mitforlob/20210104140347107_4829130415_5eba686c512949004ce36c01.json",
        "disabled": true,
        "namespace": "mitforlob",
        "originalId": "5eba686c512949004ce36c01",
        "publishedAt": 1609769027193,
        "publishedBy": "anders@visikon.com",
        "version": 29
       },
       {
        "__v": 0,
        "_id": {
         "$oid": "5ff3255a61b02c003931d49e"
        },
        "_type": "PublishedContent",
        "approved": false,
        "blobName": "published/mitforlob/20210104142530447_6519900759_5eba686c512949004ce36c01.json",
        "disabled": true,
        "namespace": "mitforlob",
        "originalId": "5eba686c512949004ce36c01",
        "publishedAt": 1609770330542,
        "publishedBy": "sameer@visikon.com",
        "version": 30
       },
       {
        "__v": 0,
        "_id": {
         "$oid": "5ff3256d61b02c003931d49f"
        },
        "_type": "PublishedContent",
        "approved": false,
        "blobName": "published/mitforlob/20210104142549671_5885694846_5eba686c512949004ce36c01.json",
        "disabled": true,
        "namespace": "mitforlob",
        "originalId": "5eba686c512949004ce36c01",
        "publishedAt": 1609770349732,
        "publishedBy": "sameer@visikon.com",
        "version": 31
       },
       {
        "__v": 0,
        "_id": {
         "$oid": "5ff3259c61b02c003931d4a0"
        },
        "_type": "PublishedContent",
        "approved": false,
        "blobName": "published/mitforlob/20210104142636477_4225437142_5eba686c512949004ce36c01.json",
        "disabled": true,
        "namespace": "mitforlob",
        "originalId": "5eba686c512949004ce36c01",
        "publishedAt": 1609770396537,
        "publishedBy": "sameer@visikon.com",
        "version": 32
       },
       {
        "__v": 0,
        "_id": {
         "$oid": "5fff4ed70db7f800393ec572"
        },
        "_type": "PublishedContent",
        "approved": true,
        "blobName": "published/mitforlob/20210113194943282_4011021341_5d035b6e57ca1d003930f197.json",
        "disabled": false,
        "namespace": "mitforlob",
        "originalId": "5d035b6e57ca1d003930f197",
        "publishedAt": 1610567383339,
        "publishedBy": "sameer@visikon.com",
        "version": 2
       },
       {
        "__v": 0,
        "_id": {
         "$oid": "5fff4efb0db7f800393ec588"
        },
        "_type": "PublishedContent",
        "approved": true,
        "blobName": "published/mitforlob/20210113195019868_3054560324_5df77100f79c2d004ea88167.json",
        "disabled": false,
        "namespace": "mitforlob",
        "originalId": "5df77100f79c2d004ea88167",
        "publishedAt": 1610567419926,
        "publishedBy": "sameer@visikon.com",
        "version": 2
       },
       {
        "__v": 0,
        "_id": {
         "$oid": "5fff4f060db7f800393ec596"
        },
        "_type": "PublishedContent",
        "approved": true,
        "blobName": "published/mitforlob/20210113195030751_9512804071_5e7db9df930532004eafe1bf.json",
        "disabled": false,
        "namespace": "mitforlob",
        "originalId": "5e7db9df930532004eafe1bf",
        "publishedAt": 1610567430805,
        "publishedBy": "sameer@visikon.com",
        "version": 2
       },
       {
        "__v": 0,
        "_id": {
         "$oid": "5fff4f070db7f800393ec597"
        },
        "_type": "PublishedContent",
        "approved": true,
        "blobName": "published/mitforlob/20210113195031396_2709614630_5e7dba21930532004eafe1c3.json",
        "disabled": false,
        "namespace": "mitforlob",
        "originalId": "5e7dba21930532004eafe1c3",
        "publishedAt": 1610567431474,
        "publishedBy": "sameer@visikon.com",
        "version": 2
       },
       {
        "__v": 0,
        "_id": {
         "$oid": "5fff4f070db7f800393ec598"
        },
        "_type": "PublishedContent",
        "approved": true,
        "blobName": "published/mitforlob/20210113195031837_6797741735_5e99857279d6e4004fbba244.json",
        "disabled": false,
        "namespace": "mitforlob",
        "originalId": "5e99857279d6e4004fbba244",
        "publishedAt": 1610567431903,
        "publishedBy": "sameer@visikon.com",
        "version": 2
       },
       {
        "__v": 0,
        "_id": {
         "$oid": "5fff4f090db7f800393ec59b"
        },
        "_type": "PublishedContent",
        "approved": true,
        "blobName": "published/mitforlob/20210113195033715_8686518571_5eba686c512949004ce36c01.json",
        "disabled": false,
        "namespace": "mitforlob",
        "originalId": "5eba686c512949004ce36c01",
        "publishedAt": 1610567433766,
        "publishedBy": "sameer@visikon.com",
        "version": 34
       },
       {
        "__v": 0,
        "_id": {
         "$oid": "5fff4f0c0db7f800393ec59f"
        },
        "_type": "PublishedContent",
        "approved": true,
        "blobName": "published/mitforlob/20210113195036641_3965571033_5f3685c37ce2c1004bc8fc49.json",
        "disabled": false,
        "namespace": "mitforlob",
        "originalId": "5f3685c37ce2c1004bc8fc49",
        "publishedAt": 1610567436694,
        "publishedBy": "sameer@visikon.com",
        "version": 2
       },
       {
        "__v": 0,
        "_id": {
         "$oid": "5fff4f0d0db7f800393ec5a2"
        },
        "_type": "PublishedContent",
        "approved": true,
        "blobName": "published/mitforlob/20210113195037615_4040463030_5f3f97667ce2c1004bc8fd8b.json",
        "disabled": false,
        "namespace": "mitforlob",
        "originalId": "5f3f97667ce2c1004bc8fd8b",
        "publishedAt": 1610567437731,
        "publishedBy": "sameer@visikon.com",
        "version": 2
       },
       {
        "__v": 0,
        "_id": {
         "$oid": "5fff4f110db7f800393ec5a9"
        },
        "_type": "PublishedContent",
        "approved": true,
        "blobName": "published/mitforlob/20210113195041518_9158630171_5f9daa99a9665e003a6feacf.json",
        "disabled": false,
        "namespace": "mitforlob",
        "originalId": "5f9daa99a9665e003a6feacf",
        "publishedAt": 1610567441582,
        "publishedBy": "sameer@visikon.com",
        "version": 2
       },
       {
        "__v": 0,
        "_id": {
         "$oid": "5fff4f1f0db7f800393ec5c1"
        },
        "_type": "PublishedContent",
        "approved": true,
        "blobName": "published/mitforlob/20210113195055167_2574888908_5ffee558a0731b003575337f.json",
        "disabled": false,
        "namespace": "mitforlob",
        "originalId": "5ffee558a0731b003575337f",
        "publishedAt": 1610567455219,
        "publishedBy": "sameer@visikon.com",
        "version": 1
       },
       {
        "__v": 0,
        "_id": {
         "$oid": "5fff551f7d1f150035d020bf"
        },
        "_type": "PublishedContent",
        "approved": true,
        "blobName": "published/mitforlob/20210113201630940_5154213386_5bbb37e951c48400388314dc.json",
        "disabled": false,
        "namespace": "mitforlob",
        "originalId": "5bbb37e951c48400388314dc",
        "publishedAt": 1610568991005,
        "publishedBy": "sameer@visikon.com",
        "version": 3
       },
       {
        "__v": 0,
        "_id": {
         "$oid": "5fff55327d1f150035d020cc"
        },
        "_type": "PublishedContent",
        "approved": true,
        "blobName": "published/mitforlob/20210113201650039_8326135256_5d604d4137bf44002f4ee620.json",
        "disabled": false,
        "namespace": "mitforlob",
        "originalId": "5d604d4137bf44002f4ee620",
        "publishedAt": 1610569010090,
        "publishedBy": "sameer@visikon.com",
        "version": 3
       },
       {
        "__v": 0,
        "_id": {
         "$oid": "5fff55647d1f150035d020fc"
        },
        "_type": "PublishedContent",
        "approved": true,
        "blobName": "published/mitforlob/20210113201740618_6619215529_5f915abbef94e70039f4843b.json",
        "disabled": false,
        "namespace": "mitforlob",
        "originalId": "5f915abbef94e70039f4843b",
        "publishedAt": 1610569060695,
        "publishedBy": "sameer@visikon.com",
        "version": 5
       },
       {
        "__v": 0,
        "_id": {
         "$oid": "6005da4e6c511700392b4a59"
        },
        "_type": "PublishedContent",
        "approved": true,
        "blobName": "published/mitforlob/20210118185822885_638590526_5ffee752a0731b0035753390.json",
        "disabled": false,
        "namespace": "mitforlob",
        "originalId": "5ffee752a0731b0035753390",
        "publishedAt": 1610996302950,
        "publishedBy": "mette@visikon.com",
        "version": 5
       },
       {
        "__v": 0,
        "_id": {
         "$oid": "600694a56c511700392b4a67"
        },
        "_type": "PublishedContent",
        "approved": true,
        "blobName": "published/mitforlob/20210119081325308_4111337975_5ffee4eda0731b0035753370.json",
        "disabled": false,
        "namespace": "mitforlob",
        "originalId": "5ffee4eda0731b0035753370",
        "publishedAt": 1611044005368,
        "publishedBy": "mette@visikon.com",
        "version": 4
       },
       {
        "__v": 0,
        "_id": {
         "$oid": "601d73f87470e100390f03fa"
        },
        "_type": "PublishedContent",
        "approved": true,
        "blobName": "published/mitforlob/20210205163608313_8812840001_601d73cc7470e100390f03f8.json",
        "disabled": false,
        "namespace": "mitforlob",
        "originalId": "601d73cc7470e100390f03f8",
        "publishedAt": 1612542968417,
        "publishedBy": "mette@visikon.com",
        "version": 0
       },
       {
        "__v": 0,
        "_id": {
         "$oid": "601d74dd7470e100390f03fe"
        },
        "_type": "PublishedContent",
        "approved": true,
        "blobName": "published/mitforlob/20210205163957799_8364211859_601d729d7470e100390f03ec.json",
        "disabled": false,
        "namespace": "mitforlob",
        "originalId": "601d729d7470e100390f03ec",
        "publishedAt": 1612543197892,
        "publishedBy": "mette@visikon.com",
        "version": 2
       },
       {
        "__v": 0,
        "_id": {
         "$oid": "601d75217470e100390f0401"
        },
        "_type": "PublishedContent",
        "approved": true,
        "blobName": "published/mitforlob/20210205164105240_5192505268_601d74ef7470e100390f03ff.json",
        "disabled": false,
        "namespace": "mitforlob",
        "originalId": "601d74ef7470e100390f03ff",
        "publishedAt": 1612543265334,
        "publishedBy": "mette@visikon.com",
        "version": 0
       },
       {
        "__v": 0,
        "_id": {
         "$oid": "601d74347470e100390f03fd"
        },
        "_type": "PublishedContent",
        "approved": true,
        "blobName": "published/mitforlob/20210205163708473_2795224062_601d74087470e100390f03fb.json",
        "disabled": false,
        "namespace": "mitforlob",
        "originalId": "601d74087470e100390f03fb",
        "publishedAt": 1612543028545,
        "publishedBy": "mette@visikon.com",
        "version": 0
       },
       {
        "__v": 0,
        "_id": {
         "$oid": "601d76727470e100390f040a"
        },
        "_type": "PublishedContent",
        "approved": true,
        "blobName": "published/mitforlob/20210205164642079_5103902386_601d73277470e100390f03f0.json",
        "disabled": false,
        "namespace": "mitforlob",
        "originalId": "601d73277470e100390f03f0",
        "publishedAt": 1612543602170,
        "publishedBy": "mette@visikon.com",
        "version": 1
       },
       {
        "__v": 0,
        "_id": {
         "$oid": "601d76aa7470e100390f040b"
        },
        "_type": "PublishedContent",
        "approved": true,
        "blobName": "published/mitforlob/20210205164738492_5709818253_601d73277470e100390f03f0.json",
        "disabled": false,
        "namespace": "mitforlob",
        "originalId": "601d73277470e100390f03f0",
        "publishedAt": 1612543658549,
        "publishedBy": "mette@visikon.com",
        "version": 2
       },
       {
        "__v": 0,
        "_id": {
         "$oid": "601fc2db7470e100390f05f2"
        },
        "_type": "PublishedContent",
        "approved": true,
        "blobName": "published/mitforlob/20210207103715881_1075455220_5e9988f679d6e4004fbba248.json",
        "disabled": false,
        "namespace": "mitforlob",
        "originalId": "5e9988f679d6e4004fbba248",
        "publishedAt": 1612694235952,
        "publishedBy": "mette@visikon.com",
        "version": 4
       },
       {
        "__v": 0,
        "_id": {
         "$oid": "607f149c91eedd0035bd6e29"
        },
        "_type": "PublishedContent",
        "approved": false,
        "blobName": "published/mitforlob/20210420175124294_9042920452_5ffee752a0731b0035753390.json",
        "disabled": true,
        "namespace": "mitforlob",
        "originalId": "5ffee752a0731b0035753390",
        "publishedAt": 1618941084391,
        "publishedBy": "mette@visikon.com",
        "version": 11
       },
       {
        "__v": 0,
        "_id": {
         "$oid": "607f14d891eedd0035bd6e2a"
        },
        "_type": "PublishedContent",
        "approved": false,
        "blobName": "published/mitforlob/20210420175224317_4469956851_5f915abbef94e70039f4843b.json",
        "disabled": true,
        "namespace": "mitforlob",
        "originalId": "5f915abbef94e70039f4843b",
        "publishedAt": 1618941144387,
        "publishedBy": "mette@visikon.com",
        "version": 8
       },
       {
        "__v": 0,
        "_id": {
         "$oid": "607f157491eedd0035bd6e2c"
        },
        "_type": "PublishedContent",
        "approved": true,
        "blobName": "published/mitforlob/20210420175500269_1054433370_5e1c420b0a54b800507e2328.json",
        "disabled": false,
        "namespace": "mitforlob",
        "originalId": "5e1c420b0a54b800507e2328",
        "publishedAt": 1618941300320,
        "publishedBy": "mette@visikon.com",
        "version": 6
       },
       {
        "__v": 0,
        "_id": {
         "$oid": "607f15a991eedd0035bd6e2d"
        },
        "_type": "PublishedContent",
        "approved": false,
        "blobName": "published/mitforlob/20210420175553386_2468034818_5ffee48aa0731b003575336e.json",
        "disabled": true,
        "namespace": "mitforlob",
        "originalId": "5ffee48aa0731b003575336e",
        "publishedAt": 1618941353443,
        "publishedBy": "mette@visikon.com",
        "version": 6
       },
       {
        "__v": 0,
        "_id": {
         "$oid": "607f168d91eedd0035bd6e2f"
        },
        "_type": "PublishedContent",
        "approved": false,
        "blobName": "published/mitforlob/20210420175940951_4822840781_5ffee5f2a0731b0035753387.json",
        "disabled": true,
        "namespace": "mitforlob",
        "originalId": "5ffee5f2a0731b0035753387",
        "publishedAt": 1618941581019,
        "publishedBy": "mette@visikon.com",
        "version": 17
       },
       {
        "__v": 0,
        "_id": {
         "$oid": "607f172191eedd0035bd6e31"
        },
        "_type": "PublishedContent",
        "approved": false,
        "blobName": "published/mitforlob/20210420180209831_1240578648_5ffee5f2a0731b0035753387.json",
        "disabled": true,
        "namespace": "mitforlob",
        "originalId": "5ffee5f2a0731b0035753387",
        "publishedAt": 1618941729943,
        "publishedBy": "mette@visikon.com",
        "version": 18
       },
       {
        "__v": 0,
        "_id": {
         "$oid": "607feb3f6e2442003936f208"
        },
        "_type": "PublishedContent",
        "approved": false,
        "blobName": "published/mitforlob/20210421090711455_6309063977_5e1b8c908cf40c004e7d0b89.json",
        "disabled": true,
        "namespace": "mitforlob",
        "originalId": "5e1b8c908cf40c004e7d0b89",
        "publishedAt": 1618996031584,
        "publishedBy": "mette@visikon.com",
        "version": 9
       },
       {
        "__v": 0,
        "_id": {
         "$oid": "607feb4a6e2442003936f209"
        },
        "_type": "PublishedContent",
        "approved": true,
        "blobName": "published/mitforlob/20210421090722905_7663589152_5e1c420b0a54b800507e2328.json",
        "disabled": false,
        "namespace": "mitforlob",
        "originalId": "5e1c420b0a54b800507e2328",
        "publishedAt": 1618996042976,
        "publishedBy": "mette@visikon.com",
        "version": 7
       },
       {
        "__v": 0,
        "_id": {
         "$oid": "607feb596e2442003936f20a"
        },
        "_type": "PublishedContent",
        "approved": false,
        "blobName": "published/mitforlob/20210421090737438_2145594907_5f915abbef94e70039f4843b.json",
        "disabled": true,
        "namespace": "mitforlob",
        "originalId": "5f915abbef94e70039f4843b",
        "publishedAt": 1618996057490,
        "publishedBy": "mette@visikon.com",
        "version": 9
       },
       {
        "__v": 0,
        "_id": {
         "$oid": "607feb666e2442003936f20b"
        },
        "_type": "PublishedContent",
        "approved": false,
        "blobName": "published/mitforlob/20210421090750584_627055416_5ffee48aa0731b003575336e.json",
        "disabled": true,
        "namespace": "mitforlob",
        "originalId": "5ffee48aa0731b003575336e",
        "publishedAt": 1618996070635,
        "publishedBy": "mette@visikon.com",
        "version": 7
       },
       {
        "__v": 0,
        "_id": {
         "$oid": "607feb706e2442003936f20c"
        },
        "_type": "PublishedContent",
        "approved": false,
        "blobName": "published/mitforlob/20210421090800763_9151884380_5ffee559a0731b0035753381.json",
        "disabled": true,
        "namespace": "mitforlob",
        "originalId": "5ffee559a0731b0035753381",
        "publishedAt": 1618996080846,
        "publishedBy": "mette@visikon.com",
        "version": 10
       },
       {
        "__v": 0,
        "_id": {
         "$oid": "607feb7c6e2442003936f20d"
        },
        "_type": "PublishedContent",
        "approved": false,
        "blobName": "published/mitforlob/20210421090812618_4233554648_5ffee559a0731b0035753381.json",
        "disabled": true,
        "namespace": "mitforlob",
        "originalId": "5ffee559a0731b0035753381",
        "publishedAt": 1618996092670,
        "publishedBy": "mette@visikon.com",
        "version": 11
       },
       {
        "__v": 0,
        "_id": {
         "$oid": "607feb866e2442003936f20e"
        },
        "_type": "PublishedContent",
        "approved": false,
        "blobName": "published/mitforlob/20210421090822731_8022433024_5ffee5f2a0731b0035753387.json",
        "disabled": true,
        "namespace": "mitforlob",
        "originalId": "5ffee5f2a0731b0035753387",
        "publishedAt": 1618996102808,
        "publishedBy": "mette@visikon.com",
        "version": 19
       },
       {
        "__v": 0,
        "_id": {
         "$oid": "607feb926e2442003936f20f"
        },
        "_type": "PublishedContent",
        "approved": false,
        "blobName": "published/mitforlob/20210421090834444_374574807_5ffee752a0731b0035753390.json",
        "disabled": true,
        "namespace": "mitforlob",
        "originalId": "5ffee752a0731b0035753390",
        "publishedAt": 1618996114506,
        "publishedBy": "mette@visikon.com",
        "version": 12
       },
       {
        "__v": 0,
        "_id": {
         "$oid": "607ff8ae6e2442003936f258"
        },
        "_type": "PublishedContent",
        "approved": false,
        "blobName": "published/mitforlob/20210421100430190_7383498733_5f3f97667ce2c1004bc8fd8b.json",
        "disabled": true,
        "namespace": "mitforlob",
        "originalId": "5f3f97667ce2c1004bc8fd8b",
        "publishedAt": 1618999470262,
        "publishedBy": "mette@visikon.com",
        "version": 12
       },
       {
        "__v": 0,
        "_id": {
         "$oid": "607ff8b86e2442003936f259"
        },
        "_type": "PublishedContent",
        "approved": false,
        "blobName": "published/mitforlob/20210421100440187_3846968791_5f3f96de7ce2c1004bc8fd88.json",
        "disabled": true,
        "namespace": "mitforlob",
        "originalId": "5f3f96de7ce2c1004bc8fd88",
        "publishedAt": 1618999480262,
        "publishedBy": "mette@visikon.com",
        "version": 8
       },
       {
        "__v": 0,
        "_id": {
         "$oid": "607ffa5e6e2442003936f25d"
        },
        "_type": "PublishedContent",
        "approved": false,
        "blobName": "published/mitforlob/20210421101142772_8038330404_5f3f96de7ce2c1004bc8fd88.json",
        "disabled": true,
        "namespace": "mitforlob",
        "originalId": "5f3f96de7ce2c1004bc8fd88",
        "publishedAt": 1618999902906,
        "publishedBy": "mette@visikon.com",
        "version": 9
       },
       {
        "__v": 0,
        "_id": {
         "$oid": "60813ee76e2442003936f3c9"
        },
        "_type": "PublishedContent",
        "approved": false,
        "blobName": "published/mitforlob/20210422091623530_5431156650_5fb3a6eeff01c80035696efe.json",
        "disabled": true,
        "namespace": "mitforlob",
        "originalId": "5fb3a6eeff01c80035696efe",
        "publishedAt": 1619082983695,
        "publishedBy": "mette@visikon.com",
        "version": 6
       },
       {
        "__v": 0,
        "_id": {
         "$oid": "60813ef56e2442003936f3ca"
        },
        "_type": "PublishedContent",
        "approved": false,
        "blobName": "published/mitforlob/20210422091637574_626075490_5fb3d128ff01c80035697021.json",
        "disabled": true,
        "namespace": "mitforlob",
        "originalId": "5fb3d128ff01c80035697021",
        "publishedAt": 1619082997638,
        "publishedBy": "mette@visikon.com",
        "version": 5
       },
       {
        "__v": 0,
        "_id": {
         "$oid": "608292fd6e244200393701a1"
        },
        "_type": "PublishedContent",
        "approved": true,
        "blobName": "published/mitforlob/20210423092725023_8281818808_5b950168c935dc00389b8e06.json",
        "disabled": false,
        "namespace": "mitforlob",
        "originalId": "5b950168c935dc00389b8e06",
        "publishedAt": 1619170045210,
        "publishedBy": "mette@visikon.com",
        "version": 8
       },
       {
        "__v": 0,
        "_id": {
         "$oid": "608ed445dc6e930035ba5449"
        },
        "_type": "PublishedContent",
        "approved": false,
        "blobName": "published/mitforlob/20210502163309000_5372900981_5d96612b455bcb002f1ca479.json",
        "disabled": true,
        "namespace": "mitforlob",
        "originalId": "5d96612b455bcb002f1ca479",
        "publishedAt": 1619973189076,
        "publishedBy": "mette@visikon.com",
        "version": 10
       },
       {
        "__v": 0,
        "_id": {
         "$oid": "609e2cb44cfec50039bbe3b3"
        },
        "_type": "PublishedContent",
        "approved": true,
        "blobName": "published/mitforlob/20210514075427929_4029003323_609e2af24cfec50039bbe3af.json",
        "disabled": false,
        "namespace": "mitforlob",
        "originalId": "609e2af24cfec50039bbe3af",
        "publishedAt": 1620978868022,
        "publishedBy": "mette@visikon.com",
        "version": 0
       },
       {
        "__v": 0,
        "_id": {
         "$oid": "609e37ef4cfec50039bbe3b4"
        },
        "_type": "PublishedContent",
        "approved": false,
        "blobName": "published/mitforlob/20210514084222971_7567525347_6099310b37745000357bb691.json",
        "disabled": true,
        "namespace": "mitforlob",
        "originalId": "6099310b37745000357bb691",
        "publishedAt": 1620981743025,
        "publishedBy": "mette@visikon.com",
        "version": 1
       },
       {
        "__v": 0,
        "_id": {
         "$oid": "609e39e74cfec50039bbe3b5"
        },
        "_type": "PublishedContent",
        "approved": true,
        "blobName": "published/mitforlob/20210514085047636_5840714608_609e2af24cfec50039bbe3af.json",
        "disabled": false,
        "namespace": "mitforlob",
        "originalId": "609e2af24cfec50039bbe3af",
        "publishedAt": 1620982247691,
        "publishedBy": "mette@visikon.com",
        "version": 1
       },
       {
        "__v": 0,
        "_id": {
         "$oid": "609e3ac74cfec50039bbe3bb"
        },
        "_type": "PublishedContent",
        "approved": true,
        "blobName": "published/mitforlob/20210514085431030_862094209_609e2af24cfec50039bbe3af.json",
        "disabled": false,
        "namespace": "mitforlob",
        "originalId": "609e2af24cfec50039bbe3af",
        "publishedAt": 1620982471126,
        "publishedBy": "mette@visikon.com",
        "version": 2
       },
       {
        "__v": 0,
        "_id": {
         "$oid": "609e3b134cfec50039bbe3bc"
        },
        "_type": "PublishedContent",
        "approved": true,
        "blobName": "published/mitforlob/20210514085547732_3234672291_609e2af24cfec50039bbe3af.json",
        "disabled": false,
        "namespace": "mitforlob",
        "originalId": "609e2af24cfec50039bbe3af",
        "publishedAt": 1620982547820,
        "publishedBy": "mette@visikon.com",
        "version": 3
       },
       {
        "__v": 0,
        "_id": {
         "$oid": "609e40bd4cfec50039bbe423"
        },
        "_type": "PublishedContent",
        "approved": false,
        "blobName": "published/mitforlob/20210514091957127_8609369948_609930f237745000357bb68f.json",
        "disabled": true,
        "namespace": "mitforlob",
        "originalId": "609930f237745000357bb68f",
        "publishedAt": 1620983997185,
        "publishedBy": "elisabeth@visikon.com",
        "version": 1
       },
       {
        "__v": 0,
        "_id": {
         "$oid": "609e680c4cfec50039bbe46e"
        },
        "_type": "PublishedContent",
        "approved": false,
        "blobName": "published/mitforlob/20210514120740707_2422836155_609e64f54cfec50039bbe452.json",
        "disabled": false,
        "namespace": "mitforlob",
        "originalId": "609e64f54cfec50039bbe452",
        "publishedAt": 1620994060803,
        "publishedBy": "elisabeth@visikon.com",
        "version": 1
       },
       {
        "__v": 0,
        "_id": {
         "$oid": "60bdeb405ad75700394c0029"
        },
        "_type": "PublishedContent",
        "approved": true,
        "blobName": "published/mitforlob/20210607094744866_7108726265_603fc3340ad4490036444b5f.json",
        "disabled": false,
        "namespace": "mitforlob",
        "originalId": "603fc3340ad4490036444b5f",
        "publishedAt": 1623059264947,
        "publishedBy": "mette@visikon.com",
        "version": 11
       },
       {
        "__v": 0,
        "_id": {
         "$oid": "60c32969195db90039b54172"
        },
        "_type": "PublishedContent",
        "approved": false,
        "blobName": "published/mitforlob/20210611091417596_9232152176_60992efe37745000357bb684.json",
        "disabled": true,
        "namespace": "mitforlob",
        "originalId": "60992efe37745000357bb684",
        "publishedAt": 1623402857723,
        "publishedBy": "elisabeth@visikon.com",
        "version": 4
       },
       {
        "__v": 0,
        "_id": {
         "$oid": "60c337d5195db90039b54176"
        },
        "_type": "PublishedContent",
        "approved": true,
        "blobName": "published/mitforlob/20210611101549445_5029190838_5b9117559bfc750039a3369f.json",
        "disabled": true,
        "namespace": "mitforlob",
        "originalId": "5b9117559bfc750039a3369f",
        "publishedAt": 1623406549537,
        "publishedBy": "elisabeth@visikon.com",
        "version": 11
       },
       {
        "__v": 0,
        "_id": {
         "$oid": "60c34935195db90039b5417d"
        },
        "_type": "PublishedContent",
        "approved": false,
        "blobName": "published/mitforlob/20210611112956961_6189875042_5d66a492d12db00030d7ffe1.json",
        "disabled": false,
        "namespace": "mitforlob",
        "originalId": "5d66a492d12db00030d7ffe1",
        "publishedAt": 1623410997137,
        "publishedBy": "elisabeth@visikon.com",
        "version": 6
       },
       {
        "__v": 0,
        "_id": {
         "$oid": "60c34995195db90039b5417e"
        },
        "_type": "PublishedContent",
        "approved": false,
        "blobName": "published/mitforlob/20210611113133481_5162077594_5dd6baca28b35700507477a3.json",
        "disabled": true,
        "namespace": "mitforlob",
        "originalId": "5dd6baca28b35700507477a3",
        "publishedAt": 1623411093684,
        "publishedBy": "elisabeth@visikon.com",
        "version": 6
       },
       {
        "__v": 0,
        "_id": {
         "$oid": "60c34d07195db90039b54185"
        },
        "_type": "PublishedContent",
        "approved": false,
        "blobName": "published/mitforlob/20210611114615210_1942779287_5de8e137464d3f004e208a8d.json",
        "disabled": true,
        "namespace": "mitforlob",
        "originalId": "5de8e137464d3f004e208a8d",
        "publishedAt": 1623411975291,
        "publishedBy": "elisabeth@visikon.com",
        "version": 6
       },
       {
        "__v": 0,
        "_id": {
         "$oid": "60c34d20195db90039b54186"
        },
        "_type": "PublishedContent",
        "approved": false,
        "blobName": "published/mitforlob/20210611114640211_4575471744_5e1b8a678cf40c004e7d0b7f.json",
        "disabled": true,
        "namespace": "mitforlob",
        "originalId": "5e1b8a678cf40c004e7d0b7f",
        "publishedAt": 1623412000261,
        "publishedBy": "elisabeth@visikon.com",
        "version": 6
       },
       {
        "__v": 0,
        "_id": {
         "$oid": "60c34d31195db90039b54187"
        },
        "_type": "PublishedContent",
        "approved": false,
        "blobName": "published/mitforlob/20210611114657081_6686264693_5e1b8c908cf40c004e7d0b89.json",
        "disabled": true,
        "namespace": "mitforlob",
        "originalId": "5e1b8c908cf40c004e7d0b89",
        "publishedAt": 1623412017135,
        "publishedBy": "elisabeth@visikon.com",
        "version": 12
       },
       {
        "__v": 0,
        "_id": {
         "$oid": "60c34d42195db90039b54188"
        },
        "_type": "PublishedContent",
        "approved": false,
        "blobName": "published/mitforlob/20210611114714875_5371542577_5e1b8cbb8cf40c004e7d0b8b.json",
        "disabled": true,
        "namespace": "mitforlob",
        "originalId": "5e1b8cbb8cf40c004e7d0b8b",
        "publishedAt": 1623412034924,
        "publishedBy": "elisabeth@visikon.com",
        "version": 6
       },
       {
        "__v": 0,
        "_id": {
         "$oid": "60c34d52195db90039b54189"
        },
        "_type": "PublishedContent",
        "approved": false,
        "blobName": "published/mitforlob/20210611114730231_7581392652_601d74ef7470e100390f03ff.json",
        "disabled": false,
        "namespace": "mitforlob",
        "originalId": "601d74ef7470e100390f03ff",
        "publishedAt": 1623412050280,
        "publishedBy": "elisabeth@visikon.com",
        "version": 4
       },
       {
        "__v": 0,
        "_id": {
         "$oid": "60c34e64195db90039b5418a"
        },
        "_type": "PublishedContent",
        "approved": false,
        "blobName": "published/mitforlob/20210611115204234_8262752349_5de8cd2a464d3f004e208a6e.json",
        "disabled": true,
        "namespace": "mitforlob",
        "originalId": "5de8cd2a464d3f004e208a6e",
        "publishedAt": 1623412324307,
        "publishedBy": "elisabeth@visikon.com",
        "version": 4
       },
       {
        "__v": 0,
        "_id": {
         "$oid": "60c34e85195db90039b5418c"
        },
        "_type": "PublishedContent",
        "approved": false,
        "blobName": "published/mitforlob/20210611115236982_2049504160_5e1c420b0a54b800507e2328.json",
        "disabled": true,
        "namespace": "mitforlob",
        "originalId": "5e1c420b0a54b800507e2328",
        "publishedAt": 1623412357035,
        "publishedBy": "elisabeth@visikon.com",
        "version": 9
       },
       {
        "__v": 0,
        "_id": {
         "$oid": "60c34e98195db90039b5418d"
        },
        "_type": "PublishedContent",
        "approved": true,
        "blobName": "published/mitforlob/20210611115256828_3692189039_5e1c42280a54b800507e232a.json",
        "disabled": false,
        "namespace": "mitforlob",
        "originalId": "5e1c42280a54b800507e232a",
        "publishedAt": 1623412376876,
        "publishedBy": "elisabeth@visikon.com",
        "version": 4
       },
       {
        "__v": 0,
        "_id": {
         "$oid": "60c34eab195db90039b5418e"
        },
        "_type": "PublishedContent",
        "approved": false,
        "blobName": "published/mitforlob/20210611115315494_7763290280_5e37fc26e543e1004e82b332.json",
        "disabled": false,
        "namespace": "mitforlob",
        "originalId": "5e37fc26e543e1004e82b332",
        "publishedAt": 1623412395548,
        "publishedBy": "elisabeth@visikon.com",
        "version": 4
       },
       {
        "__v": 0,
        "_id": {
         "$oid": "60c34ee4195db90039b5418f"
        },
        "_type": "PublishedContent",
        "approved": false,
        "blobName": "published/mitforlob/20210611115412292_8906549071_5e6ba9505758f90051189fe1.json",
        "disabled": false,
        "namespace": "mitforlob",
        "originalId": "5e6ba9505758f90051189fe1",
        "publishedAt": 1623412452348,
        "publishedBy": "elisabeth@visikon.com",
        "version": 11
       },
       {
        "__v": 0,
        "_id": {
         "$oid": "60c37828195db90039b54196"
        },
        "_type": "PublishedContent",
        "approved": true,
        "blobName": "published/mitforlob/20210611145016341_5003732270_5d600cbdcfa5e0002f36ec3b.json",
        "disabled": false,
        "namespace": "mitforlob",
        "originalId": "5d600cbdcfa5e0002f36ec3b",
        "publishedAt": 1623423016434,
        "publishedBy": "mette@visikon.com",
        "version": 4
       },
       {
        "__v": 0,
        "_id": {
         "$oid": "60c37837195db90039b54197"
        },
        "_type": "PublishedContent",
        "approved": true,
        "blobName": "published/mitforlob/20210611145031919_5274920936_5d600e0b515dca002f0789ae.json",
        "disabled": false,
        "namespace": "mitforlob",
        "originalId": "5d600e0b515dca002f0789ae",
        "publishedAt": 1623423031977,
        "publishedBy": "mette@visikon.com",
        "version": 9
       },
       {
        "__v": 0,
        "_id": {
         "$oid": "60c3786f195db90039b54198"
        },
        "_type": "PublishedContent",
        "approved": true,
        "blobName": "published/mitforlob/20210611145127381_7985690175_5d00e2fd20b2d4003aeee977.json",
        "disabled": false,
        "namespace": "mitforlob",
        "originalId": "5d00e2fd20b2d4003aeee977",
        "publishedAt": 1623423087433,
        "publishedBy": "mette@visikon.com",
        "version": 8
       },
       {
        "__v": 0,
        "_id": {
         "$oid": "60c37882195db90039b54199"
        },
        "_type": "PublishedContent",
        "approved": true,
        "blobName": "published/mitforlob/20210611145146015_1084203024_5d035b6e57ca1d003930f197.json",
        "disabled": false,
        "namespace": "mitforlob",
        "originalId": "5d035b6e57ca1d003930f197",
        "publishedAt": 1623423106062,
        "publishedBy": "mette@visikon.com",
        "version": 7
       },
       {
        "__v": 0,
        "_id": {
         "$oid": "60c378a6195db90039b5419a"
        },
        "_type": "PublishedContent",
        "approved": false,
        "blobName": "published/mitforlob/20210611145222253_9448012562_5d604d4137bf44002f4ee620.json",
        "disabled": true,
        "namespace": "mitforlob",
        "originalId": "5d604d4137bf44002f4ee620",
        "publishedAt": 1623423142331,
        "publishedBy": "mette@visikon.com",
        "version": 5
       },
       {
        "__v": 0,
        "_id": {
         "$oid": "60c378ba195db90039b5419b"
        },
        "_type": "PublishedContent",
        "approved": false,
        "blobName": "published/mitforlob/20210611145241922_3937453429_5d604d5337bf44002f4ee622.json",
        "disabled": true,
        "namespace": "mitforlob",
        "originalId": "5d604d5337bf44002f4ee622",
        "publishedAt": 1623423162015,
        "publishedBy": "mette@visikon.com",
        "version": 5
       },
       {
        "__v": 0,
        "_id": {
         "$oid": "60c379f9195db90039b5419c"
        },
        "_type": "PublishedContent",
        "approved": false,
        "blobName": "published/mitforlob/20210611145801730_6777270623_5f3685c37ce2c1004bc8fc49.json",
        "disabled": false,
        "namespace": "mitforlob",
        "originalId": "5f3685c37ce2c1004bc8fc49",
        "publishedAt": 1623423481810,
        "publishedBy": "mette@visikon.com",
        "version": 4
       },
       {
        "__v": 0,
        "_id": {
         "$oid": "60c37a07195db90039b5419d"
        },
        "_type": "PublishedContent",
        "approved": false,
        "blobName": "published/mitforlob/20210611145815591_4431331542_5f3686867ce2c1004bc8fc4b.json",
        "disabled": false,
        "namespace": "mitforlob",
        "originalId": "5f3686867ce2c1004bc8fc4b",
        "publishedAt": 1623423495652,
        "publishedBy": "mette@visikon.com",
        "version": 5
       },
       {
        "__v": 0,
        "_id": {
         "$oid": "60c37a24195db90039b5419f"
        },
        "_type": "PublishedContent",
        "approved": false,
        "blobName": "published/mitforlob/20210611145844635_7363971649_5fb3d128ff01c80035697021.json",
        "disabled": true,
        "namespace": "mitforlob",
        "originalId": "5fb3d128ff01c80035697021",
        "publishedAt": 1623423524726,
        "publishedBy": "mette@visikon.com",
        "version": 12
       },
       {
        "__v": 0,
        "_id": {
         "$oid": "60c39210195db90039b541a9"
        },
        "_type": "PublishedContent",
        "approved": false,
        "blobName": "published/mitforlob/20210611164048462_6036606482_5fb3d128ff01c80035697021.json",
        "disabled": true,
        "namespace": "mitforlob",
        "originalId": "5fb3d128ff01c80035697021",
        "publishedAt": 1623429648593,
        "publishedBy": "mette@visikon.com",
        "version": 13
       },
       {
        "__v": 0,
        "_id": {
         "$oid": "60c3a7c5323c210039faa198"
        },
        "_type": "PublishedContent",
        "approved": false,
        "blobName": "published/mitforlob/20210611181325136_7525186950_5fb3d128ff01c80035697021.json",
        "disabled": true,
        "namespace": "mitforlob",
        "originalId": "5fb3d128ff01c80035697021",
        "publishedAt": 1623435205227,
        "publishedBy": "mette@visikon.com",
        "version": 14
       },
       {
        "__v": 0,
        "_id": {
         "$oid": "60d42953ff09800039b003f5"
        },
        "_type": "PublishedContent",
        "approved": false,
        "blobName": "published/mitforlob/20210624064227340_9369293775_60911b648561e50039bc0b87.json",
        "disabled": true,
        "namespace": "mitforlob",
        "originalId": "60911b648561e50039bc0b87",
        "publishedAt": 1624516947402,
        "publishedBy": "mette@visikon.com",
        "version": 11
       },
       {
        "__v": 0,
        "_id": {
         "$oid": "60d475ecff09800039b0054f"
        },
        "_type": "PublishedContent",
        "approved": false,
        "blobName": "published/mitforlob/20210624120916882_9904476227_60992efe37745000357bb684.json",
        "disabled": true,
        "namespace": "mitforlob",
        "originalId": "60992efe37745000357bb684",
        "publishedAt": 1624536556979,
        "publishedBy": "elisabeth@visikon.com",
        "version": 6
       },
       {
        "__v": 0,
        "_id": {
         "$oid": "60d47605ff09800039b00550"
        },
        "_type": "PublishedContent",
        "approved": false,
        "blobName": "published/mitforlob/20210624120941011_1339906090_6099310b37745000357bb691.json",
        "disabled": true,
        "namespace": "mitforlob",
        "originalId": "6099310b37745000357bb691",
        "publishedAt": 1624536581076,
        "publishedBy": "elisabeth@visikon.com",
        "version": 7
       },
       {
        "__v": 0,
        "_id": {
         "$oid": "60d4762cff09800039b00551"
        },
        "_type": "PublishedContent",
        "approved": false,
        "blobName": "published/mitforlob/20210624121019890_7507838583_609930f237745000357bb68f.json",
        "disabled": true,
        "namespace": "mitforlob",
        "originalId": "609930f237745000357bb68f",
        "publishedAt": 1624536620151,
        "publishedBy": "elisabeth@visikon.com",
        "version": 4
       },
       {
        "__v": 0,
        "_id": {
         "$oid": "60d47974ff09800039b00567"
        },
        "_type": "PublishedContent",
        "approved": false,
        "blobName": "published/mitforlob/20210624122420627_5847234357_609930f237745000357bb68f.json",
        "disabled": true,
        "namespace": "mitforlob",
        "originalId": "609930f237745000357bb68f",
        "publishedAt": 1624537460709,
        "publishedBy": "elisabeth@visikon.com",
        "version": 5
       },
       {
        "__v": 0,
        "_id": {
         "$oid": "60d4798eff09800039b00568"
        },
        "_type": "PublishedContent",
        "approved": false,
        "blobName": "published/mitforlob/20210624122446479_2048000949_6099310b37745000357bb691.json",
        "disabled": true,
        "namespace": "mitforlob",
        "originalId": "6099310b37745000357bb691",
        "publishedAt": 1624537486541,
        "publishedBy": "elisabeth@visikon.com",
        "version": 8
       },
       {
        "__v": 0,
        "_id": {
         "$oid": "60e6aef688f48c0039a51800"
        },
        "_type": "PublishedContent",
        "approved": false,
        "blobName": "published/mitforlob/20210708075326565_5842950500_5b950168c935dc00389b8e06.json",
        "disabled": true,
        "namespace": "mitforlob",
        "originalId": "5b950168c935dc00389b8e06",
        "publishedAt": 1625730806742,
        "publishedBy": "mette@visikon.com",
        "version": 13
       },
       {
        "__v": 0,
        "_id": {
         "$oid": "6107bde4812cb500392d5010"
        },
        "_type": "PublishedContent",
        "approved": true,
        "blobName": "published/mitforlob/20210802094155997_7953596990_5b950168c935dc00389b8e06.json",
        "disabled": true,
        "namespace": "mitforlob",
        "originalId": "5b950168c935dc00389b8e06",
        "publishedAt": 1627897316092,
        "publishedBy": "mette@visikon.com",
        "version": 18
       },
       {
        "__v": 0,
        "_id": {
         "$oid": "6107d3b6812cb500392d5023"
        },
        "_type": "PublishedContent",
        "approved": false,
        "blobName": "published/mitforlob/20210802111502842_5562846243_5d96612b455bcb002f1ca479.json",
        "disabled": true,
        "namespace": "mitforlob",
        "originalId": "5d96612b455bcb002f1ca479",
        "publishedAt": 1627902902993,
        "publishedBy": "elisabeth@visikon.com",
        "version": 12
       },
       {
        "__v": 0,
        "_id": {
         "$oid": "6107e764812cb500392d502b"
        },
        "_type": "PublishedContent",
        "approved": false,
        "blobName": "published/mitforlob/20210802123900382_8484014736_5d96612b455bcb002f1ca479.json",
        "disabled": true,
        "namespace": "mitforlob",
        "originalId": "5d96612b455bcb002f1ca479",
        "publishedAt": 1627907940471,
        "publishedBy": "elisabeth@visikon.com",
        "version": 13
       },
       {
        "__v": 0,
        "_id": {
         "$oid": "6107f619812cb500392d5032"
        },
        "_type": "PublishedContent",
        "approved": false,
        "blobName": "published/mitforlob/20210802134145894_8885134590_5ffee558a0731b003575337d.json",
        "disabled": true,
        "namespace": "mitforlob",
        "originalId": "5ffee558a0731b003575337d",
        "publishedAt": 1627911705997,
        "publishedBy": "elisabeth@visikon.com",
        "version": 7
       },
       {
        "__v": 0,
        "_id": {
         "$oid": "6109129d812cb500392d509f"
        },
        "_type": "PublishedContent",
        "approved": false,
        "blobName": "published/mitforlob/20210803095541851_1323423683_60d8898f7c502700399f4b0d.json",
        "disabled": true,
        "namespace": "mitforlob",
        "originalId": "60d8898f7c502700399f4b0d",
        "publishedAt": 1627984541967,
        "publishedBy": "elisabeth@visikon.com",
        "version": 3
       },
       {
        "__v": 0,
        "_id": {
         "$oid": "61091307812cb500392d50a3"
        },
        "_type": "PublishedContent",
        "approved": true,
        "blobName": "published/mitforlob/20210803095727678_2080879100_60d8898f7c502700399f4b0d.json",
        "disabled": false,
        "namespace": "mitforlob",
        "originalId": "60d8898f7c502700399f4b0d",
        "publishedAt": 1627984647754,
        "publishedBy": "elisabeth@visikon.com",
        "version": 4
       },
       {
        "__v": 0,
        "_id": {
         "$oid": "610913a5812cb500392d50a6"
        },
        "_type": "PublishedContent",
        "approved": true,
        "blobName": "published/mitforlob/20210803100005400_6231891745_60d8899c7c502700399f4b0f.json",
        "disabled": true,
        "namespace": "mitforlob",
        "originalId": "60d8899c7c502700399f4b0f",
        "publishedAt": 1627984805509,
        "publishedBy": "elisabeth@visikon.com",
        "version": 2
       },
       {
        "__v": 0,
        "_id": {
         "$oid": "61091474812cb500392d50a9"
        },
        "_type": "PublishedContent",
        "approved": true,
        "blobName": "published/mitforlob/20210803100332712_1148775205_60d88a617c502700399f4b15.json",
        "disabled": false,
        "namespace": "mitforlob",
        "originalId": "60d88a617c502700399f4b15",
        "publishedAt": 1627985012768,
        "publishedBy": "elisabeth@visikon.com",
        "version": 2
       },
       {
        "__v": 0,
        "_id": {
         "$oid": "6116617bc35f1700351b7e86"
        },
        "_type": "PublishedContent",
        "approved": false,
        "blobName": "published/mitforlob/20210813121139878_6991193627_6011ce171d0fc20039373747.json",
        "disabled": true,
        "namespace": "mitforlob",
        "originalId": "6011ce171d0fc20039373747",
        "publishedAt": 1628856699982,
        "publishedBy": "mette@visikon.com",
        "version": 7
       },
       {
        "__v": 0,
        "_id": {
         "$oid": "61166278c35f1700351b7e8a"
        },
        "_type": "PublishedContent",
        "approved": false,
        "blobName": "published/mitforlob/20210813121552124_4677256753_60c1ff44195db90039b54133.json",
        "disabled": true,
        "namespace": "mitforlob",
        "originalId": "60c1ff44195db90039b54133",
        "publishedAt": 1628856952206,
        "publishedBy": "mette@visikon.com",
        "version": 3
       },
       {
        "__v": 0,
        "_id": {
         "$oid": "611a48afc35f1700351b81b2"
        },
        "_type": "PublishedContent",
        "approved": true,
        "blobName": "published/mitforlob/20210816111455806_8969250920_60d8899c7c502700399f4b0f.json",
        "disabled": false,
        "namespace": "mitforlob",
        "originalId": "60d8899c7c502700399f4b0f",
        "publishedAt": 1629112495855,
        "publishedBy": "mette@visikon.com",
        "version": 3
       },
       {
        "__v": 0,
        "_id": {
         "$oid": "611a489dc35f1700351b81b1"
        },
        "_type": "PublishedContent",
        "approved": true,
        "blobName": "published/mitforlob/20210816111437374_2536494573_60d8898f7c502700399f4b0d.json",
        "disabled": false,
        "namespace": "mitforlob",
        "originalId": "60d8898f7c502700399f4b0d",
        "publishedAt": 1629112477485,
        "publishedBy": "mette@visikon.com",
        "version": 5
       },
       {
        "__v": 0,
        "_id": {
         "$oid": "611a48bec35f1700351b81b3"
        },
        "_type": "PublishedContent",
        "approved": true,
        "blobName": "published/mitforlob/20210816111510021_7494875604_60d88a407c502700399f4b13.json",
        "disabled": false,
        "namespace": "mitforlob",
        "originalId": "60d88a407c502700399f4b13",
        "publishedAt": 1629112510072,
        "publishedBy": "mette@visikon.com",
        "version": 2
       },
       {
        "__v": 0,
        "_id": {
         "$oid": "611a4d41c35f1700351b81b7"
        },
        "_type": "PublishedContent",
        "approved": true,
        "blobName": "published/mitforlob/20210816113425683_6469270939_60d88a407c502700399f4b13.json",
        "disabled": false,
        "namespace": "mitforlob",
        "originalId": "60d88a407c502700399f4b13",
        "publishedAt": 1629113665776,
        "publishedBy": "mette@visikon.com",
        "version": 3
       },
       {
        "__v": 0,
        "_id": {
         "$oid": "611ba2b4c35f1700351b8273"
        },
        "_type": "PublishedContent",
        "approved": false,
        "blobName": "published/mitforlob/20210817115116476_1999246196_6011cb2d1d0fc20039373738.json",
        "disabled": true,
        "namespace": "mitforlob",
        "originalId": "6011cb2d1d0fc20039373738",
        "publishedAt": 1629201076582,
        "publishedBy": "mette@visikon.com",
        "version": 13
       },
       {
        "__v": 0,
        "_id": {
         "$oid": "611ba30dc35f1700351b8274"
        },
        "_type": "PublishedContent",
        "approved": false,
        "blobName": "published/mitforlob/20210817115245930_8856546553_6011cb2d1d0fc20039373738.json",
        "disabled": true,
        "namespace": "mitforlob",
        "originalId": "6011cb2d1d0fc20039373738",
        "publishedAt": 1629201165985,
        "publishedBy": "mette@visikon.com",
        "version": 14
       },
       {
        "__v": 0,
        "_id": {
         "$oid": "611ba34ec35f1700351b8275"
        },
        "_type": "PublishedContent",
        "approved": false,
        "blobName": "published/mitforlob/20210817115350566_6549466119_6011cbb91d0fc2003937373a.json",
        "disabled": true,
        "namespace": "mitforlob",
        "originalId": "6011cbb91d0fc2003937373a",
        "publishedAt": 1629201230619,
        "publishedBy": "mette@visikon.com",
        "version": 16
       },
       {
        "__v": 0,
        "_id": {
         "$oid": "611ba36ac35f1700351b8276"
        },
        "_type": "PublishedContent",
        "approved": true,
        "blobName": "published/mitforlob/20210817115418710_4184150499_6011cc2b1d0fc2003937373c.json",
        "disabled": false,
        "namespace": "mitforlob",
        "originalId": "6011cc2b1d0fc2003937373c",
        "publishedAt": 1629201258805,
        "publishedBy": "mette@visikon.com",
        "version": 12
       },
       {
        "__v": 0,
        "_id": {
         "$oid": "611ba38fc35f1700351b8277"
        },
        "_type": "PublishedContent",
        "approved": false,
        "blobName": "published/mitforlob/20210817115455897_6354249345_6011ccd01d0fc2003937373e.json",
        "disabled": true,
        "namespace": "mitforlob",
        "originalId": "6011ccd01d0fc2003937373e",
        "publishedAt": 1629201295971,
        "publishedBy": "mette@visikon.com",
        "version": 16
       },
       {
        "__v": 0,
        "_id": {
         "$oid": "611ba3f4c35f1700351b828b"
        },
        "_type": "PublishedContent",
        "approved": false,
        "blobName": "published/mitforlob/20210817115636050_9369318461_6011ce171d0fc20039373747.json",
        "disabled": true,
        "namespace": "mitforlob",
        "originalId": "6011ce171d0fc20039373747",
        "publishedAt": 1629201396104,
        "publishedBy": "mette@visikon.com",
        "version": 8
       },
       {
        "__v": 0,
        "_id": {
         "$oid": "611ba40bc35f1700351b828c"
        },
        "_type": "PublishedContent",
        "approved": false,
        "blobName": "published/mitforlob/20210817115659476_9216473862_6011cea61d0fc20039373749.json",
        "disabled": true,
        "namespace": "mitforlob",
        "originalId": "6011cea61d0fc20039373749",
        "publishedAt": 1629201419562,
        "publishedBy": "mette@visikon.com",
        "version": 10
       },
       {
        "__v": 0,
        "_id": {
         "$oid": "611ba3aec35f1700351b8278"
        },
        "_type": "PublishedContent",
        "approved": false,
        "blobName": "published/mitforlob/20210817115526470_1612895204_6011cd5f1d0fc20039373741.json",
        "disabled": true,
        "namespace": "mitforlob",
        "originalId": "6011cd5f1d0fc20039373741",
        "publishedAt": 1629201326520,
        "publishedBy": "mette@visikon.com",
        "version": 16
       },
       {
        "__v": 0,
        "_id": {
         "$oid": "611ba3d1c35f1700351b828a"
        },
        "_type": "PublishedContent",
        "approved": false,
        "blobName": "published/mitforlob/20210817115601735_1458459480_6011cdb71d0fc20039373745.json",
        "disabled": true,
        "namespace": "mitforlob",
        "originalId": "6011cdb71d0fc20039373745",
        "publishedAt": 1629201361838,
        "publishedBy": "mette@visikon.com",
        "version": 15
       },
       {
        "__v": 0,
        "_id": {
         "$oid": "611ba438c35f1700351b828d"
        },
        "_type": "PublishedContent",
        "approved": false,
        "blobName": "published/mitforlob/20210817115744006_1703159415_60c1fe6f195db90039b5412f.json",
        "disabled": true,
        "namespace": "mitforlob",
        "originalId": "60c1fe6f195db90039b5412f",
        "publishedAt": 1629201464107,
        "publishedBy": "mette@visikon.com",
        "version": 2
       },
       {
        "__v": 0,
        "_id": {
         "$oid": "611ba461c35f1700351b828e"
        },
        "_type": "PublishedContent",
        "approved": false,
        "blobName": "published/mitforlob/20210817115825215_9800826628_60c1ff08195db90039b54131.json",
        "disabled": true,
        "namespace": "mitforlob",
        "originalId": "60c1ff08195db90039b54131",
        "publishedAt": 1629201505268,
        "publishedBy": "mette@visikon.com",
        "version": 4
       },
       {
        "__v": 0,
        "_id": {
         "$oid": "611ba48cc35f1700351b828f"
        },
        "_type": "PublishedContent",
        "approved": false,
        "blobName": "published/mitforlob/20210817115908161_6597858845_60c1ff44195db90039b54133.json",
        "disabled": true,
        "namespace": "mitforlob",
        "originalId": "60c1ff44195db90039b54133",
        "publishedAt": 1629201548250,
        "publishedBy": "mette@visikon.com",
        "version": 4
       },
       {
        "__v": 0,
        "_id": {
         "$oid": "611ba4a9c35f1700351b8290"
        },
        "_type": "PublishedContent",
        "approved": false,
        "blobName": "published/mitforlob/20210817115937845_3270313087_60c1ff7f195db90039b54135.json",
        "disabled": true,
        "namespace": "mitforlob",
        "originalId": "60c1ff7f195db90039b54135",
        "publishedAt": 1629201577897,
        "publishedBy": "mette@visikon.com",
        "version": 3
       },
       {
        "__v": 0,
        "_id": {
         "$oid": "611bab8fc35f1700351b82b7"
        },
        "_type": "PublishedContent",
        "approved": true,
        "blobName": "published/mitforlob/20210817122903011_4753964703_6011cb2d1d0fc20039373738.json",
        "disabled": false,
        "namespace": "mitforlob",
        "originalId": "6011cb2d1d0fc20039373738",
        "publishedAt": 1629203343070,
        "publishedBy": "mette@visikon.com",
        "version": 15
       },
       {
        "__v": 0,
        "_id": {
         "$oid": "611babebc35f1700351b82be"
        },
        "_type": "PublishedContent",
        "approved": true,
        "blobName": "published/mitforlob/20210817123034965_347570988_6011cd5f1d0fc20039373741.json",
        "disabled": false,
        "namespace": "mitforlob",
        "originalId": "6011cd5f1d0fc20039373741",
        "publishedAt": 1629203435022,
        "publishedBy": "mette@visikon.com",
        "version": 17
       },
       {
        "__v": 0,
        "_id": {
         "$oid": "611babcfc35f1700351b82bd"
        },
        "_type": "PublishedContent",
        "approved": true,
        "blobName": "published/mitforlob/20210817123007370_3032931947_6011ccd01d0fc2003937373e.json",
        "disabled": false,
        "namespace": "mitforlob",
        "originalId": "6011ccd01d0fc2003937373e",
        "publishedAt": 1629203407464,
        "publishedBy": "mette@visikon.com",
        "version": 17
       },
       {
        "__v": 0,
        "_id": {
         "$oid": "6139d2f3dc12a70039bfb505"
        },
        "_type": "PublishedContent",
        "approved": true,
        "blobName": "published/mitforlob/20210909092507815_2477781487_5be97658e6aece0038b3f2a2.json",
        "disabled": false,
        "namespace": "mitforlob",
        "originalId": "5be97658e6aece0038b3f2a2",
        "publishedAt": 1631179507877,
        "publishedBy": "elisabeth@visikon.com",
        "version": 6
       },
       {
        "__v": 0,
        "_id": {
         "$oid": "6139d4acdc12a70039bfb50a"
        },
        "_type": "PublishedContent",
        "approved": true,
        "blobName": "published/mitforlob/20210909093228643_7243925943_5be97658e6aece0038b3f2a2.json",
        "disabled": false,
        "namespace": "mitforlob",
        "originalId": "5be97658e6aece0038b3f2a2",
        "publishedAt": 1631179948736,
        "publishedBy": "elisabeth@visikon.com",
        "version": 7
       },
       {
        "__v": 0,
        "_id": {
         "$oid": "615bdfba03dba70039ab0705"
        },
        "_type": "PublishedContent",
        "approved": false,
        "blobName": "published/mitforlob/20211005051641954_6284624949_61487f752ccfb00039a23dc9.json",
        "disabled": true,
        "namespace": "mitforlob",
        "originalId": "61487f752ccfb00039a23dc9",
        "publishedAt": 1633411002107,
        "publishedBy": "mette@visikon.com",
        "version": 3
       },
       {
        "__v": 0,
        "_id": {
         "$oid": "615bdfcf03dba70039ab0706"
        },
        "_type": "PublishedContent",
        "approved": true,
        "blobName": "published/mitforlob/20211005051702989_4816480663_615bdef903dba70039ab0700.json",
        "disabled": false,
        "namespace": "mitforlob",
        "originalId": "615bdef903dba70039ab0700",
        "publishedAt": 1633411023040,
        "publishedBy": "mette@visikon.com",
        "version": 1
       },
       {
        "__v": 0,
        "_id": {
         "$oid": "615be6ee03dba70039ab0714"
        },
        "_type": "PublishedContent",
        "approved": false,
        "blobName": "published/mitforlob/20211005054726743_730860871_5ee8553dba59f9004c07fd62.json",
        "disabled": true,
        "namespace": "mitforlob",
        "originalId": "5ee8553dba59f9004c07fd62",
        "publishedAt": 1633412846833,
        "publishedBy": "sameer@visikon.com",
        "version": 4
       },
       {
        "__v": 0,
        "_id": {
         "$oid": "615beb8303dba70039ab071e"
        },
        "_type": "PublishedContent",
        "approved": true,
        "blobName": "published/mitforlob/20211005060659568_3468575431_615beaf203dba70039ab071c.json",
        "disabled": false,
        "namespace": "mitforlob",
        "originalId": "615beaf203dba70039ab071c",
        "publishedAt": 1633414019657,
        "publishedBy": "sameer@visikon.com"
       },
       {
        "__v": 0,
        "_id": {
         "$oid": "615bed3903dba70039ab0723"
        },
        "_type": "PublishedContent",
        "approved": false,
        "blobName": "published/mitforlob/20211005061417803_1376437576_6124e8c47a804c00387f5cce.json",
        "disabled": true,
        "namespace": "mitforlob",
        "originalId": "6124e8c47a804c00387f5cce",
        "publishedAt": 1633414457878,
        "publishedBy": "sameer@visikon.com",
        "version": 4
       },
       {
        "__v": 0,
        "_id": {
         "$oid": "615bf24d03dba70039ab0737"
        },
        "_type": "PublishedContent",
        "approved": false,
        "blobName": "published/mitforlob/20211005063557620_7646114071_5f4f58844988ef0034229051.json",
        "disabled": true,
        "namespace": "mitforlob",
        "originalId": "5f4f58844988ef0034229051",
        "publishedAt": 1633415757714,
        "publishedBy": "sameer@visikon.com",
        "version": 9
       },
       {
        "__v": 0,
        "_id": {
         "$oid": "615bf72e03dba70039ab073a"
        },
        "_type": "PublishedContent",
        "approved": true,
        "blobName": "published/mitforlob/20211005065646610_4396406325_615bdef903dba70039ab0700.json",
        "disabled": false,
        "namespace": "mitforlob",
        "originalId": "615bdef903dba70039ab0700",
        "publishedAt": 1633417006686,
        "publishedBy": "sameer@visikon.com",
        "version": 2
       },
       {
        "__v": 0,
        "_id": {
         "$oid": "615bf90303dba70039ab073b"
        },
        "_type": "PublishedContent",
        "approved": true,
        "blobName": "published/mitforlob/20211005070435718_6684770975_615bdef903dba70039ab0700.json",
        "disabled": false,
        "namespace": "mitforlob",
        "originalId": "615bdef903dba70039ab0700",
        "publishedAt": 1633417475806,
        "publishedBy": "mette@visikon.com",
        "version": 3
       },
       {
        "__v": 0,
        "_id": {
         "$oid": "6176e455a10f5e003a19706b"
        },
        "_type": "PublishedContent",
        "approved": true,
        "blobName": "published/mitforlob/20211025170733491_1561850906_61487f752ccfb00039a23dc9.json",
        "disabled": false,
        "namespace": "mitforlob",
        "originalId": "61487f752ccfb00039a23dc9",
        "publishedAt": 1635181653582,
        "publishedBy": "mette@visikon.com",
        "version": 8
       },
       {
        "__v": 0,
        "_id": {
         "$oid": "6177a994a10f5e003a197081"
        },
        "_type": "PublishedContent",
        "approved": true,
        "blobName": "published/mitforlob/20211026070908079_4262668455_6099310b37745000357bb691.json",
        "disabled": false,
        "namespace": "mitforlob",
        "originalId": "6099310b37745000357bb691",
        "publishedAt": 1635232148141,
        "publishedBy": "mette@visikon.com",
        "version": 16
       },
       {
        "__v": 0,
        "_id": {
         "$oid": "6177aad9a10f5e003a197083"
        },
        "_type": "PublishedContent",
        "approved": true,
        "blobName": "published/mitforlob/20211026071433639_7479859800_6099310b37745000357bb691.json",
        "disabled": false,
        "namespace": "mitforlob",
        "originalId": "6099310b37745000357bb691",
        "publishedAt": 1635232473770,
        "publishedBy": "mette@visikon.com",
        "version": 17
       },
       {
        "__v": 0,
        "_id": {
         "$oid": "61794b0487a3ea003939c836"
        },
        "_type": "PublishedContent",
        "approved": true,
        "blobName": "published/mitforlob/20211027125012252_1469607838_60992efe37745000357bb684.json",
        "disabled": false,
        "namespace": "mitforlob",
        "originalId": "60992efe37745000357bb684",
        "publishedAt": 1635339012352,
        "publishedBy": "mette@visikon.com",
        "version": 16
       },
       {
        "__v": 0,
        "_id": {
         "$oid": "61794b0f87a3ea003939c837"
        },
        "_type": "PublishedContent",
        "approved": true,
        "blobName": "published/mitforlob/20211027125023073_6852857475_61487f752ccfb00039a23dc9.json",
        "disabled": false,
        "namespace": "mitforlob",
        "originalId": "61487f752ccfb00039a23dc9",
        "publishedAt": 1635339023139,
        "publishedBy": "mette@visikon.com",
        "version": 9
       },
       {
        "__v": 0,
        "_id": {
         "$oid": "61794b1a87a3ea003939c838"
        },
        "_type": "PublishedContent",
        "approved": true,
        "blobName": "published/mitforlob/20211027125034366_8354491492_609930f237745000357bb68f.json",
        "disabled": false,
        "namespace": "mitforlob",
        "originalId": "609930f237745000357bb68f",
        "publishedAt": 1635339034439,
        "publishedBy": "mette@visikon.com",
        "version": 14
       },
       {
        "__v": 0,
        "_id": {
         "$oid": "61794b2a87a3ea003939c83a"
        },
        "_type": "PublishedContent",
        "approved": true,
        "blobName": "published/mitforlob/20211027125050528_176290278_6099310b37745000357bb691.json",
        "disabled": false,
        "namespace": "mitforlob",
        "originalId": "6099310b37745000357bb691",
        "publishedAt": 1635339050644,
        "publishedBy": "mette@visikon.com",
        "version": 18
       },
       {
        "__v": 0,
        "_id": {
         "$oid": "6179956087a3ea003939c84f"
        },
        "_type": "PublishedContent",
        "approved": true,
        "blobName": "published/mitforlob/20211027180728474_5227588422_616fb022145521003944227d.json",
        "disabled": true,
        "namespace": "mitforlob",
        "originalId": "616fb022145521003944227d",
        "publishedAt": 1635358048710,
        "publishedBy": "anders@visikon.com",
        "version": 1
       },
       {
        "__v": 0,
        "_id": {
         "$oid": "617995b287a3ea003939c850"
        },
        "_type": "PublishedContent",
        "approved": false,
        "blobName": "published/mitforlob/20211027180850356_4022669632_616fb022145521003944227d.json",
        "disabled": true,
        "namespace": "mitforlob",
        "originalId": "616fb022145521003944227d",
        "publishedAt": 1635358130447,
        "publishedBy": "anders@visikon.com",
        "version": 2
       },
       {
        "__v": 0,
        "_id": {
         "$oid": "617995c487a3ea003939c851"
        },
        "_type": "PublishedContent",
        "approved": false,
        "blobName": "published/mitforlob/20211027180908002_1311807086_616fb022145521003944227d.json",
        "disabled": true,
        "namespace": "mitforlob",
        "originalId": "616fb022145521003944227d",
        "publishedAt": 1635358148082,
        "publishedBy": "anders@visikon.com",
        "version": 3
       },
       {
        "__v": 0,
        "_id": {
         "$oid": "6179961187a3ea003939c852"
        },
        "_type": "PublishedContent",
        "approved": true,
        "blobName": "published/mitforlob/20211027181025621_5535791097_616fb022145521003944227d.json",
        "disabled": true,
        "namespace": "mitforlob",
        "originalId": "616fb022145521003944227d",
        "publishedAt": 1635358225715,
        "publishedBy": "anders@visikon.com",
        "version": 4
       },
       {
        "__v": 0,
        "_id": {
         "$oid": "6179964b87a3ea003939c853"
        },
        "_type": "PublishedContent",
        "approved": true,
        "blobName": "published/mitforlob/20211027181123543_1190119718_616fb022145521003944227d.json",
        "disabled": true,
        "namespace": "mitforlob",
        "originalId": "616fb022145521003944227d",
        "publishedAt": 1635358283614,
        "publishedBy": "anders@visikon.com",
        "version": 5
       },
       {
        "__v": 0,
        "_id": {
         "$oid": "617e841d5c05e8003a143af1"
        },
        "_type": "PublishedContent",
        "approved": true,
        "blobName": "published/mitforlob/20211031115509491_3646744204_60e5a74888f48c0039a51552.json",
        "disabled": false,
        "namespace": "mitforlob",
        "originalId": "60e5a74888f48c0039a51552",
        "publishedAt": 1635681309575,
        "publishedBy": "mette@visikon.com",
        "version": 12
       },
       {
        "__v": 0,
        "_id": {
         "$oid": "6183fed46a1977003a9c0ad4"
        },
        "_type": "PublishedContent",
        "approved": true,
        "blobName": "published/mitforlob/20211104154004692_5170003030_61164e71c35f1700351b7e74.json",
        "disabled": false,
        "namespace": "mitforlob",
        "originalId": "61164e71c35f1700351b7e74",
        "publishedAt": 1636040404861,
        "publishedBy": "mette@visikon.com",
        "version": 5
       },
       {
        "__v": 0,
        "_id": {
         "$oid": "6183fedf6a1977003a9c0ad5"
        },
        "_type": "PublishedContent",
        "approved": true,
        "blobName": "published/mitforlob/20211104154015219_7714134843_60911b648561e50039bc0b87.json",
        "disabled": false,
        "namespace": "mitforlob",
        "originalId": "60911b648561e50039bc0b87",
        "publishedAt": 1636040415324,
        "publishedBy": "mette@visikon.com",
        "version": 19
       },
       {
        "__v": 0,
        "_id": {
         "$oid": "6184115a6a1977003a9c0adc"
        },
        "_type": "PublishedContent",
        "approved": true,
        "blobName": "published/mitforlob/20211104165905941_1734647360_61164e71c35f1700351b7e74.json",
        "disabled": false,
        "namespace": "mitforlob",
        "originalId": "61164e71c35f1700351b7e74",
        "publishedAt": 1636045146026,
        "publishedBy": "mette@visikon.com",
        "version": 6
       },
       {
        "__v": 0,
        "_id": {
         "$oid": "618411636a1977003a9c0add"
        },
        "_type": "PublishedContent",
        "approved": true,
        "blobName": "published/mitforlob/20211104165915767_7998351453_60911b648561e50039bc0b87.json",
        "disabled": false,
        "namespace": "mitforlob",
        "originalId": "60911b648561e50039bc0b87",
        "publishedAt": 1636045155865,
        "publishedBy": "mette@visikon.com",
        "version": 20
       },
       {
        "__v": 0,
        "_id": {
         "$oid": "618413846a1977003a9c0ade"
        },
        "_type": "PublishedContent",
        "approved": true,
        "blobName": "published/mitforlob/20211104170820841_4863757536_60911b648561e50039bc0b87.json",
        "disabled": false,
        "namespace": "mitforlob",
        "originalId": "60911b648561e50039bc0b87",
        "publishedAt": 1636045700917,
        "publishedBy": "mette@visikon.com",
        "version": 21
       },
       {
        "__v": 0,
        "_id": {
         "$oid": "618d1fd36a1977003a9c1805"
        },
        "_type": "PublishedContent",
        "approved": true,
        "blobName": "published/mitforlob/20211111135115216_355221242_60e5b57f88f48c0039a515c1.json",
        "disabled": false,
        "namespace": "mitforlob",
        "originalId": "60e5b57f88f48c0039a515c1",
        "publishedAt": 1636638675269,
        "publishedBy": "mette@visikon.com",
        "version": 8
       },
       {
        "__v": 0,
        "_id": {
         "$oid": "61b080c044bffc00364fa3e8"
        },
        "_type": "PublishedContent",
        "approved": false,
        "blobName": "published/mitforlob/20211208095408513_6245194217_61164e71c35f1700351b7e74.json",
        "disabled": true,
        "namespace": "mitforlob",
        "originalId": "61164e71c35f1700351b7e74",
        "publishedAt": 1638957248664,
        "publishedBy": "elisabeth@visikon.com",
        "version": 16
       },
       {
        "__v": 0,
        "_id": {
         "$oid": "61b080de44bffc00364fa3e9"
        },
        "_type": "PublishedContent",
        "approved": false,
        "blobName": "published/mitforlob/20211208095438288_7469483754_60911b648561e50039bc0b87.json",
        "disabled": true,
        "namespace": "mitforlob",
        "originalId": "60911b648561e50039bc0b87",
        "publishedAt": 1638957278372,
        "publishedBy": "elisabeth@visikon.com",
        "version": 27
       },
       {
        "__v": 0,
        "_id": {
         "$oid": "61b1f4f644bffc00364fa5ac"
        },
        "_type": "PublishedContent",
        "approved": true,
        "blobName": "published/mitforlob/20211209122214588_4389471538_61ae12a39c75ff003a2a0585.json",
        "disabled": false,
        "namespace": "mitforlob",
        "originalId": "61ae12a39c75ff003a2a0585",
        "publishedAt": 1639052534641,
        "publishedBy": "mette@visikon.com",
        "version": 6
       },
       {
        "__v": 0,
        "_id": {
         "$oid": "61cde00285fd04003a250a1b"
        },
        "_type": "PublishedContent",
        "approved": false,
        "blobName": "published/mitforlob/20211230163617904_2472833439_5d14b6102a6a7a0039bc4529.json",
        "disabled": false,
        "namespace": "mitforlob",
        "originalId": "5d14b6102a6a7a0039bc4529",
        "publishedAt": 1640882178186,
        "publishedBy": "anders@visikon.com",
        "version": 1
       },
       {
        "__v": 0,
        "_id": {
         "$oid": "61d85366b1f6ba0036c12982"
        },
        "_type": "PublishedContent",
        "approved": true,
        "blobName": "published/mitforlob/20220107145118803_3442351547_61a483179c75ff003a2a00ce.json",
        "disabled": false,
        "namespace": "mitforlob",
        "originalId": "61a483179c75ff003a2a00ce",
        "publishedAt": 1641567078871,
        "publishedBy": "mette@visikon.com",
        "version": 2
       },
       {
        "__v": 0,
        "_id": {
         "$oid": "61dcadb4b1f6ba0036c12a1f"
        },
        "_type": "PublishedContent",
        "approved": true,
        "blobName": "published/mitforlob/20220110220540701_6197164024_61c1aaf8aa25b7003a9cbbd7.json",
        "disabled": false,
        "namespace": "mitforlob",
        "originalId": "61c1aaf8aa25b7003a9cbbd7",
        "publishedAt": 1641852340766,
        "publishedBy": "stine@visikon.com",
        "version": 2
       },
       {
        "__v": 0,
        "_id": {
         "$oid": "61e154c2b1fd53003a31f561"
        },
        "_type": "PublishedContent",
        "approved": false,
        "blobName": "published/mitforlob/20220114104730125_3493296497_61487f752ccfb00039a23dc9.json",
        "disabled": true,
        "namespace": "mitforlob",
        "originalId": "61487f752ccfb00039a23dc9",
        "publishedAt": 1642157250220,
        "publishedBy": "mette@visikon.com",
        "version": 19
       },
       {
        "__v": 0,
        "_id": {
         "$oid": "61fd2b66b1fd53003a321cda"
        },
        "_type": "PublishedContent",
        "approved": true,
        "blobName": "published/mitforlob/20220204133430121_4463273742_60911d208561e50039bc0b8b.json",
        "disabled": false,
        "namespace": "mitforlob",
        "originalId": "60911d208561e50039bc0b8b",
        "publishedAt": 1643981670245,
        "publishedBy": "sameer",
        "version": 5
       },
       {
        "__v": 0,
        "_id": {
         "$oid": "620372358f79da003a3e429a"
        },
        "_type": "PublishedContent",
        "approved": false,
        "blobName": "published/mitforlob/20220209075013239_3236140605_60e5ac1488f48c0039a5155a.json",
        "disabled": true,
        "namespace": "mitforlob",
        "originalId": "60e5ac1488f48c0039a5155a",
        "publishedAt": 1644393013329,
        "publishedBy": "marie@visikon.com",
        "version": 14
       },
       {
        "__v": 0,
        "_id": {
         "$oid": "62041e5eb57e94003622a7a6"
        },
        "_type": "PublishedContent",
        "approved": false,
        "blobName": "published/mitforlob/20220209200446091_8684057248_5f68bc293b96600035747e09.json",
        "disabled": true,
        "namespace": "mitforlob",
        "originalId": "5f68bc293b96600035747e09",
        "publishedAt": 1644437086161,
        "publishedBy": "mette@visikon.com",
        "version": 4
       },
       {
        "__v": 0,
        "_id": {
         "$oid": "62041e74b57e94003622a7a7"
        },
        "_type": "PublishedContent",
        "approved": true,
        "blobName": "published/mitforlob/20220209200508829_279761079_5f68bc293b96600035747e09.json",
        "disabled": false,
        "namespace": "mitforlob",
        "originalId": "5f68bc293b96600035747e09",
        "publishedAt": 1644437108934,
        "publishedBy": "mette@visikon.com",
        "version": 5
       },
       {
        "__v": 0,
        "_id": {
         "$oid": "620ce1fbb57e94003622acc0"
        },
        "_type": "PublishedContent",
        "approved": true,
        "blobName": "published/mitforlob/20220216113731613_7374377859_61487f752ccfb00039a23dc9.json",
        "disabled": false,
        "namespace": "mitforlob",
        "originalId": "61487f752ccfb00039a23dc9",
        "publishedAt": 1645011451694,
        "publishedBy": "alexandra@visikon.com",
        "version": 25
       },
       {
        "__v": 0,
        "_id": {
         "$oid": "62134e8eb57e94003622c89b"
        },
        "_type": "PublishedContent",
        "approved": false,
        "blobName": "published/mitforlob/20220221083422097_3481256266_60e5ac1488f48c0039a5155a.json",
        "disabled": true,
        "namespace": "mitforlob",
        "originalId": "60e5ac1488f48c0039a5155a",
        "publishedAt": 1645432462164,
        "publishedBy": "alexandra@visikon.com",
        "version": 15
       },
       {
        "__v": 0,
        "_id": {
         "$oid": "62138e1eb57e94003622c917"
        },
        "_type": "PublishedContent",
        "approved": false,
        "blobName": "published/mitforlob/20220221130533918_6725472693_5b93f0ec498fad0038e6b0e1.json",
        "disabled": true,
        "namespace": "mitforlob",
        "originalId": "5b93f0ec498fad0038e6b0e1",
        "publishedAt": 1645448734074,
        "publishedBy": "marie@visikon.com",
        "version": 16
       },
       {
        "__v": 0,
        "_id": {
         "$oid": "621f4242a3a81e003581883a"
        },
        "_type": "PublishedContent",
        "approved": false,
        "blobName": "published/mitforlob/20220302100906817_2162592643_61ae13319c75ff003a2a0589.json",
        "disabled": true,
        "namespace": "mitforlob",
        "originalId": "61ae13319c75ff003a2a0589",
        "publishedAt": 1646215746974,
        "publishedBy": "marie@visikon.com",
        "version": 20
       },
       {
        "__v": 0,
        "_id": {
         "$oid": "621f8591a3a81e00358189e1"
        },
        "_type": "PublishedContent",
        "approved": false,
        "blobName": "published/mitforlob/20220302145617179_3917547472_5b9117559bfc750039a3369f.json",
        "disabled": true,
        "namespace": "mitforlob",
        "originalId": "5b9117559bfc750039a3369f",
        "publishedAt": 1646232977325,
        "publishedBy": "marie@visikon.com",
        "version": 15
       },
       {
        "__v": 0,
        "_id": {
         "$oid": "62207187a3a81e0035818aae"
        },
        "_type": "PublishedContent",
        "approved": true,
        "blobName": "published/mitforlob/20220303074303092_7461303406_5b9117559bfc750039a3369f.json",
        "disabled": false,
        "namespace": "mitforlob",
        "originalId": "5b9117559bfc750039a3369f",
        "publishedAt": 1646293383230,
        "publishedBy": "marie@visikon.com",
        "version": 16
       },
       {
        "__v": 0,
        "_id": {
         "$oid": "6220c78da3a81e0035818b7d"
        },
        "_type": "PublishedContent",
        "approved": true,
        "blobName": "published/mitforlob/20220303135005909_4162335704_62021cff8f79da003a3e4162.json",
        "disabled": true,
        "namespace": "mitforlob",
        "originalId": "62021cff8f79da003a3e4162",
        "publishedAt": 1646315405975,
        "publishedBy": "alexandra@visikon.com",
        "version": 3
       },
       {
        "__v": 0,
        "_id": {
         "$oid": "6220d27aa3a81e0035818b82"
        },
        "_type": "PublishedContent",
        "approved": false,
        "blobName": "published/mitforlob/20220303143642269_4823408413_60c1ff44195db90039b54133.json",
        "disabled": true,
        "namespace": "mitforlob",
        "originalId": "60c1ff44195db90039b54133",
        "publishedAt": 1646318202446,
        "publishedBy": "marie@visikon.com",
        "version": 14
       },
       {
        "__v": 0,
        "_id": {
         "$oid": "6220d332a3a81e0035818b83"
        },
        "_type": "PublishedContent",
        "approved": true,
        "blobName": "published/mitforlob/20220303143946767_2143785204_60c1ff08195db90039b54131.json",
        "disabled": false,
        "namespace": "mitforlob",
        "originalId": "60c1ff08195db90039b54131",
        "publishedAt": 1646318386875,
        "publishedBy": "marie@visikon.com",
        "version": 15
       },
       {
        "__v": 0,
        "_id": {
         "$oid": "6221154ba3a81e0035818ba0"
        },
        "_type": "PublishedContent",
        "approved": true,
        "blobName": "published/mitforlob/20220303192147608_8474306530_62021c698f79da003a3e415e.json",
        "disabled": true,
        "namespace": "mitforlob",
        "originalId": "62021c698f79da003a3e415e",
        "publishedAt": 1646335307718,
        "publishedBy": "alexandra@visikon.com",
        "version": 3
       },
       {
        "__v": 0,
        "_id": {
         "$oid": "622115d1a3a81e0035818ba1"
        },
        "_type": "PublishedContent",
        "approved": true,
        "blobName": "published/mitforlob/20220303192401084_4768578016_62021cbc8f79da003a3e4160.json",
        "disabled": true,
        "namespace": "mitforlob",
        "originalId": "62021cbc8f79da003a3e4160",
        "publishedAt": 1646335441156,
        "publishedBy": "alexandra@visikon.com",
        "version": 3
       },
       {
        "__v": 0,
        "_id": {
         "$oid": "62211686a3a81e0035818ba3"
        },
        "_type": "PublishedContent",
        "approved": true,
        "blobName": "published/mitforlob/20220303192701977_850258857_62021cbc8f79da003a3e4160.json",
        "disabled": true,
        "namespace": "mitforlob",
        "originalId": "62021cbc8f79da003a3e4160",
        "publishedAt": 1646335622068,
        "publishedBy": "alexandra@visikon.com",
        "version": 4
       },
       {
        "__v": 0,
        "_id": {
         "$oid": "622118f0a3a81e0035818baa"
        },
        "_type": "PublishedContent",
        "approved": true,
        "blobName": "published/mitforlob/20220303193720408_7451090860_62021cbc8f79da003a3e4160.json",
        "disabled": true,
        "namespace": "mitforlob",
        "originalId": "62021cbc8f79da003a3e4160",
        "publishedAt": 1646336240469,
        "publishedBy": "alexandra@visikon.com",
        "version": 5
       },
       {
        "__v": 0,
        "_id": {
         "$oid": "62211995a3a81e0035818bab"
        },
        "_type": "PublishedContent",
        "approved": true,
        "blobName": "published/mitforlob/20220303194005040_2718571000_62021c698f79da003a3e415e.json",
        "disabled": true,
        "namespace": "mitforlob",
        "originalId": "62021c698f79da003a3e415e",
        "publishedAt": 1646336405159,
        "publishedBy": "alexandra@visikon.com",
        "version": 4
       },
       {
        "__v": 0,
        "_id": {
         "$oid": "62211a06a3a81e0035818bac"
        },
        "_type": "PublishedContent",
        "approved": true,
        "blobName": "published/mitforlob/20220303194158749_8310742591_62021c698f79da003a3e415e.json",
        "disabled": true,
        "namespace": "mitforlob",
        "originalId": "62021c698f79da003a3e415e",
        "publishedAt": 1646336518801,
        "publishedBy": "alexandra@visikon.com",
        "version": 5
       },
       {
        "__v": 0,
        "_id": {
         "$oid": "62211a8fa3a81e0035818bad"
        },
        "_type": "PublishedContent",
        "approved": true,
        "blobName": "published/mitforlob/20220303194414992_8387651513_62021c118f79da003a3e415c.json",
        "disabled": true,
        "namespace": "mitforlob",
        "originalId": "62021c118f79da003a3e415c",
        "publishedAt": 1646336655077,
        "publishedBy": "alexandra@visikon.com",
        "version": 2
       },
       {
        "__v": 0,
        "_id": {
         "$oid": "62211b7ba3a81e0035818bb0"
        },
        "_type": "PublishedContent",
        "approved": true,
        "blobName": "published/mitforlob/20220303194811209_439117357_62021a368f79da003a3e415a.json",
        "disabled": true,
        "namespace": "mitforlob",
        "originalId": "62021a368f79da003a3e415a",
        "publishedAt": 1646336891302,
        "publishedBy": "alexandra@visikon.com",
        "version": 4
       },
       {
        "__v": 0,
        "_id": {
         "$oid": "62211c0da3a81e0035818bb1"
        },
        "_type": "PublishedContent",
        "approved": true,
        "blobName": "published/mitforlob/20220303195037552_863722204_616fb022145521003944227d.json",
        "disabled": true,
        "namespace": "mitforlob",
        "originalId": "616fb022145521003944227d",
        "publishedAt": 1646337037613,
        "publishedBy": "alexandra@visikon.com",
        "version": 9
       },
       {
        "__v": 0,
        "_id": {
         "$oid": "622eec8390acb20035653c15"
        },
        "_type": "PublishedContent",
        "approved": true,
        "blobName": "published/mitforlob/20220314071931618_5187327833_60c1ff44195db90039b54133.json",
        "disabled": false,
        "namespace": "mitforlob",
        "originalId": "60c1ff44195db90039b54133",
        "publishedAt": 1647242371731,
        "publishedBy": "marie@visikon.com",
        "version": 15
       },
       {
        "__v": 0,
        "_id": {
         "$oid": "622eeeaa90acb20035653c18"
        },
        "_type": "PublishedContent",
        "approved": true,
        "blobName": "published/mitforlob/20220314072842682_9773517693_61164e71c35f1700351b7e74.json",
        "disabled": false,
        "namespace": "mitforlob",
        "originalId": "61164e71c35f1700351b7e74",
        "publishedAt": 1647242922752,
        "publishedBy": "alexandra@visikon.com",
        "version": 36
       },
       {
        "__v": 0,
        "_id": {
         "$oid": "622eeed690acb20035653c19"
        },
        "_type": "PublishedContent",
        "approved": true,
        "blobName": "published/mitforlob/20220314072926363_131937366_60911b648561e50039bc0b87.json",
        "disabled": false,
        "namespace": "mitforlob",
        "originalId": "60911b648561e50039bc0b87",
        "publishedAt": 1647242966482,
        "publishedBy": "alexandra@visikon.com",
        "version": 33
       },
       {
        "__v": 0,
        "_id": {
         "$oid": "622f324c90acb20035653d31"
        },
        "_type": "PublishedContent",
        "approved": true,
        "blobName": "published/mitforlob/20220314121715902_9682023576_6011cea61d0fc20039373749.json",
        "disabled": false,
        "namespace": "mitforlob",
        "originalId": "6011cea61d0fc20039373749",
        "publishedAt": 1647260236062,
        "publishedBy": "alexandra@visikon.com",
        "version": 19
       },
       {
        "__v": 0,
        "_id": {
         "$oid": "622f32b390acb20035653d32"
        },
        "_type": "PublishedContent",
        "approved": true,
        "blobName": "published/mitforlob/20220314121859271_8735417176_6011ce171d0fc20039373747.json",
        "disabled": false,
        "namespace": "mitforlob",
        "originalId": "6011ce171d0fc20039373747",
        "publishedAt": 1647260339364,
        "publishedBy": "alexandra@visikon.com",
        "version": 17
       },
       {
        "__v": 0,
        "_id": {
         "$oid": "622f32ef90acb20035653d33"
        },
        "_type": "PublishedContent",
        "approved": true,
        "blobName": "published/mitforlob/20220314121959323_2014789269_6011cd5f1d0fc20039373741.json",
        "disabled": false,
        "namespace": "mitforlob",
        "originalId": "6011cd5f1d0fc20039373741",
        "publishedAt": 1647260399439,
        "publishedBy": "alexandra@visikon.com",
        "version": 25
       },
       {
        "__v": 0,
        "_id": {
         "$oid": "622f332990acb20035653d34"
        },
        "_type": "PublishedContent",
        "approved": true,
        "blobName": "published/mitforlob/20220314122056963_569441597_6011ccd01d0fc2003937373e.json",
        "disabled": false,
        "namespace": "mitforlob",
        "originalId": "6011ccd01d0fc2003937373e",
        "publishedAt": 1647260457036,
        "publishedBy": "alexandra@visikon.com",
        "version": 25
       },
       {
        "__v": 0,
        "_id": {
         "$oid": "622f335a90acb20035653d35"
        },
        "_type": "PublishedContent",
        "approved": true,
        "blobName": "published/mitforlob/20220314122146182_6696928268_6011cc2b1d0fc2003937373c.json",
        "disabled": false,
        "namespace": "mitforlob",
        "originalId": "6011cc2b1d0fc2003937373c",
        "publishedAt": 1647260506263,
        "publishedBy": "alexandra@visikon.com",
        "version": 20
       },
       {
        "__v": 0,
        "_id": {
         "$oid": "622f339490acb20035653d36"
        },
        "_type": "PublishedContent",
        "approved": true,
        "blobName": "published/mitforlob/20220314122244004_6556809831_6011cbb91d0fc2003937373a.json",
        "disabled": false,
        "namespace": "mitforlob",
        "originalId": "6011cbb91d0fc2003937373a",
        "publishedAt": 1647260564098,
        "publishedBy": "alexandra@visikon.com",
        "version": 26
       },
       {
        "__v": 0,
        "_id": {
         "$oid": "622f33d090acb20035653d37"
        },
        "_type": "PublishedContent",
        "approved": true,
        "blobName": "published/mitforlob/20220314122344041_4584609591_6011cb2d1d0fc20039373738.json",
        "disabled": false,
        "namespace": "mitforlob",
        "originalId": "6011cb2d1d0fc20039373738",
        "publishedAt": 1647260624147,
        "publishedBy": "alexandra@visikon.com",
        "version": 25
       },
       {
        "__v": 0,
        "_id": {
         "$oid": "622f342590acb20035653d38"
        },
        "_type": "PublishedContent",
        "approved": true,
        "blobName": "published/mitforlob/20220314122509897_9637039532_603fc34d0ad4490036444b61.json",
        "disabled": false,
        "namespace": "mitforlob",
        "originalId": "603fc34d0ad4490036444b61",
        "publishedAt": 1647260709991,
        "publishedBy": "alexandra@visikon.com",
        "version": 18
       },
       {
        "__v": 0,
        "_id": {
         "$oid": "622f343a90acb20035653d39"
        },
        "_type": "PublishedContent",
        "approved": true,
        "blobName": "published/mitforlob/20220314122530461_5184131793_603fc3340ad4490036444b5f.json",
        "disabled": false,
        "namespace": "mitforlob",
        "originalId": "603fc3340ad4490036444b5f",
        "publishedAt": 1647260730535,
        "publishedBy": "alexandra@visikon.com",
        "version": 21
       },
       {
        "__v": 0,
        "_id": {
         "$oid": "622f344e90acb20035653d3a"
        },
        "_type": "PublishedContent",
        "approved": true,
        "blobName": "published/mitforlob/20220314122550161_5059249167_5f3f97667ce2c1004bc8fd8b.json",
        "disabled": false,
        "namespace": "mitforlob",
        "originalId": "5f3f97667ce2c1004bc8fd8b",
        "publishedAt": 1647260750231,
        "publishedBy": "alexandra@visikon.com",
        "version": 25
       },
       {
        "__v": 0,
        "_id": {
         "$oid": "622f347590acb20035653d3b"
        },
        "_type": "PublishedContent",
        "approved": true,
        "blobName": "published/mitforlob/20220314122629601_8517741519_5f3f96de7ce2c1004bc8fd88.json",
        "disabled": false,
        "namespace": "mitforlob",
        "originalId": "5f3f96de7ce2c1004bc8fd88",
        "publishedAt": 1647260789659,
        "publishedBy": "alexandra@visikon.com",
        "version": 21
       },
       {
        "__v": 0,
        "_id": {
         "$oid": "62389979949b0500395a9bc5"
        },
        "_type": "PublishedContent",
        "approved": true,
        "blobName": "published/mitforlob/20220321152753777_5363887448_613868f8303e7d61effd1ae9.json",
        "disabled": false,
        "namespace": "mitforlob",
        "originalId": "613868f8303e7d61effd1ae9",
        "publishedAt": 1647876473888,
        "publishedBy": "mette@visikon.com",
        "version": 4
       },
       {
        "__v": 0,
        "_id": {
         "$oid": "623ae623949b0500395aa075"
        },
        "_type": "PublishedContent",
        "approved": true,
        "blobName": "published/mitforlob/20220323091931476_2962801504_61ae12a39c75ff003a2a0585.json",
        "disabled": false,
        "namespace": "mitforlob",
        "originalId": "61ae12a39c75ff003a2a0585",
        "publishedAt": 1648027171582,
        "publishedBy": "marie@visikon.com",
        "version": 14
       },
       {
        "__v": 0,
        "_id": {
         "$oid": "623ae645949b0500395aa076"
        },
        "_type": "PublishedContent",
        "approved": true,
        "blobName": "published/mitforlob/20220323092005401_5004850815_615bdef903dba70039ab0700.json",
        "disabled": false,
        "namespace": "mitforlob",
        "originalId": "615bdef903dba70039ab0700",
        "publishedAt": 1648027205470,
        "publishedBy": "marie@visikon.com",
        "version": 15
       },
       {
        "__v": 0,
        "_id": {
         "$oid": "625595d43ed8ac00390fe5cd"
        },
        "_type": "PublishedContent",
        "approved": true,
        "blobName": "published/mitforlob/20220412150804709_3935260999_5dd6baca28b35700507477a3.json",
        "disabled": false,
        "namespace": "mitforlob",
        "originalId": "5dd6baca28b35700507477a3",
        "publishedAt": 1649776084883,
        "publishedBy": "mette@visikon.com",
        "version": 11
       },
       {
        "__v": 0,
        "_id": {
         "$oid": "625e3fbc3ed8ac00390fe86f"
        },
        "_type": "PublishedContent",
        "approved": true,
        "blobName": "published/mitforlob/20220419045108892_2363165982_5e7dba21930532004eafe1c3.json",
        "disabled": false,
        "namespace": "mitforlob",
        "originalId": "5e7dba21930532004eafe1c3",
        "publishedAt": 1650343868998,
        "publishedBy": "mette@visikon.com",
        "version": 11
       },
       {
        "__v": 0,
        "_id": {
         "$oid": "625ec7123ed8ac00390fea31"
        },
        "_type": "PublishedContent",
        "approved": true,
        "blobName": "published/mitforlob/20220419142834570_9435490727_6242d9b0a4ea7a0039a68406.json",
        "disabled": false,
        "namespace": "mitforlob",
        "originalId": "6242d9b0a4ea7a0039a68406",
        "publishedAt": 1650378514665,
        "publishedBy": "mette@visikon.com",
        "version": 2
       },
       {
        "__v": 0,
        "_id": {
         "$oid": "625ec7553ed8ac00390fea32"
        },
        "_type": "PublishedContent",
        "approved": true,
        "blobName": "published/mitforlob/20220419142941596_9802347755_6242d9b0a4ea7a0039a68406.json",
        "disabled": false,
        "namespace": "mitforlob",
        "originalId": "6242d9b0a4ea7a0039a68406",
        "publishedAt": 1650378581706,
        "publishedBy": "mette@visikon.com",
        "version": 3
       },
       {
        "__v": 0,
        "_id": {
         "$oid": "625ec8953ed8ac00390fea37"
        },
        "_type": "PublishedContent",
        "approved": true,
        "blobName": "published/mitforlob/20220419143501607_214716467_6242d9b0a4ea7a0039a68406.json",
        "disabled": false,
        "namespace": "mitforlob",
        "originalId": "6242d9b0a4ea7a0039a68406",
        "publishedAt": 1650378901659,
        "publishedBy": "mette@visikon.com",
        "version": 4
       },
       {
        "__v": 0,
        "_id": {
         "$oid": "626021bc3ed8ac00390fed24"
        },
        "_type": "PublishedContent",
        "approved": false,
        "blobName": "published/mitforlob/20220420150740754_6232514328_62021cff8f79da003a3e4162.json",
        "disabled": true,
        "namespace": "mitforlob",
        "originalId": "62021cff8f79da003a3e4162",
        "publishedAt": 1650467260880,
        "publishedBy": "marie@visikon.com",
        "version": 4
       },
       {
        "__v": 0,
        "_id": {
         "$oid": "626021e53ed8ac00390fed25"
        },
        "_type": "PublishedContent",
        "approved": false,
        "blobName": "published/mitforlob/20220420150821285_6521342114_62021cbc8f79da003a3e4160.json",
        "disabled": true,
        "namespace": "mitforlob",
        "originalId": "62021cbc8f79da003a3e4160",
        "publishedAt": 1650467301352,
        "publishedBy": "marie@visikon.com",
        "version": 6
       },
       {
        "__v": 0,
        "_id": {
         "$oid": "626022003ed8ac00390fed26"
        },
        "_type": "PublishedContent",
        "approved": false,
        "blobName": "published/mitforlob/20220420150848579_389505837_62021c698f79da003a3e415e.json",
        "disabled": true,
        "namespace": "mitforlob",
        "originalId": "62021c698f79da003a3e415e",
        "publishedAt": 1650467328634,
        "publishedBy": "marie@visikon.com",
        "version": 6
       },
       {
        "__v": 0,
        "_id": {
         "$oid": "6260221b3ed8ac00390fed27"
        },
        "_type": "PublishedContent",
        "approved": false,
        "blobName": "published/mitforlob/20220420150915091_7649818368_62021c118f79da003a3e415c.json",
        "disabled": true,
        "namespace": "mitforlob",
        "originalId": "62021c118f79da003a3e415c",
        "publishedAt": 1650467355151,
        "publishedBy": "marie@visikon.com",
        "version": 3
       },
       {
        "__v": 0,
        "_id": {
         "$oid": "6260224f3ed8ac00390fed28"
        },
        "_type": "PublishedContent",
        "approved": false,
        "blobName": "published/mitforlob/20220420151007271_6390106097_62021a368f79da003a3e415a.json",
        "disabled": true,
        "namespace": "mitforlob",
        "originalId": "62021a368f79da003a3e415a",
        "publishedAt": 1650467407379,
        "publishedBy": "marie@visikon.com",
        "version": 5
       },
       {
        "__v": 0,
        "_id": {
         "$oid": "62605b753ed8ac00390fed41"
        },
        "_type": "PublishedContent",
        "approved": false,
        "blobName": "published/mitforlob/20220420191357226_6339304916_616fb022145521003944227d.json",
        "disabled": true,
        "namespace": "mitforlob",
        "originalId": "616fb022145521003944227d",
        "publishedAt": 1650482037333,
        "publishedBy": "alexandra@visikon.com",
        "version": 11
       },
       {
        "__v": 0,
        "_id": {
         "$oid": "62722505f8495700357e96b8"
        },
        "_type": "PublishedContent",
        "approved": false,
        "blobName": "published/mitforlob/20220504070229797_2331465460_616fb022145521003944227d.json",
        "disabled": true,
        "namespace": "mitforlob",
        "originalId": "616fb022145521003944227d",
        "publishedAt": 1651647749879,
        "publishedBy": "marie@visikon.com",
        "version": 13
       },
       {
        "__v": 0,
        "_id": {
         "$oid": "6278feb3f8495700357e99e2"
        },
        "_type": "PublishedContent",
        "approved": true,
        "blobName": "published/mitforlob/20220509114451356_3591136547_5d035b6e57ca1d003930f197.json",
        "disabled": false,
        "namespace": "mitforlob",
        "originalId": "5d035b6e57ca1d003930f197",
        "publishedAt": 1652096691444,
        "publishedBy": "alexandra@visikon.com",
        "version": 8
       },
       {
        "__v": 0,
        "_id": {
         "$oid": "627904bdf8495700357e99e4"
        },
        "_type": "PublishedContent",
        "approved": true,
        "blobName": "published/mitforlob/20220509121037748_3296389331_5d00e2fd20b2d4003aeee977.json",
        "disabled": false,
        "namespace": "mitforlob",
        "originalId": "5d00e2fd20b2d4003aeee977",
        "publishedAt": 1652098237896,
        "publishedBy": "alexandra@visikon.com",
        "version": 9
       },
       {
        "__v": 0,
        "_id": {
         "$oid": "5fd7de24d224ebc13a20e976"
        },
        "_type": "PublishedContent",
        "approved": true,
        "blobName": "published/mitforlob/20201214215027461_3785269941_5dd6baca28b35700507477a3.json",
        "disabled": false,
        "namespace": "mitforlob",
        "originalId": "5dd6baca28b35700507477a3",
        "publishedAt": 1607982628053,
        "publishedBy": "jeppe@visikon.com",
        "version": 0
       },
       {
        "__v": 0,
        "_id": {
         "$oid": "5fd7df19d224ebc13a20e977"
        },
        "_type": "PublishedContent",
        "approved": true,
        "blobName": "published/mitforlob/20201214215433158_9567429960_5b9117559bfc750039a3369f.json",
        "disabled": false,
        "namespace": "mitforlob",
        "originalId": "5b9117559bfc750039a3369f",
        "publishedAt": 1607982873345,
        "publishedBy": "jeppe@visikon.com",
        "version": 0
       },
       {
        "__v": 0,
        "_id": {
         "$oid": "5fd7df1ad224ebc13a20e978"
        },
        "_type": "PublishedContent",
        "approved": true,
        "blobName": "published/mitforlob/20201214215434387_9830917031_5b93f0ec498fad0038e6b0e1.json",
        "disabled": false,
        "namespace": "mitforlob",
        "originalId": "5b93f0ec498fad0038e6b0e1",
        "publishedAt": 1607982874550,
        "publishedBy": "jeppe@visikon.com",
        "version": 0
       },
       {
        "__v": 0,
        "_id": {
         "$oid": "5fd7df21d224ebc13a20e979"
        },
        "_type": "PublishedContent",
        "approved": true,
        "blobName": "published/mitforlob/20201214215440765_1164473753_5b950168c935dc00389b8e06.json",
        "disabled": false,
        "namespace": "mitforlob",
        "originalId": "5b950168c935dc00389b8e06",
        "publishedAt": 1607982881092,
        "publishedBy": "jeppe@visikon.com",
        "version": 0
       },
       {
        "__v": 0,
        "_id": {
         "$oid": "5fd7df22d224ebc13a20e97a"
        },
        "_type": "PublishedContent",
        "approved": true,
        "blobName": "published/mitforlob/20201214215442638_2812018955_5b977f6fce298900381d1a4f.json",
        "disabled": false,
        "namespace": "mitforlob",
        "originalId": "5b977f6fce298900381d1a4f",
        "publishedAt": 1607982882807,
        "publishedBy": "jeppe@visikon.com",
        "version": 0
       },
       {
        "__v": 0,
        "_id": {
         "$oid": "5fd7df24d224ebc13a20e97b"
        },
        "_type": "PublishedContent",
        "approved": true,
        "blobName": "published/mitforlob/20201214215444056_2230194355_5b9780a8ce298900381d1a55.json",
        "disabled": false,
        "namespace": "mitforlob",
        "originalId": "5b9780a8ce298900381d1a55",
        "publishedAt": 1607982884218,
        "publishedBy": "jeppe@visikon.com",
        "version": 0
       },
       {
        "__v": 0,
        "_id": {
         "$oid": "5fd7df27d224ebc13a20e97c"
        },
        "_type": "PublishedContent",
        "approved": true,
        "blobName": "published/mitforlob/20201214215446809_7920359298_5b978157ce298900381d1a5b.json",
        "disabled": false,
        "namespace": "mitforlob",
        "originalId": "5b978157ce298900381d1a5b",
        "publishedAt": 1607982887039,
        "publishedBy": "jeppe@visikon.com",
        "version": 0
       },
       {
        "__v": 0,
        "_id": {
         "$oid": "5fd7df28d224ebc13a20e97d"
        },
        "_type": "PublishedContent",
        "approved": true,
        "blobName": "published/mitforlob/20201214215448189_4885910581_5b9781b6ce298900381d1a5d.json",
        "disabled": false,
        "namespace": "mitforlob",
        "originalId": "5b9781b6ce298900381d1a5d",
        "publishedAt": 1607982888364,
        "publishedBy": "jeppe@visikon.com",
        "version": 0
       },
       {
        "__v": 0,
        "_id": {
         "$oid": "5fd7df2bd224ebc13a20e97f"
        },
        "_type": "PublishedContent",
        "approved": true,
        "blobName": "published/mitforlob/20201214215450845_3621772473_5b97959eaab66500386d670c.json",
        "disabled": false,
        "namespace": "mitforlob",
        "originalId": "5b97959eaab66500386d670c",
        "publishedAt": 1607982891025,
        "publishedBy": "jeppe@visikon.com",
        "version": 0
       },
       {
        "__v": 0,
        "_id": {
         "$oid": "5fd7df2cd224ebc13a20e980"
        },
        "_type": "PublishedContent",
        "approved": "true",
        "blobName": "published/mitforlob/20201214215452097_9930372047_5b9795e8aab66500386d670e.json",
        "disabled": false,
        "namespace": "mitforlob",
        "originalId": "5b9795e8aab66500386d670e",
        "publishedAt": 1607982892263,
        "publishedBy": "jeppe@visikon.com",
        "version": 0
       },
       {
        "__v": 0,
        "_id": {
         "$oid": "5fd7df2dd224ebc13a20e981"
        },
        "_type": "PublishedContent",
        "approved": true,
        "blobName": "published/mitforlob/20201214215453288_1625606236_5b979694aab66500386d6710.json",
        "disabled": false,
        "namespace": "mitforlob",
        "originalId": "5b979694aab66500386d6710",
        "publishedAt": 1607982893435,
        "publishedBy": "jeppe@visikon.com",
        "version": 0
       },
       {
        "__v": 0,
        "_id": {
         "$oid": "5fd7df2ed224ebc13a20e982"
        },
        "_type": "PublishedContent",
        "approved": true,
        "blobName": "published/mitforlob/20201214215454484_2208065564_5b97a60aaab66500386d6712.json",
        "disabled": false,
        "namespace": "mitforlob",
        "originalId": "5b97a60aaab66500386d6712",
        "publishedAt": 1607982894630,
        "publishedBy": "jeppe@visikon.com",
        "version": 0
       },
       {
        "__v": 0,
        "_id": {
         "$oid": "5fd7df2fd224ebc13a20e983"
        },
        "_type": "PublishedContent",
        "approved": true,
        "blobName": "published/mitforlob/20201214215455640_6715866319_5b97a642aab66500386d6714.json",
        "disabled": false,
        "namespace": "mitforlob",
        "originalId": "5b97a642aab66500386d6714",
        "publishedAt": 1607982895787,
        "publishedBy": "jeppe@visikon.com",
        "version": 0
       },
       {
        "__v": 0,
        "_id": {
         "$oid": "5fd7df32d224ebc13a20e985"
        },
        "_type": "PublishedContent",
        "approved": true,
        "blobName": "published/mitforlob/20201214215457970_5307513120_5b97a6bbaab66500386d6718.json",
        "disabled": false,
        "namespace": "mitforlob",
        "originalId": "5b97a6bbaab66500386d6718",
        "publishedAt": 1607982898110,
        "publishedBy": "jeppe@visikon.com",
        "version": 0
       },
       {
        "__v": 0,
        "_id": {
         "$oid": "5fd7df33d224ebc13a20e986"
        },
        "_type": "PublishedContent",
        "approved": true,
        "blobName": "published/mitforlob/20201214215458880_8583841064_5b9e976e5b8ebd00391bd837.json",
        "disabled": false,
        "namespace": "mitforlob",
        "originalId": "5b9e976e5b8ebd00391bd837",
        "publishedAt": 1607982899003,
        "publishedBy": "jeppe@visikon.com",
        "version": 0
       },
       {
        "__v": 0,
        "_id": {
         "$oid": "5fd7df36d224ebc13a20e987"
        },
        "_type": "PublishedContent",
        "approved": true,
        "blobName": "published/mitforlob/20201214215502206_7248847348_5bbb1c46e0744d00385a0020.json",
        "disabled": false,
        "namespace": "mitforlob",
        "originalId": "5bbb1c46e0744d00385a0020",
        "publishedAt": 1607982902395,
        "publishedBy": "jeppe@visikon.com",
        "version": 0
       },
       {
        "__v": 0,
        "_id": {
         "$oid": "5fd7df38d224ebc13a20e988"
        },
        "_type": "PublishedContent",
        "approved": true,
        "blobName": "published/mitforlob/20201214215503872_7872199128_5bbb37e951c48400388314dc.json",
        "disabled": false,
        "namespace": "mitforlob",
        "originalId": "5bbb37e951c48400388314dc",
        "publishedAt": 1607982904035,
        "publishedBy": "jeppe@visikon.com",
        "version": 0
       },
       {
        "__v": 0,
        "_id": {
         "$oid": "5fd7df39d224ebc13a20e989"
        },
        "_type": "PublishedContent",
        "approved": true,
        "blobName": "published/mitforlob/20201214215505602_9748786921_5be97658e6aece0038b3f2a2.json",
        "disabled": false,
        "namespace": "mitforlob",
        "originalId": "5be97658e6aece0038b3f2a2",
        "publishedAt": 1607982905779,
        "publishedBy": "jeppe@visikon.com",
        "version": 0
       },
       {
        "__v": 0,
        "_id": {
         "$oid": "5fd7df3ed224ebc13a20e98c"
        },
        "_type": "PublishedContent",
        "approved": true,
        "blobName": "published/mitforlob/20201214215509976_1985168687_5c909630a12b7a003876bf57.json",
        "disabled": false,
        "namespace": "mitforlob",
        "originalId": "5c909630a12b7a003876bf57",
        "publishedAt": 1607982910152,
        "publishedBy": "jeppe@visikon.com",
        "version": 0
       },
       {
        "__v": 0,
        "_id": {
         "$oid": "5fd7df3ed224ebc13a20e98d"
        },
        "_type": "PublishedContent",
        "approved": true,
        "blobName": "published/mitforlob/20201214215510801_1226061897_5d00e2fd20b2d4003aeee977.json",
        "disabled": false,
        "namespace": "mitforlob",
        "originalId": "5d00e2fd20b2d4003aeee977",
        "publishedAt": 1607982910922,
        "publishedBy": "jeppe@visikon.com",
        "version": 0
       },
       {
        "__v": 0,
        "_id": {
         "$oid": "5fd7df41d224ebc13a20e98e"
        },
        "_type": "PublishedContent",
        "blobName": "published/mitforlob/20201214215513077_5900445417_5d00e30220b2d4003aeee979.json",
        "disabled": false,
        "namespace": "mitforlob",
        "originalId": "5d00e30220b2d4003aeee979",
        "publishedAt": 1607982913294,
        "publishedBy": "jeppe@visikon.com",
        "version": 0
       },
       {
        "__v": 0,
        "_id": {
         "$oid": "5fd7df42d224ebc13a20e98f"
        },
        "_type": "PublishedContent",
        "approved": true,
        "blobName": "published/mitforlob/20201214215514041_9661209778_5d035b6e57ca1d003930f197.json",
        "disabled": false,
        "namespace": "mitforlob",
        "originalId": "5d035b6e57ca1d003930f197",
        "publishedAt": 1607982914153,
        "publishedBy": "jeppe@visikon.com",
        "version": 0
       },
       {
        "__v": 0,
        "_id": {
         "$oid": "5fd7df43d224ebc13a20e990"
        },
        "_type": "PublishedContent",
        "approved": true,
        "blobName": "published/mitforlob/20201214215515118_8921735871_5d148b71fbbed2003ad57d03.json",
        "disabled": false,
        "namespace": "mitforlob",
        "originalId": "5d148b71fbbed2003ad57d03",
        "publishedAt": 1607982915278,
        "publishedBy": "jeppe@visikon.com",
        "version": 0
       },
       {
        "__v": 0,
        "_id": {
         "$oid": "5fd7df44d224ebc13a20e991"
        },
        "_type": "PublishedContent",
        "approved": true,
        "blobName": "published/mitforlob/20201214215516387_9201013617_5d148b88fbbed2003ad57d05.json",
        "disabled": false,
        "namespace": "mitforlob",
        "originalId": "5d148b88fbbed2003ad57d05",
        "publishedAt": 1607982916549,
        "publishedBy": "jeppe@visikon.com",
        "version": 0
       },
       {
        "__v": 0,
        "_id": {
         "$oid": "5fd7df52d224ebc13a20e992"
        },
        "_type": "PublishedContent",
        "approved": true,
        "blobName": "published/mitforlob/20201214215529796_7177189267_5d14b6102a6a7a0039bc4529.json",
        "disabled": false,
        "namespace": "mitforlob",
        "originalId": "5d14b6102a6a7a0039bc4529",
        "publishedAt": 1607982930206,
        "publishedBy": "jeppe@visikon.com",
        "version": 0
       },
       {
        "__v": 0,
        "_id": {
         "$oid": "5fd7df53d224ebc13a20e993"
        },
        "_type": "PublishedContent",
        "approved": true,
        "blobName": "published/mitforlob/20201214215531262_4945732232_5d600cbdcfa5e0002f36ec3b.json",
        "disabled": false,
        "namespace": "mitforlob",
        "originalId": "5d600cbdcfa5e0002f36ec3b",
        "publishedAt": 1607982931418,
        "publishedBy": "jeppe@visikon.com",
        "version": 0
       },
       {
        "__v": 0,
        "_id": {
         "$oid": "5fd7df54d224ebc13a20e994"
        },
        "_type": "PublishedContent",
        "approved": true,
        "blobName": "published/mitforlob/20201214215532459_3667440086_5d600e0b515dca002f0789ae.json",
        "disabled": false,
        "namespace": "mitforlob",
        "originalId": "5d600e0b515dca002f0789ae",
        "publishedAt": 1607982932612,
        "publishedBy": "jeppe@visikon.com",
        "version": 0
       },
       {
        "__v": 0,
        "_id": {
         "$oid": "5fd7df55d224ebc13a20e995"
        },
        "_type": "PublishedContent",
        "approved": true,
        "blobName": "published/mitforlob/20201214215533386_9870915403_5d604d4137bf44002f4ee620.json",
        "disabled": false,
        "namespace": "mitforlob",
        "originalId": "5d604d4137bf44002f4ee620",
        "publishedAt": 1607982933543,
        "publishedBy": "jeppe@visikon.com",
        "version": 0
       },
       {
        "__v": 0,
        "_id": {
         "$oid": "5fd7df56d224ebc13a20e996"
        },
        "_type": "PublishedContent",
        "approved": true,
        "blobName": "published/mitforlob/20201214215534728_7475386418_5d604d5337bf44002f4ee622.json",
        "disabled": false,
        "namespace": "mitforlob",
        "originalId": "5d604d5337bf44002f4ee622",
        "publishedAt": 1607982934895,
        "publishedBy": "jeppe@visikon.com",
        "version": 0
       },
       {
        "__v": 0,
        "_id": {
         "$oid": "5fd7df58d224ebc13a20e997"
        },
        "_type": "PublishedContent",
        "approved": true,
        "blobName": "published/mitforlob/20201214215536022_8410425763_5d66a339d12db00030d7ffdd.json",
        "disabled": false,
        "namespace": "mitforlob",
        "originalId": "5d66a339d12db00030d7ffdd",
        "publishedAt": 1607982936186,
        "publishedBy": "jeppe@visikon.com",
        "version": 0
       },
       {
        "__v": 0,
        "_id": {
         "$oid": "5fd7df5cd224ebc13a20e998"
        },
        "_type": "PublishedContent",
        "approved": true,
        "blobName": "published/mitforlob/20201214215540434_4158817620_5d66a3d1d12db00030d7ffdf.json",
        "disabled": false,
        "namespace": "mitforlob",
        "originalId": "5d66a3d1d12db00030d7ffdf",
        "publishedAt": 1607982940632,
        "publishedBy": "jeppe@visikon.com",
        "version": 0
       },
       {
        "__v": 0,
        "_id": {
         "$oid": "5fd7df65d224ebc13a20e999"
        },
        "_type": "PublishedContent",
        "approved": true,
        "blobName": "published/mitforlob/20201214215548824_6270768127_5d66a492d12db00030d7ffe1.json",
        "disabled": false,
        "namespace": "mitforlob",
        "originalId": "5d66a492d12db00030d7ffe1",
        "publishedAt": 1607982949187,
        "publishedBy": "jeppe@visikon.com",
        "version": 0
       },
       {
        "__v": 0,
        "_id": {
         "$oid": "5fd7df67d224ebc13a20e99a"
        },
        "_type": "PublishedContent",
        "approved": true,
        "blobName": "published/mitforlob/20201214215551828_2042504474_5d96612b455bcb002f1ca479.json",
        "disabled": false,
        "namespace": "mitforlob",
        "originalId": "5d96612b455bcb002f1ca479",
        "publishedAt": 1607982951957,
        "publishedBy": "jeppe@visikon.com",
        "version": 0
       },
       {
        "__v": 0,
        "_id": {
         "$oid": "5fd7df6cd224ebc13a20e99c"
        },
        "_type": "PublishedContent",
        "approved": true,
        "blobName": "published/mitforlob/20201214215556015_8709390144_5d97704f541886002ff7a228.json",
        "disabled": false,
        "namespace": "mitforlob",
        "originalId": "5d97704f541886002ff7a228",
        "publishedAt": 1607982956155,
        "publishedBy": "jeppe@visikon.com",
        "version": 0
       },
       {
        "__v": 0,
        "_id": {
         "$oid": "5fd7df6fd224ebc13a20e99e"
        },
        "_type": "PublishedContent",
        "approved": true,
        "blobName": "published/mitforlob/20201214215559454_3663600730_5dc14a3d9d0677004810796f.json",
        "disabled": false,
        "namespace": "mitforlob",
        "originalId": "5dc14a3d9d0677004810796f",
        "publishedAt": 1607982959575,
        "publishedBy": "jeppe@visikon.com",
        "version": 0
       },
       {
        "__v": 0,
        "_id": {
         "$oid": "5fd7df6ed224ebc13a20e99d"
        },
        "_type": "PublishedContent",
        "approved": "true",
        "blobName": "published/mitforlob/20201214215558781_3498017817_5d9771a4541886002ff7a22a.json",
        "disabled": false,
        "namespace": "mitforlob",
        "originalId": "5d9771a4541886002ff7a22a",
        "publishedAt": 1607982958924,
        "publishedBy": "jeppe@visikon.com",
        "version": 0
       },
       {
        "__v": 0,
        "_id": {
         "$oid": "5fd7df7ad224ebc13a20e9a2"
        },
        "_type": "PublishedContent",
        "approved": true,
        "blobName": "published/mitforlob/20201214215610736_5794165870_5de7ada9464d3f004e208a54.json",
        "disabled": false,
        "namespace": "mitforlob",
        "originalId": "5de7ada9464d3f004e208a54",
        "publishedAt": 1607982970870,
        "publishedBy": "jeppe@visikon.com",
        "version": 0
       },
       {
        "__v": 0,
        "_id": {
         "$oid": "5fd7df80d224ebc13a20e9a8"
        },
        "_type": "PublishedContent",
        "approved": true,
        "blobName": "published/mitforlob/20201214215616620_2115527802_5e1b8cbb8cf40c004e7d0b8b.json",
        "disabled": false,
        "namespace": "mitforlob",
        "originalId": "5e1b8cbb8cf40c004e7d0b8b",
        "publishedAt": 1607982976747,
        "publishedBy": "jeppe@visikon.com",
        "version": 0
       },
       {
        "__v": 0,
        "_id": {
         "$oid": "5fd7df94d224ebc13a20e9b7"
        },
        "_type": "PublishedContent",
        "approved": true,
        "blobName": "published/mitforlob/20201214215636518_2932583064_5e9988f679d6e4004fbba248.json",
        "disabled": false,
        "namespace": "mitforlob",
        "originalId": "5e9988f679d6e4004fbba248",
        "publishedAt": 1607982996670,
        "publishedBy": "jeppe@visikon.com",
        "version": 0
       },
       {
        "__v": 0,
        "_id": {
         "$oid": "5fd7dfb0d224ebc13a20e9d1"
        },
        "_type": "PublishedContent",
        "approved": true,
        "blobName": "published/mitforlob/20201214215704422_3534157049_5fc0ca35dec8ed003942b1c9.json",
        "disabled": false,
        "namespace": "mitforlob",
        "originalId": "5fc0ca35dec8ed003942b1c9",
        "publishedAt": 1607983024543,
        "publishedBy": "jeppe@visikon.com",
        "version": 0
       },
       {
        "__v": 0,
        "_id": {
         "$oid": "5ffc37a073a8c700399783af"
        },
        "_type": "PublishedContent",
        "approved": true,
        "blobName": "published/mitforlob/20210111113352807_6069849932_5be97658e6aece0038b3f2a2.json",
        "disabled": false,
        "namespace": "mitforlob",
        "originalId": "5be97658e6aece0038b3f2a2",
        "publishedAt": 1610364832953,
        "publishedBy": "mette@visikon.com",
        "version": 1
       },
       {
        "__v": 0,
        "_id": {
         "$oid": "5fff4dba0db7f800393ec548"
        },
        "_type": "PublishedContent",
        "approved": true,
        "blobName": "published/mitforlob/20210113194458620_819578553_5fc0ca94dec8ed003942b1cc.json",
        "disabled": false,
        "namespace": "mitforlob",
        "originalId": "5fc0ca94dec8ed003942b1cc",
        "publishedAt": 1610567098697,
        "publishedBy": "sameer@visikon.com",
        "version": 1
       },
       {
        "__v": 0,
        "_id": {
         "$oid": "5fff4ec80db7f800393ec562"
        },
        "_type": "PublishedContent",
        "approved": true,
        "blobName": "published/mitforlob/20210113194928444_7832377906_5b97959eaab66500386d670c.json",
        "disabled": false,
        "namespace": "mitforlob",
        "originalId": "5b97959eaab66500386d670c",
        "publishedAt": 1610567368497,
        "publishedBy": "sameer@visikon.com",
        "version": 2
       },
       {
        "__v": 0,
        "_id": {
         "$oid": "5fff4ee90db7f800393ec57b"
        },
        "_type": "PublishedContent",
        "approved": true,
        "blobName": "published/mitforlob/20210113195001395_6079073739_5d66a3d1d12db00030d7ffdf.json",
        "disabled": false,
        "namespace": "mitforlob",
        "originalId": "5d66a3d1d12db00030d7ffdf",
        "publishedAt": 1610567401467,
        "publishedBy": "sameer@visikon.com",
        "version": 2
       },
       {
        "__v": 0,
        "_id": {
         "$oid": "5fff4f0a0db7f800393ec59d"
        },
        "_type": "PublishedContent",
        "approved": true,
        "blobName": "published/mitforlob/20210113195034888_2063070735_5f23cd1ec7c749004cc944ae.json",
        "disabled": false,
        "namespace": "mitforlob",
        "originalId": "5f23cd1ec7c749004cc944ae",
        "publishedAt": 1610567434953,
        "publishedBy": "sameer@visikon.com",
        "version": 2
       },
       {
        "__v": 0,
        "_id": {
         "$oid": "5fff4f100db7f800393ec5a7"
        },
        "_type": "PublishedContent",
        "approved": true,
        "blobName": "published/mitforlob/20210113195040526_6391174454_5f7c633c41b5480035bfe7f8.json",
        "disabled": false,
        "namespace": "mitforlob",
        "originalId": "5f7c633c41b5480035bfe7f8",
        "publishedAt": 1610567440627,
        "publishedBy": "sameer@visikon.com",
        "version": 2
       },
       {
        "__v": 0,
        "_id": {
         "$oid": "5fff4f1a0db7f800393ec5b6"
        },
        "_type": "PublishedContent",
        "approved": true,
        "blobName": "published/mitforlob/20210113195050733_2033800699_5fd32346a536750035e9564b.json",
        "disabled": false,
        "namespace": "mitforlob",
        "originalId": "5fd32346a536750035e9564b",
        "publishedAt": 1610567450792,
        "publishedBy": "sameer@visikon.com",
        "version": 2
       },
       {
        "__v": 0,
        "_id": {
         "$oid": "5fff55157d1f150035d020b4"
        },
        "_type": "PublishedContent",
        "approved": true,
        "blobName": "published/mitforlob/20210113201621099_5191084149_5b9781b6ce298900381d1a5d.json",
        "disabled": false,
        "namespace": "mitforlob",
        "originalId": "5b9781b6ce298900381d1a5d",
        "publishedAt": 1610568981184,
        "publishedBy": "sameer@visikon.com",
        "version": 3
       },
       {
        "__v": 0,
        "_id": {
         "$oid": "5fff55457d1f150035d020d6"
        },
        "_type": "PublishedContent",
        "approved": true,
        "blobName": "published/mitforlob/20210113201709644_3973911711_5dc14a919d06770048107971.json",
        "disabled": false,
        "namespace": "mitforlob",
        "originalId": "5dc14a919d06770048107971",
        "publishedAt": 1610569029708,
        "publishedBy": "sameer@visikon.com",
        "version": 3
       },
       {
        "__v": 0,
        "_id": {
         "$oid": "5fff55567d1f150035d020e6"
        },
        "_type": "PublishedContent",
        "approved": true,
        "blobName": "published/mitforlob/20210113201726666_7510103346_5e70dcfb750aa3004ecca962.json",
        "disabled": false,
        "namespace": "mitforlob",
        "originalId": "5e70dcfb750aa3004ecca962",
        "publishedAt": 1610569046740,
        "publishedBy": "sameer@visikon.com",
        "version": 3
       },
       {
        "__v": 0,
        "_id": {
         "$oid": "5fff556b7d1f150035d02106"
        },
        "_type": "PublishedContent",
        "approved": true,
        "blobName": "published/mitforlob/20210113201747919_4099392591_5fc0c8e6dec8ed003942b1c2.json",
        "disabled": true,
        "namespace": "mitforlob",
        "originalId": "5fc0c8e6dec8ed003942b1c2",
        "publishedAt": 1610569067985,
        "publishedBy": "sameer@visikon.com",
        "version": 3
       },
       {
        "__v": 0,
        "_id": {
         "$oid": "5fff55727d1f150035d02115"
        },
        "_type": "PublishedContent",
        "approved": true,
        "blobName": "published/mitforlob/20210113201754099_3006500172_5ffee558a0731b003575337f.json",
        "disabled": false,
        "namespace": "mitforlob",
        "originalId": "5ffee558a0731b003575337f",
        "publishedAt": 1610569074157,
        "publishedBy": "sameer@visikon.com",
        "version": 2
       },
       {
        "__v": 0,
        "_id": {
         "$oid": "600aa457a745890039448631"
        },
        "_type": "PublishedContent",
        "approved": true,
        "blobName": "published/mitforlob/20210122100927148_7119290137_5ffee5f1a0731b0035753383.json",
        "disabled": false,
        "namespace": "mitforlob",
        "originalId": "5ffee5f1a0731b0035753383",
        "publishedAt": 1611310167225,
        "publishedBy": "mette@visikon.com",
        "version": 12
       },
       {
        "__v": 0,
        "_id": {
         "$oid": "6036887f667a350038694643"
        },
        "_type": "PublishedContent",
        "approved": true,
        "blobName": "published/mitforlob/20210224171023920_8038401531_5fb3a6eeff01c80035696efe.json",
        "disabled": false,
        "namespace": "mitforlob",
        "originalId": "5fb3a6eeff01c80035696efe",
        "publishedAt": 1614186623997,
        "publishedBy": "mette@visikon.com",
        "version": 4
       },
       {
        "__v": 0,
        "_id": {
         "$oid": "603fc6460ad4490036444b64"
        },
        "_type": "PublishedContent",
        "approved": false,
        "blobName": "published/mitforlob/20210303172422232_6493370169_5f3f97667ce2c1004bc8fd8b.json",
        "disabled": true,
        "namespace": "mitforlob",
        "originalId": "5f3f97667ce2c1004bc8fd8b",
        "publishedAt": 1614792262346,
        "publishedBy": "mette@visikon.com",
        "version": 4
       },
       {
        "__v": 0,
        "_id": {
         "$oid": "603fc65a0ad4490036444b66"
        },
        "_type": "PublishedContent",
        "approved": true,
        "blobName": "published/mitforlob/20210303172442851_8700001385_603fc3340ad4490036444b5f.json",
        "disabled": false,
        "namespace": "mitforlob",
        "originalId": "603fc3340ad4490036444b5f",
        "publishedAt": 1614792282908,
        "publishedBy": "mette@visikon.com",
        "version": 0
       },
       {
        "__v": 0,
        "_id": {
         "$oid": "603fc9f90ad4490036444b72"
        },
        "_type": "PublishedContent",
        "approved": false,
        "blobName": "published/mitforlob/20210303174008917_1883449122_603fc3340ad4490036444b5f.json",
        "disabled": true,
        "namespace": "mitforlob",
        "originalId": "603fc3340ad4490036444b5f",
        "publishedAt": 1614793209021,
        "publishedBy": "mette@visikon.com",
        "version": 1
       },
       {
        "__v": 0,
        "_id": {
         "$oid": "603fca2d0ad4490036444b73"
        },
        "_type": "PublishedContent",
        "approved": false,
        "blobName": "published/mitforlob/20210303174101031_3837577537_5f3f97667ce2c1004bc8fd8b.json",
        "disabled": true,
        "namespace": "mitforlob",
        "originalId": "5f3f97667ce2c1004bc8fd8b",
        "publishedAt": 1614793261096,
        "publishedBy": "mette@visikon.com",
        "version": 5
       },
       {
        "__v": 0,
        "_id": {
         "$oid": "603fcafc0ad4490036444b76"
        },
        "_type": "PublishedContent",
        "approved": false,
        "blobName": "published/mitforlob/20210303174428708_8350298490_603fc3340ad4490036444b5f.json",
        "disabled": true,
        "namespace": "mitforlob",
        "originalId": "603fc3340ad4490036444b5f",
        "publishedAt": 1614793468784,
        "publishedBy": "mette@visikon.com",
        "version": 2
       },
       {
        "__v": 0,
        "_id": {
         "$oid": "603fcbcf0ad4490036444b78"
        },
        "_type": "PublishedContent",
        "approved": false,
        "blobName": "published/mitforlob/20210303174759655_3238787194_603fc3340ad4490036444b5f.json",
        "disabled": true,
        "namespace": "mitforlob",
        "originalId": "603fc3340ad4490036444b5f",
        "publishedAt": 1614793679724,
        "publishedBy": "mette@visikon.com",
        "version": 3
       },
       {
        "__v": 0,
        "_id": {
         "$oid": "603fcc7a0ad4490036444b7b"
        },
        "_type": "PublishedContent",
        "approved": false,
        "blobName": "published/mitforlob/20210303175050117_1762390496_5f3f97667ce2c1004bc8fd8b.json",
        "disabled": true,
        "namespace": "mitforlob",
        "originalId": "5f3f97667ce2c1004bc8fd8b",
        "publishedAt": 1614793850214,
        "publishedBy": "mette@visikon.com",
        "version": 6
       },
       {
        "__v": 0,
        "_id": {
         "$oid": "603fe1340ad4490036444be9"
        },
        "_type": "PublishedContent",
        "approved": false,
        "blobName": "published/mitforlob/20210303191916820_4341671410_5f3f96de7ce2c1004bc8fd88.json",
        "disabled": true,
        "namespace": "mitforlob",
        "originalId": "5f3f96de7ce2c1004bc8fd88",
        "publishedAt": 1614799156924,
        "publishedBy": "mette@visikon.com",
        "version": 4
       },
       {
        "__v": 0,
        "_id": {
         "$oid": "6055fc1878e2ca0039e0ce60"
        },
        "_type": "PublishedContent",
        "approved": false,
        "blobName": "published/mitforlob/20210320134352768_4563194755_5d9761a5039ff5002fc1a069.json",
        "disabled": true,
        "namespace": "mitforlob",
        "originalId": "5d9761a5039ff5002fc1a069",
        "publishedAt": 1616247832885,
        "publishedBy": "mette@visikon.com",
        "version": 6
       },
       {
        "__v": 0,
        "_id": {
         "$oid": "605b3ec278e2ca0039e0d49d"
        },
        "_type": "PublishedContent",
        "approved": true,
        "blobName": "published/mitforlob/20210324132938834_2288249666_5b9117559bfc750039a3369f.json",
        "disabled": false,
        "namespace": "mitforlob",
        "originalId": "5b9117559bfc750039a3369f",
        "publishedAt": 1616592578981,
        "publishedBy": "mette@visikon.com",
        "version": 4
       },
       {
        "__v": 0,
        "_id": {
         "$oid": "605b3f2c78e2ca0039e0d49e"
        },
        "_type": "PublishedContent",
        "approved": true,
        "blobName": "published/mitforlob/20210324133123789_8601078438_5b9117559bfc750039a3369f.json",
        "disabled": false,
        "namespace": "mitforlob",
        "originalId": "5b9117559bfc750039a3369f",
        "publishedAt": 1616592684016,
        "publishedBy": "mette@visikon.com",
        "version": 5
       },
       {
        "__v": 0,
        "_id": {
         "$oid": "605f822a78e2ca0039e0dbbc"
        },
        "_type": "PublishedContent",
        "approved": true,
        "blobName": "published/mitforlob/20210327190618027_573304061_5c909630a12b7a003876bf57.json",
        "disabled": false,
        "namespace": "mitforlob",
        "originalId": "5c909630a12b7a003876bf57",
        "publishedAt": 1616871978101,
        "publishedBy": "anders@visikon.com",
        "version": 4
       },
       {
        "__v": 0,
        "_id": {
         "$oid": "608150506e24420039370135"
        },
        "_type": "PublishedContent",
        "approved": false,
        "blobName": "published/mitforlob/20210422103039964_4523429822_5fb3d128ff01c80035697021.json",
        "disabled": true,
        "namespace": "mitforlob",
        "originalId": "5fb3d128ff01c80035697021",
        "publishedAt": 1619087440042,
        "publishedBy": "mette@visikon.com",
        "version": 7
       },
       {
        "__v": 0,
        "_id": {
         "$oid": "608a6201dc6e930035ba50af"
        },
        "_type": "PublishedContent",
        "approved": false,
        "blobName": "published/mitforlob/20210429073633295_2795742037_5fb3d128ff01c80035697021.json",
        "disabled": true,
        "namespace": "mitforlob",
        "originalId": "5fb3d128ff01c80035697021",
        "publishedAt": 1619681793389,
        "publishedBy": "mette@visikon.com",
        "version": 11
       },
       {
        "__v": 0,
        "_id": {
         "$oid": "609e40934cfec50039bbe422"
        },
        "_type": "PublishedContent",
        "approved": false,
        "blobName": "published/mitforlob/20210514091915219_2086644240_6099310b37745000357bb691.json",
        "disabled": true,
        "namespace": "mitforlob",
        "originalId": "6099310b37745000357bb691",
        "publishedAt": 1620983955278,
        "publishedBy": "elisabeth@visikon.com",
        "version": 2
       },
       {
        "__v": 0,
        "_id": {
         "$oid": "609e40d54cfec50039bbe424"
        },
        "_type": "PublishedContent",
        "approved": false,
        "blobName": "published/mitforlob/20210514092021917_5253634727_60992efe37745000357bb684.json",
        "disabled": true,
        "namespace": "mitforlob",
        "originalId": "60992efe37745000357bb684",
        "publishedAt": 1620984021973,
        "publishedBy": "elisabeth@visikon.com",
        "version": 2
       },
       {
        "__v": 0,
        "_id": {
         "$oid": "609e623e4cfec50039bbe43b"
        },
        "_type": "PublishedContent",
        "approved": false,
        "blobName": "published/mitforlob/20210514114254098_3509767533_6011cc2b1d0fc2003937373c.json",
        "disabled": true,
        "namespace": "mitforlob",
        "originalId": "6011cc2b1d0fc2003937373c",
        "publishedAt": 1620992574205,
        "publishedBy": "elisabeth@visikon.com",
        "version": 3
       },
       {
        "__v": 0,
        "_id": {
         "$oid": "609e62494cfec50039bbe43c"
        },
        "_type": "PublishedContent",
        "approved": false,
        "blobName": "published/mitforlob/20210514114305060_3970550351_6011cb2d1d0fc20039373738.json",
        "disabled": true,
        "namespace": "mitforlob",
        "originalId": "6011cb2d1d0fc20039373738",
        "publishedAt": 1620992585152,
        "publishedBy": "elisabeth@visikon.com",
        "version": 5
       },
       {
        "__v": 0,
        "_id": {
         "$oid": "609e62574cfec50039bbe43d"
        },
        "_type": "PublishedContent",
        "approved": false,
        "blobName": "published/mitforlob/20210514114319282_345051088_6011cbb91d0fc2003937373a.json",
        "disabled": true,
        "namespace": "mitforlob",
        "originalId": "6011cbb91d0fc2003937373a",
        "publishedAt": 1620992599353,
        "publishedBy": "elisabeth@visikon.com",
        "version": 3
       },
       {
        "__v": 0,
        "_id": {
         "$oid": "609e62774cfec50039bbe43e"
        },
        "_type": "PublishedContent",
        "approved": false,
        "blobName": "published/mitforlob/20210514114351450_1638696410_6011ccd01d0fc2003937373e.json",
        "disabled": true,
        "namespace": "mitforlob",
        "originalId": "6011ccd01d0fc2003937373e",
        "publishedAt": 1620992631513,
        "publishedBy": "elisabeth@visikon.com",
        "version": 3
       },
       {
        "__v": 0,
        "_id": {
         "$oid": "609e62924cfec50039bbe43f"
        },
        "_type": "PublishedContent",
        "approved": false,
        "blobName": "published/mitforlob/20210514114418888_2437567526_6011cd5f1d0fc20039373741.json",
        "disabled": true,
        "namespace": "mitforlob",
        "originalId": "6011cd5f1d0fc20039373741",
        "publishedAt": 1620992658948,
        "publishedBy": "elisabeth@visikon.com",
        "version": 3
       },
       {
        "__v": 0,
        "_id": {
         "$oid": "609e62a84cfec50039bbe440"
        },
        "_type": "PublishedContent",
        "approved": false,
        "blobName": "published/mitforlob/20210514114440671_440717706_6011cdb71d0fc20039373745.json",
        "disabled": true,
        "namespace": "mitforlob",
        "originalId": "6011cdb71d0fc20039373745",
        "publishedAt": 1620992680748,
        "publishedBy": "elisabeth@visikon.com",
        "version": 1
       },
       {
        "__v": 0,
        "_id": {
         "$oid": "609e62bf4cfec50039bbe442"
        },
        "_type": "PublishedContent",
        "approved": false,
        "blobName": "published/mitforlob/20210514114503331_9850744980_6011ce171d0fc20039373747.json",
        "disabled": true,
        "namespace": "mitforlob",
        "originalId": "6011ce171d0fc20039373747",
        "publishedAt": 1620992703381,
        "publishedBy": "elisabeth@visikon.com",
        "version": 1
       },
       {
        "__v": 0,
        "_id": {
         "$oid": "609e62d54cfec50039bbe443"
        },
        "_type": "PublishedContent",
        "approved": false,
        "blobName": "published/mitforlob/20210514114525643_8951679477_6011cea61d0fc20039373749.json",
        "disabled": true,
        "namespace": "mitforlob",
        "originalId": "6011cea61d0fc20039373749",
        "publishedAt": 1620992725694,
        "publishedBy": "elisabeth@visikon.com",
        "version": 2
       },
       {
        "__v": 0,
        "_id": {
         "$oid": "609e66ba4cfec50039bbe466"
        },
        "_type": "PublishedContent",
        "approved": false,
        "blobName": "published/mitforlob/20210514120202599_2487821219_609e66464cfec50039bbe460.json",
        "disabled": false,
        "namespace": "mitforlob",
        "originalId": "609e66464cfec50039bbe460",
        "publishedAt": 1620993722654,
        "publishedBy": "elisabeth@visikon.com",
        "version": 0
       },
       {
        "__v": 0,
        "_id": {
         "$oid": "609e66e14cfec50039bbe469"
        },
        "_type": "PublishedContent",
        "approved": false,
        "blobName": "published/mitforlob/20210514120241925_2674559650_609e657f4cfec50039bbe456.json",
        "disabled": false,
        "namespace": "mitforlob",
        "originalId": "609e657f4cfec50039bbe456",
        "publishedAt": 1620993761998,
        "publishedBy": "elisabeth@visikon.com",
        "version": 0
       },
       {
        "__v": 0,
        "_id": {
         "$oid": "609e66f14cfec50039bbe46a"
        },
        "_type": "PublishedContent",
        "approved": false,
        "blobName": "published/mitforlob/20210514120256963_9488154747_609e65394cfec50039bbe454.json",
        "disabled": false,
        "namespace": "mitforlob",
        "originalId": "609e65394cfec50039bbe454",
        "publishedAt": 1620993777017,
        "publishedBy": "elisabeth@visikon.com",
        "version": 0
       },
       {
        "__v": 0,
        "_id": {
         "$oid": "609e67004cfec50039bbe46b"
        },
        "_type": "PublishedContent",
        "approved": false,
        "blobName": "published/mitforlob/20210514120312544_2215522949_609e64f54cfec50039bbe452.json",
        "disabled": false,
        "namespace": "mitforlob",
        "originalId": "609e64f54cfec50039bbe452",
        "publishedAt": 1620993792596,
        "publishedBy": "elisabeth@visikon.com",
        "version": 0
       },
       {
        "__v": 0,
        "_id": {
         "$oid": "609e68e64cfec50039bbe479"
        },
        "_type": "PublishedContent",
        "approved": false,
        "blobName": "published/mitforlob/20210514121118498_37958495_609e66464cfec50039bbe460.json",
        "disabled": false,
        "namespace": "mitforlob",
        "originalId": "609e66464cfec50039bbe460",
        "publishedAt": 1620994278596,
        "publishedBy": "elisabeth@visikon.com",
        "version": 1
       },
       {
        "__v": 0,
        "_id": {
         "$oid": "609e6ba64cfec50039bbe49a"
        },
        "_type": "PublishedContent",
        "approved": false,
        "blobName": "published/mitforlob/20210514122302359_4739138928_6011cb2d1d0fc20039373738.json",
        "disabled": true,
        "namespace": "mitforlob",
        "originalId": "6011cb2d1d0fc20039373738",
        "publishedAt": 1620994982427,
        "publishedBy": "elisabeth@visikon.com",
        "version": 6
       },
       {
        "__v": 0,
        "_id": {
         "$oid": "609e6e234cfec50039bbe49c"
        },
        "_type": "PublishedContent",
        "approved": false,
        "blobName": "published/mitforlob/20210514123339261_9523616713_5ffee752a0731b0035753390.json",
        "disabled": true,
        "namespace": "mitforlob",
        "originalId": "5ffee752a0731b0035753390",
        "publishedAt": 1620995619323,
        "publishedBy": "elisabeth@visikon.com",
        "version": 14
       },
       {
        "__v": 0,
        "_id": {
         "$oid": "609e6e544cfec50039bbe49d"
        },
        "_type": "PublishedContent",
        "approved": false,
        "blobName": "published/mitforlob/20210514123428905_3056563756_5ffee5f2a0731b0035753387.json",
        "disabled": true,
        "namespace": "mitforlob",
        "originalId": "5ffee5f2a0731b0035753387",
        "publishedAt": 1620995668959,
        "publishedBy": "elisabeth@visikon.com",
        "version": 21
       },
       {
        "__v": 0,
        "_id": {
         "$oid": "609e6e954cfec50039bbe49f"
        },
        "_type": "PublishedContent",
        "approved": false,
        "blobName": "published/mitforlob/20210514123533753_7902542466_5ffee5f2a0731b0035753385.json",
        "disabled": true,
        "namespace": "mitforlob",
        "originalId": "5ffee5f2a0731b0035753385",
        "publishedAt": 1620995733806,
        "publishedBy": "elisabeth@visikon.com",
        "version": 13
       },
       {
        "__v": 0,
        "_id": {
         "$oid": "609e6f0f4cfec50039bbe4a0"
        },
        "_type": "PublishedContent",
        "approved": false,
        "blobName": "published/mitforlob/20210514123735114_6494229437_5ffee5f1a0731b0035753383.json",
        "disabled": true,
        "namespace": "mitforlob",
        "originalId": "5ffee5f1a0731b0035753383",
        "publishedAt": 1620995855222,
        "publishedBy": "elisabeth@visikon.com",
        "version": 19
       },
       {
        "__v": 0,
        "_id": {
         "$oid": "609e6fce4cfec50039bbe4a1"
        },
        "_type": "PublishedContent",
        "approved": false,
        "blobName": "published/mitforlob/20210514124046168_9239781349_5ffee4eea0731b0035753374.json",
        "disabled": true,
        "namespace": "mitforlob",
        "originalId": "5ffee4eea0731b0035753374",
        "publishedAt": 1620996046257,
        "publishedBy": "elisabeth@visikon.com",
        "version": 6
       },
       {
        "__v": 0,
        "_id": {
         "$oid": "609e702e4cfec50039bbe4a2"
        },
        "_type": "PublishedContent",
        "approved": false,
        "blobName": "published/mitforlob/20210514124222847_9013244103_5ffee4eea0731b0035753372.json",
        "disabled": true,
        "namespace": "mitforlob",
        "originalId": "5ffee4eea0731b0035753372",
        "publishedAt": 1620996142940,
        "publishedBy": "elisabeth@visikon.com",
        "version": 6
       },
       {
        "__v": 0,
        "_id": {
         "$oid": "609e71374cfec50039bbe4a4"
        },
        "_type": "PublishedContent",
        "approved": false,
        "blobName": "published/mitforlob/20210514124647330_1818110620_5ffee4eda0731b0035753370.json",
        "disabled": true,
        "namespace": "mitforlob",
        "originalId": "5ffee4eda0731b0035753370",
        "publishedAt": 1620996407382,
        "publishedBy": "elisabeth@visikon.com",
        "version": 7
       },
       {
        "__v": 0,
        "_id": {
         "$oid": "609e71d84cfec50039bbe4a5"
        },
        "_type": "PublishedContent",
        "approved": false,
        "blobName": "published/mitforlob/20210514124928594_6366258441_5ffee3d9a0731b0035753368.json",
        "disabled": true,
        "namespace": "mitforlob",
        "originalId": "5ffee3d9a0731b0035753368",
        "publishedAt": 1620996568680,
        "publishedBy": "elisabeth@visikon.com",
        "version": 4
       },
       {
        "__v": 0,
        "_id": {
         "$oid": "609e72474cfec50039bbe4a6"
        },
        "_type": "PublishedContent",
        "approved": false,
        "blobName": "published/mitforlob/20210514125119344_4159873161_5ffee488a0731b003575336a.json",
        "disabled": true,
        "namespace": "mitforlob",
        "originalId": "5ffee488a0731b003575336a",
        "publishedAt": 1620996679438,
        "publishedBy": "elisabeth@visikon.com",
        "version": 9
       },
       {
        "__v": 0,
        "_id": {
         "$oid": "609e72c84cfec50039bbe4a7"
        },
        "_type": "PublishedContent",
        "approved": false,
        "blobName": "published/mitforlob/20210514125328017_4610215935_5ffee48aa0731b003575336e.json",
        "disabled": true,
        "namespace": "mitforlob",
        "originalId": "5ffee48aa0731b003575336e",
        "publishedAt": 1620996808167,
        "publishedBy": "elisabeth@visikon.com",
        "version": 10
       },
       {
        "__v": 0,
        "_id": {
         "$oid": "609e72fb4cfec50039bbe4a8"
        },
        "_type": "PublishedContent",
        "approved": false,
        "blobName": "published/mitforlob/20210514125419145_2994163754_5ffee489a0731b003575336c.json",
        "disabled": true,
        "namespace": "mitforlob",
        "originalId": "5ffee489a0731b003575336c",
        "publishedAt": 1620996859222,
        "publishedBy": "elisabeth@visikon.com",
        "version": 7
       },
       {
        "__v": 0,
        "_id": {
         "$oid": "609e73fc4cfec50039bbe4ad"
        },
        "_type": "PublishedContent",
        "approved": true,
        "blobName": "published/mitforlob/20210514125836703_7186675392_5f9e904cf6c80700393b4305.json",
        "disabled": false,
        "namespace": "mitforlob",
        "originalId": "5f9e904cf6c80700393b4305",
        "publishedAt": 1620997116772,
        "publishedBy": "elisabeth@visikon.com",
        "version": 11
       },
       {
        "__v": 0,
        "_id": {
         "$oid": "60a51b254cfec50039bbf3eb"
        },
        "_type": "PublishedContent",
        "approved": false,
        "blobName": "published/mitforlob/20210519140525815_3968601091_6011cea61d0fc20039373749.json",
        "disabled": true,
        "namespace": "mitforlob",
        "originalId": "6011cea61d0fc20039373749",
        "publishedAt": 1621433125914,
        "publishedBy": "mette@visikon.com",
        "version": 6
       },
       {
        "__v": 0,
        "_id": {
         "$oid": "60a51b314cfec50039bbf3ec"
        },
        "_type": "PublishedContent",
        "approved": false,
        "blobName": "published/mitforlob/20210519140537628_3948104790_609e66644cfec50039bbe462.json",
        "disabled": true,
        "namespace": "mitforlob",
        "originalId": "609e66644cfec50039bbe462",
        "publishedAt": 1621433137686,
        "publishedBy": "mette@visikon.com",
        "version": 6
       },
       {
        "__v": 0,
        "_id": {
         "$oid": "60a51b454cfec50039bbf3ed"
        },
        "_type": "PublishedContent",
        "approved": false,
        "blobName": "published/mitforlob/20210519140557005_710049912_6011cdb71d0fc20039373745.json",
        "disabled": true,
        "namespace": "mitforlob",
        "originalId": "6011cdb71d0fc20039373745",
        "publishedAt": 1621433157074,
        "publishedBy": "mette@visikon.com",
        "version": 8
       },
       {
        "__v": 0,
        "_id": {
         "$oid": "60a51b654cfec50039bbf3ef"
        },
        "_type": "PublishedContent",
        "approved": false,
        "blobName": "published/mitforlob/20210519140629529_3531053531_6011cd5f1d0fc20039373741.json",
        "disabled": true,
        "namespace": "mitforlob",
        "originalId": "6011cd5f1d0fc20039373741",
        "publishedAt": 1621433189594,
        "publishedBy": "mette@visikon.com",
        "version": 10
       },
       {
        "__v": 0,
        "_id": {
         "$oid": "60a51b734cfec50039bbf3f0"
        },
        "_type": "PublishedContent",
        "approved": false,
        "blobName": "published/mitforlob/20210519140643070_1773803217_609e65d74cfec50039bbe45a.json",
        "disabled": true,
        "namespace": "mitforlob",
        "originalId": "609e65d74cfec50039bbe45a",
        "publishedAt": 1621433203139,
        "publishedBy": "mette@visikon.com",
        "version": 10
       },
       {
        "__v": 0,
        "_id": {
         "$oid": "60a51fa84cfec50039bbf3f3"
        },
        "_type": "PublishedContent",
        "approved": true,
        "blobName": "published/mitforlob/20210519142439973_314749537_5b950168c935dc00389b8e06.json",
        "disabled": false,
        "namespace": "mitforlob",
        "originalId": "5b950168c935dc00389b8e06",
        "publishedAt": 1621434280132,
        "publishedBy": "mette@visikon.com",
        "version": 9
       },
       {
        "__v": 0,
        "_id": {
         "$oid": "60afa45fc7144700353e03e0"
        },
        "_type": "PublishedContent",
        "approved": true,
        "blobName": "published/mitforlob/20210527135334947_1119665745_5c909630a12b7a003876bf57.json",
        "disabled": false,
        "namespace": "mitforlob",
        "originalId": "5c909630a12b7a003876bf57",
        "publishedAt": 1622123615193,
        "publishedBy": "mette@visikon.com",
        "version": 7
       },
       {
        "__v": 0,
        "_id": {
         "$oid": "60afab0fc7144700353e03f5"
        },
        "_type": "PublishedContent",
        "approved": true,
        "blobName": "published/mitforlob/20210527142207574_1613470202_5b950168c935dc00389b8e06.json",
        "disabled": false,
        "namespace": "mitforlob",
        "originalId": "5b950168c935dc00389b8e06",
        "publishedAt": 1622125327700,
        "publishedBy": "mette@visikon.com",
        "version": 10
       },
       {
        "__v": 0,
        "_id": {
         "$oid": "60afab66c7144700353e03f6"
        },
        "_type": "PublishedContent",
        "approved": true,
        "blobName": "published/mitforlob/20210527142334065_882401558_5b950168c935dc00389b8e06.json",
        "disabled": false,
        "namespace": "mitforlob",
        "originalId": "5b950168c935dc00389b8e06",
        "publishedAt": 1622125414453,
        "publishedBy": "mette@visikon.com",
        "version": 11
       },
       {
        "__v": 0,
        "_id": {
         "$oid": "60afb2e6c7144700353e040a"
        },
        "_type": "PublishedContent",
        "approved": true,
        "blobName": "published/mitforlob/20210527145533931_7209168037_5b950168c935dc00389b8e06.json",
        "disabled": false,
        "namespace": "mitforlob",
        "originalId": "5b950168c935dc00389b8e06",
        "publishedAt": 1622127334059,
        "publishedBy": "mette@visikon.com",
        "version": 12
       },
       {
        "__v": 0,
        "_id": {
         "$oid": "60afb757c7144700353e0414"
        },
        "_type": "PublishedContent",
        "approved": false,
        "blobName": "published/mitforlob/20210527151431849_7893257272_5f3686867ce2c1004bc8fc4b.json",
        "disabled": true,
        "namespace": "mitforlob",
        "originalId": "5f3686867ce2c1004bc8fc4b",
        "publishedAt": 1622128471923,
        "publishedBy": "mette@visikon.com",
        "version": 4
       },
       {
        "__v": 0,
        "_id": {
         "$oid": "60afb7c3c7144700353e0416"
        },
        "_type": "PublishedContent",
        "approved": true,
        "blobName": "published/mitforlob/20210527151619216_5008417645_5e6ba9505758f90051189fe1.json",
        "disabled": false,
        "namespace": "mitforlob",
        "originalId": "5e6ba9505758f90051189fe1",
        "publishedAt": 1622128579280,
        "publishedBy": "mette@visikon.com",
        "version": 10
       },
       {
        "__v": 0,
        "_id": {
         "$oid": "60afb825c7144700353e0417"
        },
        "_type": "PublishedContent",
        "approved": true,
        "blobName": "published/mitforlob/20210527151757656_4529657533_5e6ba77d5758f90051189fdf.json",
        "disabled": false,
        "namespace": "mitforlob",
        "originalId": "5e6ba77d5758f90051189fdf",
        "publishedAt": 1622128677739,
        "publishedBy": "mette@visikon.com",
        "version": 6
       },
       {
        "__v": 0,
        "_id": {
         "$oid": "60b092f9c7144700353e044f"
        },
        "_type": "PublishedContent",
        "approved": false,
        "blobName": "published/mitforlob/20210528065137445_1439630354_5ffee4eda0731b0035753370.json",
        "disabled": true,
        "namespace": "mitforlob",
        "originalId": "5ffee4eda0731b0035753370",
        "publishedAt": 1622184697501,
        "publishedBy": "mette@visikon.com",
        "version": 8
       },
       {
        "__v": 0,
        "_id": {
         "$oid": "60b09304c7144700353e0450"
        },
        "_type": "PublishedContent",
        "approved": false,
        "blobName": "published/mitforlob/20210528065148503_1267698138_5ffee4eea0731b0035753372.json",
        "disabled": true,
        "namespace": "mitforlob",
        "originalId": "5ffee4eea0731b0035753372",
        "publishedAt": 1622184708549,
        "publishedBy": "mette@visikon.com",
        "version": 7
       },
       {
        "__v": 0,
        "_id": {
         "$oid": "60b0930fc7144700353e0451"
        },
        "_type": "PublishedContent",
        "approved": false,
        "blobName": "published/mitforlob/20210528065159470_6352390434_5ffee4eea0731b0035753374.json",
        "disabled": true,
        "namespace": "mitforlob",
        "originalId": "5ffee4eea0731b0035753374",
        "publishedAt": 1622184719523,
        "publishedBy": "mette@visikon.com",
        "version": 7
       },
       {
        "__v": 0,
        "_id": {
         "$oid": "60d043a10e3e970039d19c12"
        },
        "_type": "PublishedContent",
        "approved": false,
        "blobName": "published/mitforlob/20210621074537287_1704417771_60911b648561e50039bc0b87.json",
        "disabled": true,
        "namespace": "mitforlob",
        "originalId": "60911b648561e50039bc0b87",
        "publishedAt": 1624261537422,
        "publishedBy": "mette@visikon.com",
        "version": 8
       },
       {
        "__v": 0,
        "_id": {
         "$oid": "60d1b2b612f31800352e3bd0"
        },
        "_type": "PublishedContent",
        "approved": false,
        "blobName": "published/mitforlob/20210622095150719_6472762767_5e99857279d6e4004fbba244.json",
        "disabled": false,
        "namespace": "mitforlob",
        "originalId": "5e99857279d6e4004fbba244",
        "publishedAt": 1624355510837,
        "publishedBy": "elisabeth@visikon.com",
        "version": 4
       },
       {
        "__v": 0,
        "_id": {
         "$oid": "60d4dde97c502700399f4898"
        },
        "_type": "PublishedContent",
        "approved": false,
        "blobName": "published/mitforlob/20210624193257681_6095676317_60911b648561e50039bc0b87.json",
        "disabled": true,
        "namespace": "mitforlob",
        "originalId": "60911b648561e50039bc0b87",
        "publishedAt": 1624563177759,
        "publishedBy": "mette@visikon.com",
        "version": 12
       },
       {
        "__v": 0,
        "_id": {
         "$oid": "60d572777c502700399f48a9"
        },
        "_type": "PublishedContent",
        "approved": true,
        "blobName": "published/mitforlob/20210625060647306_2865979929_5d00e30220b2d4003aeee979.json",
        "disabled": false,
        "namespace": "mitforlob",
        "originalId": "5d00e30220b2d4003aeee979",
        "publishedAt": 1624601207404,
        "publishedBy": "sameer@visikon.com",
        "version": 4
       },
       {
        "__v": 0,
        "_id": {
         "$oid": "60d58e6a7c502700399f48ed"
        },
        "_type": "PublishedContent",
        "approved": false,
        "blobName": "published/mitforlob/20210625080602688_7464882017_5d00e30220b2d4003aeee979.json",
        "disabled": true,
        "namespace": "mitforlob",
        "originalId": "5d00e30220b2d4003aeee979",
        "publishedAt": 1624608362772,
        "publishedBy": "sameer@visikon.com",
        "version": 5
       },
       {
        "__v": 0,
        "_id": {
         "$oid": "60d58e8d7c502700399f48ee"
        },
        "_type": "PublishedContent",
        "approved": false,
        "blobName": "published/mitforlob/20210625080637111_1943157480_5d00e30220b2d4003aeee979.json",
        "disabled": false,
        "namespace": "mitforlob",
        "originalId": "5d00e30220b2d4003aeee979",
        "publishedAt": 1624608397185,
        "publishedBy": "sameer@visikon.com",
        "version": 6
       },
       {
        "__v": 0,
        "_id": {
         "$oid": "60de386588f48c0039a507ed"
        },
        "_type": "PublishedContent",
        "approved": true,
        "blobName": "published/mitforlob/20210701214925760_9539611007_5b93f0ec498fad0038e6b0e1.json",
        "disabled": false,
        "namespace": "mitforlob",
        "originalId": "5b93f0ec498fad0038e6b0e1",
        "publishedAt": 1625176165885,
        "publishedBy": "anders@visikon.com",
        "version": 12
       },
       {
        "__v": 0,
        "_id": {
         "$oid": "60e2ae1788f48c0039a50a51"
        },
        "_type": "PublishedContent",
        "approved": false,
        "blobName": "published/mitforlob/20210705070039130_5196023431_6011cc2b1d0fc2003937373c.json",
        "disabled": true,
        "namespace": "mitforlob",
        "originalId": "6011cc2b1d0fc2003937373c",
        "publishedAt": 1625468439190,
        "publishedBy": "elisabeth@visikon.com",
        "version": 8
       },
       {
        "__v": 0,
        "_id": {
         "$oid": "60e2b68e88f48c0039a50a71"
        },
        "_type": "PublishedContent",
        "approved": false,
        "blobName": "published/mitforlob/20210705073646177_6911487656_60c2018e195db90039b5413b.json",
        "disabled": false,
        "namespace": "mitforlob",
        "originalId": "60c2018e195db90039b5413b",
        "publishedAt": 1625470606282,
        "publishedBy": "elisabeth@visikon.com",
        "version": 0
       },
       {
        "__v": 0,
        "_id": {
         "$oid": "60e2d3c088f48c0039a50acb"
        },
        "_type": "PublishedContent",
        "approved": false,
        "blobName": "published/mitforlob/20210705094120642_7354592588_6011cea61d0fc20039373749.json",
        "disabled": true,
        "namespace": "mitforlob",
        "originalId": "6011cea61d0fc20039373749",
        "publishedAt": 1625478080714,
        "publishedBy": "elisabeth@visikon.com",
        "version": 8
       },
       {
        "__v": 0,
        "_id": {
         "$oid": "60e4376e88f48c0039a50c59"
        },
        "_type": "PublishedContent",
        "approved": false,
        "blobName": "published/mitforlob/20210706105854257_5251071054_6011cbb91d0fc2003937373a.json",
        "disabled": true,
        "namespace": "mitforlob",
        "originalId": "6011cbb91d0fc2003937373a",
        "publishedAt": 1625569134315,
        "publishedBy": "elisabeth@visikon.com",
        "version": 12
       },
       {
        "__v": 0,
        "_id": {
         "$oid": "610a3c42812cb500392d5145"
        },
        "_type": "PublishedContent",
        "approved": true,
        "blobName": "published/mitforlob/20210804070533600_3291013589_5d14b6102a6a7a0039bc4529.json",
        "disabled": false,
        "namespace": "mitforlob",
        "originalId": "5d14b6102a6a7a0039bc4529",
        "publishedAt": 1628060738381,
        "publishedBy": "sameer@visikon.com",
        "version": 4
       },
       {
        "__v": 0,
        "_id": {
         "$oid": "610a63e2812cb500392d518c"
        },
        "_type": "PublishedContent",
        "approved": true,
        "blobName": "published/mitforlob/20210804095442746_3526539512_5d14b6102a6a7a0039bc4529.json",
        "disabled": false,
        "namespace": "mitforlob",
        "originalId": "5d14b6102a6a7a0039bc4529",
        "publishedAt": 1628070882896,
        "publishedBy": "sameer@visikon.com",
        "version": 5
       },
       {
        "__v": 0,
        "_id": {
         "$oid": "610d303d812cb500392d5490"
        },
        "_type": "PublishedContent",
        "approved": true,
        "blobName": "published/mitforlob/20210806125109083_2925987769_60e5b57f88f48c0039a515c1.json",
        "disabled": false,
        "namespace": "mitforlob",
        "originalId": "60e5b57f88f48c0039a515c1",
        "publishedAt": 1628254269134,
        "publishedBy": "elisabeth@visikon.com",
        "version": 2
       },
       {
        "__v": 0,
        "_id": {
         "$oid": "611baba5c35f1700351b82bc"
        },
        "_type": "PublishedContent",
        "approved": true,
        "blobName": "published/mitforlob/20210817122925016_5868909827_6011cbb91d0fc2003937373a.json",
        "disabled": false,
        "namespace": "mitforlob",
        "originalId": "6011cbb91d0fc2003937373a",
        "publishedAt": 1629203365085,
        "publishedBy": "mette@visikon.com",
        "version": 17
       },
       {
        "__v": 0,
        "_id": {
         "$oid": "611bac02c35f1700351b82bf"
        },
        "_type": "PublishedContent",
        "approved": true,
        "blobName": "published/mitforlob/20210817123058625_1369659672_6011cdb71d0fc20039373745.json",
        "disabled": false,
        "namespace": "mitforlob",
        "originalId": "6011cdb71d0fc20039373745",
        "publishedAt": 1629203458720,
        "publishedBy": "mette@visikon.com",
        "version": 16
       },
       {
        "__v": 0,
        "_id": {
         "$oid": "611bac1ac35f1700351b82c0"
        },
        "_type": "PublishedContent",
        "approved": true,
        "blobName": "published/mitforlob/20210817123122905_6323751088_6011ce171d0fc20039373747.json",
        "disabled": false,
        "namespace": "mitforlob",
        "originalId": "6011ce171d0fc20039373747",
        "publishedAt": 1629203482961,
        "publishedBy": "mette@visikon.com",
        "version": 9
       },
       {
        "__v": 0,
        "_id": {
         "$oid": "611bac37c35f1700351b82c1"
        },
        "_type": "PublishedContent",
        "approved": true,
        "blobName": "published/mitforlob/20210817123151292_260529418_6011cea61d0fc20039373749.json",
        "disabled": false,
        "namespace": "mitforlob",
        "originalId": "6011cea61d0fc20039373749",
        "publishedAt": 1629203511409,
        "publishedBy": "mette@visikon.com",
        "version": 11
       },
       {
        "__v": 0,
        "_id": {
         "$oid": "611bac56c35f1700351b82c4"
        },
        "_type": "PublishedContent",
        "approved": true,
        "blobName": "published/mitforlob/20210817123222553_5437515018_60c1fe6f195db90039b5412f.json",
        "disabled": false,
        "namespace": "mitforlob",
        "originalId": "60c1fe6f195db90039b5412f",
        "publishedAt": 1629203542726,
        "publishedBy": "mette@visikon.com",
        "version": 3
       },
       {
        "__v": 0,
        "_id": {
         "$oid": "611bac77c35f1700351b82c5"
        },
        "_type": "PublishedContent",
        "approved": true,
        "blobName": "published/mitforlob/20210817123255842_9133339757_60c1ff08195db90039b54131.json",
        "disabled": false,
        "namespace": "mitforlob",
        "originalId": "60c1ff08195db90039b54131",
        "publishedAt": 1629203575899,
        "publishedBy": "mette@visikon.com",
        "version": 5
       },
       {
        "__v": 0,
        "_id": {
         "$oid": "611bacafc35f1700351b82c7"
        },
        "_type": "PublishedContent",
        "approved": true,
        "blobName": "published/mitforlob/20210817123351258_4248046571_60c1ff7f195db90039b54135.json",
        "disabled": false,
        "namespace": "mitforlob",
        "originalId": "60c1ff7f195db90039b54135",
        "publishedAt": 1629203631376,
        "publishedBy": "mette@visikon.com",
        "version": 4
       },
       {
        "__v": 0,
        "_id": {
         "$oid": "611baf38c35f1700351b82d9"
        },
        "_type": "PublishedContent",
        "approved": true,
        "blobName": "published/mitforlob/20210817124439990_44581670_6011cbb91d0fc2003937373a.json",
        "disabled": false,
        "namespace": "mitforlob",
        "originalId": "6011cbb91d0fc2003937373a",
        "publishedAt": 1629204280125,
        "publishedBy": "mette@visikon.com",
        "version": 18
       },
       {
        "__v": 0,
        "_id": {
         "$oid": "611bac94c35f1700351b82c6"
        },
        "_type": "PublishedContent",
        "approved": true,
        "blobName": "published/mitforlob/20210817123324241_2405654520_60c1ff44195db90039b54133.json",
        "disabled": false,
        "namespace": "mitforlob",
        "originalId": "60c1ff44195db90039b54133",
        "publishedAt": 1629203604338,
        "publishedBy": "mette@visikon.com",
        "version": 5
       },
       {
        "__v": 0,
        "_id": {
         "$oid": "611cfd9ec35f1700351b8349"
        },
        "_type": "PublishedContent",
        "approved": true,
        "blobName": "published/mitforlob/20210818123125880_9309966040_60d8898f7c502700399f4b0d.json",
        "disabled": false,
        "namespace": "mitforlob",
        "originalId": "60d8898f7c502700399f4b0d",
        "publishedAt": 1629289886023,
        "publishedBy": "mette@visikon.com",
        "version": 6
       },
       {
        "__v": 0,
        "_id": {
         "$oid": "611cfda9c35f1700351b834a"
        },
        "_type": "PublishedContent",
        "approved": true,
        "blobName": "published/mitforlob/20210818123137689_7148446387_60d8899c7c502700399f4b0f.json",
        "disabled": false,
        "namespace": "mitforlob",
        "originalId": "60d8899c7c502700399f4b0f",
        "publishedAt": 1629289897770,
        "publishedBy": "mette@visikon.com",
        "version": 4
       },
       {
        "__v": 0,
        "_id": {
         "$oid": "611cfdb4c35f1700351b834b"
        },
        "_type": "PublishedContent",
        "approved": true,
        "blobName": "published/mitforlob/20210818123148838_9740997761_60d88a407c502700399f4b13.json",
        "disabled": false,
        "namespace": "mitforlob",
        "originalId": "60d88a407c502700399f4b13",
        "publishedAt": 1629289908888,
        "publishedBy": "mette@visikon.com",
        "version": 4
       },
       {
        "__v": 0,
        "_id": {
         "$oid": "611cfdbfc35f1700351b834c"
        },
        "_type": "PublishedContent",
        "approved": true,
        "blobName": "published/mitforlob/20210818123159573_8326368039_60d88a617c502700399f4b15.json",
        "disabled": false,
        "namespace": "mitforlob",
        "originalId": "60d88a617c502700399f4b15",
        "publishedAt": 1629289919640,
        "publishedBy": "mette@visikon.com",
        "version": 4
       },
       {
        "__v": 0,
        "_id": {
         "$oid": "611cff2bc35f1700351b834f"
        },
        "_type": "PublishedContent",
        "approved": false,
        "blobName": "published/mitforlob/20210818123754260_7104661687_60d8898f7c502700399f4b0d.json",
        "disabled": true,
        "namespace": "mitforlob",
        "originalId": "60d8898f7c502700399f4b0d",
        "publishedAt": 1629290283158,
        "publishedBy": "mette@visikon.com",
        "version": 7
       },
       {
        "__v": 0,
        "_id": {
         "$oid": "611cff30c35f1700351b8350"
        },
        "_type": "PublishedContent",
        "approved": true,
        "blobName": "published/mitforlob/20210818123808930_6401381885_60d8898f7c502700399f4b0d.json",
        "disabled": true,
        "namespace": "mitforlob",
        "originalId": "60d8898f7c502700399f4b0d",
        "publishedAt": 1629290288986,
        "publishedBy": "mette@visikon.com",
        "version": 8
       },
       {
        "__v": 0,
        "_id": {
         "$oid": "611cff40c35f1700351b8351"
        },
        "_type": "PublishedContent",
        "approved": true,
        "blobName": "published/mitforlob/20210818123824157_1602455870_60d8898f7c502700399f4b0d.json",
        "disabled": false,
        "namespace": "mitforlob",
        "originalId": "60d8898f7c502700399f4b0d",
        "publishedAt": 1629290304207,
        "publishedBy": "mette@visikon.com",
        "version": 9
       },
       {
        "__v": 0,
        "_id": {
         "$oid": "611cff5bc35f1700351b8352"
        },
        "_type": "PublishedContent",
        "approved": true,
        "blobName": "published/mitforlob/20210818123850985_7312276598_60d8899c7c502700399f4b0f.json",
        "disabled": false,
        "namespace": "mitforlob",
        "originalId": "60d8899c7c502700399f4b0f",
        "publishedAt": 1629290331060,
        "publishedBy": "mette@visikon.com",
        "version": 5
       },
       {
        "__v": 0,
        "_id": {
         "$oid": "611cff66c35f1700351b8353"
        },
        "_type": "PublishedContent",
        "approved": true,
        "blobName": "published/mitforlob/20210818123902432_7789670457_60d88a407c502700399f4b13.json",
        "disabled": false,
        "namespace": "mitforlob",
        "originalId": "60d88a407c502700399f4b13",
        "publishedAt": 1629290342478,
        "publishedBy": "mette@visikon.com",
        "version": 5
       },
       {
        "__v": 0,
        "_id": {
         "$oid": "611cff70c35f1700351b8354"
        },
        "_type": "PublishedContent",
        "approved": true,
        "blobName": "published/mitforlob/20210818123912860_1595508895_60d88a617c502700399f4b15.json",
        "disabled": false,
        "namespace": "mitforlob",
        "originalId": "60d88a617c502700399f4b15",
        "publishedAt": 1629290352911,
        "publishedBy": "mette@visikon.com",
        "version": 5
       },
       {
        "__v": 0,
        "_id": {
         "$oid": "611f9f0ffadd3c0039dba849"
        },
        "_type": "PublishedContent",
        "approved": true,
        "blobName": "published/mitforlob/20210820122446967_4449229742_6011ccd01d0fc2003937373e.json",
        "disabled": false,
        "namespace": "mitforlob",
        "originalId": "6011ccd01d0fc2003937373e",
        "publishedAt": 1629462287040,
        "publishedBy": "mette@visikon.com",
        "version": 18
       },
       {
        "__v": 0,
        "_id": {
         "$oid": "613717fc7a804c00387f825c"
        },
        "_type": "PublishedContent",
        "approved": true,
        "blobName": "published/mitforlob/20210907074252458_7805207054_60e5b57f88f48c0039a515c1.json",
        "disabled": false,
        "namespace": "mitforlob",
        "originalId": "60e5b57f88f48c0039a515c1",
        "publishedAt": 1631000572516,
        "publishedBy": "elisabeth@visikon.com",
        "version": 5
       },
       {
        "__v": 0,
        "_id": {
         "$oid": "61501a192ccfb00039a25ded"
        },
        "_type": "PublishedContent",
        "approved": true,
        "blobName": "published/mitforlob/20210926065833623_5233155859_5f9e904cf6c80700393b4305.json",
        "disabled": false,
        "namespace": "mitforlob",
        "originalId": "5f9e904cf6c80700393b4305",
        "publishedAt": 1632639513756,
        "publishedBy": "mette@visikon.com",
        "version": 18
       },
       {
        "__v": 0,
        "_id": {
         "$oid": "617bc015f17c870039648276"
        },
        "_type": "PublishedContent",
        "approved": false,
        "blobName": "published/mitforlob/20211029093413307_8970247981_61370d8a7a804c00387f8239.json",
        "disabled": false,
        "namespace": "mitforlob",
        "originalId": "61370d8a7a804c00387f8239",
        "publishedAt": 1635500053403,
        "publishedBy": "katharina@visikon.com",
        "version": 1
       },
       {
        "__v": 0,
        "_id": {
         "$oid": "617bc062f17c870039648277"
        },
        "_type": "PublishedContent",
        "approved": false,
        "blobName": "published/mitforlob/20211029093530081_3933903686_60ec2bba88f48c0039a51d10.json",
        "disabled": true,
        "namespace": "mitforlob",
        "originalId": "60ec2bba88f48c0039a51d10",
        "publishedAt": 1635500130156,
        "publishedBy": "katharina@visikon.com",
        "version": 7
       },
       {
        "__v": 0,
        "_id": {
         "$oid": "617bc082f17c870039648278"
        },
        "_type": "PublishedContent",
        "approved": false,
        "blobName": "published/mitforlob/20211029093602830_5528581239_60ec24a288f48c0039a51cfc.json",
        "disabled": true,
        "namespace": "mitforlob",
        "originalId": "60ec24a288f48c0039a51cfc",
        "publishedAt": 1635500162933,
        "publishedBy": "katharina@visikon.com",
        "version": 4
       },
       {
        "__v": 0,
        "_id": {
         "$oid": "617bc0d6f17c870039648279"
        },
        "_type": "PublishedContent",
        "approved": false,
        "blobName": "published/mitforlob/20211029093726553_5600377873_60ec24a288f48c0039a51cfc.json",
        "disabled": true,
        "namespace": "mitforlob",
        "originalId": "60ec24a288f48c0039a51cfc",
        "publishedAt": 1635500246658,
        "publishedBy": "katharina@visikon.com",
        "version": 5
       },
       {
        "__v": 0,
        "_id": {
         "$oid": "617bc142f17c87003964827c"
        },
        "_type": "PublishedContent",
        "approved": false,
        "blobName": "published/mitforlob/20211029093914808_1157447275_60ec24a288f48c0039a51cfc.json",
        "disabled": true,
        "namespace": "mitforlob",
        "originalId": "60ec24a288f48c0039a51cfc",
        "publishedAt": 1635500354899,
        "publishedBy": "katharina@visikon.com",
        "version": 6
       },
       {
        "__v": 0,
        "_id": {
         "$oid": "617bc1c6f17c87003964827d"
        },
        "_type": "PublishedContent",
        "approved": false,
        "blobName": "published/mitforlob/20211029094126564_5669476054_60ec2bba88f48c0039a51d10.json",
        "disabled": true,
        "namespace": "mitforlob",
        "originalId": "60ec2bba88f48c0039a51d10",
        "publishedAt": 1635500486653,
        "publishedBy": "katharina@visikon.com",
        "version": 8
       },
       {
        "__v": 0,
        "_id": {
         "$oid": "617bc1cef17c87003964827e"
        },
        "_type": "PublishedContent",
        "approved": false,
        "blobName": "published/mitforlob/20211029094134673_722227363_60ec2bba88f48c0039a51d10.json",
        "disabled": true,
        "namespace": "mitforlob",
        "originalId": "60ec2bba88f48c0039a51d10",
        "publishedAt": 1635500494741,
        "publishedBy": "katharina@visikon.com",
        "version": 9
       },
       {
        "__v": 0,
        "_id": {
         "$oid": "617c20a83397d5003a1954cf"
        },
        "_type": "PublishedContent",
        "approved": true,
        "blobName": "published/mitforlob/20211029162615997_7917139164_61370d8a7a804c00387f8239.json",
        "disabled": false,
        "namespace": "mitforlob",
        "originalId": "61370d8a7a804c00387f8239",
        "publishedAt": 1635524776328,
        "publishedBy": "anders@visikon.com",
        "version": 2
       },
       {
        "__v": 0,
        "_id": {
         "$oid": "617e842f5c05e8003a143af2"
        },
        "_type": "PublishedContent",
        "approved": false,
        "blobName": "published/mitforlob/20211031115527189_7272160552_60e5b25188f48c0039a51560.json",
        "disabled": true,
        "namespace": "mitforlob",
        "originalId": "60e5b25188f48c0039a51560",
        "publishedAt": 1635681327279,
        "publishedBy": "mette@visikon.com",
        "version": 7
       },
       {
        "__v": 0,
        "_id": {
         "$oid": "617e86085c05e8003a143b02"
        },
        "_type": "PublishedContent",
        "approved": true,
        "blobName": "published/mitforlob/20211031120320911_3080268565_60e5ac1488f48c0039a5155a.json",
        "disabled": false,
        "namespace": "mitforlob",
        "originalId": "60e5ac1488f48c0039a5155a",
        "publishedAt": 1635681800981,
        "publishedBy": "mette@visikon.com",
        "version": 9
       },
       {
        "__v": 0,
        "_id": {
         "$oid": "6184ea0b6a1977003a9c0b71"
        },
        "_type": "PublishedContent",
        "approved": true,
        "blobName": "published/mitforlob/20211105082339515_2984902168_61164e71c35f1700351b7e74.json",
        "disabled": false,
        "namespace": "mitforlob",
        "originalId": "61164e71c35f1700351b7e74",
        "publishedAt": 1636100619589,
        "publishedBy": "mette@visikon.com",
        "version": 7
       },
       {
        "__v": 0,
        "_id": {
         "$oid": "6184ea146a1977003a9c0b72"
        },
        "_type": "PublishedContent",
        "approved": true,
        "blobName": "published/mitforlob/20211105082348748_916230171_60911b648561e50039bc0b87.json",
        "disabled": false,
        "namespace": "mitforlob",
        "originalId": "60911b648561e50039bc0b87",
        "publishedAt": 1636100628831,
        "publishedBy": "mette@visikon.com",
        "version": 22
       },
       {
        "__v": 0,
        "_id": {
         "$oid": "6184f9036a1977003a9c0b75"
        },
        "_type": "PublishedContent",
        "approved": true,
        "blobName": "published/mitforlob/20211105092731645_5615563922_61164e71c35f1700351b7e74.json",
        "disabled": false,
        "namespace": "mitforlob",
        "originalId": "61164e71c35f1700351b7e74",
        "publishedAt": 1636104451757,
        "publishedBy": "mette@visikon.com",
        "version": 8
       },
       {
        "__v": 0,
        "_id": {
         "$oid": "6184f90e6a1977003a9c0b76"
        },
        "_type": "PublishedContent",
        "approved": true,
        "blobName": "published/mitforlob/20211105092742215_4738161307_60911b648561e50039bc0b87.json",
        "disabled": false,
        "namespace": "mitforlob",
        "originalId": "60911b648561e50039bc0b87",
        "publishedAt": 1636104462290,
        "publishedBy": "mette@visikon.com",
        "version": 23
       },
       {
        "__v": 0,
        "_id": {
         "$oid": "61850e576a1977003a9c0b7a"
        },
        "_type": "PublishedContent",
        "approved": true,
        "blobName": "published/mitforlob/20211105105830947_3169332657_61164e71c35f1700351b7e74.json",
        "disabled": false,
        "namespace": "mitforlob",
        "originalId": "61164e71c35f1700351b7e74",
        "publishedAt": 1636109911031,
        "publishedBy": "mette@visikon.com",
        "version": 9
       },
       {
        "__v": 0,
        "_id": {
         "$oid": "618510f56a1977003a9c0b80"
        },
        "_type": "PublishedContent",
        "approved": true,
        "blobName": "published/mitforlob/20211105110941789_2724290873_61164e71c35f1700351b7e74.json",
        "disabled": false,
        "namespace": "mitforlob",
        "originalId": "61164e71c35f1700351b7e74",
        "publishedAt": 1636110581865,
        "publishedBy": "mette@visikon.com",
        "version": 10
       },
       {
        "__v": 0,
        "_id": {
         "$oid": "618511006a1977003a9c0b83"
        },
        "_type": "PublishedContent",
        "approved": true,
        "blobName": "published/mitforlob/20211105110952726_8253645847_60911b648561e50039bc0b87.json",
        "disabled": false,
        "namespace": "mitforlob",
        "originalId": "60911b648561e50039bc0b87",
        "publishedAt": 1636110592826,
        "publishedBy": "mette@visikon.com",
        "version": 25
       },
       {
        "__v": 0,
        "_id": {
         "$oid": "6195fca46a1977003a9c1d29"
        },
        "_type": "PublishedContent",
        "approved": true,
        "blobName": "published/mitforlob/20211118071132562_3425891801_60ec24a288f48c0039a51cfc.json",
        "disabled": false,
        "namespace": "mitforlob",
        "originalId": "60ec24a288f48c0039a51cfc",
        "publishedAt": 1637219492762,
        "publishedBy": "katharina@visikon.com",
        "version": 7
       },
       {
        "__v": 0,
        "_id": {
         "$oid": "61a483459c75ff003a2a00d2"
        },
        "_type": "PublishedContent",
        "approved": true,
        "blobName": "published/mitforlob/20211129073741131_4745369314_61a483339c75ff003a2a00d0.json",
        "disabled": false,
        "namespace": "mitforlob",
        "originalId": "61a483339c75ff003a2a00d0",
        "publishedAt": 1638171461317,
        "publishedBy": "mette@visikon.com",
        "version": 1
       },
       {
        "__v": 0,
        "_id": {
         "$oid": "61a486939c75ff003a2a00db"
        },
        "_type": "PublishedContent",
        "approved": true,
        "blobName": "published/mitforlob/20211129075147135_6655031021_61a483339c75ff003a2a00d0.json",
        "disabled": false,
        "namespace": "mitforlob",
        "originalId": "61a483339c75ff003a2a00d0",
        "publishedAt": 1638172307197,
        "publishedBy": "mette@visikon.com",
        "version": 2
       },
       {
        "__v": 0,
        "_id": {
         "$oid": "61a4de589c75ff003a2a01a3"
        },
        "_type": "PublishedContent",
        "approved": false,
        "blobName": "published/mitforlob/20211129140616640_491747901_61487f752ccfb00039a23dc9.json",
        "disabled": true,
        "namespace": "mitforlob",
        "originalId": "61487f752ccfb00039a23dc9",
        "publishedAt": 1638194776791,
        "publishedBy": "mette@visikon.com",
        "version": 15
       },
       {
        "__v": 0,
        "_id": {
         "$oid": "61bc7498eb8d35003a741caf"
        },
        "_type": "PublishedContent",
        "approved": true,
        "blobName": "published/mitforlob/20211217112928628_5889428148_61487f752ccfb00039a23dc9.json",
        "disabled": false,
        "namespace": "mitforlob",
        "originalId": "61487f752ccfb00039a23dc9",
        "publishedAt": 1639740568717,
        "publishedBy": "mette@visikon.com",
        "version": 16
       },
       {
        "__v": 0,
        "_id": {
         "$oid": "61d54a646b3954003a425892"
        },
        "_type": "PublishedContent",
        "approved": true,
        "blobName": "published/mitforlob/20220105073604803_302836114_61d54a5c6b3954003a425890.json",
        "disabled": false,
        "namespace": "mitforlob",
        "originalId": "61d54a5c6b3954003a425890",
        "publishedAt": 1641368164925,
        "publishedBy": "alexandra@visikon.com",
        "version": 1
       },
       {
        "__v": 0,
        "_id": {
         "$oid": "61d54d216b3954003a425895"
        },
        "_type": "PublishedContent",
        "approved": false,
        "blobName": "published/mitforlob/20220105074745565_9093564679_61d54a5c6b3954003a425890.json",
        "disabled": true,
        "namespace": "mitforlob",
        "originalId": "61d54a5c6b3954003a425890",
        "publishedAt": 1641368865694,
        "publishedBy": "alexandra@visikon.com",
        "version": 2
       },
       {
        "__v": 0,
        "_id": {
         "$oid": "61d553336b3954003a425896"
        },
        "_type": "PublishedContent",
        "approved": false,
        "blobName": "published/mitforlob/20220105081339521_7106631715_61d54a5c6b3954003a425890.json",
        "disabled": true,
        "namespace": "mitforlob",
        "originalId": "61d54a5c6b3954003a425890",
        "publishedAt": 1641370419687,
        "publishedBy": "alexandra@visikon.com",
        "version": 3
       },
       {
        "__v": 0,
        "_id": {
         "$oid": "61d55aa06b3954003a4258a4"
        },
        "_type": "PublishedContent",
        "approved": true,
        "blobName": "published/mitforlob/20220105084519898_3797367985_61d553ab6b3954003a425897.json",
        "disabled": false,
        "namespace": "mitforlob",
        "originalId": "61d553ab6b3954003a425897",
        "publishedAt": 1641372320180,
        "publishedBy": "alexandra@visikon.com",
        "version": 1
       },
       {
        "__v": 0,
        "_id": {
         "$oid": "61d55db56b3954003a4258a8"
        },
        "_type": "PublishedContent",
        "approved": true,
        "blobName": "published/mitforlob/20220105085829327_8232166071_61d553ab6b3954003a425897.json",
        "disabled": true,
        "namespace": "mitforlob",
        "originalId": "61d553ab6b3954003a425897",
        "publishedAt": 1641373109483,
        "publishedBy": "alexandra@visikon.com",
        "version": 2
       },
       {
        "__v": 0,
        "_id": {
         "$oid": "61d55ebf6b3954003a4258b3"
        },
        "_type": "PublishedContent",
        "approved": true,
        "blobName": "published/mitforlob/20220105090255530_4169839107_61d54a5c6b3954003a425890.json",
        "disabled": true,
        "namespace": "mitforlob",
        "originalId": "61d54a5c6b3954003a425890",
        "publishedAt": 1641373375596,
        "publishedBy": "alexandra@visikon.com",
        "version": 4
       },
       {
        "__v": 0,
        "_id": {
         "$oid": "61d55efd6b3954003a4258b4"
        },
        "_type": "PublishedContent",
        "approved": true,
        "blobName": "published/mitforlob/20220105090357353_7564028058_61d553ab6b3954003a425897.json",
        "disabled": true,
        "namespace": "mitforlob",
        "originalId": "61d553ab6b3954003a425897",
        "publishedAt": 1641373437409,
        "publishedBy": "alexandra@visikon.com",
        "version": 3
       },
       {
        "__v": 0,
        "_id": {
         "$oid": "61d55fa36b3954003a4258b5"
        },
        "_type": "PublishedContent",
        "approved": true,
        "blobName": "published/mitforlob/20220105090643163_1154954236_61d553ab6b3954003a425897.json",
        "disabled": true,
        "namespace": "mitforlob",
        "originalId": "61d553ab6b3954003a425897",
        "publishedAt": 1641373603291,
        "publishedBy": "alexandra@visikon.com",
        "version": 4
       },
       {
        "__v": 0,
        "_id": {
         "$oid": "61d567a36b3954003a4258d4"
        },
        "_type": "PublishedContent",
        "approved": true,
        "blobName": "published/mitforlob/20220105094050929_6138195840_61d553ab6b3954003a425897.json",
        "disabled": true,
        "namespace": "mitforlob",
        "originalId": "61d553ab6b3954003a425897",
        "publishedAt": 1641375651046,
        "publishedBy": "alexandra@visikon.com",
        "version": 6
       },
       {
        "__v": 0,
        "_id": {
         "$oid": "61d568566b3954003a4258d6"
        },
        "_type": "PublishedContent",
        "approved": false,
        "blobName": "published/mitforlob/20220105094350335_6801140580_61d553ab6b3954003a425897.json",
        "disabled": true,
        "namespace": "mitforlob",
        "originalId": "61d553ab6b3954003a425897",
        "publishedAt": 1641375830410,
        "publishedBy": "alexandra@visikon.com",
        "version": 2
       },
       {
        "__v": 0,
        "_id": {
         "$oid": "61d5691f6b3954003a4258d9"
        },
        "_type": "PublishedContent",
        "approved": false,
        "blobName": "published/mitforlob/20220105094711078_6465812815_61d553ab6b3954003a425897.json",
        "disabled": true,
        "namespace": "mitforlob",
        "originalId": "61d553ab6b3954003a425897",
        "publishedAt": 1641376031240,
        "publishedBy": "alexandra@visikon.com",
        "version": 3
       },
       {
        "__v": 0,
        "_id": {
         "$oid": "61d56ae36b3954003a4258e0"
        },
        "_type": "PublishedContent",
        "approved": true,
        "blobName": "published/mitforlob/20220105095443673_2311689097_61d553ab6b3954003a425897.json",
        "disabled": false,
        "namespace": "mitforlob",
        "originalId": "61d553ab6b3954003a425897",
        "publishedAt": 1641376483781,
        "publishedBy": "alexandra@visikon.com",
        "version": 3
       },
       {
        "__v": 0,
        "_id": {
         "$oid": "61d56c6e6b3954003a4258e1"
        },
        "_type": "PublishedContent",
        "approved": true,
        "blobName": "published/mitforlob/20220105100118169_2183793306_61d553ab6b3954003a425897.json",
        "disabled": false,
        "namespace": "mitforlob",
        "originalId": "61d553ab6b3954003a425897",
        "publishedAt": 1641376878329,
        "publishedBy": "alexandra@visikon.com",
        "version": 4
       },
       {
        "__v": 0,
        "_id": {
         "$oid": "61d56e916b3954003a4258e2"
        },
        "_type": "PublishedContent",
        "approved": false,
        "blobName": "published/mitforlob/20220105101025726_5246009558_61d553ab6b3954003a425897.json",
        "disabled": true,
        "namespace": "mitforlob",
        "originalId": "61d553ab6b3954003a425897",
        "publishedAt": 1641377425948,
        "publishedBy": "alexandra@visikon.com",
        "version": 5
       },
       {
        "__v": 0,
        "_id": {
         "$oid": "61d58b376b3954003a42591c"
        },
        "_type": "PublishedContent",
        "approved": true,
        "blobName": "published/mitforlob/20220105121238925_6173183736_5b9117559bfc750039a3369f.json",
        "disabled": true,
        "namespace": "mitforlob",
        "originalId": "5b9117559bfc750039a3369f",
        "publishedAt": 1641384759084,
        "publishedBy": "mette@visikon.com",
        "version": 13
       },
       {
        "__v": 0,
        "_id": {
         "$oid": "61e68634b1fd53003a31f942"
        },
        "_type": "PublishedContent",
        "approved": false,
        "blobName": "published/mitforlob/20220118091948328_798203453_5d604d4137bf44002f4ee620.json",
        "disabled": true,
        "namespace": "mitforlob",
        "originalId": "5d604d4137bf44002f4ee620",
        "publishedAt": 1642497588461,
        "publishedBy": "mette@visikon.com",
        "version": 7
       },
       {
        "__v": 0,
        "_id": {
         "$oid": "61f17757b1fd53003a320d7c"
        },
        "_type": "PublishedContent",
        "approved": false,
        "blobName": "published/mitforlob/20220126163119278_1554760605_5e37fc26e543e1004e82b332.json",
        "disabled": false,
        "namespace": "mitforlob",
        "originalId": "5e37fc26e543e1004e82b332",
        "publishedAt": 1643214679335,
        "publishedBy": "anders@visikon.com",
        "version": 4
       },
       {
        "__v": 0,
        "_id": {
         "$oid": "61f7992db1fd53003a3211d9"
        },
        "_type": "PublishedContent",
        "approved": false,
        "blobName": "published/mitforlob/20220131080917515_61600663_6011ce171d0fc20039373747.json",
        "disabled": true,
        "namespace": "mitforlob",
        "originalId": "6011ce171d0fc20039373747",
        "publishedAt": 1643616557602,
        "publishedBy": "marie@visikon.com",
        "version": 15
       },
       {
        "__v": 0,
        "_id": {
         "$oid": "61fd1d1eb1fd53003a321c71"
        },
        "_type": "PublishedContent",
        "approved": false,
        "blobName": "published/mitforlob/20220204123334803_2699415780_5b9780a8ce298900381d1a55.json",
        "disabled": true,
        "namespace": "mitforlob",
        "originalId": "5b9780a8ce298900381d1a55",
        "publishedAt": 1643978014904,
        "publishedBy": "sameer",
        "version": 4
       },
       {
        "__v": 0,
        "_id": {
         "$oid": "62134d22b57e94003622c89a"
        },
        "_type": "PublishedContent",
        "approved": false,
        "blobName": "published/mitforlob/20220221082818428_7331434866_6124e6e47a804c00387f5cca.json",
        "disabled": true,
        "namespace": "mitforlob",
        "originalId": "6124e6e47a804c00387f5cca",
        "publishedAt": 1645432098647,
        "publishedBy": "alexandra@visikon.com",
        "version": 8
       },
       {
        "__v": 0,
        "_id": {
         "$oid": "62134ef1b57e94003622c89c"
        },
        "_type": "PublishedContent",
        "approved": false,
        "blobName": "published/mitforlob/20220221083601284_8478472120_60e5b38088f48c0039a515a3.json",
        "disabled": true,
        "namespace": "mitforlob",
        "originalId": "60e5b38088f48c0039a515a3",
        "publishedAt": 1645432561375,
        "publishedBy": "alexandra@visikon.com",
        "version": 11
       },
       {
        "__v": 0,
        "_id": {
         "$oid": "6213567db57e94003622c8a3"
        },
        "_type": "PublishedContent",
        "approved": false,
        "blobName": "published/mitforlob/20220221090812874_5284122848_6124e3ce7a804c00387f5cc6.json",
        "disabled": true,
        "namespace": "mitforlob",
        "originalId": "6124e3ce7a804c00387f5cc6",
        "publishedAt": 1645434493085,
        "publishedBy": "marie@visikon.com",
        "version": 8
       },
       {
        "__v": 0,
        "_id": {
         "$oid": "621356b2b57e94003622c8a4"
        },
        "_type": "PublishedContent",
        "approved": false,
        "blobName": "published/mitforlob/20220221090906328_6336967966_6124e6e47a804c00387f5cca.json",
        "disabled": true,
        "namespace": "mitforlob",
        "originalId": "6124e6e47a804c00387f5cca",
        "publishedAt": 1645434546386,
        "publishedBy": "marie@visikon.com",
        "version": 9
       },
       {
        "__v": 0,
        "_id": {
         "$oid": "62135708b57e94003622c8a5"
        },
        "_type": "PublishedContent",
        "approved": false,
        "blobName": "published/mitforlob/20220221091032599_3673847071_6124e8c47a804c00387f5cce.json",
        "disabled": true,
        "namespace": "mitforlob",
        "originalId": "6124e8c47a804c00387f5cce",
        "publishedAt": 1645434632711,
        "publishedBy": "marie@visikon.com",
        "version": 9
       },
       {
        "__v": 0,
        "_id": {
         "$oid": "621362feb57e94003622c8c3"
        },
        "_type": "PublishedContent",
        "approved": true,
        "blobName": "published/mitforlob/20220221100134670_4402703337_61487f752ccfb00039a23dc9.json",
        "disabled": false,
        "namespace": "mitforlob",
        "originalId": "61487f752ccfb00039a23dc9",
        "publishedAt": 1645437694746,
        "publishedBy": "mette@visikon.com",
        "version": 29
       },
       {
        "__v": 0,
        "_id": {
         "$oid": "6213630cb57e94003622c8c4"
        },
        "_type": "PublishedContent",
        "approved": true,
        "blobName": "published/mitforlob/20220221100148805_6685726968_609930f237745000357bb68f.json",
        "disabled": false,
        "namespace": "mitforlob",
        "originalId": "609930f237745000357bb68f",
        "publishedAt": 1645437708866,
        "publishedBy": "mette@visikon.com",
        "version": 25
       },
       {
        "__v": 0,
        "_id": {
         "$oid": "6213631cb57e94003622c8c5"
        },
        "_type": "PublishedContent",
        "approved": true,
        "blobName": "published/mitforlob/20220221100204022_4630702240_60992efe37745000357bb684.json",
        "disabled": false,
        "namespace": "mitforlob",
        "originalId": "60992efe37745000357bb684",
        "publishedAt": 1645437724103,
        "publishedBy": "mette@visikon.com",
        "version": 26
       },
       {
        "__v": 0,
        "_id": {
         "$oid": "62136329b57e94003622c8c6"
        },
        "_type": "PublishedContent",
        "approved": true,
        "blobName": "published/mitforlob/20220221100217778_5338343207_6099310b37745000357bb691.json",
        "disabled": false,
        "namespace": "mitforlob",
        "originalId": "6099310b37745000357bb691",
        "publishedAt": 1645437737871,
        "publishedBy": "mette@visikon.com",
        "version": 24
       },
       {
        "__v": 0,
        "_id": {
         "$oid": "62138e8ab57e94003622c918"
        },
        "_type": "PublishedContent",
        "approved": false,
        "blobName": "published/mitforlob/20220221130722435_625123466_5b93f0ec498fad0038e6b0e1.json",
        "disabled": false,
        "namespace": "mitforlob",
        "originalId": "5b93f0ec498fad0038e6b0e1",
        "publishedAt": 1645448842548,
        "publishedBy": "marie@visikon.com",
        "version": 17
       },
       {
        "__v": 0,
        "_id": {
         "$oid": "6213a735b57e94003622c936"
        },
        "_type": "PublishedContent",
        "approved": false,
        "blobName": "published/mitforlob/20220221145237376_5169147908_5b9795e8aab66500386d670e.json",
        "disabled": true,
        "namespace": "mitforlob",
        "originalId": "5b9795e8aab66500386d670e",
        "publishedAt": 1645455157447,
        "publishedBy": "marie@visikon.com",
        "version": 5
       },
       {
        "__v": 0,
        "_id": {
         "$oid": "6213a75cb57e94003622c937"
        },
        "_type": "PublishedContent",
        "approved": false,
        "blobName": "published/mitforlob/20220221145316471_8684796497_5b97959eaab66500386d670c.json",
        "disabled": false,
        "namespace": "mitforlob",
        "originalId": "5b97959eaab66500386d670c",
        "publishedAt": 1645455196598,
        "publishedBy": "marie@visikon.com",
        "version": 5
       },
       {
        "__v": 0,
        "_id": {
         "$oid": "62149281b57e94003622c9e2"
        },
        "_type": "PublishedContent",
        "approved": false,
        "blobName": "published/mitforlob/20220222073633437_8947950783_61ae13319c75ff003a2a0589.json",
        "disabled": true,
        "namespace": "mitforlob",
        "originalId": "61ae13319c75ff003a2a0589",
        "publishedAt": 1645515393542,
        "publishedBy": "marie@visikon.com",
        "version": 13
       },
       {
        "__v": 0,
        "_id": {
         "$oid": "6214af85b57e94003622ca3d"
        },
        "_type": "PublishedContent",
        "approved": false,
        "blobName": "published/mitforlob/20220222094021033_9262879124_61ae13319c75ff003a2a0589.json",
        "disabled": true,
        "namespace": "mitforlob",
        "originalId": "61ae13319c75ff003a2a0589",
        "publishedAt": 1645522821163,
        "publishedBy": "marie@visikon.com",
        "version": 14
       },
       {
        "__v": 0,
        "_id": {
         "$oid": "6214b022b57e94003622ca3e"
        },
        "_type": "PublishedContent",
        "approved": false,
        "blobName": "published/mitforlob/20220222094258520_7823079444_61ae13319c75ff003a2a0589.json",
        "disabled": true,
        "namespace": "mitforlob",
        "originalId": "61ae13319c75ff003a2a0589",
        "publishedAt": 1645522978597,
        "publishedBy": "marie@visikon.com",
        "version": 15
       },
       {
        "__v": 0,
        "_id": {
         "$oid": "6214b55db57e94003622ca6a"
        },
        "_type": "PublishedContent",
        "approved": false,
        "blobName": "published/mitforlob/20220222100517738_9953560821_61ae13319c75ff003a2a0589.json",
        "disabled": true,
        "namespace": "mitforlob",
        "originalId": "61ae13319c75ff003a2a0589",
        "publishedAt": 1645524317857,
        "publishedBy": "marie@visikon.com",
        "version": 16
       },
       {
        "__v": 0,
        "_id": {
         "$oid": "6214b579b57e94003622ca6b"
        },
        "_type": "PublishedContent",
        "approved": false,
        "blobName": "published/mitforlob/20220222100545548_6608203037_61ae13009c75ff003a2a0587.json",
        "disabled": true,
        "namespace": "mitforlob",
        "originalId": "61ae13009c75ff003a2a0587",
        "publishedAt": 1645524345604,
        "publishedBy": "marie@visikon.com",
        "version": 11
       },
       {
        "__v": 0,
        "_id": {
         "$oid": "6214b585b57e94003622ca6c"
        },
        "_type": "PublishedContent",
        "approved": false,
        "blobName": "published/mitforlob/20220222100557326_4882201736_61ae12a39c75ff003a2a0585.json",
        "disabled": true,
        "namespace": "mitforlob",
        "originalId": "61ae12a39c75ff003a2a0585",
        "publishedAt": 1645524357381,
        "publishedBy": "marie@visikon.com",
        "version": 9
       },
       {
        "__v": 0,
        "_id": {
         "$oid": "6214b590b57e94003622ca6d"
        },
        "_type": "PublishedContent",
        "approved": false,
        "blobName": "published/mitforlob/20220222100608297_5906105098_615bdef903dba70039ab0700.json",
        "disabled": true,
        "namespace": "mitforlob",
        "originalId": "615bdef903dba70039ab0700",
        "publishedAt": 1645524368355,
        "publishedBy": "marie@visikon.com",
        "version": 12
       },
       {
        "__v": 0,
        "_id": {
         "$oid": "6214b61ab57e94003622ca71"
        },
        "_type": "PublishedContent",
        "approved": false,
        "blobName": "published/mitforlob/20220222100826173_5361025745_61ae13319c75ff003a2a0589.json",
        "disabled": true,
        "namespace": "mitforlob",
        "originalId": "61ae13319c75ff003a2a0589",
        "publishedAt": 1645524506222,
        "publishedBy": "marie@visikon.com",
        "version": 17
       },
       {
        "__v": 0,
        "_id": {
         "$oid": "6214b627b57e94003622ca72"
        },
        "_type": "PublishedContent",
        "approved": false,
        "blobName": "published/mitforlob/20220222100839028_4845276254_61ae13009c75ff003a2a0587.json",
        "disabled": true,
        "namespace": "mitforlob",
        "originalId": "61ae13009c75ff003a2a0587",
        "publishedAt": 1645524519087,
        "publishedBy": "marie@visikon.com",
        "version": 12
       },
       {
        "__v": 0,
        "_id": {
         "$oid": "6214b62eb57e94003622ca73"
        },
        "_type": "PublishedContent",
        "approved": false,
        "blobName": "published/mitforlob/20220222100846731_3894351398_61ae12a39c75ff003a2a0585.json",
        "disabled": true,
        "namespace": "mitforlob",
        "originalId": "61ae12a39c75ff003a2a0585",
        "publishedAt": 1645524526832,
        "publishedBy": "marie@visikon.com",
        "version": 10
       },
       {
        "__v": 0,
        "_id": {
         "$oid": "6214b646b57e94003622ca74"
        },
        "_type": "PublishedContent",
        "approved": false,
        "blobName": "published/mitforlob/20220222100910912_4224364394_615bdef903dba70039ab0700.json",
        "disabled": true,
        "namespace": "mitforlob",
        "originalId": "615bdef903dba70039ab0700",
        "publishedAt": 1645524550968,
        "publishedBy": "marie@visikon.com",
        "version": 13
       },
       {
        "__v": 0,
        "_id": {
         "$oid": "6214b6c7b57e94003622ca80"
        },
        "_type": "PublishedContent",
        "approved": false,
        "blobName": "published/mitforlob/20220222101119327_6640390875_61ae12a39c75ff003a2a0585.json",
        "disabled": true,
        "namespace": "mitforlob",
        "originalId": "61ae12a39c75ff003a2a0585",
        "publishedAt": 1645524679413,
        "publishedBy": "marie@visikon.com",
        "version": 12
       },
       {
        "__v": 0,
        "_id": {
         "$oid": "6214b70db57e94003622ca82"
        },
        "_type": "PublishedContent",
        "approved": false,
        "blobName": "published/mitforlob/20220222101229000_4904680444_61ae13319c75ff003a2a0589.json",
        "disabled": true,
        "namespace": "mitforlob",
        "originalId": "61ae13319c75ff003a2a0589",
        "publishedAt": 1645524749060,
        "publishedBy": "marie@visikon.com",
        "version": 18
       },
       {
        "__v": 0,
        "_id": {
         "$oid": "6214f6eab57e94003622cb46"
        },
        "_type": "PublishedContent",
        "approved": false,
        "blobName": "published/mitforlob/20220222144458671_2166348789_60911b648561e50039bc0b87.json",
        "disabled": true,
        "namespace": "mitforlob",
        "originalId": "60911b648561e50039bc0b87",
        "publishedAt": 1645541098736,
        "publishedBy": "alexandra@visikon.com",
        "version": 29
       },
       {
        "__v": 0,
        "_id": {
         "$oid": "6214f970b57e94003622cb50"
        },
        "_type": "PublishedContent",
        "approved": false,
        "blobName": "published/mitforlob/20220222145544441_8104913355_60911b648561e50039bc0b87.json",
        "disabled": true,
        "namespace": "mitforlob",
        "originalId": "60911b648561e50039bc0b87",
        "publishedAt": 1645541744524,
        "publishedBy": "alexandra@visikon.com",
        "version": 30
       },
       {
        "__v": 0,
        "_id": {
         "$oid": "6216381bb57e94003622cd63"
        },
        "_type": "PublishedContent",
        "approved": false,
        "blobName": "published/mitforlob/20220223133523442_3011789733_5e1c41c40a54b800507e2325.json",
        "disabled": true,
        "namespace": "mitforlob",
        "originalId": "5e1c41c40a54b800507e2325",
        "publishedAt": 1645623323726,
        "publishedBy": "alexandra@visikon.com",
        "version": 6
       },
       {
        "__v": 0,
        "_id": {
         "$oid": "6221ffb5a3a81e0035818e6f"
        },
        "_type": "PublishedContent",
        "approved": true,
        "blobName": "published/mitforlob/20220304120157649_2231068008_60e5b38088f48c0039a515a3.json",
        "disabled": false,
        "namespace": "mitforlob",
        "originalId": "60e5b38088f48c0039a515a3",
        "publishedAt": 1646395317770,
        "publishedBy": "alexandra@visikon.com",
        "version": 12
       },
       {
        "__v": 0,
        "_id": {
         "$oid": "6222290da3a81e0035818eba"
        },
        "_type": "PublishedContent",
        "approved": false,
        "blobName": "published/mitforlob/20220304145821053_4157897953_61164e71c35f1700351b7e74.json",
        "disabled": true,
        "namespace": "mitforlob",
        "originalId": "61164e71c35f1700351b7e74",
        "publishedAt": 1646405901183,
        "publishedBy": "alexandra@visikon.com",
        "version": 17
       },
       {
        "__v": 0,
        "_id": {
         "$oid": "622233c6a3a81e0035818ebc"
        },
        "_type": "PublishedContent",
        "approved": false,
        "blobName": "published/mitforlob/20220304154406754_1006480754_61164e71c35f1700351b7e74.json",
        "disabled": true,
        "namespace": "mitforlob",
        "originalId": "61164e71c35f1700351b7e74",
        "publishedAt": 1646408646881,
        "publishedBy": "alexandra@visikon.com",
        "version": 18
       },
       {
        "__v": 0,
        "_id": {
         "$oid": "622233e2a3a81e0035818ebd"
        },
        "_type": "PublishedContent",
        "approved": true,
        "blobName": "published/mitforlob/20220304154434433_3402030794_60911b648561e50039bc0b87.json",
        "disabled": false,
        "namespace": "mitforlob",
        "originalId": "60911b648561e50039bc0b87",
        "publishedAt": 1646408674531,
        "publishedBy": "alexandra@visikon.com",
        "version": 31
       },
       {
        "__v": 0,
        "_id": {
         "$oid": "623c4ae5949b0500395aa30f"
        },
        "_type": "PublishedContent",
        "approved": true,
        "blobName": "published/mitforlob/20220324104141508_9005802861_601d72297470e100390f03e9.json",
        "disabled": false,
        "namespace": "mitforlob",
        "originalId": "601d72297470e100390f03e9",
        "publishedAt": 1648118501656,
        "publishedBy": "mette@visikon.com",
        "version": 1
       },
       {
        "__v": 0,
        "_id": {
         "$oid": "623c4b8f949b0500395aa317"
        },
        "_type": "PublishedContent",
        "approved": true,
        "blobName": "published/mitforlob/20220324104431002_8589623695_601d729d7470e100390f03ec.json",
        "disabled": false,
        "namespace": "mitforlob",
        "originalId": "601d729d7470e100390f03ec",
        "publishedAt": 1648118671087,
        "publishedBy": "mette@visikon.com",
        "version": 3
       },
       {
        "__v": 0,
        "_id": {
         "$oid": "623c4bbb949b0500395aa318"
        },
        "_type": "PublishedContent",
        "approved": true,
        "blobName": "published/mitforlob/20220324104515335_2941497106_601d72297470e100390f03e9.json",
        "disabled": false,
        "namespace": "mitforlob",
        "originalId": "601d72297470e100390f03e9",
        "publishedAt": 1648118715396,
        "publishedBy": "mette@visikon.com",
        "version": 2
       },
       {
        "__v": 0,
        "_id": {
         "$oid": "623c4bfb949b0500395aa319"
        },
        "_type": "PublishedContent",
        "approved": true,
        "blobName": "published/mitforlob/20220324104619824_3451392917_601d73277470e100390f03f0.json",
        "disabled": false,
        "namespace": "mitforlob",
        "originalId": "601d73277470e100390f03f0",
        "publishedAt": 1648118779939,
        "publishedBy": "mette@visikon.com",
        "version": 5
       },
       {
        "__v": 0,
        "_id": {
         "$oid": "623c4c22949b0500395aa31a"
        },
        "_type": "PublishedContent",
        "approved": true,
        "blobName": "published/mitforlob/20220324104658015_845728905_601d74087470e100390f03fb.json",
        "disabled": false,
        "namespace": "mitforlob",
        "originalId": "601d74087470e100390f03fb",
        "publishedAt": 1648118818070,
        "publishedBy": "mette@visikon.com",
        "version": 9
       },
       {
        "__v": 0,
        "_id": {
         "$oid": "62605a283ed8ac00390fed3c"
        },
        "_type": "PublishedContent",
        "approved": false,
        "blobName": "published/mitforlob/20220420190823987_1654134297_62021cff8f79da003a3e4162.json",
        "disabled": true,
        "namespace": "mitforlob",
        "originalId": "62021cff8f79da003a3e4162",
        "publishedAt": 1650481704108,
        "publishedBy": "alexandra@visikon.com",
        "version": 5
       },
       {
        "__v": 0,
        "_id": {
         "$oid": "62605aca3ed8ac00390fed3d"
        },
        "_type": "PublishedContent",
        "approved": false,
        "blobName": "published/mitforlob/20220420191106824_2083527637_62021cbc8f79da003a3e4160.json",
        "disabled": true,
        "namespace": "mitforlob",
        "originalId": "62021cbc8f79da003a3e4160",
        "publishedAt": 1650481866894,
        "publishedBy": "alexandra@visikon.com",
        "version": 7
       },
       {
        "__v": 0,
        "_id": {
         "$oid": "62605af83ed8ac00390fed3e"
        },
        "_type": "PublishedContent",
        "approved": false,
        "blobName": "published/mitforlob/20220420191152147_8644854305_62021c698f79da003a3e415e.json",
        "disabled": true,
        "namespace": "mitforlob",
        "originalId": "62021c698f79da003a3e415e",
        "publishedAt": 1650481912200,
        "publishedBy": "alexandra@visikon.com",
        "version": 7
       },
       {
        "__v": 0,
        "_id": {
         "$oid": "62605b1f3ed8ac00390fed3f"
        },
        "_type": "PublishedContent",
        "approved": false,
        "blobName": "published/mitforlob/20220420191231871_6607517390_62021c118f79da003a3e415c.json",
        "disabled": true,
        "namespace": "mitforlob",
        "originalId": "62021c118f79da003a3e415c",
        "publishedAt": 1650481951932,
        "publishedBy": "alexandra@visikon.com",
        "version": 4
       },
       {
        "__v": 0,
        "_id": {
         "$oid": "62605b433ed8ac00390fed40"
        },
        "_type": "PublishedContent",
        "approved": false,
        "blobName": "published/mitforlob/20220420191307000_2381161255_62021a368f79da003a3e415a.json",
        "disabled": true,
        "namespace": "mitforlob",
        "originalId": "62021a368f79da003a3e415a",
        "publishedAt": 1650481987054,
        "publishedBy": "alexandra@visikon.com",
        "version": 6
       },
       {
        "__v": 0,
        "_id": {
         "$oid": "626100723ed8ac00390fed49"
        },
        "_type": "PublishedContent",
        "approved": true,
        "blobName": "published/mitforlob/20220421065753976_2045526690_5de8cd2a464d3f004e208a6e.json",
        "disabled": false,
        "namespace": "mitforlob",
        "originalId": "5de8cd2a464d3f004e208a6e",
        "publishedAt": 1650524274079,
        "publishedBy": "alexandra@visikon.com",
        "version": 6
       },
       {
        "__v": 0,
        "_id": {
         "$oid": "626115953ed8ac00390fed5b"
        },
        "_type": "PublishedContent",
        "approved": true,
        "blobName": "published/mitforlob/20220421082805448_284675724_5ffee5f2a0731b0035753385.json",
        "disabled": false,
        "namespace": "mitforlob",
        "originalId": "5ffee5f2a0731b0035753385",
        "publishedAt": 1650529685540,
        "publishedBy": "alexandra@visikon.com",
        "version": 15
       },
       {
        "__v": 0,
        "_id": {
         "$oid": "62611a563ed8ac00390fed60"
        },
        "_type": "PublishedContent",
        "approved": true,
        "blobName": "published/mitforlob/20220421084822098_7494768938_5ffee489a0731b003575336c.json",
        "disabled": false,
        "namespace": "mitforlob",
        "originalId": "5ffee489a0731b003575336c",
        "publishedAt": 1650530902179,
        "publishedBy": "alexandra@visikon.com",
        "version": 10
       },
       {
        "__v": 0,
        "_id": {
         "$oid": "62611a743ed8ac00390fed61"
        },
        "_type": "PublishedContent",
        "approved": true,
        "blobName": "published/mitforlob/20220421084852805_7190687308_5ffee489a0731b003575336c.json",
        "disabled": true,
        "namespace": "mitforlob",
        "originalId": "5ffee489a0731b003575336c",
        "publishedAt": 1650530932905,
        "publishedBy": "alexandra@visikon.com",
        "version": 9
       },
       {
        "__v": 0,
        "_id": {
         "$oid": "62629a173ed8ac00390ff512"
        },
        "_type": "PublishedContent",
        "approved": false,
        "blobName": "published/mitforlob/20220422120543064_156908852_5e1b8cbb8cf40c004e7d0b8b.json",
        "disabled": true,
        "namespace": "mitforlob",
        "originalId": "5e1b8cbb8cf40c004e7d0b8b",
        "publishedAt": 1650629143255,
        "publishedBy": "marie@visikon.com",
        "version": 10
       },
       {
        "__v": 0,
        "_id": {
         "$oid": "62629b343ed8ac00390ff513"
        },
        "_type": "PublishedContent",
        "approved": false,
        "blobName": "published/mitforlob/20220422121028001_3881729272_5e1b8cbb8cf40c004e7d0b8b.json",
        "disabled": false,
        "namespace": "mitforlob",
        "originalId": "5e1b8cbb8cf40c004e7d0b8b",
        "publishedAt": 1650629428109,
        "publishedBy": "marie@visikon.com",
        "version": 11
       },
       {
        "__v": 0,
        "_id": {
         "$oid": "626a4480892f2f0039e0b646"
        },
        "_type": "PublishedContent",
        "approved": true,
        "blobName": "published/mitforlob/20220428073840026_6153649841_5e7dba21930532004eafe1c3.json",
        "disabled": false,
        "namespace": "mitforlob",
        "originalId": "5e7dba21930532004eafe1c3",
        "publishedAt": 1651131520143,
        "publishedBy": "mette@visikon.com",
        "version": 12
       },
       {
        "__v": 0,
        "_id": {
         "$oid": "626a489d892f2f0039e0b648"
        },
        "_type": "PublishedContent",
        "approved": true,
        "blobName": "published/mitforlob/20220428075613073_3248501219_5e7dba21930532004eafe1c3.json",
        "disabled": false,
        "namespace": "mitforlob",
        "originalId": "5e7dba21930532004eafe1c3",
        "publishedAt": 1651132573140,
        "publishedBy": "mette@visikon.com",
        "version": 13
       },
       {
        "__v": 0,
        "_id": {
         "$oid": "626a65ff892f2f0039e0b69a"
        },
        "_type": "PublishedContent",
        "approved": true,
        "blobName": "published/mitforlob/20220428100135654_2144622614_626a654a892f2f0039e0b697.json",
        "disabled": false,
        "namespace": "mitforlob",
        "originalId": "626a654a892f2f0039e0b697",
        "publishedAt": 1651140095751,
        "publishedBy": "anders@visikon.com",
        "version": 1
       },
       {
        "__v": 0,
        "_id": {
         "$oid": "626a6667892f2f0039e0b69e"
        },
        "_type": "PublishedContent",
        "approved": true,
        "blobName": "published/mitforlob/20220428100318952_654859658_626a654a892f2f0039e0b697.json",
        "disabled": false,
        "namespace": "mitforlob",
        "originalId": "626a654a892f2f0039e0b697",
        "publishedAt": 1651140199087,
        "publishedBy": "anders@visikon.com",
        "version": 2
       },
       {
        "__v": 0,
        "_id": {
         "$oid": "626a68ad892f2f0039e0b6c6"
        },
        "_type": "PublishedContent",
        "approved": true,
        "blobName": "published/mitforlob/20220428101301246_6855371997_626a654a892f2f0039e0b697.json",
        "disabled": false,
        "namespace": "mitforlob",
        "originalId": "626a654a892f2f0039e0b697",
        "publishedAt": 1651140781337,
        "publishedBy": "anders@visikon.com",
        "version": 3
       },
       {
        "__v": 0,
        "_id": {
         "$oid": "626fc3ddf8495700357e955a"
        },
        "_type": "PublishedContent",
        "approved": false,
        "blobName": "published/mitforlob/20220502114325206_7539982237_62021c698f79da003a3e415e.json",
        "disabled": true,
        "namespace": "mitforlob",
        "originalId": "62021c698f79da003a3e415e",
        "publishedAt": 1651491805258,
        "publishedBy": "marie@visikon.com",
        "version": 9
       },
       {
        "__v": 0,
        "_id": {
         "$oid": "5fd7df78d224ebc13a20e9a0"
        },
        "_type": "PublishedContent",
        "approved": true,
        "blobName": "published/mitforlob/20201214215608454_8020763802_5dd6baca28b35700507477a3.json",
        "disabled": false,
        "namespace": "mitforlob",
        "originalId": "5dd6baca28b35700507477a3",
        "publishedAt": 1607982968830,
        "publishedBy": "jeppe@visikon.com",
        "version": 1
       },
       {
        "__v": 0,
        "_id": {
         "$oid": "5fd7df7bd224ebc13a20e9a3"
        },
        "_type": "PublishedContent",
        "approved": true,
        "blobName": "published/mitforlob/20201214215611820_767318988_5de8cd2a464d3f004e208a6e.json",
        "disabled": false,
        "namespace": "mitforlob",
        "originalId": "5de8cd2a464d3f004e208a6e",
        "publishedAt": 1607982971964,
        "publishedBy": "jeppe@visikon.com",
        "version": 0
       },
       {
        "__v": 0,
        "_id": {
         "$oid": "5fd7df7cd224ebc13a20e9a4"
        },
        "_type": "PublishedContent",
        "approved": true,
        "blobName": "published/mitforlob/20201214215612841_4139816539_5de8e137464d3f004e208a8d.json",
        "disabled": false,
        "namespace": "mitforlob",
        "originalId": "5de8e137464d3f004e208a8d",
        "publishedAt": 1607982972958,
        "publishedBy": "jeppe@visikon.com",
        "version": 0
       },
       {
        "__v": 0,
        "_id": {
         "$oid": "5fd7df7dd224ebc13a20e9a5"
        },
        "_type": "PublishedContent",
        "approved": true,
        "blobName": "published/mitforlob/20201214215613524_6486679600_5df77100f79c2d004ea88167.json",
        "disabled": false,
        "namespace": "mitforlob",
        "originalId": "5df77100f79c2d004ea88167",
        "publishedAt": 1607982973642,
        "publishedBy": "jeppe@visikon.com",
        "version": 0
       },
       {
        "__v": 0,
        "_id": {
         "$oid": "5fd7df7fd224ebc13a20e9a7"
        },
        "_type": "PublishedContent",
        "approved": true,
        "blobName": "published/mitforlob/20201214215615507_5444112504_5e1b8c908cf40c004e7d0b89.json",
        "disabled": false,
        "namespace": "mitforlob",
        "originalId": "5e1b8c908cf40c004e7d0b89",
        "publishedAt": 1607982975629,
        "publishedBy": "jeppe@visikon.com",
        "version": 0
       },
       {
        "__v": 0,
        "_id": {
         "$oid": "5fd7df81d224ebc13a20e9a9"
        },
        "_type": "PublishedContent",
        "approved": true,
        "blobName": "published/mitforlob/20201214215617782_813892244_5e1c41c40a54b800507e2325.json",
        "disabled": false,
        "namespace": "mitforlob",
        "originalId": "5e1c41c40a54b800507e2325",
        "publishedAt": 1607982977917,
        "publishedBy": "jeppe@visikon.com",
        "version": 0
       },
       {
        "__v": 0,
        "_id": {
         "$oid": "5fd7df83d224ebc13a20e9aa"
        },
        "_type": "PublishedContent",
        "approved": true,
        "blobName": "published/mitforlob/20201214215618952_7337305711_5e1c420b0a54b800507e2328.json",
        "disabled": false,
        "namespace": "mitforlob",
        "originalId": "5e1c420b0a54b800507e2328",
        "publishedAt": 1607982979093,
        "publishedBy": "jeppe@visikon.com",
        "version": 0
       },
       {
        "__v": 0,
        "_id": {
         "$oid": "5fd7df84d224ebc13a20e9ab"
        },
        "_type": "PublishedContent",
        "approved": true,
        "blobName": "published/mitforlob/20201214215620124_5197065655_5e1c42280a54b800507e232a.json",
        "disabled": false,
        "namespace": "mitforlob",
        "originalId": "5e1c42280a54b800507e232a",
        "publishedAt": 1607982980264,
        "publishedBy": "jeppe@visikon.com",
        "version": 0
       },
       {
        "__v": 0,
        "_id": {
         "$oid": "5fd7df88d224ebc13a20e9ad"
        },
        "_type": "PublishedContent",
        "approved": true,
        "blobName": "published/mitforlob/20201214215624592_4056916381_5e6ba77d5758f90051189fdf.json",
        "disabled": false,
        "namespace": "mitforlob",
        "originalId": "5e6ba77d5758f90051189fdf",
        "publishedAt": 1607982984746,
        "publishedBy": "jeppe@visikon.com",
        "version": 0
       },
       {
        "__v": 0,
        "_id": {
         "$oid": "5fd7df87d224ebc13a20e9ac"
        },
        "_type": "PublishedContent",
        "approved": true,
        "blobName": "published/mitforlob/20201214215623383_5300175227_5e37fc26e543e1004e82b332.json",
        "disabled": false,
        "namespace": "mitforlob",
        "originalId": "5e37fc26e543e1004e82b332",
        "publishedAt": 1607982983549,
        "publishedBy": "jeppe@visikon.com",
        "version": 0
       },
       {
        "__v": 0,
        "_id": {
         "$oid": "5fd7df8ad224ebc13a20e9ae"
        },
        "_type": "PublishedContent",
        "approved": true,
        "blobName": "published/mitforlob/20201214215625968_764255323_5e6ba9505758f90051189fe1.json",
        "disabled": false,
        "namespace": "mitforlob",
        "originalId": "5e6ba9505758f90051189fe1",
        "publishedAt": 1607982986136,
        "publishedBy": "jeppe@visikon.com",
        "version": 0
       },
       {
        "__v": 0,
        "_id": {
         "$oid": "5fd7df8cd224ebc13a20e9b0"
        },
        "_type": "PublishedContent",
        "approved": true,
        "blobName": "published/mitforlob/20201214215628795_4971473874_5e74f6ebe7c8ef004ed66c1a.json",
        "disabled": false,
        "namespace": "mitforlob",
        "originalId": "5e74f6ebe7c8ef004ed66c1a",
        "publishedAt": 1607982988970,
        "publishedBy": "jeppe@visikon.com",
        "version": 0
       },
       {
        "__v": 0,
        "_id": {
         "$oid": "5fd7df8bd224ebc13a20e9af"
        },
        "_type": "PublishedContent",
        "approved": true,
        "blobName": "published/mitforlob/20201214215627481_7513147041_5e70dcfb750aa3004ecca962.json",
        "disabled": false,
        "namespace": "mitforlob",
        "originalId": "5e70dcfb750aa3004ecca962",
        "publishedAt": 1607982987634,
        "publishedBy": "jeppe@visikon.com",
        "version": 0
       },
       {
        "__v": 0,
        "_id": {
         "$oid": "5fd7df8ed224ebc13a20e9b1"
        },
        "_type": "PublishedContent",
        "approved": true,
        "blobName": "published/mitforlob/20201214215630104_263512622_5e74f778e7c8ef004ed66c1c.json",
        "disabled": false,
        "namespace": "mitforlob",
        "originalId": "5e74f778e7c8ef004ed66c1c",
        "publishedAt": 1607982990271,
        "publishedBy": "jeppe@visikon.com",
        "version": 0
       },
       {
        "__v": 0,
        "_id": {
         "$oid": "5fd7df8ed224ebc13a20e9b2"
        },
        "_type": "PublishedContent",
        "approved": true,
        "blobName": "published/mitforlob/20201214215630412_9476220939_5e7db9c9930532004eafe1bd.json",
        "disabled": false,
        "namespace": "mitforlob",
        "originalId": "5e7db9c9930532004eafe1bd",
        "publishedAt": 1607982990508,
        "publishedBy": "jeppe@visikon.com",
        "version": 0
       },
       {
        "__v": 0,
        "_id": {
         "$oid": "5fd7df8fd224ebc13a20e9b3"
        },
        "_type": "PublishedContent",
        "approved": true,
        "blobName": "published/mitforlob/20201214215631291_1057075627_5e7db9df930532004eafe1bf.json",
        "disabled": false,
        "namespace": "mitforlob",
        "originalId": "5e7db9df930532004eafe1bf",
        "publishedAt": 1607982991428,
        "publishedBy": "jeppe@visikon.com",
        "version": 0
       },
       {
        "__v": 0,
        "_id": {
         "$oid": "5fd7df90d224ebc13a20e9b4"
        },
        "_type": "PublishedContent",
        "approved": true,
        "blobName": "published/mitforlob/20201214215632248_1364199740_5e7dba21930532004eafe1c3.json",
        "disabled": false,
        "namespace": "mitforlob",
        "originalId": "5e7dba21930532004eafe1c3",
        "publishedAt": 1607982992389,
        "publishedBy": "jeppe@visikon.com",
        "version": 0
       },
       {
        "__v": 0,
        "_id": {
         "$oid": "5fd7df91d224ebc13a20e9b5"
        },
        "_type": "PublishedContent",
        "approved": true,
        "blobName": "published/mitforlob/20201214215633061_2644913089_5e99857279d6e4004fbba244.json",
        "disabled": false,
        "namespace": "mitforlob",
        "originalId": "5e99857279d6e4004fbba244",
        "publishedAt": 1607982993213,
        "publishedBy": "jeppe@visikon.com",
        "version": 0
       },
       {
        "__v": 0,
        "_id": {
         "$oid": "5fd7df91d224ebc13a20e9b6"
        },
        "_type": "PublishedContent",
        "approved": true,
        "blobName": "published/mitforlob/20201214215633846_1522039330_5e9988d379d6e4004fbba246.json",
        "disabled": false,
        "namespace": "mitforlob",
        "originalId": "5e9988d379d6e4004fbba246",
        "publishedAt": 1607982993992,
        "publishedBy": "jeppe@visikon.com",
        "version": 0
       },
       {
        "__v": 0,
        "_id": {
         "$oid": "5fd7df96d224ebc13a20e9b8"
        },
        "_type": "PublishedContent",
        "approved": "true",
        "blobName": "published/mitforlob/20201214215638359_2026906337_5eba686c512949004ce36c01.json",
        "disabled": false,
        "namespace": "mitforlob",
        "originalId": "5eba686c512949004ce36c01",
        "publishedAt": 1607982998516,
        "publishedBy": "jeppe@visikon.com",
        "version": 0
       },
       {
        "__v": 0,
        "_id": {
         "$oid": "5fd7df99d224ebc13a20e9bb"
        },
        "_type": "PublishedContent",
        "approved": true,
        "blobName": "published/mitforlob/20201214215641677_6770980735_5f23ce1fc7c749004cc944b0.json",
        "disabled": false,
        "namespace": "mitforlob",
        "originalId": "5f23ce1fc7c749004cc944b0",
        "publishedAt": 1607983001829,
        "publishedBy": "jeppe@visikon.com",
        "version": 0
       },
       {
        "__v": 0,
        "_id": {
         "$oid": "5fd7df9cd224ebc13a20e9bd"
        },
        "_type": "PublishedContent",
        "approved": true,
        "blobName": "published/mitforlob/20201214215644241_7879641969_5f3686867ce2c1004bc8fc4b.json",
        "disabled": false,
        "namespace": "mitforlob",
        "originalId": "5f3686867ce2c1004bc8fc4b",
        "publishedAt": 1607983004404,
        "publishedBy": "jeppe@visikon.com",
        "version": 0
       },
       {
        "__v": 0,
        "_id": {
         "$oid": "5fd7df9bd224ebc13a20e9bc"
        },
        "_type": "PublishedContent",
        "approved": true,
        "blobName": "published/mitforlob/20201214215643109_6093189874_5f3685c37ce2c1004bc8fc49.json",
        "disabled": false,
        "namespace": "mitforlob",
        "originalId": "5f3685c37ce2c1004bc8fc49",
        "publishedAt": 1607983003276,
        "publishedBy": "jeppe@visikon.com",
        "version": 0
       },
       {
        "__v": 0,
        "_id": {
         "$oid": "5fd7df9cd224ebc13a20e9bf"
        },
        "_type": "PublishedContent",
        "approved": true,
        "blobName": "published/mitforlob/20201214215644873_6311684998_5f3f97667ce2c1004bc8fd8b.json",
        "disabled": false,
        "namespace": "mitforlob",
        "originalId": "5f3f97667ce2c1004bc8fd8b",
        "publishedAt": 1607983004976,
        "publishedBy": "jeppe@visikon.com",
        "version": 0
       },
       {
        "__v": 0,
        "_id": {
         "$oid": "5fd7df9dd224ebc13a20e9c0"
        },
        "_type": "PublishedContent",
        "blobName": "published/mitforlob/20201214215645553_3155680372_5f4f58844988ef0034229051.json",
        "disabled": false,
        "namespace": "mitforlob",
        "originalId": "5f4f58844988ef0034229051",
        "publishedAt": 1607983005673,
        "publishedBy": "jeppe@visikon.com",
        "version": 0
       },
       {
        "__v": 0,
        "_id": {
         "$oid": "5fd7df9fd224ebc13a20e9c2"
        },
        "_type": "PublishedContent",
        "approved": true,
        "blobName": "published/mitforlob/20201214215647155_5744516300_5f68bc293b96600035747e09.json",
        "disabled": false,
        "namespace": "mitforlob",
        "originalId": "5f68bc293b96600035747e09",
        "publishedAt": 1607983007299,
        "publishedBy": "jeppe@visikon.com",
        "version": 0
       },
       {
        "__v": 0,
        "_id": {
         "$oid": "5fd7df9ed224ebc13a20e9c1"
        },
        "_type": "PublishedContent",
        "approved": true,
        "blobName": "published/mitforlob/20201214215646108_1502297165_5f686d6a3b96600035747d51.json",
        "disabled": false,
        "namespace": "mitforlob",
        "originalId": "5f686d6a3b96600035747d51",
        "publishedAt": 1607983006262,
        "publishedBy": "jeppe@visikon.com",
        "version": 0
       },
       {
        "__v": 0,
        "_id": {
         "$oid": "5fd7dfa0d224ebc13a20e9c3"
        },
        "_type": "PublishedContent",
        "approved": true,
        "blobName": "published/mitforlob/20201214215648344_2326041817_5f7c62ac41b5480035bfe7f6.json",
        "disabled": false,
        "namespace": "mitforlob",
        "originalId": "5f7c62ac41b5480035bfe7f6",
        "publishedAt": 1607983008498,
        "publishedBy": "jeppe@visikon.com",
        "version": 0
       },
       {
        "__v": 0,
        "_id": {
         "$oid": "5fd7dfa1d224ebc13a20e9c4"
        },
        "_type": "PublishedContent",
        "approved": true,
        "blobName": "published/mitforlob/20201214215649584_1783996784_5f7c633c41b5480035bfe7f8.json",
        "disabled": false,
        "namespace": "mitforlob",
        "originalId": "5f7c633c41b5480035bfe7f8",
        "publishedAt": 1607983009735,
        "publishedBy": "jeppe@visikon.com",
        "version": 0
       },
       {
        "__v": 0,
        "_id": {
         "$oid": "5fd7dfa2d224ebc13a20e9c5"
        },
        "_type": "PublishedContent",
        "approved": true,
        "blobName": "published/mitforlob/20201214215650386_6590045475_5f915abbef94e70039f4843b.json",
        "disabled": false,
        "namespace": "mitforlob",
        "originalId": "5f915abbef94e70039f4843b",
        "publishedAt": 1607983010512,
        "publishedBy": "jeppe@visikon.com",
        "version": 0
       },
       {
        "__v": 0,
        "_id": {
         "$oid": "5fd7dfa3d224ebc13a20e9c6"
        },
        "_type": "PublishedContent",
        "approved": true,
        "blobName": "published/mitforlob/20201214215651159_9329060798_5f9daa99a9665e003a6feacf.json",
        "disabled": false,
        "namespace": "mitforlob",
        "originalId": "5f9daa99a9665e003a6feacf",
        "publishedAt": 1607983011324,
        "publishedBy": "jeppe@visikon.com",
        "version": 0
       },
       {
        "__v": 0,
        "_id": {
         "$oid": "5fd7dfa4d224ebc13a20e9c7"
        },
        "_type": "PublishedContent",
        "approved": true,
        "blobName": "published/mitforlob/20201214215652047_2752536136_5f9e904cf6c80700393b4305.json",
        "disabled": false,
        "namespace": "mitforlob",
        "originalId": "5f9e904cf6c80700393b4305",
        "publishedAt": 1607983012171,
        "publishedBy": "jeppe@visikon.com",
        "version": 0
       },
       {
        "__v": 0,
        "_id": {
         "$oid": "5fd7dfa4d224ebc13a20e9c8"
        },
        "_type": "PublishedContent",
        "approved": true,
        "blobName": "published/mitforlob/20201214215652772_3892219719_5fa558b9c556ef00399297cf.json",
        "disabled": false,
        "namespace": "mitforlob",
        "originalId": "5fa558b9c556ef00399297cf",
        "publishedAt": 1607983012898,
        "publishedBy": "jeppe@visikon.com",
        "version": 0
       },
       {
        "__v": 0,
        "_id": {
         "$oid": "5fd7dfa7d224ebc13a20e9ca"
        },
        "_type": "PublishedContent",
        "approved": true,
        "blobName": "published/mitforlob/20201214215655106_6181919905_5fa921eef038e90035e7bd94.json",
        "disabled": false,
        "namespace": "mitforlob",
        "originalId": "5fa921eef038e90035e7bd94",
        "publishedAt": 1607983015249,
        "publishedBy": "jeppe@visikon.com",
        "version": 0
       },
       {
        "__v": 0,
        "_id": {
         "$oid": "5fd7dfa6d224ebc13a20e9c9"
        },
        "_type": "PublishedContent",
        "approved": true,
        "blobName": "published/mitforlob/20201214215653922_2204235684_5fa921ecf038e90035e7bd92.json",
        "disabled": false,
        "namespace": "mitforlob",
        "originalId": "5fa921ecf038e90035e7bd92",
        "publishedAt": 1607983014071,
        "publishedBy": "jeppe@visikon.com",
        "version": 0
       },
       {
        "__v": 0,
        "_id": {
         "$oid": "5fd7dfa8d224ebc13a20e9cb"
        },
        "_type": "PublishedContent",
        "approved": true,
        "blobName": "published/mitforlob/20201214215656223_6785274686_5fa921f0f038e90035e7bd96.json",
        "disabled": false,
        "namespace": "mitforlob",
        "originalId": "5fa921f0f038e90035e7bd96",
        "publishedAt": 1607983016360,
        "publishedBy": "jeppe@visikon.com",
        "version": 0
       },
       {
        "__v": 0,
        "_id": {
         "$oid": "5fd7dfa9d224ebc13a20e9cc"
        },
        "_type": "PublishedContent",
        "approved": true,
        "blobName": "published/mitforlob/20201214215657376_1366600132_5fa92320f038e90035e7bd98.json",
        "disabled": false,
        "namespace": "mitforlob",
        "originalId": "5fa92320f038e90035e7bd98",
        "publishedAt": 1607983017525,
        "publishedBy": "jeppe@visikon.com",
        "version": 0
       },
       {
        "__v": 0,
        "_id": {
         "$oid": "5fd7dfaed224ebc13a20e9cf"
        },
        "_type": "PublishedContent",
        "approved": true,
        "blobName": "published/mitforlob/20201214215702512_397670169_5fc0c8e6dec8ed003942b1c2.json",
        "disabled": false,
        "namespace": "mitforlob",
        "originalId": "5fc0c8e6dec8ed003942b1c2",
        "publishedAt": 1607983022664,
        "publishedBy": "jeppe@visikon.com",
        "version": 0
       },
       {
        "__v": 0,
        "_id": {
         "$oid": "5fd7dfafd224ebc13a20e9d0"
        },
        "_type": "PublishedContent",
        "approved": true,
        "blobName": "published/mitforlob/20201214215703408_6925316489_5fc0c9acdec8ed003942b1c7.json",
        "disabled": false,
        "namespace": "mitforlob",
        "originalId": "5fc0c9acdec8ed003942b1c7",
        "publishedAt": 1607983023567,
        "publishedBy": "jeppe@visikon.com",
        "version": 0
       },
       {
        "__v": 0,
        "_id": {
         "$oid": "5fd7dfadd224ebc13a20e9ce"
        },
        "_type": "PublishedContent",
        "approved": true,
        "blobName": "published/mitforlob/20201214215701515_9584181712_5fb3d128ff01c80035697021.json",
        "disabled": false,
        "namespace": "mitforlob",
        "originalId": "5fb3d128ff01c80035697021",
        "publishedAt": 1607983021681,
        "publishedBy": "jeppe@visikon.com",
        "version": 0
       },
       {
        "__v": 0,
        "_id": {
         "$oid": "5fd7dfb1d224ebc13a20e9d3"
        },
        "_type": "PublishedContent",
        "approved": true,
        "blobName": "published/mitforlob/20201214215705483_9537784326_5fd32346a536750035e9564b.json",
        "disabled": false,
        "namespace": "mitforlob",
        "originalId": "5fd32346a536750035e9564b",
        "publishedAt": 1607983025583,
        "publishedBy": "jeppe@visikon.com",
        "version": 0
       },
       {
        "__v": 0,
        "_id": {
         "$oid": "5fd7e30267f921003537bad7"
        },
        "_type": "PublishedContent",
        "blobName": "published/mitforlob/20201214221114212_3833453089_5b977f6fce298900381d1a4f.json",
        "disabled": true,
        "namespace": "mitforlob",
        "originalId": "5b977f6fce298900381d1a4f",
        "publishedAt": 1607983874282,
        "publishedBy": "jeppe@visikon.com",
        "version": 1
       },
       {
        "__v": 0,
        "_id": {
         "$oid": "5fd7dfb1d224ebc13a20e9d2"
        },
        "_type": "PublishedContent",
        "approved": true,
        "blobName": "published/mitforlob/20201214215705203_7505401872_5fc0ca94dec8ed003942b1cc.json",
        "disabled": false,
        "namespace": "mitforlob",
        "originalId": "5fc0ca94dec8ed003942b1cc",
        "publishedAt": 1607983025317,
        "publishedBy": "jeppe@visikon.com",
        "version": 0
       },
       {
        "__v": 0,
        "_id": {
         "$oid": "5fd7e34267f921003537bad8"
        },
        "_type": "PublishedContent",
        "blobName": "published/mitforlob/20201214221218094_135505978_5b977f6fce298900381d1a4f.json",
        "disabled": true,
        "namespace": "mitforlob",
        "originalId": "5b977f6fce298900381d1a4f",
        "publishedAt": 1607983938169,
        "publishedBy": "jeppe@visikon.com",
        "version": 2
       },
       {
        "__v": 0,
        "_id": {
         "$oid": "5fd7f79864c1600035da2304"
        },
        "_type": "PublishedContent",
        "approved": true,
        "blobName": "published/mitforlob/20201214233904101_9932846131_5d148b71fbbed2003ad57d03.json",
        "disabled": false,
        "namespace": "mitforlob",
        "originalId": "5d148b71fbbed2003ad57d03",
        "publishedAt": 1607989144230,
        "publishedBy": "jeppe@visikon.com",
        "version": 1
       },
       {
        "__v": 0,
        "_id": {
         "$oid": "5fd7f7aa64c1600035da2305"
        },
        "_type": "PublishedContent",
        "approved": true,
        "blobName": "published/mitforlob/20201214233922221_6554927161_5d66a492d12db00030d7ffe1.json",
        "disabled": false,
        "namespace": "mitforlob",
        "originalId": "5d66a492d12db00030d7ffe1",
        "publishedAt": 1607989162408,
        "publishedBy": "jeppe@visikon.com",
        "version": 1
       },
       {
        "__v": 0,
        "_id": {
         "$oid": "5fff4d650db7f800393ec4fc"
        },
        "_type": "PublishedContent",
        "approved": true,
        "blobName": "published/mitforlob/20210113194332968_1885155664_5b9e976e5b8ebd00391bd837.json",
        "disabled": false,
        "namespace": "mitforlob",
        "originalId": "5b9e976e5b8ebd00391bd837",
        "publishedAt": 1610567013042,
        "publishedBy": "sameer@visikon.com",
        "version": 1
       },
       {
        "__v": 0,
        "_id": {
         "$oid": "5fff4d900db7f800393ec515"
        },
        "_type": "PublishedContent",
        "approved": true,
        "blobName": "published/mitforlob/20210113194416685_5457669847_5dc14a919d06770048107971.json",
        "disabled": false,
        "namespace": "mitforlob",
        "originalId": "5dc14a919d06770048107971",
        "publishedAt": 1610567056765,
        "publishedBy": "sameer@visikon.com",
        "version": 1
       },
       {
        "__v": 0,
        "_id": {
         "$oid": "5fff4da90db7f800393ec52e"
        },
        "_type": "PublishedContent",
        "approved": true,
        "blobName": "published/mitforlob/20210113194441842_6755193290_5eba686c512949004ce36c01.json",
        "disabled": false,
        "namespace": "mitforlob",
        "originalId": "5eba686c512949004ce36c01",
        "publishedAt": 1610567081907,
        "publishedBy": "sameer@visikon.com",
        "version": 33
       },
       {
        "__v": 0,
        "_id": {
         "$oid": "5fff4dbe0db7f800393ec551"
        },
        "_type": "PublishedContent",
        "approved": true,
        "blobName": "published/mitforlob/20210113194502749_3888795957_5ffee4eea0731b0035753372.json",
        "disabled": false,
        "namespace": "mitforlob",
        "originalId": "5ffee4eea0731b0035753372",
        "publishedAt": 1610567102810,
        "publishedBy": "sameer@visikon.com",
        "version": 0
       },
       {
        "__v": 0,
        "_id": {
         "$oid": "5fff4ebd0db7f800393ec55b"
        },
        "_type": "PublishedContent",
        "approved": true,
        "blobName": "published/mitforlob/20210113194917864_2081320828_5b93f0ec498fad0038e6b0e1.json",
        "disabled": false,
        "namespace": "mitforlob",
        "originalId": "5b93f0ec498fad0038e6b0e1",
        "publishedAt": 1610567357924,
        "publishedBy": "sameer@visikon.com",
        "version": 2
       },
       {
        "__v": 0,
        "_id": {
         "$oid": "5fff4ecb0db7f800393ec566"
        },
        "_type": "PublishedContent",
        "approved": true,
        "blobName": "published/mitforlob/20210113194931763_6971359946_5b97a642aab66500386d6714.json",
        "disabled": false,
        "namespace": "mitforlob",
        "originalId": "5b97a642aab66500386d6714",
        "publishedAt": 1610567371826,
        "publishedBy": "sameer@visikon.com",
        "version": 2
       },
       {
        "__v": 0,
        "_id": {
         "$oid": "5fff4ee40db7f800393ec577"
        },
        "_type": "PublishedContent",
        "approved": true,
        "blobName": "published/mitforlob/20210113194955965_4101618565_5d600e0b515dca002f0789ae.json",
        "disabled": false,
        "namespace": "mitforlob",
        "originalId": "5d600e0b515dca002f0789ae",
        "publishedAt": 1610567396014,
        "publishedBy": "sameer@visikon.com",
        "version": 2
       },
       {
        "__v": 0,
        "_id": {
         "$oid": "5fff4f080db7f800393ec59a"
        },
        "_type": "PublishedContent",
        "approved": true,
        "blobName": "published/mitforlob/20210113195032813_8415999345_5e9988f679d6e4004fbba248.json",
        "disabled": false,
        "namespace": "mitforlob",
        "originalId": "5e9988f679d6e4004fbba248",
        "publishedAt": 1610567432880,
        "publishedBy": "sameer@visikon.com",
        "version": 2
       },
       {
        "__v": 0,
        "_id": {
         "$oid": "5fff4f110db7f800393ec5a8"
        },
        "_type": "PublishedContent",
        "approved": true,
        "blobName": "published/mitforlob/20210113195041094_2042895703_5f915abbef94e70039f4843b.json",
        "disabled": false,
        "namespace": "mitforlob",
        "originalId": "5f915abbef94e70039f4843b",
        "publishedAt": 1610567441162,
        "publishedBy": "sameer@visikon.com",
        "version": 4
       },
       {
        "__v": 0,
        "_id": {
         "$oid": "5fff550a7d1f150035d020af"
        },
        "_type": "PublishedContent",
        "approved": true,
        "blobName": "published/mitforlob/20210113201610344_5964038930_5b93f0ec498fad0038e6b0e1.json",
        "disabled": false,
        "namespace": "mitforlob",
        "originalId": "5b93f0ec498fad0038e6b0e1",
        "publishedAt": 1610568970416,
        "publishedBy": "sameer@visikon.com",
        "version": 3
       },
       {
        "__v": 0,
        "_id": {
         "$oid": "5fff55307d1f150035d020ca"
        },
        "_type": "PublishedContent",
        "approved": true,
        "blobName": "published/mitforlob/20210113201648904_791815211_5d600cbdcfa5e0002f36ec3b.json",
        "disabled": false,
        "namespace": "mitforlob",
        "originalId": "5d600cbdcfa5e0002f36ec3b",
        "publishedAt": 1610569008970,
        "publishedBy": "sameer@visikon.com",
        "version": 3
       },
       {
        "__v": 0,
        "_id": {
         "$oid": "5fff555a7d1f150035d020ed"
        },
        "_type": "PublishedContent",
        "approved": true,
        "blobName": "published/mitforlob/20210113201730276_7216713028_5e9988d379d6e4004fbba246.json",
        "disabled": false,
        "namespace": "mitforlob",
        "originalId": "5e9988d379d6e4004fbba246",
        "publishedAt": 1610569050334,
        "publishedBy": "sameer@visikon.com",
        "version": 3
       },
       {
        "__v": 0,
        "_id": {
         "$oid": "5fff55687d1f150035d02103"
        },
        "_type": "PublishedContent",
        "approved": true,
        "blobName": "published/mitforlob/20210113201744895_1235451059_5fa92320f038e90035e7bd98.json",
        "disabled": false,
        "namespace": "mitforlob",
        "originalId": "5fa92320f038e90035e7bd98",
        "publishedAt": 1610569064967,
        "publishedBy": "sameer@visikon.com",
        "version": 3
       },
       {
        "__v": 0,
        "_id": {
         "$oid": "600161b32c24b70039698729"
        },
        "_type": "PublishedContent",
        "approved": true,
        "blobName": "published/mitforlob/20210115093442932_1851617193_5ffee752a0731b0035753390.json",
        "disabled": false,
        "namespace": "mitforlob",
        "originalId": "5ffee752a0731b0035753390",
        "publishedAt": 1610703283098,
        "publishedBy": "sameer@visikon.com",
        "version": 4
       },
       {
        "__v": 0,
        "_id": {
         "$oid": "6001a4bd2c24b7003969874d"
        },
        "_type": "PublishedContent",
        "approved": true,
        "blobName": "published/mitforlob/20210115142045849_8045078251_5ffee5f2a0731b0035753385.json",
        "disabled": false,
        "namespace": "mitforlob",
        "originalId": "5ffee5f2a0731b0035753385",
        "publishedAt": 1610720445908,
        "publishedBy": "mette@visikon.com",
        "version": 3
       },
       {
        "__v": 0,
        "_id": {
         "$oid": "603fe0870ad4490036444be6"
        },
        "_type": "PublishedContent",
        "approved": false,
        "blobName": "published/mitforlob/20210303191623454_4583888768_603fc3340ad4490036444b5f.json",
        "disabled": true,
        "namespace": "mitforlob",
        "originalId": "603fc3340ad4490036444b5f",
        "publishedAt": 1614798983522,
        "publishedBy": "mette@visikon.com",
        "version": 4
       },
       {
        "__v": 0,
        "_id": {
         "$oid": "603fe0a30ad4490036444be8"
        },
        "_type": "PublishedContent",
        "approved": false,
        "blobName": "published/mitforlob/20210303191651852_5682203782_5f3f97667ce2c1004bc8fd8b.json",
        "disabled": true,
        "namespace": "mitforlob",
        "originalId": "5f3f97667ce2c1004bc8fd8b",
        "publishedAt": 1614799011921,
        "publishedBy": "mette@visikon.com",
        "version": 7
       },
       {
        "__v": 0,
        "_id": {
         "$oid": "603fe17e0ad4490036444bea"
        },
        "_type": "PublishedContent",
        "approved": false,
        "blobName": "published/mitforlob/20210303192030697_930506209_5f3f96de7ce2c1004bc8fd88.json",
        "disabled": true,
        "namespace": "mitforlob",
        "originalId": "5f3f96de7ce2c1004bc8fd88",
        "publishedAt": 1614799230761,
        "publishedBy": "mette@visikon.com",
        "version": 5
       },
       {
        "__v": 0,
        "_id": {
         "$oid": "604090520ad4490036444bf7"
        },
        "_type": "PublishedContent",
        "approved": false,
        "blobName": "published/mitforlob/20210304074626572_5635867762_5f3f96de7ce2c1004bc8fd88.json",
        "disabled": true,
        "namespace": "mitforlob",
        "originalId": "5f3f96de7ce2c1004bc8fd88",
        "publishedAt": 1614843986687,
        "publishedBy": "mette@visikon.com",
        "version": 6
       },
       {
        "__v": 0,
        "_id": {
         "$oid": "6041fc5db9ad660035290065"
        },
        "_type": "PublishedContent",
        "approved": true,
        "blobName": "published/mitforlob/20210305093941511_7651152917_5be97658e6aece0038b3f2a2.json",
        "disabled": true,
        "namespace": "mitforlob",
        "originalId": "5be97658e6aece0038b3f2a2",
        "publishedAt": 1614937181601,
        "publishedBy": "mette@visikon.com",
        "version": 6
       },
       {
        "__v": 0,
        "_id": {
         "$oid": "6042340db9ad660035290086"
        },
        "_type": "PublishedContent",
        "approved": true,
        "blobName": "published/mitforlob/20210305133717550_9884888583_604233afb9ad660035290084.json",
        "disabled": false,
        "namespace": "mitforlob",
        "originalId": "604233afb9ad660035290084",
        "publishedAt": 1614951437704,
        "publishedBy": "mette@visikon.com",
        "version": 0
       },
       {
        "__v": 0,
        "_id": {
         "$oid": "60423419b9ad660035290087"
        },
        "_type": "PublishedContent",
        "approved": false,
        "blobName": "published/mitforlob/20210305133729491_6498147891_604233afb9ad660035290084.json",
        "disabled": true,
        "namespace": "mitforlob",
        "originalId": "604233afb9ad660035290084",
        "publishedAt": 1614951449557,
        "publishedBy": "mette@visikon.com",
        "version": 1
       },
       {
        "__v": 0,
        "_id": {
         "$oid": "604234a6b9ad66003529008b"
        },
        "_type": "PublishedContent",
        "approved": true,
        "blobName": "published/mitforlob/20210305133950753_6166852569_604233afb9ad660035290084.json",
        "disabled": false,
        "namespace": "mitforlob",
        "originalId": "604233afb9ad660035290084",
        "publishedAt": 1614951590857,
        "publishedBy": "mette@visikon.com",
        "version": 2
       },
       {
        "__v": 0,
        "_id": {
         "$oid": "604236bdb9ad660035290092"
        },
        "_type": "PublishedContent",
        "approved": true,
        "blobName": "published/mitforlob/20210305134845281_8348168803_604233afb9ad660035290084.json",
        "disabled": false,
        "namespace": "mitforlob",
        "originalId": "604233afb9ad660035290084",
        "publishedAt": 1614952125387,
        "publishedBy": "mette@visikon.com",
        "version": 3
       },
       {
        "__v": 0,
        "_id": {
         "$oid": "60424d3db9ad660035290096"
        },
        "_type": "PublishedContent",
        "approved": true,
        "blobName": "published/mitforlob/20210305152445191_4358928423_5fd32346a536750035e9564b.json",
        "disabled": false,
        "namespace": "mitforlob",
        "originalId": "5fd32346a536750035e9564b",
        "publishedAt": 1614957885321,
        "publishedBy": "mette@visikon.com",
        "version": 12
       },
       {
        "__v": 0,
        "_id": {
         "$oid": "60424d55b9ad660035290097"
        },
        "_type": "PublishedContent",
        "approved": true,
        "blobName": "published/mitforlob/20210305152509798_4689617776_5ffee5f1a0731b0035753383.json",
        "disabled": false,
        "namespace": "mitforlob",
        "originalId": "5ffee5f1a0731b0035753383",
        "publishedAt": 1614957909859,
        "publishedBy": "mette@visikon.com",
        "version": 17
       },
       {
        "__v": 0,
        "_id": {
         "$oid": "60424d66b9ad660035290098"
        },
        "_type": "PublishedContent",
        "approved": true,
        "blobName": "published/mitforlob/20210305152526646_8913345477_5ffee5f2a0731b0035753387.json",
        "disabled": false,
        "namespace": "mitforlob",
        "originalId": "5ffee5f2a0731b0035753387",
        "publishedAt": 1614957926696,
        "publishedBy": "mette@visikon.com",
        "version": 12
       },
       {
        "__v": 0,
        "_id": {
         "$oid": "60424d76b9ad660035290099"
        },
        "_type": "PublishedContent",
        "approved": true,
        "blobName": "published/mitforlob/20210305152542761_7936142214_601d73cc7470e100390f03f8.json",
        "disabled": false,
        "namespace": "mitforlob",
        "originalId": "601d73cc7470e100390f03f8",
        "publishedAt": 1614957942818,
        "publishedBy": "mette@visikon.com",
        "version": 1
       },
       {
        "__v": 0,
        "_id": {
         "$oid": "60424e77b9ad66003529009b"
        },
        "_type": "PublishedContent",
        "approved": true,
        "blobName": "published/mitforlob/20210305152959582_2756217680_5ffee5f2a0731b0035753387.json",
        "disabled": false,
        "namespace": "mitforlob",
        "originalId": "5ffee5f2a0731b0035753387",
        "publishedAt": 1614958199772,
        "publishedBy": "mette@visikon.com",
        "version": 13
       },
       {
        "__v": 0,
        "_id": {
         "$oid": "60463832b9ad660035290567"
        },
        "_type": "PublishedContent",
        "approved": true,
        "blobName": "published/mitforlob/20210308144402638_9546349227_601d74087470e100390f03fb.json",
        "disabled": false,
        "namespace": "mitforlob",
        "originalId": "601d74087470e100390f03fb",
        "publishedAt": 1615214642718,
        "publishedBy": "anders@visikon.com",
        "version": 4
       },
       {
        "__v": 0,
        "_id": {
         "$oid": "6053691478e2ca0039e0ce02"
        },
        "_type": "PublishedContent",
        "approved": false,
        "blobName": "published/mitforlob/20210318145204348_4645023134_604233afb9ad660035290084.json",
        "disabled": true,
        "namespace": "mitforlob",
        "originalId": "604233afb9ad660035290084",
        "publishedAt": 1616079124457,
        "publishedBy": "mette@visikon.com",
        "version": 4
       },
       {
        "__v": 0,
        "_id": {
         "$oid": "6073fe3648d9dc003558077c"
        },
        "_type": "PublishedContent",
        "approved": true,
        "blobName": "published/mitforlob/20210412080054365_110490790_5b9117559bfc750039a3369f.json",
        "disabled": false,
        "namespace": "mitforlob",
        "originalId": "5b9117559bfc750039a3369f",
        "publishedAt": 1618214454478,
        "publishedBy": "elisabeth@visikon.com",
        "version": 6
       },
       {
        "__v": 0,
        "_id": {
         "$oid": "6074002f48d9dc003558077d"
        },
        "_type": "PublishedContent",
        "approved": true,
        "blobName": "published/mitforlob/20210412080919518_5242064483_5b9117559bfc750039a3369f.json",
        "disabled": false,
        "namespace": "mitforlob",
        "originalId": "5b9117559bfc750039a3369f",
        "publishedAt": 1618214959643,
        "publishedBy": "elisabeth@visikon.com",
        "version": 7
       },
       {
        "__v": 0,
        "_id": {
         "$oid": "6074024d48d9dc003558077e"
        },
        "_type": "PublishedContent",
        "approved": true,
        "blobName": "published/mitforlob/20210412081821486_1357312771_5b9117559bfc750039a3369f.json",
        "disabled": false,
        "namespace": "mitforlob",
        "originalId": "5b9117559bfc750039a3369f",
        "publishedAt": 1618215501553,
        "publishedBy": "elisabeth@visikon.com",
        "version": 8
       },
       {
        "__v": 0,
        "_id": {
         "$oid": "6074035548d9dc0035580781"
        },
        "_type": "PublishedContent",
        "approved": true,
        "blobName": "published/mitforlob/20210412082245631_9153466343_5b9117559bfc750039a3369f.json",
        "disabled": false,
        "namespace": "mitforlob",
        "originalId": "5b9117559bfc750039a3369f",
        "publishedAt": 1618215765699,
        "publishedBy": "elisabeth@visikon.com",
        "version": 9
       },
       {
        "__v": 0,
        "_id": {
         "$oid": "60789f1d874598003941c034"
        },
        "_type": "PublishedContent",
        "approved": true,
        "blobName": "published/mitforlob/20210415201629441_5474601424_5eba686c512949004ce36c01.json",
        "disabled": false,
        "namespace": "mitforlob",
        "originalId": "5eba686c512949004ce36c01",
        "publishedAt": 1618517789500,
        "publishedBy": "anders@visikon.com",
        "version": 37
       },
       {
        "__v": 0,
        "_id": {
         "$oid": "608140696e2442003936fd3e"
        },
        "_type": "PublishedContent",
        "approved": false,
        "blobName": "published/mitforlob/20210422092249217_8433354832_5fb3a6eeff01c80035696efe.json",
        "disabled": true,
        "namespace": "mitforlob",
        "originalId": "5fb3a6eeff01c80035696efe",
        "publishedAt": 1619083369411,
        "publishedBy": "mette@visikon.com",
        "version": 7
       },
       {
        "__v": 0,
        "_id": {
         "$oid": "60867fea6e2442003937022b"
        },
        "_type": "PublishedContent",
        "approved": false,
        "blobName": "published/mitforlob/20210426085506656_6206875954_5fb3a6eeff01c80035696efe.json",
        "disabled": true,
        "namespace": "mitforlob",
        "originalId": "5fb3a6eeff01c80035696efe",
        "publishedAt": 1619427306745,
        "publishedBy": "mette@visikon.com",
        "version": 11
       },
       {
        "__v": 0,
        "_id": {
         "$oid": "608a9092dc6e930035ba5165"
        },
        "_type": "PublishedContent",
        "approved": true,
        "blobName": "published/mitforlob/20210429105514184_1501884677_608a8fa0dc6e930035ba50f8.json",
        "disabled": false,
        "namespace": "mitforlob",
        "originalId": "608a8fa0dc6e930035ba50f8",
        "publishedAt": 1619693714275,
        "publishedBy": "mette@visikon.com",
        "version": 0
       },
       {
        "__v": 0,
        "_id": {
         "$oid": "608a91a8dc6e930035ba5166"
        },
        "_type": "PublishedContent",
        "approved": false,
        "blobName": "published/mitforlob/20210429105952234_701905805_608a8fa0dc6e930035ba50f8.json",
        "disabled": true,
        "namespace": "mitforlob",
        "originalId": "608a8fa0dc6e930035ba50f8",
        "publishedAt": 1619693992316,
        "publishedBy": "mette@visikon.com",
        "version": 1
       },
       {
        "__v": 0,
        "_id": {
         "$oid": "608a91bfdc6e930035ba5167"
        },
        "_type": "PublishedContent",
        "approved": true,
        "blobName": "published/mitforlob/20210429110015707_5590818067_608a8fa0dc6e930035ba50f8.json",
        "disabled": true,
        "namespace": "mitforlob",
        "originalId": "608a8fa0dc6e930035ba50f8",
        "publishedAt": 1619694015758,
        "publishedBy": "mette@visikon.com",
        "version": 2
       },
       {
        "__v": 0,
        "_id": {
         "$oid": "608aad80dc6e930035ba5180"
        },
        "_type": "PublishedContent",
        "approved": true,
        "blobName": "published/mitforlob/20210429125839890_2882512010_601d74ef7470e100390f03ff.json",
        "disabled": false,
        "namespace": "mitforlob",
        "originalId": "601d74ef7470e100390f03ff",
        "publishedAt": 1619701120014,
        "publishedBy": "anders@visikon.com",
        "version": 1
       },
       {
        "__v": 0,
        "_id": {
         "$oid": "608aaeefdc6e930035ba518c"
        },
        "_type": "PublishedContent",
        "approved": true,
        "blobName": "published/mitforlob/20210429130446952_3714381438_601d74ef7470e100390f03ff.json",
        "disabled": false,
        "namespace": "mitforlob",
        "originalId": "601d74ef7470e100390f03ff",
        "publishedAt": 1619701487036,
        "publishedBy": "anders@visikon.com",
        "version": 2
       },
       {
        "__v": 0,
        "_id": {
         "$oid": "608aaf08dc6e930035ba518d"
        },
        "_type": "PublishedContent",
        "approved": true,
        "blobName": "published/mitforlob/20210429130512423_9224703328_601d73cc7470e100390f03f8.json",
        "disabled": false,
        "namespace": "mitforlob",
        "originalId": "601d73cc7470e100390f03f8",
        "publishedAt": 1619701512476,
        "publishedBy": "anders@visikon.com",
        "version": 2
       },
       {
        "__v": 0,
        "_id": {
         "$oid": "608aaf1fdc6e930035ba518e"
        },
        "_type": "PublishedContent",
        "approved": true,
        "blobName": "published/mitforlob/20210429130535275_1836673788_601d73277470e100390f03f0.json",
        "disabled": false,
        "namespace": "mitforlob",
        "originalId": "601d73277470e100390f03f0",
        "publishedAt": 1619701535368,
        "publishedBy": "anders@visikon.com",
        "version": 4
       },
       {
        "__v": 0,
        "_id": {
         "$oid": "608aaf39dc6e930035ba518f"
        },
        "_type": "PublishedContent",
        "approved": true,
        "blobName": "published/mitforlob/20210429130600965_7341625067_601d73877470e100390f03f5.json",
        "disabled": false,
        "namespace": "mitforlob",
        "originalId": "601d73877470e100390f03f5",
        "publishedAt": 1619701561032,
        "publishedBy": "anders@visikon.com",
        "version": 1
       },
       {
        "__v": 0,
        "_id": {
         "$oid": "608aaf4fdc6e930035ba5190"
        },
        "_type": "PublishedContent",
        "approved": true,
        "blobName": "published/mitforlob/20210429130623128_6932301654_601d72297470e100390f03e9.json",
        "disabled": true,
        "namespace": "mitforlob",
        "originalId": "601d72297470e100390f03e9",
        "publishedAt": 1619701583177,
        "publishedBy": "anders@visikon.com",
        "version": 3
       },
       {
        "__v": 0,
        "_id": {
         "$oid": "608aafb3dc6e930035ba5191"
        },
        "_type": "PublishedContent",
        "approved": true,
        "blobName": "published/mitforlob/20210429130803787_1948518317_601d74087470e100390f03fb.json",
        "disabled": false,
        "namespace": "mitforlob",
        "originalId": "601d74087470e100390f03fb",
        "publishedAt": 1619701683840,
        "publishedBy": "anders@visikon.com",
        "version": 6
       },
       {
        "__v": 0,
        "_id": {
         "$oid": "608ed433dc6e930035ba5448"
        },
        "_type": "PublishedContent",
        "approved": false,
        "blobName": "published/mitforlob/20210502163251429_3458338132_5d9771a4541886002ff7a22a.json",
        "disabled": true,
        "namespace": "mitforlob",
        "originalId": "5d9771a4541886002ff7a22a",
        "publishedAt": 1619973171511,
        "publishedBy": "mette@visikon.com",
        "version": 11
       },
       {
        "__v": 0,
        "_id": {
         "$oid": "60912a1c8561e50039bc0b91"
        },
        "_type": "PublishedContent",
        "approved": false,
        "blobName": "published/mitforlob/20210504110356687_9239477604_60911d208561e50039bc0b8b.json",
        "disabled": true,
        "namespace": "mitforlob",
        "originalId": "60911d208561e50039bc0b8b",
        "publishedAt": 1620126236785,
        "publishedBy": "mette@visikon.com",
        "version": 1
       },
       {
        "__v": 0,
        "_id": {
         "$oid": "6099224437745000357bb676"
        },
        "_type": "PublishedContent",
        "approved": true,
        "blobName": "published/mitforlob/20210510120836368_7548367047_5d00e2fd20b2d4003aeee977.json",
        "disabled": false,
        "namespace": "mitforlob",
        "originalId": "5d00e2fd20b2d4003aeee977",
        "publishedAt": 1620648516431,
        "publishedBy": "mette@visikon.com",
        "version": 6
       },
       {
        "__v": 0,
        "_id": {
         "$oid": "6099225b37745000357bb677"
        },
        "_type": "PublishedContent",
        "approved": true,
        "blobName": "published/mitforlob/20210510120859486_4333835537_5d035b6e57ca1d003930f197.json",
        "disabled": false,
        "namespace": "mitforlob",
        "originalId": "5d035b6e57ca1d003930f197",
        "publishedAt": 1620648539534,
        "publishedBy": "mette@visikon.com",
        "version": 6
       },
       {
        "__v": 0,
        "_id": {
         "$oid": "609e73444cfec50039bbe4a9"
        },
        "_type": "PublishedContent",
        "approved": true,
        "blobName": "published/mitforlob/20210514125532900_3286738802_5ff2f232f89f3c0039ba0746.json",
        "disabled": false,
        "namespace": "mitforlob",
        "originalId": "5ff2f232f89f3c0039ba0746",
        "publishedAt": 1620996932978,
        "publishedBy": "elisabeth@visikon.com",
        "version": 4
       },
       {
        "__v": 0,
        "_id": {
         "$oid": "609e73804cfec50039bbe4aa"
        },
        "_type": "PublishedContent",
        "approved": true,
        "blobName": "published/mitforlob/20210514125632493_1917359430_5fda293bbe5ada0039e97634.json",
        "disabled": false,
        "namespace": "mitforlob",
        "originalId": "5fda293bbe5ada0039e97634",
        "publishedAt": 1620996992589,
        "publishedBy": "elisabeth@visikon.com",
        "version": 14
       },
       {
        "__v": 0,
        "_id": {
         "$oid": "609e73ca4cfec50039bbe4ac"
        },
        "_type": "PublishedContent",
        "approved": false,
        "blobName": "published/mitforlob/20210514125746400_4241554102_5fa558b9c556ef00399297cf.json",
        "disabled": false,
        "namespace": "mitforlob",
        "originalId": "5fa558b9c556ef00399297cf",
        "publishedAt": 1620997066458,
        "publishedBy": "elisabeth@visikon.com",
        "version": 5
       },
       {
        "__v": 0,
        "_id": {
         "$oid": "609e74494cfec50039bbe4b0"
        },
        "_type": "PublishedContent",
        "approved": false,
        "blobName": "published/mitforlob/20210514125953481_6818260061_5f915abbef94e70039f4843b.json",
        "disabled": true,
        "namespace": "mitforlob",
        "originalId": "5f915abbef94e70039f4843b",
        "publishedAt": 1620997193583,
        "publishedBy": "elisabeth@visikon.com",
        "version": 11
       },
       {
        "__v": 0,
        "_id": {
         "$oid": "609e79a34cfec50039bbe4bb"
        },
        "_type": "PublishedContent",
        "approved": true,
        "blobName": "published/mitforlob/20210514132243025_3906897141_6099310b37745000357bb691.json",
        "disabled": false,
        "namespace": "mitforlob",
        "originalId": "6099310b37745000357bb691",
        "publishedAt": 1620998563130,
        "publishedBy": "elisabeth@visikon.com",
        "version": 3
       },
       {
        "__v": 0,
        "_id": {
         "$oid": "609e7cf44cfec50039bbe4c0"
        },
        "_type": "PublishedContent",
        "approved": true,
        "blobName": "published/mitforlob/20210514133652554_3993830180_60992efe37745000357bb684.json",
        "disabled": false,
        "namespace": "mitforlob",
        "originalId": "60992efe37745000357bb684",
        "publishedAt": 1620999412651,
        "publishedBy": "elisabeth@visikon.com",
        "version": 3
       },
       {
        "__v": 0,
        "_id": {
         "$oid": "609e7d244cfec50039bbe4c2"
        },
        "_type": "PublishedContent",
        "approved": true,
        "blobName": "published/mitforlob/20210514133740744_3524317582_609930f237745000357bb68f.json",
        "disabled": false,
        "namespace": "mitforlob",
        "originalId": "609930f237745000357bb68f",
        "publishedAt": 1620999460799,
        "publishedBy": "elisabeth@visikon.com",
        "version": 2
       },
       {
        "__v": 0,
        "_id": {
         "$oid": "609e7d4d4cfec50039bbe4c3"
        },
        "_type": "PublishedContent",
        "approved": true,
        "blobName": "published/mitforlob/20210514133821767_4319556980_6099310b37745000357bb691.json",
        "disabled": false,
        "namespace": "mitforlob",
        "originalId": "6099310b37745000357bb691",
        "publishedAt": 1620999501824,
        "publishedBy": "elisabeth@visikon.com",
        "version": 4
       },
       {
        "__v": 0,
        "_id": {
         "$oid": "60a10f354cfec50039bbe615"
        },
        "_type": "PublishedContent",
        "approved": false,
        "blobName": "published/mitforlob/20210516122525363_7335173673_609e64f54cfec50039bbe452.json",
        "disabled": false,
        "namespace": "mitforlob",
        "originalId": "609e64f54cfec50039bbe452",
        "publishedAt": 1621167925492,
        "publishedBy": "mette@visikon.com",
        "version": 2
       },
       {
        "__v": 0,
        "_id": {
         "$oid": "60a10f614cfec50039bbe617"
        },
        "_type": "PublishedContent",
        "approved": false,
        "blobName": "published/mitforlob/20210516122609370_7329107405_609e65394cfec50039bbe454.json",
        "disabled": false,
        "namespace": "mitforlob",
        "originalId": "609e65394cfec50039bbe454",
        "publishedAt": 1621167969431,
        "publishedBy": "mette@visikon.com",
        "version": 1
       },
       {
        "__v": 0,
        "_id": {
         "$oid": "60a10f8b4cfec50039bbe618"
        },
        "_type": "PublishedContent",
        "approved": false,
        "blobName": "published/mitforlob/20210516122651235_7886856945_609e657f4cfec50039bbe456.json",
        "disabled": false,
        "namespace": "mitforlob",
        "originalId": "609e657f4cfec50039bbe456",
        "publishedAt": 1621168011351,
        "publishedBy": "mette@visikon.com",
        "version": 1
       },
       {
        "__v": 0,
        "_id": {
         "$oid": "60a110164cfec50039bbe61c"
        },
        "_type": "PublishedContent",
        "approved": false,
        "blobName": "published/mitforlob/20210516122910260_7678310994_6011cbb91d0fc2003937373a.json",
        "disabled": true,
        "namespace": "mitforlob",
        "originalId": "6011cbb91d0fc2003937373a",
        "publishedAt": 1621168150321,
        "publishedBy": "mette@visikon.com",
        "version": 4
       },
       {
        "__v": 0,
        "_id": {
         "$oid": "60a1102e4cfec50039bbe61d"
        },
        "_type": "PublishedContent",
        "approved": false,
        "blobName": "published/mitforlob/20210516122934728_3787214384_6011cc2b1d0fc2003937373c.json",
        "disabled": true,
        "namespace": "mitforlob",
        "originalId": "6011cc2b1d0fc2003937373c",
        "publishedAt": 1621168174781,
        "publishedBy": "mette@visikon.com",
        "version": 4
       },
       {
        "__v": 0,
        "_id": {
         "$oid": "60a1104a4cfec50039bbe61e"
        },
        "_type": "PublishedContent",
        "approved": false,
        "blobName": "published/mitforlob/20210516123002503_7372961556_6011ccd01d0fc2003937373e.json",
        "disabled": true,
        "namespace": "mitforlob",
        "originalId": "6011ccd01d0fc2003937373e",
        "publishedAt": 1621168202590,
        "publishedBy": "mette@visikon.com",
        "version": 4
       },
       {
        "__v": 0,
        "_id": {
         "$oid": "60a110604cfec50039bbe61f"
        },
        "_type": "PublishedContent",
        "approved": false,
        "blobName": "published/mitforlob/20210516123024733_4224853883_6011cd5f1d0fc20039373741.json",
        "disabled": true,
        "namespace": "mitforlob",
        "originalId": "6011cd5f1d0fc20039373741",
        "publishedAt": 1621168224831,
        "publishedBy": "mette@visikon.com",
        "version": 4
       },
       {
        "__v": 0,
        "_id": {
         "$oid": "60a110784cfec50039bbe620"
        },
        "_type": "PublishedContent",
        "approved": false,
        "blobName": "published/mitforlob/20210516123048332_1169973600_6011cdb71d0fc20039373745.json",
        "disabled": true,
        "namespace": "mitforlob",
        "originalId": "6011cdb71d0fc20039373745",
        "publishedAt": 1621168248382,
        "publishedBy": "mette@visikon.com",
        "version": 2
       },
       {
        "__v": 0,
        "_id": {
         "$oid": "60a110994cfec50039bbe621"
        },
        "_type": "PublishedContent",
        "approved": true,
        "blobName": "published/mitforlob/20210516123121600_232518279_6011ce171d0fc20039373747.json",
        "disabled": false,
        "namespace": "mitforlob",
        "originalId": "6011ce171d0fc20039373747",
        "publishedAt": 1621168281653,
        "publishedBy": "mette@visikon.com",
        "version": 2
       },
       {
        "__v": 0,
        "_id": {
         "$oid": "60a110c24cfec50039bbe622"
        },
        "_type": "PublishedContent",
        "approved": false,
        "blobName": "published/mitforlob/20210516123201949_9396774995_6011cea61d0fc20039373749.json",
        "disabled": true,
        "namespace": "mitforlob",
        "originalId": "6011cea61d0fc20039373749",
        "publishedAt": 1621168322008,
        "publishedBy": "mette@visikon.com",
        "version": 3
       },
       {
        "__v": 0,
        "_id": {
         "$oid": "60a110e34cfec50039bbe623"
        },
        "_type": "PublishedContent",
        "approved": false,
        "blobName": "published/mitforlob/20210516123234957_8447602214_609e66464cfec50039bbe460.json",
        "disabled": false,
        "namespace": "mitforlob",
        "originalId": "609e66464cfec50039bbe460",
        "publishedAt": 1621168355040,
        "publishedBy": "mette@visikon.com",
        "version": 2
       },
       {
        "__v": 0,
        "_id": {
         "$oid": "60a114794cfec50039bbe625"
        },
        "_type": "PublishedContent",
        "approved": false,
        "blobName": "published/mitforlob/20210516124753016_9963094881_6011ccd01d0fc2003937373e.json",
        "disabled": true,
        "namespace": "mitforlob",
        "originalId": "6011ccd01d0fc2003937373e",
        "publishedAt": 1621169273104,
        "publishedBy": "mette@visikon.com",
        "version": 5
       },
       {
        "__v": 0,
        "_id": {
         "$oid": "60a1148b4cfec50039bbe626"
        },
        "_type": "PublishedContent",
        "approved": false,
        "blobName": "published/mitforlob/20210516124811784_9908260136_6011cd5f1d0fc20039373741.json",
        "disabled": true,
        "namespace": "mitforlob",
        "originalId": "6011cd5f1d0fc20039373741",
        "publishedAt": 1621169291877,
        "publishedBy": "mette@visikon.com",
        "version": 5
       },
       {
        "__v": 0,
        "_id": {
         "$oid": "60a114be4cfec50039bbe629"
        },
        "_type": "PublishedContent",
        "approved": false,
        "blobName": "published/mitforlob/20210516124902677_6663127037_609e64f54cfec50039bbe452.json",
        "disabled": false,
        "namespace": "mitforlob",
        "originalId": "609e64f54cfec50039bbe452",
        "publishedAt": 1621169342731,
        "publishedBy": "mette@visikon.com",
        "version": 3
       },
       {
        "__v": 0,
        "_id": {
         "$oid": "60a114cd4cfec50039bbe62a"
        },
        "_type": "PublishedContent",
        "approved": false,
        "blobName": "published/mitforlob/20210516124917514_3693895989_609e65394cfec50039bbe454.json",
        "disabled": false,
        "namespace": "mitforlob",
        "originalId": "609e65394cfec50039bbe454",
        "publishedAt": 1621169357574,
        "publishedBy": "mette@visikon.com",
        "version": 2
       },
       {
        "__v": 0,
        "_id": {
         "$oid": "60a114db4cfec50039bbe62b"
        },
        "_type": "PublishedContent",
        "approved": false,
        "blobName": "published/mitforlob/20210516124931380_6343904077_609e657f4cfec50039bbe456.json",
        "disabled": false,
        "namespace": "mitforlob",
        "originalId": "609e657f4cfec50039bbe456",
        "publishedAt": 1621169371440,
        "publishedBy": "mette@visikon.com",
        "version": 2
       },
       {
        "__v": 0,
        "_id": {
         "$oid": "60a228584cfec50039bbe6b0"
        },
        "_type": "PublishedContent",
        "approved": true,
        "blobName": "published/mitforlob/20210517082456385_1525631073_6011cbb91d0fc2003937373a.json",
        "disabled": false,
        "namespace": "mitforlob",
        "originalId": "6011cbb91d0fc2003937373a",
        "publishedAt": 1621239896556,
        "publishedBy": "elisabeth@visikon.com",
        "version": 5
       },
       {
        "__v": 0,
        "_id": {
         "$oid": "60a26b984cfec50039bbe721"
        },
        "_type": "PublishedContent",
        "approved": false,
        "blobName": "published/mitforlob/20210517131152332_6107654771_6011cdb71d0fc20039373745.json",
        "disabled": true,
        "namespace": "mitforlob",
        "originalId": "6011cdb71d0fc20039373745",
        "publishedAt": 1621257112416,
        "publishedBy": "mette@visikon.com",
        "version": 6
       },
       {
        "__v": 0,
        "_id": {
         "$oid": "60b0931cc7144700353e0452"
        },
        "_type": "PublishedContent",
        "approved": false,
        "blobName": "published/mitforlob/20210528065212056_3970600044_5ffee752a0731b0035753390.json",
        "disabled": true,
        "namespace": "mitforlob",
        "originalId": "5ffee752a0731b0035753390",
        "publishedAt": 1622184732141,
        "publishedBy": "mette@visikon.com",
        "version": 15
       },
       {
        "__v": 0,
        "_id": {
         "$oid": "60b09329c7144700353e0453"
        },
        "_type": "PublishedContent",
        "approved": true,
        "blobName": "published/mitforlob/20210528065225512_3361639997_601d74087470e100390f03fb.json",
        "disabled": false,
        "namespace": "mitforlob",
        "originalId": "601d74087470e100390f03fb",
        "publishedAt": 1622184745559,
        "publishedBy": "mette@visikon.com",
        "version": 8
       },
       {
        "__v": 0,
        "_id": {
         "$oid": "60b0b0d3c7144700353e04a5"
        },
        "_type": "PublishedContent",
        "approved": true,
        "blobName": "published/mitforlob/20210528085859530_9740181733_5bfdbc19e6fdb90039e36d4d.json",
        "disabled": false,
        "namespace": "mitforlob",
        "originalId": "5bfdbc19e6fdb90039e36d4d",
        "publishedAt": 1622192339586,
        "publishedBy": "mette@visikon.com",
        "version": 9
       },
       {
        "__v": 0,
        "_id": {
         "$oid": "60b0fdb5c7144700353e04c5"
        },
        "_type": "PublishedContent",
        "approved": true,
        "blobName": "published/mitforlob/20210528142701660_1670231176_5f9e904cf6c80700393b4305.json",
        "disabled": false,
        "namespace": "mitforlob",
        "originalId": "5f9e904cf6c80700393b4305",
        "publishedAt": 1622212021765,
        "publishedBy": "elisabeth@visikon.com",
        "version": 12
       },
       {
        "__v": 0,
        "_id": {
         "$oid": "60b0fe81c7144700353e04c7"
        },
        "_type": "PublishedContent",
        "approved": true,
        "blobName": "published/mitforlob/20210528143025780_4511798546_5ffee48aa0731b003575336e.json",
        "disabled": false,
        "namespace": "mitforlob",
        "originalId": "5ffee48aa0731b003575336e",
        "publishedAt": 1622212225897,
        "publishedBy": "elisabeth@visikon.com",
        "version": 11
       },
       {
        "__v": 0,
        "_id": {
         "$oid": "60b0fe81c7144700353e04c6"
        },
        "_type": "PublishedContent",
        "approved": false,
        "blobName": "published/mitforlob/20210528143025763_270440562_5ffee48aa0731b003575336e.json",
        "disabled": true,
        "namespace": "mitforlob",
        "originalId": "5ffee48aa0731b003575336e",
        "publishedAt": 1622212225871,
        "publishedBy": "elisabeth@visikon.com",
        "version": 11
       },
       {
        "__v": 0,
        "_id": {
         "$oid": "60b0feb1c7144700353e04c8"
        },
        "_type": "PublishedContent",
        "approved": true,
        "blobName": "published/mitforlob/20210528143113945_1413505333_5ffee489a0731b003575336c.json",
        "disabled": true,
        "namespace": "mitforlob",
        "originalId": "5ffee489a0731b003575336c",
        "publishedAt": 1622212273996,
        "publishedBy": "elisabeth@visikon.com",
        "version": 8
       },
       {
        "__v": 0,
        "_id": {
         "$oid": "60b0ff07c7144700353e04c9"
        },
        "_type": "PublishedContent",
        "approved": true,
        "blobName": "published/mitforlob/20210528143239286_5011569118_5ffee488a0731b003575336a.json",
        "disabled": true,
        "namespace": "mitforlob",
        "originalId": "5ffee488a0731b003575336a",
        "publishedAt": 1622212359357,
        "publishedBy": "elisabeth@visikon.com",
        "version": 10
       },
       {
        "__v": 0,
        "_id": {
         "$oid": "60cb46f10e3e970039d1988a"
        },
        "_type": "PublishedContent",
        "approved": true,
        "blobName": "published/mitforlob/20210617125825025_2985807713_60cb467d0e3e970039d19888.json",
        "disabled": false,
        "namespace": "mitforlob",
        "originalId": "60cb467d0e3e970039d19888",
        "publishedAt": 1623934705082,
        "publishedBy": "mette@visikon.com",
        "version": 0
       },
       {
        "__v": 0,
        "_id": {
         "$oid": "60cb47000e3e970039d1988b"
        },
        "_type": "PublishedContent",
        "approved": false,
        "blobName": "published/mitforlob/20210617125840660_6071228762_60cb467d0e3e970039d19888.json",
        "disabled": true,
        "namespace": "mitforlob",
        "originalId": "60cb467d0e3e970039d19888",
        "publishedAt": 1623934720734,
        "publishedBy": "mette@visikon.com",
        "version": 1
       },
       {
        "__v": 0,
        "_id": {
         "$oid": "60cb470a0e3e970039d1988c"
        },
        "_type": "PublishedContent",
        "approved": false,
        "blobName": "published/mitforlob/20210617125850636_2308827725_60cb467d0e3e970039d19888.json",
        "disabled": true,
        "namespace": "mitforlob",
        "originalId": "60cb467d0e3e970039d19888",
        "publishedAt": 1623934730688,
        "publishedBy": "mette@visikon.com",
        "version": 2
       },
       {
        "__v": 0,
        "_id": {
         "$oid": "60d88ca47c502700399f4b18"
        },
        "_type": "PublishedContent",
        "approved": true,
        "blobName": "published/mitforlob/20210627143516786_7985668244_60d8898f7c502700399f4b0d.json",
        "disabled": false,
        "namespace": "mitforlob",
        "originalId": "60d8898f7c502700399f4b0d",
        "publishedAt": 1624804516904,
        "publishedBy": "mette@visikon.com",
        "version": 0
       },
       {
        "__v": 0,
        "_id": {
         "$oid": "60d88caf7c502700399f4b19"
        },
        "_type": "PublishedContent",
        "approved": true,
        "blobName": "published/mitforlob/20210627143527144_6029034181_60d8899c7c502700399f4b0f.json",
        "disabled": false,
        "namespace": "mitforlob",
        "originalId": "60d8899c7c502700399f4b0f",
        "publishedAt": 1624804527228,
        "publishedBy": "mette@visikon.com",
        "version": 0
       },
       {
        "__v": 0,
        "_id": {
         "$oid": "60d88cba7c502700399f4b1a"
        },
        "_type": "PublishedContent",
        "approved": true,
        "blobName": "published/mitforlob/20210627143538722_3327777386_60d88a407c502700399f4b13.json",
        "disabled": false,
        "namespace": "mitforlob",
        "originalId": "60d88a407c502700399f4b13",
        "publishedAt": 1624804538769,
        "publishedBy": "mette@visikon.com",
        "version": 0
       },
       {
        "__v": 0,
        "_id": {
         "$oid": "60d88cc77c502700399f4b1b"
        },
        "_type": "PublishedContent",
        "approved": true,
        "blobName": "published/mitforlob/20210627143551113_5692608002_60d88a617c502700399f4b15.json",
        "disabled": false,
        "namespace": "mitforlob",
        "originalId": "60d88a617c502700399f4b15",
        "publishedAt": 1624804551160,
        "publishedBy": "mette@visikon.com",
        "version": 0
       },
       {
        "__v": 0,
        "_id": {
         "$oid": "60d97f9c7c502700399f4b7e"
        },
        "_type": "PublishedContent",
        "approved": false,
        "blobName": "published/mitforlob/20210628075156182_6478439891_5fb3d128ff01c80035697021.json",
        "disabled": true,
        "namespace": "mitforlob",
        "originalId": "5fb3d128ff01c80035697021",
        "publishedAt": 1624866716268,
        "publishedBy": "mette@visikon.com",
        "version": 15
       },
       {
        "__v": 0,
        "_id": {
         "$oid": "60d983c67c502700399f4b89"
        },
        "_type": "PublishedContent",
        "approved": false,
        "blobName": "published/mitforlob/20210628080941951_4449540487_5fb3d128ff01c80035697021.json",
        "disabled": true,
        "namespace": "mitforlob",
        "originalId": "5fb3d128ff01c80035697021",
        "publishedAt": 1624867782018,
        "publishedBy": "mette@visikon.com",
        "version": 16
       },
       {
        "__v": 0,
        "_id": {
         "$oid": "60d992be7c502700399f4b95"
        },
        "_type": "PublishedContent",
        "approved": false,
        "blobName": "published/mitforlob/20210628091334777_4049597263_5fb3a6eeff01c80035696efe.json",
        "disabled": true,
        "namespace": "mitforlob",
        "originalId": "5fb3a6eeff01c80035696efe",
        "publishedAt": 1624871614923,
        "publishedBy": "mette@visikon.com",
        "version": 23
       },
       {
        "__v": 0,
        "_id": {
         "$oid": "60d9aa5c7c502700399f4bf7"
        },
        "_type": "PublishedContent",
        "approved": false,
        "blobName": "published/mitforlob/20210628105420220_3089455736_60d8898f7c502700399f4b0d.json",
        "disabled": true,
        "namespace": "mitforlob",
        "originalId": "60d8898f7c502700399f4b0d",
        "publishedAt": 1624877660315,
        "publishedBy": "mette@visikon.com",
        "version": 1
       },
       {
        "__v": 0,
        "_id": {
         "$oid": "60d9aa797c502700399f4bf8"
        },
        "_type": "PublishedContent",
        "approved": true,
        "blobName": "published/mitforlob/20210628105449176_281582426_60d8899c7c502700399f4b0f.json",
        "disabled": false,
        "namespace": "mitforlob",
        "originalId": "60d8899c7c502700399f4b0f",
        "publishedAt": 1624877689262,
        "publishedBy": "mette@visikon.com",
        "version": 1
       },
       {
        "__v": 0,
        "_id": {
         "$oid": "60d9aa977c502700399f4bf9"
        },
        "_type": "PublishedContent",
        "approved": true,
        "blobName": "published/mitforlob/20210628105518988_9499887776_60d88a617c502700399f4b15.json",
        "disabled": false,
        "namespace": "mitforlob",
        "originalId": "60d88a617c502700399f4b15",
        "publishedAt": 1624877719072,
        "publishedBy": "mette@visikon.com",
        "version": 1
       },
       {
        "__v": 0,
        "_id": {
         "$oid": "60d9aaf87c502700399f4bfa"
        },
        "_type": "PublishedContent",
        "approved": true,
        "blobName": "published/mitforlob/20210628105656719_9129133054_60d8898f7c502700399f4b0d.json",
        "disabled": false,
        "namespace": "mitforlob",
        "originalId": "60d8898f7c502700399f4b0d",
        "publishedAt": 1624877816815,
        "publishedBy": "mette@visikon.com",
        "version": 2
       },
       {
        "__v": 0,
        "_id": {
         "$oid": "60d9ae577c502700399f4c05"
        },
        "_type": "PublishedContent",
        "approved": true,
        "blobName": "published/mitforlob/20210628111119421_8564829111_60d88a407c502700399f4b13.json",
        "disabled": false,
        "namespace": "mitforlob",
        "originalId": "60d88a407c502700399f4b13",
        "publishedAt": 1624878679472,
        "publishedBy": "mette@visikon.com",
        "version": 1
       },
       {
        "__v": 0,
        "_id": {
         "$oid": "60de38ef88f48c0039a507ee"
        },
        "_type": "PublishedContent",
        "approved": true,
        "blobName": "published/mitforlob/20210701215143684_7655756209_5b93f0ec498fad0038e6b0e1.json",
        "disabled": false,
        "namespace": "mitforlob",
        "originalId": "5b93f0ec498fad0038e6b0e1",
        "publishedAt": 1625176303826,
        "publishedBy": "anders@visikon.com",
        "version": 13
       },
       {
        "__v": 0,
        "_id": {
         "$oid": "60e2d39f88f48c0039a50ac8"
        },
        "_type": "PublishedContent",
        "approved": false,
        "blobName": "published/mitforlob/20210705094047672_6105049938_6011cdb71d0fc20039373745.json",
        "disabled": true,
        "namespace": "mitforlob",
        "originalId": "6011cdb71d0fc20039373745",
        "publishedAt": 1625478047742,
        "publishedBy": "elisabeth@visikon.com",
        "version": 12
       },
       {
        "__v": 0,
        "_id": {
         "$oid": "610d3058812cb500392d5493"
        },
        "_type": "PublishedContent",
        "approved": true,
        "blobName": "published/mitforlob/20210806125136175_5073620603_60e5b19c88f48c0039a5155e.json",
        "disabled": false,
        "namespace": "mitforlob",
        "originalId": "60e5b19c88f48c0039a5155e",
        "publishedAt": 1628254296224,
        "publishedBy": "elisabeth@visikon.com",
        "version": 2
       },
       {
        "__v": 0,
        "_id": {
         "$oid": "61122d25812cb500392d554a"
        },
        "_type": "PublishedContent",
        "approved": false,
        "blobName": "published/mitforlob/20210810073917447_7152205688_60e5ac1488f48c0039a5155a.json",
        "disabled": true,
        "namespace": "mitforlob",
        "originalId": "60e5ac1488f48c0039a5155a",
        "publishedAt": 1628581157491,
        "publishedBy": "elisabeth@visikon.com",
        "version": 3
       },
       {
        "__v": 0,
        "_id": {
         "$oid": "611627efc35f1700351b7e6c"
        },
        "_type": "PublishedContent",
        "approved": true,
        "blobName": "published/mitforlob/20210813080607094_2162060191_5b950168c935dc00389b8e06.json",
        "disabled": false,
        "namespace": "mitforlob",
        "originalId": "5b950168c935dc00389b8e06",
        "publishedAt": 1628841967259,
        "publishedBy": "mette@visikon.com",
        "version": 19
       },
       {
        "__v": 0,
        "_id": {
         "$oid": "611661c6c35f1700351b7e87"
        },
        "_type": "PublishedContent",
        "approved": false,
        "blobName": "published/mitforlob/20210813121254639_1138689406_6011cea61d0fc20039373749.json",
        "disabled": true,
        "namespace": "mitforlob",
        "originalId": "6011cea61d0fc20039373749",
        "publishedAt": 1628856774744,
        "publishedBy": "mette@visikon.com",
        "version": 9
       },
       {
        "__v": 0,
        "_id": {
         "$oid": "611f4a60fadd3c0039dba81a"
        },
        "_type": "PublishedContent",
        "approved": true,
        "blobName": "published/mitforlob/20210820062328053_9935419193_60911b648561e50039bc0b87.json",
        "disabled": false,
        "namespace": "mitforlob",
        "originalId": "60911b648561e50039bc0b87",
        "publishedAt": 1629440608175,
        "publishedBy": "mette@visikon.com",
        "version": 14
       },
       {
        "__v": 0,
        "_id": {
         "$oid": "611f8220fadd3c0039dba83d"
        },
        "_type": "PublishedContent",
        "approved": true,
        "blobName": "published/mitforlob/20210820102120375_6683488763_60c1fe6f195db90039b5412f.json",
        "disabled": true,
        "namespace": "mitforlob",
        "originalId": "60c1fe6f195db90039b5412f",
        "publishedAt": 1629454880454,
        "publishedBy": "mette@visikon.com",
        "version": 4
       },
       {
        "__v": 0,
        "_id": {
         "$oid": "611f82f2fadd3c0039dba83e"
        },
        "_type": "PublishedContent",
        "approved": true,
        "blobName": "published/mitforlob/20210820102450601_6789325171_60c1fe6f195db90039b5412f.json",
        "disabled": false,
        "namespace": "mitforlob",
        "originalId": "60c1fe6f195db90039b5412f",
        "publishedAt": 1629455090694,
        "publishedBy": "mette@visikon.com",
        "version": 5
       },
       {
        "__v": 0,
        "_id": {
         "$oid": "611f9ee4fadd3c0039dba846"
        },
        "_type": "PublishedContent",
        "approved": true,
        "blobName": "published/mitforlob/20210820122404645_5441989208_6011cb2d1d0fc20039373738.json",
        "disabled": false,
        "namespace": "mitforlob",
        "originalId": "6011cb2d1d0fc20039373738",
        "publishedAt": 1629462244725,
        "publishedBy": "mette@visikon.com",
        "version": 16
       },
       {
        "__v": 0,
        "_id": {
         "$oid": "611f9ef7fadd3c0039dba847"
        },
        "_type": "PublishedContent",
        "approved": true,
        "blobName": "published/mitforlob/20210820122423238_9794977188_6011cbb91d0fc2003937373a.json",
        "disabled": false,
        "namespace": "mitforlob",
        "originalId": "6011cbb91d0fc2003937373a",
        "publishedAt": 1629462263305,
        "publishedBy": "mette@visikon.com",
        "version": 19
       },
       {
        "__v": 0,
        "_id": {
         "$oid": "611f9f02fadd3c0039dba848"
        },
        "_type": "PublishedContent",
        "approved": true,
        "blobName": "published/mitforlob/20210820122434643_3980106496_6011cc2b1d0fc2003937373c.json",
        "disabled": false,
        "namespace": "mitforlob",
        "originalId": "6011cc2b1d0fc2003937373c",
        "publishedAt": 1629462274782,
        "publishedBy": "mette@visikon.com",
        "version": 13
       },
       {
        "__v": 0,
        "_id": {
         "$oid": "611f9f1bfadd3c0039dba84a"
        },
        "_type": "PublishedContent",
        "approved": true,
        "blobName": "published/mitforlob/20210820122459039_1459347952_6011cd5f1d0fc20039373741.json",
        "disabled": false,
        "namespace": "mitforlob",
        "originalId": "6011cd5f1d0fc20039373741",
        "publishedAt": 1629462299119,
        "publishedBy": "mette@visikon.com",
        "version": 18
       },
       {
        "__v": 0,
        "_id": {
         "$oid": "611f9f28fadd3c0039dba84b"
        },
        "_type": "PublishedContent",
        "approved": true,
        "blobName": "published/mitforlob/20210820122512859_5226469009_6011cdb71d0fc20039373745.json",
        "disabled": false,
        "namespace": "mitforlob",
        "originalId": "6011cdb71d0fc20039373745",
        "publishedAt": 1629462312936,
        "publishedBy": "mette@visikon.com",
        "version": 17
       },
       {
        "__v": 0,
        "_id": {
         "$oid": "611f9f39fadd3c0039dba84c"
        },
        "_type": "PublishedContent",
        "approved": true,
        "blobName": "published/mitforlob/20210820122529612_8610545707_6011ce171d0fc20039373747.json",
        "disabled": false,
        "namespace": "mitforlob",
        "originalId": "6011ce171d0fc20039373747",
        "publishedAt": 1629462329693,
        "publishedBy": "mette@visikon.com",
        "version": 10
       },
       {
        "__v": 0,
        "_id": {
         "$oid": "611f9f4afadd3c0039dba84d"
        },
        "_type": "PublishedContent",
        "approved": true,
        "blobName": "published/mitforlob/20210820122546741_4047289979_6011cea61d0fc20039373749.json",
        "disabled": false,
        "namespace": "mitforlob",
        "originalId": "6011cea61d0fc20039373749",
        "publishedAt": 1629462346810,
        "publishedBy": "mette@visikon.com",
        "version": 12
       },
       {
        "__v": 0,
        "_id": {
         "$oid": "611f9f59fadd3c0039dba84e"
        },
        "_type": "PublishedContent",
        "approved": false,
        "blobName": "published/mitforlob/20210820122601353_5838491365_60c1fe6f195db90039b5412f.json",
        "disabled": true,
        "namespace": "mitforlob",
        "originalId": "60c1fe6f195db90039b5412f",
        "publishedAt": 1629462361418,
        "publishedBy": "mette@visikon.com",
        "version": 6
       },
       {
        "__v": 0,
        "_id": {
         "$oid": "611f9f67fadd3c0039dba84f"
        },
        "_type": "PublishedContent",
        "approved": true,
        "blobName": "published/mitforlob/20210820122615804_6825112033_60c1fe6f195db90039b5412f.json",
        "disabled": false,
        "namespace": "mitforlob",
        "originalId": "60c1fe6f195db90039b5412f",
        "publishedAt": 1629462375870,
        "publishedBy": "mette@visikon.com",
        "version": 7
       },
       {
        "__v": 0,
        "_id": {
         "$oid": "611fa020fadd3c0039dba850"
        },
        "_type": "PublishedContent",
        "approved": true,
        "blobName": "published/mitforlob/20210820122920530_1892932903_60c1ff08195db90039b54131.json",
        "disabled": false,
        "namespace": "mitforlob",
        "originalId": "60c1ff08195db90039b54131",
        "publishedAt": 1629462560612,
        "publishedBy": "mette@visikon.com",
        "version": 6
       },
       {
        "__v": 0,
        "_id": {
         "$oid": "611fa03ffadd3c0039dba851"
        },
        "_type": "PublishedContent",
        "approved": true,
        "blobName": "published/mitforlob/20210820122951103_8723698945_60c1ff44195db90039b54133.json",
        "disabled": false,
        "namespace": "mitforlob",
        "originalId": "60c1ff44195db90039b54133",
        "publishedAt": 1629462591177,
        "publishedBy": "mette@visikon.com",
        "version": 6
       },
       {
        "__v": 0,
        "_id": {
         "$oid": "611fa059fadd3c0039dba852"
        },
        "_type": "PublishedContent",
        "approved": true,
        "blobName": "published/mitforlob/20210820123017009_1064059155_60c1ff7f195db90039b54135.json",
        "disabled": false,
        "namespace": "mitforlob",
        "originalId": "60c1ff7f195db90039b54135",
        "publishedAt": 1629462617083,
        "publishedBy": "mette@visikon.com",
        "version": 5
       },
       {
        "__v": 0,
        "_id": {
         "$oid": "61239be2fadd3c0039dba8a8"
        },
        "_type": "PublishedContent",
        "approved": false,
        "blobName": "published/mitforlob/20210823130018453_3779993226_60e5b38088f48c0039a515a3.json",
        "disabled": true,
        "namespace": "mitforlob",
        "originalId": "60e5b38088f48c0039a515a3",
        "publishedAt": 1629723618550,
        "publishedBy": "mette@visikon.com",
        "version": 5
       },
       {
        "__v": 0,
        "_id": {
         "$oid": "6124001bfadd3c0039dba8c6"
        },
        "_type": "PublishedContent",
        "approved": true,
        "blobName": "published/mitforlob/20210823200754981_1168128886_60d88a407c502700399f4b13.json",
        "disabled": false,
        "namespace": "mitforlob",
        "originalId": "60d88a407c502700399f4b13",
        "publishedAt": 1629749275031,
        "publishedBy": "mette@visikon.com",
        "version": 6
       },
       {
        "__v": 0,
        "_id": {
         "$oid": "612fcf947a804c00387f8123"
        },
        "_type": "PublishedContent",
        "approved": true,
        "blobName": "published/mitforlob/20210901190803999_3490616693_61164e71c35f1700351b7e74.json",
        "disabled": false,
        "namespace": "mitforlob",
        "originalId": "61164e71c35f1700351b7e74",
        "publishedAt": 1630523284159,
        "publishedBy": "mette@visikon.com",
        "version": 3
       },
       {
        "__v": 0,
        "_id": {
         "$oid": "613f37708fe1c20039c96124"
        },
        "_type": "PublishedContent",
        "approved": true,
        "blobName": "published/mitforlob/20210913113512542_8560652249_6124e6e47a804c00387f5cca.json",
        "disabled": false,
        "namespace": "mitforlob",
        "originalId": "6124e6e47a804c00387f5cca",
        "publishedAt": 1631532912598,
        "publishedBy": "elisabeth@visikon.com",
        "version": 2
       },
       {
        "__v": 0,
        "_id": {
         "$oid": "614092958fe1c20039c9616a"
        },
        "_type": "PublishedContent",
        "approved": true,
        "blobName": "published/mitforlob/20210914121621736_9491466762_60d88a617c502700399f4b15.json",
        "disabled": false,
        "namespace": "mitforlob",
        "originalId": "60d88a617c502700399f4b15",
        "publishedAt": 1631621781875,
        "publishedBy": "elisabeth@visikon.com",
        "version": 7
       },
       {
        "__v": 0,
        "_id": {
         "$oid": "614095cf8fe1c20039c96171"
        },
        "_type": "PublishedContent",
        "approved": true,
        "blobName": "published/mitforlob/20210914123007777_8337403846_60911b648561e50039bc0b87.json",
        "disabled": false,
        "namespace": "mitforlob",
        "originalId": "60911b648561e50039bc0b87",
        "publishedAt": 1631622607895,
        "publishedBy": "elisabeth@visikon.com",
        "version": 18
       },
       {
        "__v": 0,
        "_id": {
         "$oid": "61641a1b145521003943d591"
        },
        "_type": "PublishedContent",
        "approved": true,
        "blobName": "published/mitforlob/20211011110355342_1942630468_5f3f96de7ce2c1004bc8fd88.json",
        "disabled": false,
        "namespace": "mitforlob",
        "originalId": "5f3f96de7ce2c1004bc8fd88",
        "publishedAt": 1633950235408,
        "publishedBy": "sameer@visikon.com",
        "version": 20
       },
       {
        "__v": 0,
        "_id": {
         "$oid": "61641a7a145521003943d593"
        },
        "_type": "PublishedContent",
        "approved": true,
        "blobName": "published/mitforlob/20211011110530153_492827149_603fc34d0ad4490036444b61.json",
        "disabled": false,
        "namespace": "mitforlob",
        "originalId": "603fc34d0ad4490036444b61",
        "publishedAt": 1633950330240,
        "publishedBy": "mette@visikon.com",
        "version": 17
       },
       {
        "__v": 0,
        "_id": {
         "$oid": "61641a9e145521003943d595"
        },
        "_type": "PublishedContent",
        "approved": true,
        "blobName": "published/mitforlob/20211011110606151_524678788_5f3f97667ce2c1004bc8fd8b.json",
        "disabled": false,
        "namespace": "mitforlob",
        "originalId": "5f3f97667ce2c1004bc8fd8b",
        "publishedAt": 1633950366246,
        "publishedBy": "mette@visikon.com",
        "version": 23
       },
       {
        "__v": 0,
        "_id": {
         "$oid": "61641b21145521003943d596"
        },
        "_type": "PublishedContent",
        "approved": true,
        "blobName": "published/mitforlob/20211011110817118_2339879678_603fc3340ad4490036444b5f.json",
        "disabled": false,
        "namespace": "mitforlob",
        "originalId": "603fc3340ad4490036444b5f",
        "publishedAt": 1633950497223,
        "publishedBy": "sameer@visikon.com",
        "version": 20
       },
       {
        "__v": 0,
        "_id": {
         "$oid": "61641c2d145521003943d598"
        },
        "_type": "PublishedContent",
        "approved": true,
        "blobName": "published/mitforlob/20211011111245619_9278672639_5f3f97667ce2c1004bc8fd8b.json",
        "disabled": false,
        "namespace": "mitforlob",
        "originalId": "5f3f97667ce2c1004bc8fd8b",
        "publishedAt": 1633950765755,
        "publishedBy": "mette@visikon.com",
        "version": 24
       },
       {
        "__v": 0,
        "_id": {
         "$oid": "61693cd1145521003943de8c"
        },
        "_type": "PublishedContent",
        "approved": true,
        "blobName": "published/mitforlob/20211015083321752_6792983432_61487f752ccfb00039a23dc9.json",
        "disabled": false,
        "namespace": "mitforlob",
        "originalId": "61487f752ccfb00039a23dc9",
        "publishedAt": 1634286801869,
        "publishedBy": "anders@visikon.com",
        "version": 4
       },
       {
        "__v": 0,
        "_id": {
         "$oid": "617e84f55c05e8003a143af8"
        },
        "_type": "PublishedContent",
        "approved": false,
        "blobName": "published/mitforlob/20211031115845154_2222764543_6124e6e47a804c00387f5cca.json",
        "disabled": true,
        "namespace": "mitforlob",
        "originalId": "6124e6e47a804c00387f5cca",
        "publishedAt": 1635681525234,
        "publishedBy": "mette@visikon.com",
        "version": 4
       },
       {
        "__v": 0,
        "_id": {
         "$oid": "61850e606a1977003a9c0b7b"
        },
        "_type": "PublishedContent",
        "approved": true,
        "blobName": "published/mitforlob/20211105105840545_2418383628_60911b648561e50039bc0b87.json",
        "disabled": false,
        "namespace": "mitforlob",
        "originalId": "60911b648561e50039bc0b87",
        "publishedAt": 1636109920597,
        "publishedBy": "mette@visikon.com",
        "version": 24
       },
       {
        "__v": 0,
        "_id": {
         "$oid": "619666e99c75ff003a29fc7c"
        },
        "_type": "PublishedContent",
        "approved": false,
        "blobName": "published/mitforlob/20211118144457638_9085193504_5d604d5337bf44002f4ee622.json",
        "disabled": true,
        "namespace": "mitforlob",
        "originalId": "5d604d5337bf44002f4ee622",
        "publishedAt": 1637246697757,
        "publishedBy": "mette@visikon.com",
        "version": 6
       },
       {
        "__v": 0,
        "_id": {
         "$oid": "61a4de3f9c75ff003a2a01a2"
        },
        "_type": "PublishedContent",
        "approved": false,
        "blobName": "published/mitforlob/20211129140551117_8483226287_60992efe37745000357bb684.json",
        "disabled": true,
        "namespace": "mitforlob",
        "originalId": "60992efe37745000357bb684",
        "publishedAt": 1638194751190,
        "publishedBy": "mette@visikon.com",
        "version": 19
       },
       {
        "__v": 0,
        "_id": {
         "$oid": "61a4de719c75ff003a2a01a4"
        },
        "_type": "PublishedContent",
        "approved": false,
        "blobName": "published/mitforlob/20211129140641540_5470962500_609930f237745000357bb68f.json",
        "disabled": true,
        "namespace": "mitforlob",
        "originalId": "609930f237745000357bb68f",
        "publishedAt": 1638194801613,
        "publishedBy": "mette@visikon.com",
        "version": 17
       },
       {
        "__v": 0,
        "_id": {
         "$oid": "61a503129c75ff003a2a01df"
        },
        "_type": "PublishedContent",
        "approved": false,
        "blobName": "published/mitforlob/20211129164258077_7938646020_5b950168c935dc00389b8e06.json",
        "disabled": true,
        "namespace": "mitforlob",
        "originalId": "5b950168c935dc00389b8e06",
        "publishedAt": 1638204178296,
        "publishedBy": "mette@visikon.com",
        "version": 20
       },
       {
        "__v": 0,
        "_id": {
         "$oid": "61a526da9c75ff003a2a01e2"
        },
        "_type": "PublishedContent",
        "approved": true,
        "blobName": "published/mitforlob/20211129191538727_4248877714_61a483339c75ff003a2a00d0.json",
        "disabled": true,
        "namespace": "mitforlob",
        "originalId": "61a483339c75ff003a2a00d0",
        "publishedAt": 1638213338928,
        "publishedBy": "mette@visikon.com",
        "version": 3
       },
       {
        "__v": 0,
        "_id": {
         "$oid": "61a527959c75ff003a2a01e3"
        },
        "_type": "PublishedContent",
        "approved": false,
        "blobName": "published/mitforlob/20211129191844889_7659064610_61a483339c75ff003a2a00d0.json",
        "disabled": true,
        "namespace": "mitforlob",
        "originalId": "61a483339c75ff003a2a00d0",
        "publishedAt": 1638213525025,
        "publishedBy": "mette@visikon.com",
        "version": 4
       },
       {
        "__v": 0,
        "_id": {
         "$oid": "61a528109c75ff003a2a01e7"
        },
        "_type": "PublishedContent",
        "approved": true,
        "blobName": "published/mitforlob/20211129192048458_4361569068_61a483339c75ff003a2a00d0.json",
        "disabled": false,
        "namespace": "mitforlob",
        "originalId": "61a483339c75ff003a2a00d0",
        "publishedAt": 1638213648517,
        "publishedBy": "mette@visikon.com",
        "version": 5
       },
       {
        "__v": 0,
        "_id": {
         "$oid": "61a5f2689c75ff003a2a020c"
        },
        "_type": "PublishedContent",
        "approved": true,
        "blobName": "published/mitforlob/20211130094407889_4020472508_5b950168c935dc00389b8e06.json",
        "disabled": false,
        "namespace": "mitforlob",
        "originalId": "5b950168c935dc00389b8e06",
        "publishedAt": 1638265448075,
        "publishedBy": "mette@visikon.com",
        "version": 21
       },
       {
        "__v": 0,
        "_id": {
         "$oid": "61a5f94d9c75ff003a2a0210"
        },
        "_type": "PublishedContent",
        "approved": true,
        "blobName": "published/mitforlob/20211130101333712_3007496875_61a483339c75ff003a2a00d0.json",
        "disabled": false,
        "namespace": "mitforlob",
        "originalId": "61a483339c75ff003a2a00d0",
        "publishedAt": 1638267213793,
        "publishedBy": "mette@visikon.com",
        "version": 6
       },
       {
        "__v": 0,
        "_id": {
         "$oid": "61af4fb444bffc00364fa366"
        },
        "_type": "PublishedContent",
        "approved": true,
        "blobName": "published/mitforlob/20211207121236375_4631816647_61ae12a39c75ff003a2a0585.json",
        "disabled": false,
        "namespace": "mitforlob",
        "originalId": "61ae12a39c75ff003a2a0585",
        "publishedAt": 1638879156426,
        "publishedBy": "mette@visikon.com",
        "version": 4
       },
       {
        "__v": 0,
        "_id": {
         "$oid": "61bc8ad0eb8d35003a741d34"
        },
        "_type": "PublishedContent",
        "approved": false,
        "blobName": "published/mitforlob/20211217130416486_3801185378_61487f752ccfb00039a23dc9.json",
        "disabled": true,
        "namespace": "mitforlob",
        "originalId": "61487f752ccfb00039a23dc9",
        "publishedAt": 1639746256559,
        "publishedBy": "mette@visikon.com",
        "version": 17
       },
       {
        "__v": 0,
        "_id": {
         "$oid": "61bc8ae4eb8d35003a741d35"
        },
        "_type": "PublishedContent",
        "approved": false,
        "blobName": "published/mitforlob/20211217130436736_3213298570_609930f237745000357bb68f.json",
        "disabled": true,
        "namespace": "mitforlob",
        "originalId": "609930f237745000357bb68f",
        "publishedAt": 1639746276823,
        "publishedBy": "mette@visikon.com",
        "version": 18
       },
       {
        "__v": 0,
        "_id": {
         "$oid": "61bc8af5eb8d35003a741d36"
        },
        "_type": "PublishedContent",
        "approved": false,
        "blobName": "published/mitforlob/20211217130453667_455873455_609930f237745000357bb68f.json",
        "disabled": true,
        "namespace": "mitforlob",
        "originalId": "609930f237745000357bb68f",
        "publishedAt": 1639746293732,
        "publishedBy": "mette@visikon.com",
        "version": 18
       },
       {
        "__v": 0,
        "_id": {
         "$oid": "61bc8b0eeb8d35003a741d38"
        },
        "_type": "PublishedContent",
        "approved": false,
        "blobName": "published/mitforlob/20211217130518222_2281628742_60992efe37745000357bb684.json",
        "disabled": true,
        "namespace": "mitforlob",
        "originalId": "60992efe37745000357bb684",
        "publishedAt": 1639746318314,
        "publishedBy": "mette@visikon.com",
        "version": 20
       },
       {
        "__v": 0,
        "_id": {
         "$oid": "61bc8b21eb8d35003a741d39"
        },
        "_type": "PublishedContent",
        "approved": false,
        "blobName": "published/mitforlob/20211217130537015_770284195_6099310b37745000357bb691.json",
        "disabled": true,
        "namespace": "mitforlob",
        "originalId": "6099310b37745000357bb691",
        "publishedAt": 1639746337084,
        "publishedBy": "mette@visikon.com",
        "version": 21
       },
       {
        "__v": 0,
        "_id": {
         "$oid": "61c0a6b03fa1bd003a9b401e"
        },
        "_type": "PublishedContent",
        "approved": false,
        "blobName": "published/mitforlob/20211220155216454_8911024543_6124e8c47a804c00387f5cce.json",
        "disabled": true,
        "namespace": "mitforlob",
        "originalId": "6124e8c47a804c00387f5cce",
        "publishedAt": 1640015536585,
        "publishedBy": "mette@visikon.com",
        "version": 7
       },
       {
        "__v": 0,
        "_id": {
         "$oid": "61c0a6bb3fa1bd003a9b401f"
        },
        "_type": "PublishedContent",
        "approved": false,
        "blobName": "published/mitforlob/20211220155227269_5022784451_6124e8067a804c00387f5ccc.json",
        "disabled": true,
        "namespace": "mitforlob",
        "originalId": "6124e8067a804c00387f5ccc",
        "publishedAt": 1640015547329,
        "publishedBy": "mette@visikon.com",
        "version": 6
       },
       {
        "__v": 0,
        "_id": {
         "$oid": "61c0a6c83fa1bd003a9b4020"
        },
        "_type": "PublishedContent",
        "approved": false,
        "blobName": "published/mitforlob/20211220155240486_3307673217_6124e6e47a804c00387f5cca.json",
        "disabled": true,
        "namespace": "mitforlob",
        "originalId": "6124e6e47a804c00387f5cca",
        "publishedAt": 1640015560579,
        "publishedBy": "mette@visikon.com",
        "version": 6
       },
       {
        "__v": 0,
        "_id": {
         "$oid": "61c0a6e53fa1bd003a9b4021"
        },
        "_type": "PublishedContent",
        "approved": false,
        "blobName": "published/mitforlob/20211220155309381_5961435458_6124e3ce7a804c00387f5cc6.json",
        "disabled": true,
        "namespace": "mitforlob",
        "originalId": "6124e3ce7a804c00387f5cc6",
        "publishedAt": 1640015589439,
        "publishedBy": "mette@visikon.com",
        "version": 6
       },
       {
        "__v": 0,
        "_id": {
         "$oid": "61c0a6f53fa1bd003a9b4022"
        },
        "_type": "PublishedContent",
        "approved": false,
        "blobName": "published/mitforlob/20211220155325865_4410414354_60e5b38088f48c0039a515a3.json",
        "disabled": true,
        "namespace": "mitforlob",
        "originalId": "60e5b38088f48c0039a515a3",
        "publishedAt": 1640015605924,
        "publishedBy": "mette@visikon.com",
        "version": 9
       },
       {
        "__v": 0,
        "_id": {
         "$oid": "61c0a7903fa1bd003a9b4024"
        },
        "_type": "PublishedContent",
        "approved": false,
        "blobName": "published/mitforlob/20211220155600435_7941817038_60e5b19c88f48c0039a5155e.json",
        "disabled": true,
        "namespace": "mitforlob",
        "originalId": "60e5b19c88f48c0039a5155e",
        "publishedAt": 1640015760511,
        "publishedBy": "mette@visikon.com",
        "version": 7
       },
       {
        "__v": 0,
        "_id": {
         "$oid": "61c0a7a23fa1bd003a9b4025"
        },
        "_type": "PublishedContent",
        "approved": false,
        "blobName": "published/mitforlob/20211220155618349_1444496694_60e5afac88f48c0039a5155c.json",
        "disabled": true,
        "namespace": "mitforlob",
        "originalId": "60e5afac88f48c0039a5155c",
        "publishedAt": 1640015778403,
        "publishedBy": "mette@visikon.com",
        "version": 8
       },
       {
        "__v": 0,
        "_id": {
         "$oid": "61c0a8623fa1bd003a9b4026"
        },
        "_type": "PublishedContent",
        "approved": true,
        "blobName": "published/mitforlob/20211220155930321_4348963599_60e5b25188f48c0039a51560.json",
        "disabled": false,
        "namespace": "mitforlob",
        "originalId": "60e5b25188f48c0039a51560",
        "publishedAt": 1640015970401,
        "publishedBy": "mette@visikon.com",
        "version": 10
       },
       {
        "__v": 0,
        "_id": {
         "$oid": "61c0a86c3fa1bd003a9b4027"
        },
        "_type": "PublishedContent",
        "approved": true,
        "blobName": "published/mitforlob/20211220155940871_1779345253_60e5ac1488f48c0039a5155a.json",
        "disabled": false,
        "namespace": "mitforlob",
        "originalId": "60e5ac1488f48c0039a5155a",
        "publishedAt": 1640015980931,
        "publishedBy": "mette@visikon.com",
        "version": 10
       },
       {
        "__v": 0,
        "_id": {
         "$oid": "61c0a8ad3fa1bd003a9b4029"
        },
        "_type": "PublishedContent",
        "approved": false,
        "blobName": "published/mitforlob/20211220160045918_8491382422_60e5b57f88f48c0039a515c1.json",
        "disabled": true,
        "namespace": "mitforlob",
        "originalId": "60e5b57f88f48c0039a515c1",
        "publishedAt": 1640016045973,
        "publishedBy": "mette@visikon.com",
        "version": 9
       },
       {
        "__v": 0,
        "_id": {
         "$oid": "61c0a8973fa1bd003a9b4028"
        },
        "_type": "PublishedContent",
        "approved": false,
        "blobName": "published/mitforlob/20211220160023168_4172726074_60e5b76988f48c0039a51758.json",
        "disabled": true,
        "namespace": "mitforlob",
        "originalId": "60e5b76988f48c0039a51758",
        "publishedAt": 1640016023221,
        "publishedBy": "mette@visikon.com",
        "version": 13
       },
       {
        "__v": 0,
        "_id": {
         "$oid": "61c3155b85fd04003a25050c"
        },
        "_type": "PublishedContent",
        "approved": false,
        "blobName": "published/mitforlob/20211222120859118_5777874395_60e5b25188f48c0039a51560.json",
        "disabled": true,
        "namespace": "mitforlob",
        "originalId": "60e5b25188f48c0039a51560",
        "publishedAt": 1640174939248,
        "publishedBy": "mette@visikon.com",
        "version": 12
       },
       {
        "__v": 0,
        "_id": {
         "$oid": "61d2f270a2bf9c003ac12373"
        },
        "_type": "PublishedContent",
        "approved": true,
        "blobName": "published/mitforlob/20220103125616491_1329620921_615bdef903dba70039ab0700.json",
        "disabled": false,
        "namespace": "mitforlob",
        "originalId": "615bdef903dba70039ab0700",
        "publishedAt": 1641214576546,
        "publishedBy": "stine@visikon.com",
        "version": 10
       },
       {
        "__v": 0,
        "_id": {
         "$oid": "61d58de86b3954003a42591f"
        },
        "_type": "PublishedContent",
        "approved": true,
        "blobName": "published/mitforlob/20220105122408524_5619712443_5b9117559bfc750039a3369f.json",
        "disabled": false,
        "namespace": "mitforlob",
        "originalId": "5b9117559bfc750039a3369f",
        "publishedAt": 1641385448663,
        "publishedBy": "mette@visikon.com",
        "version": 14
       },
       {
        "__v": 0,
        "_id": {
         "$oid": "620badd5b57e94003622ac1f"
        },
        "_type": "PublishedContent",
        "approved": true,
        "blobName": "published/mitforlob/20220215134244922_4483463931_61487f752ccfb00039a23dc9.json",
        "disabled": false,
        "namespace": "mitforlob",
        "originalId": "61487f752ccfb00039a23dc9",
        "publishedAt": 1644932565020,
        "publishedBy": "mette@visikon.com",
        "version": 22
       },
       {
        "__v": 0,
        "_id": {
         "$oid": "620ce058b57e94003622acbd"
        },
        "_type": "PublishedContent",
        "approved": true,
        "blobName": "published/mitforlob/20220216113032413_3911516463_61487f752ccfb00039a23dc9.json",
        "disabled": false,
        "namespace": "mitforlob",
        "originalId": "61487f752ccfb00039a23dc9",
        "publishedAt": 1645011032511,
        "publishedBy": "alexandra@visikon.com",
        "version": 23
       },
       {
        "__v": 0,
        "_id": {
         "$oid": "620ce1e3b57e94003622acbf"
        },
        "_type": "PublishedContent",
        "approved": false,
        "blobName": "published/mitforlob/20220216113707434_6015276648_61487f752ccfb00039a23dc9.json",
        "disabled": true,
        "namespace": "mitforlob",
        "originalId": "61487f752ccfb00039a23dc9",
        "publishedAt": 1645011427499,
        "publishedBy": "alexandra@visikon.com",
        "version": 24
       },
       {
        "__v": 0,
        "_id": {
         "$oid": "620ce25db57e94003622acc2"
        },
        "_type": "PublishedContent",
        "approved": true,
        "blobName": "published/mitforlob/20220216113908924_4267057232_61487f752ccfb00039a23dc9.json",
        "disabled": false,
        "namespace": "mitforlob",
        "originalId": "61487f752ccfb00039a23dc9",
        "publishedAt": 1645011549057,
        "publishedBy": "alexandra@visikon.com",
        "version": 26
       },
       {
        "__v": 0,
        "_id": {
         "$oid": "620ce342b57e94003622acc5"
        },
        "_type": "PublishedContent",
        "approved": true,
        "blobName": "published/mitforlob/20220216114258814_6092695108_60992efe37745000357bb684.json",
        "disabled": false,
        "namespace": "mitforlob",
        "originalId": "60992efe37745000357bb684",
        "publishedAt": 1645011778946,
        "publishedBy": "alexandra@visikon.com",
        "version": 25
       },
       {
        "__v": 0,
        "_id": {
         "$oid": "620ce38cb57e94003622acc6"
        },
        "_type": "PublishedContent",
        "approved": true,
        "blobName": "published/mitforlob/20220216114412489_594553957_609930f237745000357bb68f.json",
        "disabled": false,
        "namespace": "mitforlob",
        "originalId": "609930f237745000357bb68f",
        "publishedAt": 1645011852563,
        "publishedBy": "alexandra@visikon.com",
        "version": 23
       },
       {
        "__v": 0,
        "_id": {
         "$oid": "620ce433b57e94003622acc8"
        },
        "_type": "PublishedContent",
        "approved": true,
        "blobName": "published/mitforlob/20220216114659601_8367478652_609930f237745000357bb68f.json",
        "disabled": false,
        "namespace": "mitforlob",
        "originalId": "609930f237745000357bb68f",
        "publishedAt": 1645012019745,
        "publishedBy": "alexandra@visikon.com",
        "version": 24
       },
       {
        "__v": 0,
        "_id": {
         "$oid": "620ce4feb57e94003622acca"
        },
        "_type": "PublishedContent",
        "approved": true,
        "blobName": "published/mitforlob/20220216115022914_1594683683_6099310b37745000357bb691.json",
        "disabled": false,
        "namespace": "mitforlob",
        "originalId": "6099310b37745000357bb691",
        "publishedAt": 1645012222975,
        "publishedBy": "alexandra@visikon.com",
        "version": 23
       },
       {
        "__v": 0,
        "_id": {
         "$oid": "620ce848b57e94003622accc"
        },
        "_type": "PublishedContent",
        "approved": true,
        "blobName": "published/mitforlob/20220216120424321_6781022864_61487f752ccfb00039a23dc9.json",
        "disabled": false,
        "namespace": "mitforlob",
        "originalId": "61487f752ccfb00039a23dc9",
        "publishedAt": 1645013064437,
        "publishedBy": "alexandra@visikon.com",
        "version": 27
       },
       {
        "__v": 0,
        "_id": {
         "$oid": "620ce880b57e94003622acce"
        },
        "_type": "PublishedContent",
        "approved": true,
        "blobName": "published/mitforlob/20220216120520708_2242416722_61487f752ccfb00039a23dc9.json",
        "disabled": false,
        "namespace": "mitforlob",
        "originalId": "61487f752ccfb00039a23dc9",
        "publishedAt": 1645013120782,
        "publishedBy": "alexandra@visikon.com",
        "version": 28
       },
       {
        "__v": 0,
        "_id": {
         "$oid": "62150359b57e94003622cb5d"
        },
        "_type": "PublishedContent",
        "approved": false,
        "blobName": "published/mitforlob/20220222153801492_3580506308_61ae13009c75ff003a2a0587.json",
        "disabled": true,
        "namespace": "mitforlob",
        "originalId": "61ae13009c75ff003a2a0587",
        "publishedAt": 1645544281673,
        "publishedBy": "marie@visikon.com",
        "version": 13
       },
       {
        "__v": 0,
        "_id": {
         "$oid": "621503f2b57e94003622cb5e"
        },
        "_type": "PublishedContent",
        "approved": false,
        "blobName": "published/mitforlob/20220222154034654_6249634074_61ae13009c75ff003a2a0587.json",
        "disabled": true,
        "namespace": "mitforlob",
        "originalId": "61ae13009c75ff003a2a0587",
        "publishedAt": 1645544434758,
        "publishedBy": "marie@visikon.com",
        "version": 14
       },
       {
        "__v": 0,
        "_id": {
         "$oid": "621601edb57e94003622ccb8"
        },
        "_type": "PublishedContent",
        "approved": false,
        "blobName": "published/mitforlob/20220223094413562_2507397491_5d604d5337bf44002f4ee622.json",
        "disabled": true,
        "namespace": "mitforlob",
        "originalId": "5d604d5337bf44002f4ee622",
        "publishedAt": 1645609453644,
        "publishedBy": "alexandra@visikon.com",
        "version": 7
       },
       {
        "__v": 0,
        "_id": {
         "$oid": "621602bfb57e94003622ccbb"
        },
        "_type": "PublishedContent",
        "approved": false,
        "blobName": "published/mitforlob/20220223094743047_1438795650_5d604d4137bf44002f4ee620.json",
        "disabled": true,
        "namespace": "mitforlob",
        "originalId": "5d604d4137bf44002f4ee620",
        "publishedAt": 1645609663121,
        "publishedBy": "alexandra@visikon.com",
        "version": 8
       },
       {
        "__v": 0,
        "_id": {
         "$oid": "62160d83b57e94003622ccee"
        },
        "_type": "PublishedContent",
        "approved": false,
        "blobName": "published/mitforlob/20220223103338970_3015591677_5d604d4137bf44002f4ee620.json",
        "disabled": true,
        "namespace": "mitforlob",
        "originalId": "5d604d4137bf44002f4ee620",
        "publishedAt": 1645612419054,
        "publishedBy": "alexandra@visikon.com",
        "version": 9
       },
       {
        "__v": 0,
        "_id": {
         "$oid": "62160ee0b57e94003622ccef"
        },
        "_type": "PublishedContent",
        "approved": false,
        "blobName": "published/mitforlob/20220223103928102_4287807448_5d604d5337bf44002f4ee622.json",
        "disabled": true,
        "namespace": "mitforlob",
        "originalId": "5d604d5337bf44002f4ee622",
        "publishedAt": 1645612768211,
        "publishedBy": "alexandra@visikon.com",
        "version": 8
       },
       {
        "__v": 0,
        "_id": {
         "$oid": "62161039b57e94003622ccf1"
        },
        "_type": "PublishedContent",
        "approved": true,
        "blobName": "published/mitforlob/20220223104513074_1450939359_5d604d4137bf44002f4ee620.json",
        "disabled": false,
        "namespace": "mitforlob",
        "originalId": "5d604d4137bf44002f4ee620",
        "publishedAt": 1645613113200,
        "publishedBy": "alexandra@visikon.com",
        "version": 8
       },
       {
        "__v": 0,
        "_id": {
         "$oid": "621612cdb57e94003622ccf5"
        },
        "_type": "PublishedContent",
        "approved": false,
        "blobName": "published/mitforlob/20220223105613471_7797872054_5b9795e8aab66500386d670e.json",
        "disabled": false,
        "namespace": "mitforlob",
        "originalId": "5b9795e8aab66500386d670e",
        "publishedAt": 1645613773662,
        "publishedBy": "marie@visikon.com",
        "version": 6
       },
       {
        "__v": 0,
        "_id": {
         "$oid": "62161395b57e94003622ccf6"
        },
        "_type": "PublishedContent",
        "approved": false,
        "blobName": "published/mitforlob/20220223105933713_7314313026_61ae13009c75ff003a2a0587.json",
        "disabled": true,
        "namespace": "mitforlob",
        "originalId": "61ae13009c75ff003a2a0587",
        "publishedAt": 1645613973840,
        "publishedBy": "marie@visikon.com",
        "version": 15
       },
       {
        "__v": 0,
        "_id": {
         "$oid": "62161450b57e94003622ccf7"
        },
        "_type": "PublishedContent",
        "approved": false,
        "blobName": "published/mitforlob/20220223110240260_6716102565_61ae13319c75ff003a2a0589.json",
        "disabled": true,
        "namespace": "mitforlob",
        "originalId": "61ae13319c75ff003a2a0589",
        "publishedAt": 1645614160322,
        "publishedBy": "marie@visikon.com",
        "version": 19
       },
       {
        "__v": 0,
        "_id": {
         "$oid": "62260245a3a81e0035819071"
        },
        "_type": "PublishedContent",
        "approved": true,
        "blobName": "published/mitforlob/20220307130156988_8869789955_616fb022145521003944227d.json",
        "disabled": true,
        "namespace": "mitforlob",
        "originalId": "616fb022145521003944227d",
        "publishedAt": 1646658117069,
        "publishedBy": "alexandra@visikon.com",
        "version": 10
       },
       {
        "__v": 0,
        "_id": {
         "$oid": "62273352a3a81e00358191fc"
        },
        "_type": "PublishedContent",
        "approved": false,
        "blobName": "published/mitforlob/20220308104329903_5541349885_61164e71c35f1700351b7e74.json",
        "disabled": true,
        "namespace": "mitforlob",
        "originalId": "61164e71c35f1700351b7e74",
        "publishedAt": 1646736210021,
        "publishedBy": "alexandra@visikon.com",
        "version": 19
       },
       {
        "__v": 0,
        "_id": {
         "$oid": "6227454aa3a81e0035819235"
        },
        "_type": "PublishedContent",
        "approved": false,
        "blobName": "published/mitforlob/20220308120010272_4076545602_61164e71c35f1700351b7e74.json",
        "disabled": true,
        "namespace": "mitforlob",
        "originalId": "61164e71c35f1700351b7e74",
        "publishedAt": 1646740810451,
        "publishedBy": "alexandra@visikon.com",
        "version": 20
       },
       {
        "__v": 0,
        "_id": {
         "$oid": "62275607a3a81e0035819267"
        },
        "_type": "PublishedContent",
        "approved": false,
        "blobName": "published/mitforlob/20220308131135343_2868262945_61164e71c35f1700351b7e74.json",
        "disabled": true,
        "namespace": "mitforlob",
        "originalId": "61164e71c35f1700351b7e74",
        "publishedAt": 1646745095494,
        "publishedBy": "alexandra@visikon.com",
        "version": 23
       },
       {
        "__v": 0,
        "_id": {
         "$oid": "62275c6fa3a81e0035819276"
        },
        "_type": "PublishedContent",
        "approved": false,
        "blobName": "published/mitforlob/20220308133855348_5431694309_61164e71c35f1700351b7e74.json",
        "disabled": true,
        "namespace": "mitforlob",
        "originalId": "61164e71c35f1700351b7e74",
        "publishedAt": 1646746735474,
        "publishedBy": "alexandra@visikon.com",
        "version": 30
       },
       {
        "__v": 0,
        "_id": {
         "$oid": "6229cc48a3a81e00358193e1"
        },
        "_type": "PublishedContent",
        "approved": true,
        "blobName": "published/mitforlob/20220310100040625_7005731131_60e5afac88f48c0039a5155c.json",
        "disabled": false,
        "namespace": "mitforlob",
        "originalId": "60e5afac88f48c0039a5155c",
        "publishedAt": 1646906440685,
        "publishedBy": "alexandra@visikon.com",
        "version": 11
       },
       {
        "__v": 0,
        "_id": {
         "$oid": "625594e13ed8ac00390fe5cb"
        },
        "_type": "PublishedContent",
        "approved": true,
        "blobName": "published/mitforlob/20220412150401092_8709201381_5fc0ca35dec8ed003942b1c9.json",
        "disabled": false,
        "namespace": "mitforlob",
        "originalId": "5fc0ca35dec8ed003942b1c9",
        "publishedAt": 1649775841153,
        "publishedBy": "mette@visikon.com",
        "version": 1
       },
       {
        "__v": 0,
        "_id": {
         "$oid": "625597093ed8ac00390fe699"
        },
        "_type": "PublishedContent",
        "approved": true,
        "blobName": "published/mitforlob/20220412151313651_4917157661_625596bd3ed8ac00390fe697.json",
        "disabled": false,
        "namespace": "mitforlob",
        "originalId": "625596bd3ed8ac00390fe697",
        "publishedAt": 1649776393799,
        "publishedBy": "mette@visikon.com",
        "version": 1
       },
       {
        "__v": 0,
        "_id": {
         "$oid": "62665fcd892f2f0039e0af2f"
        },
        "_type": "PublishedContent",
        "approved": true,
        "blobName": "published/mitforlob/20220425084605236_681912479_6225bbfda3a81e0035818ee8.json",
        "disabled": false,
        "namespace": "mitforlob",
        "originalId": "6225bbfda3a81e0035818ee8",
        "publishedAt": 1650876365392,
        "publishedBy": "marie@visikon.com",
        "version": 1
       },
       {
        "__v": 0,
        "_id": {
         "$oid": "62668cac892f2f0039e0af84"
        },
        "_type": "PublishedContent",
        "approved": true,
        "blobName": "published/mitforlob/20220425115732164_1113147088_62668c85892f2f0039e0af82.json",
        "disabled": false,
        "namespace": "mitforlob",
        "originalId": "62668c85892f2f0039e0af82",
        "publishedAt": 1650887852274,
        "publishedBy": "mette@visikon.com",
        "version": 1
       },
       {
        "__v": 0,
        "_id": {
         "$oid": "62668d0b892f2f0039e0af88"
        },
        "_type": "PublishedContent",
        "approved": true,
        "blobName": "published/mitforlob/20220425115907017_7556872832_62668c85892f2f0039e0af82.json",
        "disabled": false,
        "namespace": "mitforlob",
        "originalId": "62668c85892f2f0039e0af82",
        "publishedAt": 1650887947100,
        "publishedBy": "mette@visikon.com",
        "version": 2
       },
       {
        "__v": 0,
        "_id": {
         "$oid": "62668d97892f2f0039e0af89"
        },
        "_type": "PublishedContent",
        "approved": true,
        "blobName": "published/mitforlob/20220425120127335_6432682524_62668c85892f2f0039e0af82.json",
        "disabled": false,
        "namespace": "mitforlob",
        "originalId": "62668c85892f2f0039e0af82",
        "publishedAt": 1650888087411,
        "publishedBy": "mette@visikon.com",
        "version": 3
       },
       {
        "__v": 0,
        "_id": {
         "$oid": "6266b144892f2f0039e0afa9"
        },
        "_type": "PublishedContent",
        "approved": false,
        "blobName": "published/mitforlob/20220425143340634_7834935187_62021cff8f79da003a3e4162.json",
        "disabled": true,
        "namespace": "mitforlob",
        "originalId": "62021cff8f79da003a3e4162",
        "publishedAt": 1650897220716,
        "publishedBy": "marie@visikon.com",
        "version": 6
       },
       {
        "__v": 0,
        "_id": {
         "$oid": "626be657f8495700357e9459"
        },
        "_type": "PublishedContent",
        "approved": true,
        "blobName": "published/mitforlob/20220429132127645_9990534033_604233afb9ad660035290084.json",
        "disabled": false,
        "namespace": "mitforlob",
        "originalId": "604233afb9ad660035290084",
        "publishedAt": 1651238487803,
        "publishedBy": "anders@visikon.com",
        "version": 7
       },
       {
        "__v": 0,
        "_id": {
         "$oid": "626fc25ff8495700357e9558"
        },
        "_type": "PublishedContent",
        "approved": false,
        "blobName": "published/mitforlob/20220502113703751_6985776001_62021cbc8f79da003a3e4160.json",
        "disabled": true,
        "namespace": "mitforlob",
        "originalId": "62021cbc8f79da003a3e4160",
        "publishedAt": 1651491423874,
        "publishedBy": "marie@visikon.com",
        "version": 9
       },
       {
        "__v": 0,
        "_id": {
         "$oid": "627b8e85b113be0035928dc9"
        },
        "_type": "PublishedContent",
        "approved": false,
        "blobName": "published/mitforlob/20220511102301258_7431450108_6229cfb0a3a81e00358193eb.json",
        "disabled": false,
        "namespace": "mitforlob",
        "originalId": "6229cfb0a3a81e00358193eb",
        "publishedAt": 1652264581389,
        "publishedBy": "marie@visikon.com",
        "version": 1
       },
       {
        "__v": 0,
        "_id": {
         "$oid": "627b8e99b113be0035928dca"
        },
        "_type": "PublishedContent",
        "approved": false,
        "blobName": "published/mitforlob/20220511102321226_7170941760_6229cfb8a3a81e00358193ed.json",
        "disabled": false,
        "namespace": "mitforlob",
        "originalId": "6229cfb8a3a81e00358193ed",
        "publishedAt": 1652264601299,
        "publishedBy": "marie@visikon.com",
        "version": 1
       },
       {
        "__v": 0,
        "_id": {
         "$oid": "627cd2c2b113be0035928f0e"
        },
        "_type": "PublishedContent",
        "approved": true,
        "blobName": "published/mitforlob/20220512092626583_9116514798_60db6dff7c502700399f4ee3.json",
        "disabled": false,
        "namespace": "mitforlob",
        "originalId": "60db6dff7c502700399f4ee3",
        "publishedAt": 1652347586731,
        "publishedBy": "agris@visikon.com",
        "version": 5
       },
       {
        "__v": 0,
        "_id": {
         "$oid": "627d18fdb113be0035928ffb"
        },
        "_type": "PublishedContent",
        "approved": true,
        "blobName": "published/mitforlob/20220512142605768_4981495744_626a654a892f2f0039e0b697.json",
        "disabled": false,
        "namespace": "mitforlob",
        "originalId": "626a654a892f2f0039e0b697",
        "publishedAt": 1652365565852,
        "publishedBy": "anders@visikon.com",
        "version": 4
       },
       {
        "__v": 0,
        "_id": {
         "$oid": "627d198db113be0035928ffc"
        },
        "_type": "PublishedContent",
        "approved": false,
        "blobName": "published/mitforlob/20220512142829624_6299661585_626a654a892f2f0039e0b697.json",
        "disabled": false,
        "namespace": "mitforlob",
        "originalId": "626a654a892f2f0039e0b697",
        "publishedAt": 1652365709695,
        "publishedBy": "anders@visikon.com",
        "version": 5
       },
       {
        "__v": 0,
        "_id": {
         "$oid": "627d199db113be0035928ffd"
        },
        "_type": "PublishedContent",
        "approved": true,
        "blobName": "published/mitforlob/20220512142845401_6185147232_626a654a892f2f0039e0b697.json",
        "disabled": false,
        "namespace": "mitforlob",
        "originalId": "626a654a892f2f0039e0b697",
        "publishedAt": 1652365725469,
        "publishedBy": "anders@visikon.com",
        "version": 6
       },
       {
        "__v": 0,
        "_id": {
         "$oid": "627d1e46b113be0035929004"
        },
        "_type": "PublishedContent",
        "approved": true,
        "blobName": "published/mitforlob/20220512144838571_5817720760_626a654a892f2f0039e0b697.json",
        "disabled": false,
        "namespace": "mitforlob",
        "originalId": "626a654a892f2f0039e0b697",
        "publishedAt": 1652366918674,
        "publishedBy": "anders@visikon.com",
        "version": 7
       },
       {
        "__v": 0,
        "_id": {
         "$oid": "627d1ee1b113be0035929005"
        },
        "_type": "PublishedContent",
        "approved": true,
        "blobName": "published/mitforlob/20220512145113770_2913642548_626a654a892f2f0039e0b697.json",
        "disabled": false,
        "namespace": "mitforlob",
        "originalId": "626a654a892f2f0039e0b697",
        "publishedAt": 1652367073905,
        "publishedBy": "anders@visikon.com",
        "version": 8
       },
       {
        "__v": 0,
        "_id": {
         "$oid": "627d1f3ab113be0035929009"
        },
        "_type": "PublishedContent",
        "approved": true,
        "blobName": "published/mitforlob/20220512145242163_4431417514_626a654a892f2f0039e0b697.json",
        "disabled": false,
        "namespace": "mitforlob",
        "originalId": "626a654a892f2f0039e0b697",
        "publishedAt": 1652367162247,
        "publishedBy": "anders@visikon.com",
        "version": 9
       },
       {
        "__v": 0,
        "_id": {
         "$oid": "5fff4d530db7f800393ec4ed"
        },
        "_type": "PublishedContent",
        "approved": true,
        "blobName": "published/mitforlob/20210113194314835_2123113037_5b9117559bfc750039a3369f.json",
        "disabled": false,
        "namespace": "mitforlob",
        "originalId": "5b9117559bfc750039a3369f",
        "publishedAt": 1610566995027,
        "publishedBy": "sameer@visikon.com",
        "version": 1
       },
       {
        "__v": 0,
        "_id": {
         "$oid": "5fff4d530db7f800393ec4ee"
        },
        "_type": "PublishedContent",
        "approved": true,
        "blobName": "published/mitforlob/20210113194315739_2228756743_5b93f0ec498fad0038e6b0e1.json",
        "disabled": false,
        "namespace": "mitforlob",
        "originalId": "5b93f0ec498fad0038e6b0e1",
        "publishedAt": 1610566995793,
        "publishedBy": "sameer@visikon.com",
        "version": 1
       },
       {
        "__v": 0,
        "_id": {
         "$oid": "5fff4d580db7f800393ec4ef"
        },
        "_type": "PublishedContent",
        "approved": true,
        "blobName": "published/mitforlob/20210113194320458_8057322071_5b950168c935dc00389b8e06.json",
        "disabled": false,
        "namespace": "mitforlob",
        "originalId": "5b950168c935dc00389b8e06",
        "publishedAt": 1610567000645,
        "publishedBy": "sameer@visikon.com",
        "version": 2
       },
       {
        "__v": 0,
        "_id": {
         "$oid": "5fff4d590db7f800393ec4f0"
        },
        "_type": "PublishedContent",
        "approved": true,
        "blobName": "published/mitforlob/20210113194321878_2264833991_5b977f6fce298900381d1a4f.json",
        "disabled": false,
        "namespace": "mitforlob",
        "originalId": "5b977f6fce298900381d1a4f",
        "publishedAt": 1610567001950,
        "publishedBy": "sameer@visikon.com",
        "version": 4
       },
       {
        "__v": 0,
        "_id": {
         "$oid": "5fff4d5b0db7f800393ec4f1"
        },
        "_type": "PublishedContent",
        "approved": true,
        "blobName": "published/mitforlob/20210113194322938_1635708970_5b9780a8ce298900381d1a55.json",
        "disabled": false,
        "namespace": "mitforlob",
        "originalId": "5b9780a8ce298900381d1a55",
        "publishedAt": 1610567003020,
        "publishedBy": "sameer@visikon.com",
        "version": 1
       },
       {
        "__v": 0,
        "_id": {
         "$oid": "5fff4d5d0db7f800393ec4f2"
        },
        "_type": "PublishedContent",
        "approved": true,
        "blobName": "published/mitforlob/20210113194325216_1921480371_5b978157ce298900381d1a5b.json",
        "disabled": false,
        "namespace": "mitforlob",
        "originalId": "5b978157ce298900381d1a5b",
        "publishedAt": 1610567005293,
        "publishedBy": "sameer@visikon.com",
        "version": 1
       },
       {
        "__v": 0,
        "_id": {
         "$oid": "5fff4d5e0db7f800393ec4f3"
        },
        "_type": "PublishedContent",
        "approved": true,
        "blobName": "published/mitforlob/20210113194326068_5639935998_5b9781b6ce298900381d1a5d.json",
        "disabled": false,
        "namespace": "mitforlob",
        "originalId": "5b9781b6ce298900381d1a5d",
        "publishedAt": 1610567006142,
        "publishedBy": "sameer@visikon.com",
        "version": 1
       },
       {
        "__v": 0,
        "_id": {
         "$oid": "5fff4d5e0db7f800393ec4f4"
        },
        "_type": "PublishedContent",
        "approved": true,
        "blobName": "published/mitforlob/20210113194326835_9118519414_5b979565aab66500386d670a.json",
        "disabled": false,
        "namespace": "mitforlob",
        "originalId": "5b979565aab66500386d670a",
        "publishedAt": 1610567006908,
        "publishedBy": "sameer@visikon.com",
        "version": 1
       },
       {
        "__v": 0,
        "_id": {
         "$oid": "5fff4d5f0db7f800393ec4f5"
        },
        "_type": "PublishedContent",
        "approved": true,
        "blobName": "published/mitforlob/20210113194327665_6418801521_5b97959eaab66500386d670c.json",
        "disabled": false,
        "namespace": "mitforlob",
        "originalId": "5b97959eaab66500386d670c",
        "publishedAt": 1610567007729,
        "publishedBy": "sameer@visikon.com",
        "version": 1
       },
       {
        "__v": 0,
        "_id": {
         "$oid": "5fff4d600db7f800393ec4f6"
        },
        "_type": "PublishedContent",
        "approved": true,
        "blobName": "published/mitforlob/20210113194328453_3471740323_5b9795e8aab66500386d670e.json",
        "disabled": false,
        "namespace": "mitforlob",
        "originalId": "5b9795e8aab66500386d670e",
        "publishedAt": 1610567008512,
        "publishedBy": "sameer@visikon.com",
        "version": 1
       },
       {
        "__v": 0,
        "_id": {
         "$oid": "5fff4d610db7f800393ec4f7"
        },
        "_type": "PublishedContent",
        "approved": true,
        "blobName": "published/mitforlob/20210113194329249_5649593484_5b979694aab66500386d6710.json",
        "disabled": false,
        "namespace": "mitforlob",
        "originalId": "5b979694aab66500386d6710",
        "publishedAt": 1610567009322,
        "publishedBy": "sameer@visikon.com",
        "version": 1
       },
       {
        "__v": 0,
        "_id": {
         "$oid": "5fff4d620db7f800393ec4f8"
        },
        "_type": "PublishedContent",
        "approved": true,
        "blobName": "published/mitforlob/20210113194330118_8876905214_5b97a60aaab66500386d6712.json",
        "disabled": false,
        "namespace": "mitforlob",
        "originalId": "5b97a60aaab66500386d6712",
        "publishedAt": 1610567010176,
        "publishedBy": "sameer@visikon.com",
        "version": 1
       },
       {
        "__v": 0,
        "_id": {
         "$oid": "5fff4d620db7f800393ec4f9"
        },
        "_type": "PublishedContent",
        "approved": true,
        "blobName": "published/mitforlob/20210113194330862_821690617_5b97a642aab66500386d6714.json",
        "disabled": false,
        "namespace": "mitforlob",
        "originalId": "5b97a642aab66500386d6714",
        "publishedAt": 1610567010943,
        "publishedBy": "sameer@visikon.com",
        "version": 1
       },
       {
        "__v": 0,
        "_id": {
         "$oid": "5fff4d630db7f800393ec4fa"
        },
        "_type": "PublishedContent",
        "approved": true,
        "blobName": "published/mitforlob/20210113194331630_3797704280_5b97a673aab66500386d6716.json",
        "disabled": false,
        "namespace": "mitforlob",
        "originalId": "5b97a673aab66500386d6716",
        "publishedAt": 1610567011711,
        "publishedBy": "sameer@visikon.com",
        "version": 1
       },
       {
        "__v": 0,
        "_id": {
         "$oid": "5fff4d640db7f800393ec4fb"
        },
        "_type": "PublishedContent",
        "approved": true,
        "blobName": "published/mitforlob/20210113194332404_9825925637_5b97a6bbaab66500386d6718.json",
        "disabled": false,
        "namespace": "mitforlob",
        "originalId": "5b97a6bbaab66500386d6718",
        "publishedAt": 1610567012494,
        "publishedBy": "sameer@visikon.com",
        "version": 1
       },
       {
        "__v": 0,
        "_id": {
         "$oid": "5fff4d670db7f800393ec4fd"
        },
        "_type": "PublishedContent",
        "approved": true,
        "blobName": "published/mitforlob/20210113194335001_2723372183_5bbb1c46e0744d00385a0020.json",
        "disabled": false,
        "namespace": "mitforlob",
        "originalId": "5bbb1c46e0744d00385a0020",
        "publishedAt": 1610567015077,
        "publishedBy": "sameer@visikon.com",
        "version": 1
       },
       {
        "__v": 0,
        "_id": {
         "$oid": "5fff4d680db7f800393ec4fe"
        },
        "_type": "PublishedContent",
        "approved": true,
        "blobName": "published/mitforlob/20210113194336092_8375446349_5bbb37e951c48400388314dc.json",
        "disabled": false,
        "namespace": "mitforlob",
        "originalId": "5bbb37e951c48400388314dc",
        "publishedAt": 1610567016155,
        "publishedBy": "sameer@visikon.com",
        "version": 1
       },
       {
        "__v": 0,
        "_id": {
         "$oid": "5fff4d690db7f800393ec4ff"
        },
        "_type": "PublishedContent",
        "approved": true,
        "blobName": "published/mitforlob/20210113194337026_2956604705_5be97658e6aece0038b3f2a2.json",
        "disabled": false,
        "namespace": "mitforlob",
        "originalId": "5be97658e6aece0038b3f2a2",
        "publishedAt": 1610567017101,
        "publishedBy": "sameer@visikon.com",
        "version": 2
       },
       {
        "__v": 0,
        "_id": {
         "$oid": "5fff4d690db7f800393ec500"
        },
        "_type": "PublishedContent",
        "approved": true,
        "blobName": "published/mitforlob/20210113194337872_1325475597_5beec973c13fc80038fd981d.json",
        "disabled": false,
        "namespace": "mitforlob",
        "originalId": "5beec973c13fc80038fd981d",
        "publishedAt": 1610567017922,
        "publishedBy": "sameer@visikon.com",
        "version": 1
       },
       {
        "__v": 0,
        "_id": {
         "$oid": "5fff4d6a0db7f800393ec501"
        },
        "_type": "PublishedContent",
        "approved": true,
        "blobName": "published/mitforlob/20210113194338928_269871243_5bfdbc19e6fdb90039e36d4d.json",
        "disabled": false,
        "namespace": "mitforlob",
        "originalId": "5bfdbc19e6fdb90039e36d4d",
        "publishedAt": 1610567018991,
        "publishedBy": "sameer@visikon.com",
        "version": 1
       },
       {
        "__v": 0,
        "_id": {
         "$oid": "5fff4d6c0db7f800393ec502"
        },
        "_type": "PublishedContent",
        "approved": true,
        "blobName": "published/mitforlob/20210113194339937_5139129311_5c909630a12b7a003876bf57.json",
        "disabled": false,
        "namespace": "mitforlob",
        "originalId": "5c909630a12b7a003876bf57",
        "publishedAt": 1610567020005,
        "publishedBy": "sameer@visikon.com",
        "version": 1
       },
       {
        "__v": 0,
        "_id": {
         "$oid": "5fff4d6c0db7f800393ec503"
        },
        "_type": "PublishedContent",
        "approved": true,
        "blobName": "published/mitforlob/20210113194340383_7628199131_5d00e2fd20b2d4003aeee977.json",
        "disabled": false,
        "namespace": "mitforlob",
        "originalId": "5d00e2fd20b2d4003aeee977",
        "publishedAt": 1610567020439,
        "publishedBy": "sameer@visikon.com",
        "version": 1
       },
       {
        "__v": 0,
        "_id": {
         "$oid": "5fff4d6d0db7f800393ec504"
        },
        "_type": "PublishedContent",
        "approved": true,
        "blobName": "published/mitforlob/20210113194341906_8897247969_5d00e30220b2d4003aeee979.json",
        "disabled": false,
        "namespace": "mitforlob",
        "originalId": "5d00e30220b2d4003aeee979",
        "publishedAt": 1610567021978,
        "publishedBy": "sameer@visikon.com",
        "version": 1
       },
       {
        "__v": 0,
        "_id": {
         "$oid": "5fff4d6e0db7f800393ec505"
        },
        "_type": "PublishedContent",
        "approved": true,
        "blobName": "published/mitforlob/20210113194342349_5309074854_5d035b6e57ca1d003930f197.json",
        "disabled": false,
        "namespace": "mitforlob",
        "originalId": "5d035b6e57ca1d003930f197",
        "publishedAt": 1610567022399,
        "publishedBy": "sameer@visikon.com",
        "version": 1
       },
       {
        "__v": 0,
        "_id": {
         "$oid": "5fff4d6f0db7f800393ec506"
        },
        "_type": "PublishedContent",
        "approved": true,
        "blobName": "published/mitforlob/20210113194343044_5389247582_5d148b71fbbed2003ad57d03.json",
        "disabled": false,
        "namespace": "mitforlob",
        "originalId": "5d148b71fbbed2003ad57d03",
        "publishedAt": 1610567023133,
        "publishedBy": "sameer@visikon.com",
        "version": 2
       },
       {
        "__v": 0,
        "_id": {
         "$oid": "5fff4d6f0db7f800393ec507"
        },
        "_type": "PublishedContent",
        "approved": true,
        "blobName": "published/mitforlob/20210113194343828_5197294239_5d148b88fbbed2003ad57d05.json",
        "disabled": false,
        "namespace": "mitforlob",
        "originalId": "5d148b88fbbed2003ad57d05",
        "publishedAt": 1610567023898,
        "publishedBy": "sameer@visikon.com",
        "version": 1
       },
       {
        "__v": 0,
        "_id": {
         "$oid": "5fff4d790db7f800393ec508"
        },
        "_type": "PublishedContent",
        "approved": true,
        "blobName": "published/mitforlob/20210113194353757_7779158664_5d14b6102a6a7a0039bc4529.json",
        "disabled": false,
        "namespace": "mitforlob",
        "originalId": "5d14b6102a6a7a0039bc4529",
        "publishedAt": 1610567033897,
        "publishedBy": "sameer@visikon.com",
        "version": 1
       },
       {
        "__v": 0,
        "_id": {
         "$oid": "5fff4d7a0db7f800393ec509"
        },
        "_type": "PublishedContent",
        "approved": true,
        "blobName": "published/mitforlob/20210113194354553_3112391402_5d600cbdcfa5e0002f36ec3b.json",
        "disabled": false,
        "namespace": "mitforlob",
        "originalId": "5d600cbdcfa5e0002f36ec3b",
        "publishedAt": 1610567034636,
        "publishedBy": "sameer@visikon.com",
        "version": 1
       },
       {
        "__v": 0,
        "_id": {
         "$oid": "5fff4d7b0db7f800393ec50a"
        },
        "_type": "PublishedContent",
        "approved": true,
        "blobName": "published/mitforlob/20210113194355212_7446007308_5d600e0b515dca002f0789ae.json",
        "disabled": false,
        "namespace": "mitforlob",
        "originalId": "5d600e0b515dca002f0789ae",
        "publishedAt": 1610567035262,
        "publishedBy": "sameer@visikon.com",
        "version": 1
       },
       {
        "__v": 0,
        "_id": {
         "$oid": "5fff4d7b0db7f800393ec50b"
        },
        "_type": "PublishedContent",
        "approved": true,
        "blobName": "published/mitforlob/20210113194355717_1958019878_5d604d4137bf44002f4ee620.json",
        "disabled": false,
        "namespace": "mitforlob",
        "originalId": "5d604d4137bf44002f4ee620",
        "publishedAt": 1610567035786,
        "publishedBy": "sameer@visikon.com",
        "version": 1
       },
       {
        "__v": 0,
        "_id": {
         "$oid": "5fff4d7c0db7f800393ec50c"
        },
        "_type": "PublishedContent",
        "approved": true,
        "blobName": "published/mitforlob/20210113194356598_4453306197_5d604d5337bf44002f4ee622.json",
        "disabled": false,
        "namespace": "mitforlob",
        "originalId": "5d604d5337bf44002f4ee622",
        "publishedAt": 1610567036680,
        "publishedBy": "sameer@visikon.com",
        "version": 1
       },
       {
        "__v": 0,
        "_id": {
         "$oid": "5fff4d7d0db7f800393ec50d"
        },
        "_type": "PublishedContent",
        "approved": true,
        "blobName": "published/mitforlob/20210113194357414_4420308924_5d66a339d12db00030d7ffdd.json",
        "disabled": false,
        "namespace": "mitforlob",
        "originalId": "5d66a339d12db00030d7ffdd",
        "publishedAt": 1610567037487,
        "publishedBy": "sameer@visikon.com",
        "version": 1
       },
       {
        "__v": 0,
        "_id": {
         "$oid": "5fff4d800db7f800393ec50e"
        },
        "_type": "PublishedContent",
        "approved": true,
        "blobName": "published/mitforlob/20210113194400559_9394399442_5d66a3d1d12db00030d7ffdf.json",
        "disabled": false,
        "namespace": "mitforlob",
        "originalId": "5d66a3d1d12db00030d7ffdf",
        "publishedAt": 1610567040634,
        "publishedBy": "sameer@visikon.com",
        "version": 1
       },
       {
        "__v": 0,
        "_id": {
         "$oid": "5fff4d860db7f800393ec50f"
        },
        "_type": "PublishedContent",
        "approved": true,
        "blobName": "published/mitforlob/20210113194406711_8305282361_5d66a492d12db00030d7ffe1.json",
        "disabled": false,
        "namespace": "mitforlob",
        "originalId": "5d66a492d12db00030d7ffe1",
        "publishedAt": 1610567046837,
        "publishedBy": "sameer@visikon.com",
        "version": 3
       },
       {
        "__v": 0,
        "_id": {
         "$oid": "5fff4d890db7f800393ec510"
        },
        "_type": "PublishedContent",
        "approved": true,
        "blobName": "published/mitforlob/20210113194409274_7751853375_5d96612b455bcb002f1ca479.json",
        "disabled": false,
        "namespace": "mitforlob",
        "originalId": "5d96612b455bcb002f1ca479",
        "publishedAt": 1610567049366,
        "publishedBy": "sameer@visikon.com",
        "version": 1
       },
       {
        "__v": 0,
        "_id": {
         "$oid": "5fff4d8b0db7f800393ec511"
        },
        "_type": "PublishedContent",
        "approved": true,
        "blobName": "published/mitforlob/20210113194411695_3059717332_5d9761a5039ff5002fc1a069.json",
        "disabled": false,
        "namespace": "mitforlob",
        "originalId": "5d9761a5039ff5002fc1a069",
        "publishedAt": 1610567051753,
        "publishedBy": "sameer@visikon.com",
        "version": 1
       },
       {
        "__v": 0,
        "_id": {
         "$oid": "5fff4d8d0db7f800393ec512"
        },
        "_type": "PublishedContent",
        "approved": true,
        "blobName": "published/mitforlob/20210113194413586_4280844710_5d97704f541886002ff7a228.json",
        "disabled": false,
        "namespace": "mitforlob",
        "originalId": "5d97704f541886002ff7a228",
        "publishedAt": 1610567053646,
        "publishedBy": "sameer@visikon.com",
        "version": 1
       },
       {
        "__v": 0,
        "_id": {
         "$oid": "5fff4d8f0db7f800393ec513"
        },
        "_type": "PublishedContent",
        "approved": true,
        "blobName": "published/mitforlob/20210113194415934_5843857580_5d9771a4541886002ff7a22a.json",
        "disabled": false,
        "namespace": "mitforlob",
        "originalId": "5d9771a4541886002ff7a22a",
        "publishedAt": 1610567055984,
        "publishedBy": "sameer@visikon.com",
        "version": 1
       },
       {
        "__v": 0,
        "_id": {
         "$oid": "5fff4d900db7f800393ec514"
        },
        "_type": "PublishedContent",
        "approved": true,
        "blobName": "published/mitforlob/20210113194416294_2004906748_5dc14a3d9d0677004810796f.json",
        "disabled": false,
        "namespace": "mitforlob",
        "originalId": "5dc14a3d9d0677004810796f",
        "publishedAt": 1610567056364,
        "publishedBy": "sameer@visikon.com",
        "version": 1
       },
       {
        "__v": 0,
        "_id": {
         "$oid": "5fff4d960db7f800393ec516"
        },
        "_type": "PublishedContent",
        "approved": true,
        "blobName": "published/mitforlob/20210113194422659_6222663885_5dd6baca28b35700507477a3.json",
        "disabled": false,
        "namespace": "mitforlob",
        "originalId": "5dd6baca28b35700507477a3",
        "publishedAt": 1610567062790,
        "publishedBy": "sameer@visikon.com",
        "version": 3
       },
       {
        "__v": 0,
        "_id": {
         "$oid": "5fff4d970db7f800393ec517"
        },
        "_type": "PublishedContent",
        "approved": true,
        "blobName": "published/mitforlob/20210113194423308_4346630251_5de7aca1464d3f004e208a4e.json",
        "disabled": false,
        "namespace": "mitforlob",
        "originalId": "5de7aca1464d3f004e208a4e",
        "publishedAt": 1610567063380,
        "publishedBy": "sameer@visikon.com",
        "version": 1
       },
       {
        "__v": 0,
        "_id": {
         "$oid": "5fff4d980db7f800393ec519"
        },
        "_type": "PublishedContent",
        "approved": true,
        "blobName": "published/mitforlob/20210113194424811_6183072858_5de8cd2a464d3f004e208a6e.json",
        "disabled": false,
        "namespace": "mitforlob",
        "originalId": "5de8cd2a464d3f004e208a6e",
        "publishedAt": 1610567064877,
        "publishedBy": "sameer@visikon.com",
        "version": 1
       },
       {
        "__v": 0,
        "_id": {
         "$oid": "5fff4d990db7f800393ec51a"
        },
        "_type": "PublishedContent",
        "approved": true,
        "blobName": "published/mitforlob/20210113194425363_5849294192_5de8e137464d3f004e208a8d.json",
        "disabled": false,
        "namespace": "mitforlob",
        "originalId": "5de8e137464d3f004e208a8d",
        "publishedAt": 1610567065436,
        "publishedBy": "sameer@visikon.com",
        "version": 1
       },
       {
        "__v": 0,
        "_id": {
         "$oid": "5fff4d990db7f800393ec51b"
        },
        "_type": "PublishedContent",
        "approved": true,
        "blobName": "published/mitforlob/20210113194425794_7256832913_5df77100f79c2d004ea88167.json",
        "disabled": false,
        "namespace": "mitforlob",
        "originalId": "5df77100f79c2d004ea88167",
        "publishedAt": 1610567065872,
        "publishedBy": "sameer@visikon.com",
        "version": 1
       },
       {
        "__v": 0,
        "_id": {
         "$oid": "5fff4d9a0db7f800393ec51c"
        },
        "_type": "PublishedContent",
        "approved": true,
        "blobName": "published/mitforlob/20210113194426400_5978801296_5e1b8a678cf40c004e7d0b7f.json",
        "disabled": false,
        "namespace": "mitforlob",
        "originalId": "5e1b8a678cf40c004e7d0b7f",
        "publishedAt": 1610567066472,
        "publishedBy": "sameer@visikon.com",
        "version": 1
       },
       {
        "__v": 0,
        "_id": {
         "$oid": "5fff4d9b0db7f800393ec51d"
        },
        "_type": "PublishedContent",
        "approved": true,
        "blobName": "published/mitforlob/20210113194427054_9633752387_5e1b8c908cf40c004e7d0b89.json",
        "disabled": false,
        "namespace": "mitforlob",
        "originalId": "5e1b8c908cf40c004e7d0b89",
        "publishedAt": 1610567067134,
        "publishedBy": "sameer@visikon.com",
        "version": 1
       },
       {
        "__v": 0,
        "_id": {
         "$oid": "5fff4d9b0db7f800393ec51e"
        },
        "_type": "PublishedContent",
        "approved": true,
        "blobName": "published/mitforlob/20210113194427700_5980296484_5e1b8cbb8cf40c004e7d0b8b.json",
        "disabled": false,
        "namespace": "mitforlob",
        "originalId": "5e1b8cbb8cf40c004e7d0b8b",
        "publishedAt": 1610567067750,
        "publishedBy": "sameer@visikon.com",
        "version": 1
       },
       {
        "__v": 0,
        "_id": {
         "$oid": "5fff4d9c0db7f800393ec51f"
        },
        "_type": "PublishedContent",
        "approved": true,
        "blobName": "published/mitforlob/20210113194428437_4183819180_5e1c41c40a54b800507e2325.json",
        "disabled": false,
        "namespace": "mitforlob",
        "originalId": "5e1c41c40a54b800507e2325",
        "publishedAt": 1610567068488,
        "publishedBy": "sameer@visikon.com",
        "version": 1
       },
       {
        "__v": 0,
        "_id": {
         "$oid": "5fff4d9d0db7f800393ec520"
        },
        "_type": "PublishedContent",
        "approved": true,
        "blobName": "published/mitforlob/20210113194429132_7348883785_5e1c420b0a54b800507e2328.json",
        "disabled": false,
        "namespace": "mitforlob",
        "originalId": "5e1c420b0a54b800507e2328",
        "publishedAt": 1610567069204,
        "publishedBy": "sameer@visikon.com",
        "version": 1
       },
       {
        "__v": 0,
        "_id": {
         "$oid": "5fff4d9d0db7f800393ec521"
        },
        "_type": "PublishedContent",
        "approved": true,
        "blobName": "published/mitforlob/20210113194429909_2908694823_5e1c42280a54b800507e232a.json",
        "disabled": false,
        "namespace": "mitforlob",
        "originalId": "5e1c42280a54b800507e232a",
        "publishedAt": 1610567069990,
        "publishedBy": "sameer@visikon.com",
        "version": 1
       },
       {
        "__v": 0,
        "_id": {
         "$oid": "5fff4d9f0db7f800393ec522"
        },
        "_type": "PublishedContent",
        "approved": true,
        "blobName": "published/mitforlob/20210113194431918_920654297_5e37fc26e543e1004e82b332.json",
        "disabled": false,
        "namespace": "mitforlob",
        "originalId": "5e37fc26e543e1004e82b332",
        "publishedAt": 1610567071985,
        "publishedBy": "sameer@visikon.com",
        "version": 1
       },
       {
        "__v": 0,
        "_id": {
         "$oid": "5fff4da00db7f800393ec523"
        },
        "_type": "PublishedContent",
        "approved": true,
        "blobName": "published/mitforlob/20210113194432626_2783171839_5e6ba77d5758f90051189fdf.json",
        "disabled": false,
        "namespace": "mitforlob",
        "originalId": "5e6ba77d5758f90051189fdf",
        "publishedAt": 1610567072823,
        "publishedBy": "sameer@visikon.com",
        "version": 1
       },
       {
        "__v": 0,
        "_id": {
         "$oid": "5fff4da10db7f800393ec524"
        },
        "_type": "PublishedContent",
        "approved": true,
        "blobName": "published/mitforlob/20210113194433700_7180247755_5e6ba9505758f90051189fe1.json",
        "disabled": false,
        "namespace": "mitforlob",
        "originalId": "5e6ba9505758f90051189fe1",
        "publishedAt": 1610567073777,
        "publishedBy": "sameer@visikon.com",
        "version": 1
       },
       {
        "__v": 0,
        "_id": {
         "$oid": "5fff4da20db7f800393ec525"
        },
        "_type": "PublishedContent",
        "approved": true,
        "blobName": "published/mitforlob/20210113194434730_9110465637_5e70dcfb750aa3004ecca962.json",
        "disabled": false,
        "namespace": "mitforlob",
        "originalId": "5e70dcfb750aa3004ecca962",
        "publishedAt": 1610567074804,
        "publishedBy": "sameer@visikon.com",
        "version": 1
       },
       {
        "__v": 0,
        "_id": {
         "$oid": "5fff4da30db7f800393ec526"
        },
        "_type": "PublishedContent",
        "approved": true,
        "blobName": "published/mitforlob/20210113194435520_1971374682_5e74f6ebe7c8ef004ed66c1a.json",
        "disabled": false,
        "namespace": "mitforlob",
        "originalId": "5e74f6ebe7c8ef004ed66c1a",
        "publishedAt": 1610567075627,
        "publishedBy": "sameer@visikon.com",
        "version": 1
       },
       {
        "__v": 0,
        "_id": {
         "$oid": "5fff4da40db7f800393ec527"
        },
        "_type": "PublishedContent",
        "approved": true,
        "blobName": "published/mitforlob/20210113194436359_1877372598_5e74f778e7c8ef004ed66c1c.json",
        "disabled": false,
        "namespace": "mitforlob",
        "originalId": "5e74f778e7c8ef004ed66c1c",
        "publishedAt": 1610567076419,
        "publishedBy": "sameer@visikon.com",
        "version": 1
       },
       {
        "__v": 0,
        "_id": {
         "$oid": "5fff4da40db7f800393ec528"
        },
        "_type": "PublishedContent",
        "approved": true,
        "blobName": "published/mitforlob/20210113194436501_2640780308_5e7db9c9930532004eafe1bd.json",
        "disabled": false,
        "namespace": "mitforlob",
        "originalId": "5e7db9c9930532004eafe1bd",
        "publishedAt": 1610567076560,
        "publishedBy": "sameer@visikon.com",
        "version": 1
       },
       {
        "__v": 0,
        "_id": {
         "$oid": "5fff4da50db7f800393ec529"
        },
        "_type": "PublishedContent",
        "approved": true,
        "blobName": "published/mitforlob/20210113194437067_1373725826_5e7db9df930532004eafe1bf.json",
        "disabled": false,
        "namespace": "mitforlob",
        "originalId": "5e7db9df930532004eafe1bf",
        "publishedAt": 1610567077118,
        "publishedBy": "sameer@visikon.com",
        "version": 1
       },
       {
        "__v": 0,
        "_id": {
         "$oid": "5fff4da50db7f800393ec52a"
        },
        "_type": "PublishedContent",
        "approved": true,
        "blobName": "published/mitforlob/20210113194437634_7298128026_5e7dba21930532004eafe1c3.json",
        "disabled": false,
        "namespace": "mitforlob",
        "originalId": "5e7dba21930532004eafe1c3",
        "publishedAt": 1610567077701,
        "publishedBy": "sameer@visikon.com",
        "version": 1
       },
       {
        "__v": 0,
        "_id": {
         "$oid": "5fff4da60db7f800393ec52b"
        },
        "_type": "PublishedContent",
        "approved": true,
        "blobName": "published/mitforlob/20210113194438072_1841639447_5e99857279d6e4004fbba244.json",
        "disabled": false,
        "namespace": "mitforlob",
        "originalId": "5e99857279d6e4004fbba244",
        "publishedAt": 1610567078138,
        "publishedBy": "sameer@visikon.com",
        "version": 1
       },
       {
        "__v": 0,
        "_id": {
         "$oid": "5fff4db50db7f800393ec542"
        },
        "_type": "PublishedContent",
        "approved": true,
        "blobName": "published/mitforlob/20210113194453860_7270607333_5fa92320f038e90035e7bd98.json",
        "disabled": false,
        "namespace": "mitforlob",
        "originalId": "5fa92320f038e90035e7bd98",
        "publishedAt": 1610567093911,
        "publishedBy": "sameer@visikon.com",
        "version": 1
       },
       {
        "__v": 0,
        "_id": {
         "$oid": "5fff4dbe0db7f800393ec54f"
        },
        "_type": "PublishedContent",
        "approved": true,
        "blobName": "published/mitforlob/20210113194501938_5146400443_5ffee48aa0731b003575336e.json",
        "disabled": false,
        "namespace": "mitforlob",
        "originalId": "5ffee48aa0731b003575336e",
        "publishedAt": 1610567102003,
        "publishedBy": "sameer@visikon.com",
        "version": 0
       },
       {
        "__v": 0,
        "_id": {
         "$oid": "5fff4ec20db7f800393ec55c"
        },
        "_type": "PublishedContent",
        "approved": true,
        "blobName": "published/mitforlob/20210113194922427_4542808844_5b950168c935dc00389b8e06.json",
        "disabled": false,
        "namespace": "mitforlob",
        "originalId": "5b950168c935dc00389b8e06",
        "publishedAt": 1610567362547,
        "publishedBy": "sameer@visikon.com",
        "version": 3
       },
       {
        "__v": 0,
        "_id": {
         "$oid": "5fff4ef20db7f800393ec580"
        },
        "_type": "PublishedContent",
        "approved": true,
        "blobName": "published/mitforlob/20210113195010003_2792790725_5d9771a4541886002ff7a22a.json",
        "disabled": false,
        "namespace": "mitforlob",
        "originalId": "5d9771a4541886002ff7a22a",
        "publishedAt": 1610567410057,
        "publishedBy": "sameer@visikon.com",
        "version": 2
       },
       {
        "__v": 0,
        "_id": {
         "$oid": "5fff4f0d0db7f800393ec5a1"
        },
        "_type": "PublishedContent",
        "approved": true,
        "blobName": "published/mitforlob/20210113195037449_2755572514_5f3f96de7ce2c1004bc8fd88.json",
        "disabled": false,
        "namespace": "mitforlob",
        "originalId": "5f3f96de7ce2c1004bc8fd88",
        "publishedAt": 1610567437496,
        "publishedBy": "sameer@visikon.com",
        "version": 2
       },
       {
        "__v": 0,
        "_id": {
         "$oid": "5fff4f1c0db7f800393ec5ba"
        },
        "_type": "PublishedContent",
        "approved": true,
        "blobName": "published/mitforlob/20210113195052458_1330697169_5ffee488a0731b003575336a.json",
        "disabled": false,
        "namespace": "mitforlob",
        "originalId": "5ffee488a0731b003575336a",
        "publishedAt": 1610567452525,
        "publishedBy": "sameer@visikon.com",
        "version": 1
       },
       {
        "__v": 0,
        "_id": {
         "$oid": "5fff55197d1f150035d020b9"
        },
        "_type": "PublishedContent",
        "approved": true,
        "blobName": "published/mitforlob/20210113201625052_1206698671_5b97a60aaab66500386d6712.json",
        "disabled": false,
        "namespace": "mitforlob",
        "originalId": "5b97a60aaab66500386d6712",
        "publishedAt": 1610568985137,
        "publishedBy": "sameer@visikon.com",
        "version": 3
       },
       {
        "__v": 0,
        "_id": {
         "$oid": "5fff55547d1f150035d020e4"
        },
        "_type": "PublishedContent",
        "approved": true,
        "blobName": "published/mitforlob/20210113201724684_3371804504_5e6ba77d5758f90051189fdf.json",
        "disabled": false,
        "namespace": "mitforlob",
        "originalId": "5e6ba77d5758f90051189fdf",
        "publishedAt": 1610569044762,
        "publishedBy": "sameer@visikon.com",
        "version": 3
       },
       {
        "__v": 0,
        "_id": {
         "$oid": "5fff556b7d1f150035d02105"
        },
        "_type": "PublishedContent",
        "approved": true,
        "blobName": "published/mitforlob/20210113201747377_4864902073_5fb3d128ff01c80035697021.json",
        "disabled": false,
        "namespace": "mitforlob",
        "originalId": "5fb3d128ff01c80035697021",
        "publishedAt": 1610569067452,
        "publishedBy": "sameer@visikon.com",
        "version": 3
       },
       {
        "__v": 0,
        "_id": {
         "$oid": "5fff55717d1f150035d02114"
        },
        "_type": "PublishedContent",
        "approved": true,
        "blobName": "published/mitforlob/20210113201753778_5360709703_5ffee558a0731b003575337d.json",
        "disabled": false,
        "namespace": "mitforlob",
        "originalId": "5ffee558a0731b003575337d",
        "publishedAt": 1610569073863,
        "publishedBy": "sameer@visikon.com",
        "version": 2
       },
       {
        "__v": 0,
        "_id": {
         "$oid": "60018b832c24b70039698742"
        },
        "_type": "PublishedContent",
        "approved": false,
        "blobName": "published/mitforlob/20210115123307277_3959220074_5ffee489a0731b003575336c.json",
        "disabled": true,
        "namespace": "mitforlob",
        "originalId": "5ffee489a0731b003575336c",
        "publishedAt": 1610713987336,
        "publishedBy": "mette@visikon.com",
        "version": 3
       },
       {
        "__v": 0,
        "_id": {
         "$oid": "6002e5232c24b700396987a6"
        },
        "_type": "PublishedContent",
        "approved": true,
        "blobName": "published/mitforlob/20210116130747452_7284967295_5ffee558a0731b003575337f.json",
        "disabled": false,
        "namespace": "mitforlob",
        "originalId": "5ffee558a0731b003575337f",
        "publishedAt": 1610802467621,
        "publishedBy": "mette@visikon.com",
        "version": 3
       },
       {
        "__v": 0,
        "_id": {
         "$oid": "6005daa26c511700392b4a5a"
        },
        "_type": "PublishedContent",
        "approved": true,
        "blobName": "published/mitforlob/20210118185946345_3675101161_5ffee752a0731b0035753390.json",
        "disabled": false,
        "namespace": "mitforlob",
        "originalId": "5ffee752a0731b0035753390",
        "publishedAt": 1610996386398,
        "publishedBy": "mette@visikon.com",
        "version": 6
       },
       {
        "__v": 0,
        "_id": {
         "$oid": "600a9d4ba74589003944862a"
        },
        "_type": "PublishedContent",
        "approved": true,
        "blobName": "published/mitforlob/20210122093923244_6281122178_5ffee5f1a0731b0035753383.json",
        "disabled": false,
        "namespace": "mitforlob",
        "originalId": "5ffee5f1a0731b0035753383",
        "publishedAt": 1611308363345,
        "publishedBy": "mette@visikon.com",
        "version": 9
       },
       {
        "__v": 0,
        "_id": {
         "$oid": "60438860b9ad660035290265"
        },
        "_type": "PublishedContent",
        "approved": true,
        "blobName": "published/mitforlob/20210306134920143_4664539288_6011cbb91d0fc2003937373a.json",
        "disabled": false,
        "namespace": "mitforlob",
        "originalId": "6011cbb91d0fc2003937373a",
        "publishedAt": 1615038560254,
        "publishedBy": "mette@visikon.com",
        "version": 2
       },
       {
        "__v": 0,
        "_id": {
         "$oid": "6043b1e2b9ad6600352904d7"
        },
        "_type": "PublishedContent",
        "approved": true,
        "blobName": "published/mitforlob/20210306164626692_4634534292_6011cea61d0fc20039373749.json",
        "disabled": false,
        "namespace": "mitforlob",
        "originalId": "6011cea61d0fc20039373749",
        "publishedAt": 1615049186767,
        "publishedBy": "mette@visikon.com",
        "version": 1
       },
       {
        "__v": 0,
        "_id": {
         "$oid": "6043b530b9ad6600352904d8"
        },
        "_type": "PublishedContent",
        "approved": true,
        "blobName": "published/mitforlob/20210306170032316_3134213396_6011cb2d1d0fc20039373738.json",
        "disabled": false,
        "namespace": "mitforlob",
        "originalId": "6011cb2d1d0fc20039373738",
        "publishedAt": 1615050032441,
        "publishedBy": "mette@visikon.com",
        "version": 1
       },
       {
        "__v": 0,
        "_id": {
         "$oid": "6043b542b9ad6600352904d9"
        },
        "_type": "PublishedContent",
        "approved": true,
        "blobName": "published/mitforlob/20210306170050290_6086847800_6011cc2b1d0fc2003937373c.json",
        "disabled": false,
        "namespace": "mitforlob",
        "originalId": "6011cc2b1d0fc2003937373c",
        "publishedAt": 1615050050349,
        "publishedBy": "mette@visikon.com",
        "version": 1
       },
       {
        "__v": 0,
        "_id": {
         "$oid": "6043b550b9ad6600352904da"
        },
        "_type": "PublishedContent",
        "approved": true,
        "blobName": "published/mitforlob/20210306170103966_2492881536_6011cb2d1d0fc20039373738.json",
        "disabled": false,
        "namespace": "mitforlob",
        "originalId": "6011cb2d1d0fc20039373738",
        "publishedAt": 1615050064018,
        "publishedBy": "mette@visikon.com",
        "version": 2
       },
       {
        "__v": 0,
        "_id": {
         "$oid": "6043b9b1b9ad6600352904e9"
        },
        "_type": "PublishedContent",
        "approved": false,
        "blobName": "published/mitforlob/20210306171945840_4843652394_6011cb2d1d0fc20039373738.json",
        "disabled": true,
        "namespace": "mitforlob",
        "originalId": "6011cb2d1d0fc20039373738",
        "publishedAt": 1615051185932,
        "publishedBy": "mette@visikon.com",
        "version": 3
       },
       {
        "__v": 0,
        "_id": {
         "$oid": "6043b9b9b9ad6600352904ea"
        },
        "_type": "PublishedContent",
        "approved": false,
        "blobName": "published/mitforlob/20210306171953484_9731932719_6011cb2d1d0fc20039373738.json",
        "disabled": true,
        "namespace": "mitforlob",
        "originalId": "6011cb2d1d0fc20039373738",
        "publishedAt": 1615051193540,
        "publishedBy": "mette@visikon.com",
        "version": 4
       },
       {
        "__v": 0,
        "_id": {
         "$oid": "60479d15b9ad6600352905e2"
        },
        "_type": "PublishedContent",
        "approved": true,
        "blobName": "published/mitforlob/20210309160644939_5118705561_5e1b8c908cf40c004e7d0b89.json",
        "disabled": false,
        "namespace": "mitforlob",
        "originalId": "5e1b8c908cf40c004e7d0b89",
        "publishedAt": 1615306005075,
        "publishedBy": "mette@visikon.com",
        "version": 6
       },
       {
        "__v": 0,
        "_id": {
         "$oid": "604e6dffb9ad660035290a70"
        },
        "_type": "PublishedContent",
        "approved": true,
        "blobName": "published/mitforlob/20210314201143589_4804719606_5ffee4eea0731b0035753374.json",
        "disabled": false,
        "namespace": "mitforlob",
        "originalId": "5ffee4eea0731b0035753374",
        "publishedAt": 1615752703648,
        "publishedBy": "mette@visikon.com",
        "version": 5
       },
       {
        "__v": 0,
        "_id": {
         "$oid": "605f80ba78e2ca0039e0dbb1"
        },
        "_type": "PublishedContent",
        "approved": true,
        "blobName": "published/mitforlob/20210327190010716_3386184168_5b977f6fce298900381d1a4f.json",
        "disabled": false,
        "namespace": "mitforlob",
        "originalId": "5b977f6fce298900381d1a4f",
        "publishedAt": 1616871610783,
        "publishedBy": "anders@visikon.com",
        "version": 7
       },
       {
        "__v": 0,
        "_id": {
         "$oid": "6081411e6e2442003937012c"
        },
        "_type": "PublishedContent",
        "approved": false,
        "blobName": "published/mitforlob/20210422092550826_1556820989_5fb3a6eeff01c80035696efe.json",
        "disabled": true,
        "namespace": "mitforlob",
        "originalId": "5fb3a6eeff01c80035696efe",
        "publishedAt": 1619083550946,
        "publishedBy": "mette@visikon.com",
        "version": 8
       },
       {
        "__v": 0,
        "_id": {
         "$oid": "608ed42adc6e930035ba5447"
        },
        "_type": "PublishedContent",
        "approved": false,
        "blobName": "published/mitforlob/20210502163242212_8437834821_5d97704f541886002ff7a228.json",
        "disabled": true,
        "namespace": "mitforlob",
        "originalId": "5d97704f541886002ff7a228",
        "publishedAt": 1619973162387,
        "publishedBy": "mette@visikon.com",
        "version": 15
       },
       {
        "__v": 0,
        "_id": {
         "$oid": "608ed44edc6e930035ba544a"
        },
        "_type": "PublishedContent",
        "approved": false,
        "blobName": "published/mitforlob/20210502163318356_9728464895_5d9761a5039ff5002fc1a069.json",
        "disabled": true,
        "namespace": "mitforlob",
        "originalId": "5d9761a5039ff5002fc1a069",
        "publishedAt": 1619973198441,
        "publishedBy": "mette@visikon.com",
        "version": 11
       },
       {
        "__v": 0,
        "_id": {
         "$oid": "6099381537745000357bb6a1"
        },
        "_type": "PublishedContent",
        "approved": false,
        "blobName": "published/mitforlob/20210510134141204_9109217213_5ffee48aa0731b003575336e.json",
        "disabled": true,
        "namespace": "mitforlob",
        "originalId": "5ffee48aa0731b003575336e",
        "publishedAt": 1620654101261,
        "publishedBy": "mette@visikon.com",
        "version": 8
       },
       {
        "__v": 0,
        "_id": {
         "$oid": "60a118434cfec50039bbe639"
        },
        "_type": "PublishedContent",
        "approved": false,
        "blobName": "published/mitforlob/20210516130403203_5784771923_6011ccd01d0fc2003937373e.json",
        "disabled": true,
        "namespace": "mitforlob",
        "originalId": "6011ccd01d0fc2003937373e",
        "publishedAt": 1621170243353,
        "publishedBy": "mette@visikon.com",
        "version": 6
       },
       {
        "__v": 0,
        "_id": {
         "$oid": "60a2248d4cfec50039bbe6ac"
        },
        "_type": "PublishedContent",
        "approved": true,
        "blobName": "published/mitforlob/20210517080845764_4241441558_609e66644cfec50039bbe462.json",
        "disabled": false,
        "namespace": "mitforlob",
        "originalId": "609e66644cfec50039bbe462",
        "publishedAt": 1621238925852,
        "publishedBy": "elisabeth@visikon.com",
        "version": 3
       },
       {
        "__v": 0,
        "_id": {
         "$oid": "60a225ef4cfec50039bbe6ae"
        },
        "_type": "PublishedContent",
        "approved": true,
        "blobName": "published/mitforlob/20210517081438954_1853772987_6011cdb71d0fc20039373745.json",
        "disabled": false,
        "namespace": "mitforlob",
        "originalId": "6011cdb71d0fc20039373745",
        "publishedAt": 1621239279036,
        "publishedBy": "elisabeth@visikon.com",
        "version": 3
       },
       {
        "__v": 0,
        "_id": {
         "$oid": "60a2275a4cfec50039bbe6af"
        },
        "_type": "PublishedContent",
        "approved": true,
        "blobName": "published/mitforlob/20210517082042390_768711799_6011cb2d1d0fc20039373738.json",
        "disabled": false,
        "namespace": "mitforlob",
        "originalId": "6011cb2d1d0fc20039373738",
        "publishedAt": 1621239642527,
        "publishedBy": "elisabeth@visikon.com",
        "version": 8
       },
       {
        "__v": 0,
        "_id": {
         "$oid": "60a224094cfec50039bbe6ab"
        },
        "_type": "PublishedContent",
        "approved": true,
        "blobName": "published/mitforlob/20210517080633532_1391227537_609e65d74cfec50039bbe45a.json",
        "disabled": false,
        "namespace": "mitforlob",
        "originalId": "609e65d74cfec50039bbe45a",
        "publishedAt": 1621238793645,
        "publishedBy": "elisabeth@visikon.com",
        "version": 5
       },
       {
        "__v": 0,
        "_id": {
         "$oid": "60a225584cfec50039bbe6ad"
        },
        "_type": "PublishedContent",
        "approved": true,
        "blobName": "published/mitforlob/20210517081207935_2636107792_6011cd5f1d0fc20039373741.json",
        "disabled": false,
        "namespace": "mitforlob",
        "originalId": "6011cd5f1d0fc20039373741",
        "publishedAt": 1621239128038,
        "publishedBy": "elisabeth@visikon.com",
        "version": 6
       },
       {
        "__v": 0,
        "_id": {
         "$oid": "60a2289d4cfec50039bbe6b1"
        },
        "_type": "PublishedContent",
        "approved": true,
        "blobName": "published/mitforlob/20210517082605428_3438066129_6011cc2b1d0fc2003937373c.json",
        "disabled": false,
        "namespace": "mitforlob",
        "originalId": "6011cc2b1d0fc2003937373c",
        "publishedAt": 1621239965517,
        "publishedBy": "elisabeth@visikon.com",
        "version": 5
       },
       {
        "__v": 0,
        "_id": {
         "$oid": "60a228cf4cfec50039bbe6b2"
        },
        "_type": "PublishedContent",
        "approved": true,
        "blobName": "published/mitforlob/20210517082655111_6670317070_6011ccd01d0fc2003937373e.json",
        "disabled": false,
        "namespace": "mitforlob",
        "originalId": "6011ccd01d0fc2003937373e",
        "publishedAt": 1621240015203,
        "publishedBy": "elisabeth@visikon.com",
        "version": 7
       },
       {
        "__v": 0,
        "_id": {
         "$oid": "60a22deb4cfec50039bbe6b7"
        },
        "_type": "PublishedContent",
        "approved": false,
        "blobName": "published/mitforlob/20210517084843799_2032363109_6011cbb91d0fc2003937373a.json",
        "disabled": true,
        "namespace": "mitforlob",
        "originalId": "6011cbb91d0fc2003937373a",
        "publishedAt": 1621241323906,
        "publishedBy": "elisabeth@visikon.com",
        "version": 6
       },
       {
        "__v": 0,
        "_id": {
         "$oid": "60a26d794cfec50039bbe729"
        },
        "_type": "PublishedContent",
        "approved": false,
        "blobName": "published/mitforlob/20210517131953122_8818958001_609e657f4cfec50039bbe456.json",
        "disabled": false,
        "namespace": "mitforlob",
        "originalId": "609e657f4cfec50039bbe456",
        "publishedAt": 1621257593191,
        "publishedBy": "mette@visikon.com",
        "version": 5
       },
       {
        "__v": 0,
        "_id": {
         "$oid": "60cb48720e3e970039d19956"
        },
        "_type": "PublishedContent",
        "approved": true,
        "blobName": "published/mitforlob/20210617130450071_5383818492_60cb467d0e3e970039d19888.json",
        "disabled": false,
        "namespace": "mitforlob",
        "originalId": "60cb467d0e3e970039d19888",
        "publishedAt": 1623935090129,
        "publishedBy": "mette@visikon.com",
        "version": 3
       },
       {
        "__v": 0,
        "_id": {
         "$oid": "60cb495e0e3e970039d19a20"
        },
        "_type": "PublishedContent",
        "approved": false,
        "blobName": "published/mitforlob/20210617130846741_8494522394_60cb467d0e3e970039d19888.json",
        "disabled": true,
        "namespace": "mitforlob",
        "originalId": "60cb467d0e3e970039d19888",
        "publishedAt": 1623935326880,
        "publishedBy": "mette@visikon.com",
        "version": 4
       },
       {
        "__v": 0,
        "_id": {
         "$oid": "60cb49670e3e970039d19a21"
        },
        "_type": "PublishedContent",
        "approved": false,
        "blobName": "published/mitforlob/20210617130855170_9546090044_60cb467d0e3e970039d19888.json",
        "disabled": true,
        "namespace": "mitforlob",
        "originalId": "60cb467d0e3e970039d19888",
        "publishedAt": 1623935335221,
        "publishedBy": "mette@visikon.com",
        "version": 5
       },
       {
        "__v": 0,
        "_id": {
         "$oid": "60cb499d0e3e970039d19a22"
        },
        "_type": "PublishedContent",
        "approved": true,
        "blobName": "published/mitforlob/20210617130949198_3096837583_60cb467d0e3e970039d19888.json",
        "disabled": true,
        "namespace": "mitforlob",
        "originalId": "60cb467d0e3e970039d19888",
        "publishedAt": 1623935389312,
        "publishedBy": "mette@visikon.com",
        "version": 6
       },
       {
        "__v": 0,
        "_id": {
         "$oid": "60cb49cf0e3e970039d19a25"
        },
        "_type": "PublishedContent",
        "approved": true,
        "blobName": "published/mitforlob/20210617131039739_7512139590_60cb467d0e3e970039d19888.json",
        "disabled": true,
        "namespace": "mitforlob",
        "originalId": "60cb467d0e3e970039d19888",
        "publishedAt": 1623935439824,
        "publishedBy": "mette@visikon.com",
        "version": 7
       },
       {
        "__v": 0,
        "_id": {
         "$oid": "60cb49f30e3e970039d19a26"
        },
        "_type": "PublishedContent",
        "approved": true,
        "blobName": "published/mitforlob/20210617131115095_3050575785_604233afb9ad660035290084.json",
        "disabled": true,
        "namespace": "mitforlob",
        "originalId": "604233afb9ad660035290084",
        "publishedAt": 1623935475197,
        "publishedBy": "mette@visikon.com",
        "version": 6
       },
       {
        "__v": 0,
        "_id": {
         "$oid": "60cc607e0e3e970039d19a7b"
        },
        "_type": "PublishedContent",
        "approved": false,
        "blobName": "published/mitforlob/20210618085942418_1431989439_609930f237745000357bb68f.json",
        "disabled": true,
        "namespace": "mitforlob",
        "originalId": "609930f237745000357bb68f",
        "publishedAt": 1624006782513,
        "publishedBy": "elisabeth@visikon.com",
        "version": 3
       },
       {
        "__v": 0,
        "_id": {
         "$oid": "60d0a5be12f31800352e3b95"
        },
        "_type": "PublishedContent",
        "approved": false,
        "blobName": "published/mitforlob/20210621144414520_7164989034_60911b648561e50039bc0b87.json",
        "disabled": true,
        "namespace": "mitforlob",
        "originalId": "60911b648561e50039bc0b87",
        "publishedAt": 1624286654580,
        "publishedBy": "mette@visikon.com",
        "version": 10
       },
       {
        "__v": 0,
        "_id": {
         "$oid": "60d1b2dc12f31800352e3bd3"
        },
        "_type": "PublishedContent",
        "approved": false,
        "blobName": "published/mitforlob/20210622095228631_1284567725_5e9988f679d6e4004fbba248.json",
        "disabled": false,
        "namespace": "mitforlob",
        "originalId": "5e9988f679d6e4004fbba248",
        "publishedAt": 1624355548700,
        "publishedBy": "elisabeth@visikon.com",
        "version": 6
       },
       {
        "__v": 0,
        "_id": {
         "$oid": "60d9c5427c502700399f4c3f"
        },
        "_type": "PublishedContent",
        "approved": false,
        "blobName": "published/mitforlob/20210628124906417_3500433442_5f9e904cf6c80700393b4305.json",
        "disabled": true,
        "namespace": "mitforlob",
        "originalId": "5f9e904cf6c80700393b4305",
        "publishedAt": 1624884546488,
        "publishedBy": "mette@visikon.com",
        "version": 15
       },
       {
        "__v": 0,
        "_id": {
         "$oid": "60dacc457c502700399f4dfb"
        },
        "_type": "PublishedContent",
        "approved": false,
        "blobName": "published/mitforlob/20210629073117579_4313797285_5ffee4eea0731b0035753374.json",
        "disabled": true,
        "namespace": "mitforlob",
        "originalId": "5ffee4eea0731b0035753374",
        "publishedAt": 1624951877667,
        "publishedBy": "mette@visikon.com",
        "version": 8
       },
       {
        "__v": 0,
        "_id": {
         "$oid": "60dacc757c502700399f4dfc"
        },
        "_type": "PublishedContent",
        "approved": true,
        "blobName": "published/mitforlob/20210629073205139_1252718019_5ffee4eda0731b0035753370.json",
        "disabled": false,
        "namespace": "mitforlob",
        "originalId": "5ffee4eda0731b0035753370",
        "publishedAt": 1624951925213,
        "publishedBy": "mette@visikon.com",
        "version": 9
       },
       {
        "__v": 0,
        "_id": {
         "$oid": "60dacc827c502700399f4dfd"
        },
        "_type": "PublishedContent",
        "approved": true,
        "blobName": "published/mitforlob/20210629073218296_5448634017_5ffee4eea0731b0035753372.json",
        "disabled": false,
        "namespace": "mitforlob",
        "originalId": "5ffee4eea0731b0035753372",
        "publishedAt": 1624951938343,
        "publishedBy": "mette@visikon.com",
        "version": 8
       },
       {
        "__v": 0,
        "_id": {
         "$oid": "60dacc917c502700399f4dfe"
        },
        "_type": "PublishedContent",
        "approved": true,
        "blobName": "published/mitforlob/20210629073233746_6562603071_5ffee752a0731b0035753390.json",
        "disabled": false,
        "namespace": "mitforlob",
        "originalId": "5ffee752a0731b0035753390",
        "publishedAt": 1624951953790,
        "publishedBy": "mette@visikon.com",
        "version": 16
       },
       {
        "__v": 0,
        "_id": {
         "$oid": "60db6fe57c502700399f4ee6"
        },
        "_type": "PublishedContent",
        "approved": true,
        "blobName": "published/mitforlob/20210629190925599_2911944714_60db6dff7c502700399f4ee3.json",
        "disabled": false,
        "namespace": "mitforlob",
        "originalId": "60db6dff7c502700399f4ee3",
        "publishedAt": 1624993765784,
        "publishedBy": "brian@visikon.com",
        "version": 1
       },
       {
        "__v": 0,
        "_id": {
         "$oid": "60db708d1f23060039d19e0a"
        },
        "_type": "PublishedContent",
        "approved": true,
        "blobName": "published/mitforlob/20210629191213315_1697585222_60db6dff7c502700399f4ee3.json",
        "disabled": false,
        "namespace": "mitforlob",
        "originalId": "60db6dff7c502700399f4ee3",
        "publishedAt": 1624993933470,
        "publishedBy": "brian@visikon.com",
        "version": 2
       },
       {
        "__v": 0,
        "_id": {
         "$oid": "60db6e5b7c502700399f4ee5"
        },
        "_type": "PublishedContent",
        "approved": true,
        "blobName": "published/mitforlob/20210629190251430_3651762329_60db6dff7c502700399f4ee3.json",
        "disabled": false,
        "namespace": "mitforlob",
        "originalId": "60db6dff7c502700399f4ee3",
        "publishedAt": 1624993371673,
        "publishedBy": "brian@visikon.com",
        "version": 0
       },
       {
        "__v": 0,
        "_id": {
         "$oid": "60dc19f91f23060039d19ea4"
        },
        "_type": "PublishedContent",
        "approved": true,
        "blobName": "published/mitforlob/20210630071505404_4765384405_5e1b8cbb8cf40c004e7d0b8b.json",
        "disabled": false,
        "namespace": "mitforlob",
        "originalId": "5e1b8cbb8cf40c004e7d0b8b",
        "publishedAt": 1625037305538,
        "publishedBy": "elisabeth@visikon.com",
        "version": 7
       },
       {
        "__v": 0,
        "_id": {
         "$oid": "60dc1a3f1f23060039d19ea5"
        },
        "_type": "PublishedContent",
        "approved": false,
        "blobName": "published/mitforlob/20210630071615342_8188864753_5f9e904cf6c80700393b4305.json",
        "disabled": true,
        "namespace": "mitforlob",
        "originalId": "5f9e904cf6c80700393b4305",
        "publishedAt": 1625037375483,
        "publishedBy": "elisabeth@visikon.com",
        "version": 16
       },
       {
        "__v": 0,
        "_id": {
         "$oid": "60dc1a611f23060039d19ea6"
        },
        "_type": "PublishedContent",
        "approved": true,
        "blobName": "published/mitforlob/20210630071649226_2479195862_5fd32346a536750035e9564b.json",
        "disabled": false,
        "namespace": "mitforlob",
        "originalId": "5fd32346a536750035e9564b",
        "publishedAt": 1625037409286,
        "publishedBy": "elisabeth@visikon.com",
        "version": 15
       },
       {
        "__v": 0,
        "_id": {
         "$oid": "60dc1a871f23060039d19ea7"
        },
        "_type": "PublishedContent",
        "approved": true,
        "blobName": "published/mitforlob/20210630071727830_9751006196_5fda293bbe5ada0039e97634.json",
        "disabled": false,
        "namespace": "mitforlob",
        "originalId": "5fda293bbe5ada0039e97634",
        "publishedAt": 1625037447889,
        "publishedBy": "elisabeth@visikon.com",
        "version": 15
       },
       {
        "__v": 0,
        "_id": {
         "$oid": "60dc1b101f23060039d19ea8"
        },
        "_type": "PublishedContent",
        "approved": true,
        "blobName": "published/mitforlob/20210630071944294_722094026_5f9e904cf6c80700393b4305.json",
        "disabled": false,
        "namespace": "mitforlob",
        "originalId": "5f9e904cf6c80700393b4305",
        "publishedAt": 1625037584403,
        "publishedBy": "elisabeth@visikon.com",
        "version": 17
       },
       {
        "__v": 0,
        "_id": {
         "$oid": "60dc1d051f23060039d19ea9"
        },
        "_type": "PublishedContent",
        "approved": false,
        "blobName": "published/mitforlob/20210630072804951_6839593918_5ffee4eea0731b0035753374.json",
        "disabled": true,
        "namespace": "mitforlob",
        "originalId": "5ffee4eea0731b0035753374",
        "publishedAt": 1625038085064,
        "publishedBy": "elisabeth@visikon.com",
        "version": 9
       },
       {
        "__v": 0,
        "_id": {
         "$oid": "60dc1d381f23060039d19eae"
        },
        "_type": "PublishedContent",
        "approved": true,
        "blobName": "published/mitforlob/20210630072856417_2970618489_5ffee4eea0731b0035753374.json",
        "disabled": false,
        "namespace": "mitforlob",
        "originalId": "5ffee4eea0731b0035753374",
        "publishedAt": 1625038136496,
        "publishedBy": "elisabeth@visikon.com",
        "version": 10
       },
       {
        "__v": 0,
        "_id": {
         "$oid": "60dc52451f23060039d19f11"
        },
        "_type": "PublishedContent",
        "approved": false,
        "blobName": "published/mitforlob/20210630111517140_2706306136_60911b648561e50039bc0b87.json",
        "disabled": true,
        "namespace": "mitforlob",
        "originalId": "60911b648561e50039bc0b87",
        "publishedAt": 1625051717358,
        "publishedBy": "elisabeth@visikon.com",
        "version": 13
       },
       {
        "__v": 0,
        "_id": {
         "$oid": "60dc550c1f23060039d19f14"
        },
        "_type": "PublishedContent",
        "approved": false,
        "blobName": "published/mitforlob/20210630112708392_1931133060_60911b648561e50039bc0b87.json",
        "disabled": true,
        "namespace": "mitforlob",
        "originalId": "60911b648561e50039bc0b87",
        "publishedAt": 1625052428508,
        "publishedBy": "elisabeth@visikon.com",
        "version": 14
       },
       {
        "__v": 0,
        "_id": {
         "$oid": "60de421388f48c0039a50802"
        },
        "_type": "PublishedContent",
        "approved": true,
        "blobName": "published/mitforlob/20210701223043627_1384323700_5c909630a12b7a003876bf57.json",
        "disabled": false,
        "namespace": "mitforlob",
        "originalId": "5c909630a12b7a003876bf57",
        "publishedAt": 1625178643706,
        "publishedBy": "anders@visikon.com",
        "version": 8
       },
       {
        "__v": 0,
        "_id": {
         "$oid": "60e2b61388f48c0039a50a6f"
        },
        "_type": "PublishedContent",
        "approved": false,
        "blobName": "published/mitforlob/20210705073443482_347074213_60c200c9195db90039b54137.json",
        "disabled": false,
        "namespace": "mitforlob",
        "originalId": "60c200c9195db90039b54137",
        "publishedAt": 1625470483574,
        "publishedBy": "elisabeth@visikon.com",
        "version": 0
       },
       {
        "__v": 0,
        "_id": {
         "$oid": "60e4415b88f48c0039a50c6f"
        },
        "_type": "PublishedContent",
        "approved": false,
        "blobName": "published/mitforlob/20210706114115698_9764615913_609e66174cfec50039bbe45e.json",
        "disabled": false,
        "namespace": "mitforlob",
        "originalId": "609e66174cfec50039bbe45e",
        "publishedAt": 1625571675757,
        "publishedBy": "elisabeth@visikon.com",
        "version": 10
       },
       {
        "__v": 0,
        "_id": {
         "$oid": "61122cfe812cb500392d5547"
        },
        "_type": "PublishedContent",
        "approved": false,
        "blobName": "published/mitforlob/20210810073838489_9708453054_60e5b25188f48c0039a51560.json",
        "disabled": true,
        "namespace": "mitforlob",
        "originalId": "60e5b25188f48c0039a51560",
        "publishedAt": 1628581118568,
        "publishedBy": "elisabeth@visikon.com",
        "version": 3
       },
       {
        "__v": 0,
        "_id": {
         "$oid": "611660b1c35f1700351b7e80"
        },
        "_type": "PublishedContent",
        "approved": false,
        "blobName": "published/mitforlob/20210813120817236_1695609037_6011cb2d1d0fc20039373738.json",
        "disabled": true,
        "namespace": "mitforlob",
        "originalId": "6011cb2d1d0fc20039373738",
        "publishedAt": 1628856497354,
        "publishedBy": "mette@visikon.com",
        "version": 12
       },
       {
        "__v": 0,
        "_id": {
         "$oid": "611660dbc35f1700351b7e81"
        },
        "_type": "PublishedContent",
        "approved": false,
        "blobName": "published/mitforlob/20210813120859786_1064446795_6011cbb91d0fc2003937373a.json",
        "disabled": true,
        "namespace": "mitforlob",
        "originalId": "6011cbb91d0fc2003937373a",
        "publishedAt": 1628856539869,
        "publishedBy": "mette@visikon.com",
        "version": 15
       },
       {
        "__v": 0,
        "_id": {
         "$oid": "61166101c35f1700351b7e82"
        },
        "_type": "PublishedContent",
        "approved": false,
        "blobName": "published/mitforlob/20210813120937420_6819582155_6011cc2b1d0fc2003937373c.json",
        "disabled": true,
        "namespace": "mitforlob",
        "originalId": "6011cc2b1d0fc2003937373c",
        "publishedAt": 1628856577523,
        "publishedBy": "mette@visikon.com",
        "version": 11
       },
       {
        "__v": 0,
        "_id": {
         "$oid": "6116610fc35f1700351b7e83"
        },
        "_type": "PublishedContent",
        "approved": false,
        "blobName": "published/mitforlob/20210813120951620_2064413507_6011ccd01d0fc2003937373e.json",
        "disabled": true,
        "namespace": "mitforlob",
        "originalId": "6011ccd01d0fc2003937373e",
        "publishedAt": 1628856591679,
        "publishedBy": "mette@visikon.com",
        "version": 15
       },
       {
        "__v": 0,
        "_id": {
         "$oid": "61166120c35f1700351b7e84"
        },
        "_type": "PublishedContent",
        "approved": false,
        "blobName": "published/mitforlob/20210813121008666_8806466092_6011cd5f1d0fc20039373741.json",
        "disabled": true,
        "namespace": "mitforlob",
        "originalId": "6011cd5f1d0fc20039373741",
        "publishedAt": 1628856608745,
        "publishedBy": "mette@visikon.com",
        "version": 15
       },
       {
        "__v": 0,
        "_id": {
         "$oid": "6116613ac35f1700351b7e85"
        },
        "_type": "PublishedContent",
        "approved": false,
        "blobName": "published/mitforlob/20210813121034362_6979474189_6011cdb71d0fc20039373745.json",
        "disabled": true,
        "namespace": "mitforlob",
        "originalId": "6011cdb71d0fc20039373745",
        "publishedAt": 1628856634471,
        "publishedBy": "mette@visikon.com",
        "version": 14
       },
       {
        "__v": 0,
        "_id": {
         "$oid": "611661dcc35f1700351b7e88"
        },
        "_type": "PublishedContent",
        "approved": true,
        "blobName": "published/mitforlob/20210813121316211_2512207355_60c1fe6f195db90039b5412f.json",
        "disabled": false,
        "namespace": "mitforlob",
        "originalId": "60c1fe6f195db90039b5412f",
        "publishedAt": 1628856796322,
        "publishedBy": "mette@visikon.com",
        "version": 1
       },
       {
        "__v": 0,
        "_id": {
         "$oid": "61166250c35f1700351b7e89"
        },
        "_type": "PublishedContent",
        "approved": false,
        "blobName": "published/mitforlob/20210813121512582_2951389225_60c1ff44195db90039b54133.json",
        "disabled": true,
        "namespace": "mitforlob",
        "originalId": "60c1ff44195db90039b54133",
        "publishedAt": 1628856912704,
        "publishedBy": "mette@visikon.com",
        "version": 2
       },
       {
        "__v": 0,
        "_id": {
         "$oid": "611662b0c35f1700351b7e8b"
        },
        "_type": "PublishedContent",
        "approved": false,
        "blobName": "published/mitforlob/20210813121647969_6048831368_60c1ff08195db90039b54131.json",
        "disabled": true,
        "namespace": "mitforlob",
        "originalId": "60c1ff08195db90039b54131",
        "publishedAt": 1628857008118,
        "publishedBy": "mette@visikon.com",
        "version": 3
       },
       {
        "__v": 0,
        "_id": {
         "$oid": "611662e1c35f1700351b7e8c"
        },
        "_type": "PublishedContent",
        "approved": false,
        "blobName": "published/mitforlob/20210813121737110_3002351344_60c1ff7f195db90039b54135.json",
        "disabled": true,
        "namespace": "mitforlob",
        "originalId": "60c1ff7f195db90039b54135",
        "publishedAt": 1628857057184,
        "publishedBy": "mette@visikon.com",
        "version": 2
       },
       {
        "__v": 0,
        "_id": {
         "$oid": "61239490fadd3c0039dba8a6"
        },
        "_type": "PublishedContent",
        "approved": true,
        "blobName": "published/mitforlob/20210823122904110_5763411999_60911b648561e50039bc0b87.json",
        "disabled": false,
        "namespace": "mitforlob",
        "originalId": "60911b648561e50039bc0b87",
        "publishedAt": 1629721744188,
        "publishedBy": "mette@visikon.com",
        "version": 15
       },
       {
        "__v": 0,
        "_id": {
         "$oid": "6123949dfadd3c0039dba8a7"
        },
        "_type": "PublishedContent",
        "approved": true,
        "blobName": "published/mitforlob/20210823122917448_4911917074_61164e71c35f1700351b7e74.json",
        "disabled": false,
        "namespace": "mitforlob",
        "originalId": "61164e71c35f1700351b7e74",
        "publishedAt": 1629721757496,
        "publishedBy": "mette@visikon.com",
        "version": 1
       },
       {
        "__v": 0,
        "_id": {
         "$oid": "61239bfafadd3c0039dba8a9"
        },
        "_type": "PublishedContent",
        "approved": true,
        "blobName": "published/mitforlob/20210823130042208_8567575556_60e5b38088f48c0039a515a3.json",
        "disabled": false,
        "namespace": "mitforlob",
        "originalId": "60e5b38088f48c0039a515a3",
        "publishedAt": 1629723642295,
        "publishedBy": "mette@visikon.com",
        "version": 6
       },
       {
        "__v": 0,
        "_id": {
         "$oid": "61239c20fadd3c0039dba8aa"
        },
        "_type": "PublishedContent",
        "approved": true,
        "blobName": "published/mitforlob/20210823130120768_3642736565_60e5a74888f48c0039a51552.json",
        "disabled": false,
        "namespace": "mitforlob",
        "originalId": "60e5a74888f48c0039a51552",
        "publishedAt": 1629723680866,
        "publishedBy": "mette@visikon.com",
        "version": 6
       },
       {
        "__v": 0,
        "_id": {
         "$oid": "6123a198fadd3c0039dba8b3"
        },
        "_type": "PublishedContent",
        "approved": true,
        "blobName": "published/mitforlob/20210823132440381_7822214986_60911b648561e50039bc0b87.json",
        "disabled": false,
        "namespace": "mitforlob",
        "originalId": "60911b648561e50039bc0b87",
        "publishedAt": 1629725080512,
        "publishedBy": "mette@visikon.com",
        "version": 16
       },
       {
        "__v": 0,
        "_id": {
         "$oid": "6123a1a8fadd3c0039dba8b4"
        },
        "_type": "PublishedContent",
        "approved": true,
        "blobName": "published/mitforlob/20210823132456496_824469901_61164e71c35f1700351b7e74.json",
        "disabled": false,
        "namespace": "mitforlob",
        "originalId": "61164e71c35f1700351b7e74",
        "publishedAt": 1629725096577,
        "publishedBy": "mette@visikon.com",
        "version": 2
       },
       {
        "__v": 0,
        "_id": {
         "$oid": "6123cebbfadd3c0039dba8b9"
        },
        "_type": "PublishedContent",
        "approved": false,
        "blobName": "published/mitforlob/20210823163715354_4227316651_60e5ac1488f48c0039a5155a.json",
        "disabled": true,
        "namespace": "mitforlob",
        "originalId": "60e5ac1488f48c0039a5155a",
        "publishedAt": 1629736635407,
        "publishedBy": "mette@visikon.com",
        "version": 4
       },
       {
        "__v": 0,
        "_id": {
         "$oid": "6123cec9fadd3c0039dba8ba"
        },
        "_type": "PublishedContent",
        "approved": true,
        "blobName": "published/mitforlob/20210823163729450_7807685186_60e5ac1488f48c0039a5155a.json",
        "disabled": false,
        "namespace": "mitforlob",
        "originalId": "60e5ac1488f48c0039a5155a",
        "publishedAt": 1629736649500,
        "publishedBy": "mette@visikon.com",
        "version": 5
       },
       {
        "__v": 0,
        "_id": {
         "$oid": "6123cee2fadd3c0039dba8bb"
        },
        "_type": "PublishedContent",
        "approved": true,
        "blobName": "published/mitforlob/20210823163754204_3504461674_60e5b25188f48c0039a51560.json",
        "disabled": false,
        "namespace": "mitforlob",
        "originalId": "60e5b25188f48c0039a51560",
        "publishedAt": 1629736674251,
        "publishedBy": "mette@visikon.com",
        "version": 5
       },
       {
        "__v": 0,
        "_id": {
         "$oid": "6123cf02fadd3c0039dba8bc"
        },
        "_type": "PublishedContent",
        "approved": true,
        "blobName": "published/mitforlob/20210823163826201_9124637602_60e5b57f88f48c0039a515c1.json",
        "disabled": false,
        "namespace": "mitforlob",
        "originalId": "60e5b57f88f48c0039a515c1",
        "publishedAt": 1629736706319,
        "publishedBy": "mette@visikon.com",
        "version": 4
       },
       {
        "__v": 0,
        "_id": {
         "$oid": "6123cf16fadd3c0039dba8bd"
        },
        "_type": "PublishedContent",
        "approved": true,
        "blobName": "published/mitforlob/20210823163846429_1491211412_60e5b76988f48c0039a51758.json",
        "disabled": false,
        "namespace": "mitforlob",
        "originalId": "60e5b76988f48c0039a51758",
        "publishedAt": 1629736726473,
        "publishedBy": "mette@visikon.com",
        "version": 8
       },
       {
        "__v": 0,
        "_id": {
         "$oid": "6123fffffadd3c0039dba8c4"
        },
        "_type": "PublishedContent",
        "approved": true,
        "blobName": "published/mitforlob/20210823200727823_5709106447_60d8898f7c502700399f4b0d.json",
        "disabled": false,
        "namespace": "mitforlob",
        "originalId": "60d8898f7c502700399f4b0d",
        "publishedAt": 1629749247996,
        "publishedBy": "mette@visikon.com",
        "version": 10
       },
       {
        "__v": 0,
        "_id": {
         "$oid": "6124000efadd3c0039dba8c5"
        },
        "_type": "PublishedContent",
        "approved": true,
        "blobName": "published/mitforlob/20210823200742167_1505441388_60d8899c7c502700399f4b0f.json",
        "disabled": false,
        "namespace": "mitforlob",
        "originalId": "60d8899c7c502700399f4b0f",
        "publishedAt": 1629749262239,
        "publishedBy": "mette@visikon.com",
        "version": 6
       },
       {
        "__v": 0,
        "_id": {
         "$oid": "61240028fadd3c0039dba8c7"
        },
        "_type": "PublishedContent",
        "approved": true,
        "blobName": "published/mitforlob/20210823200808137_3490047934_60d88a617c502700399f4b15.json",
        "disabled": false,
        "namespace": "mitforlob",
        "originalId": "60d88a617c502700399f4b15",
        "publishedAt": 1629749288191,
        "publishedBy": "mette@visikon.com",
        "version": 6
       },
       {
        "__v": 0,
        "_id": {
         "$oid": "612dd7967a804c00387f8097"
        },
        "_type": "PublishedContent",
        "approved": true,
        "blobName": "published/mitforlob/20210831071741895_908001434_612dd6c27a804c00387f8095.json",
        "disabled": false,
        "namespace": "mitforlob",
        "originalId": "612dd6c27a804c00387f8095",
        "publishedAt": 1630394262034,
        "publishedBy": "elisabeth@visikon.com",
        "version": 0
       },
       {
        "__v": 0,
        "_id": {
         "$oid": "612e1a067a804c00387f80b4"
        },
        "_type": "PublishedContent",
        "approved": true,
        "blobName": "published/mitforlob/20210831120110691_6419574074_5d96612b455bcb002f1ca479.json",
        "disabled": false,
        "namespace": "mitforlob",
        "originalId": "5d96612b455bcb002f1ca479",
        "publishedAt": 1630411270746,
        "publishedBy": "elisabeth@visikon.com",
        "version": 14
       },
       {
        "__v": 0,
        "_id": {
         "$oid": "612e1b987a804c00387f80b6"
        },
        "_type": "PublishedContent",
        "approved": true,
        "blobName": "published/mitforlob/20210831120752123_8391087177_5d9761a5039ff5002fc1a069.json",
        "disabled": false,
        "namespace": "mitforlob",
        "originalId": "5d9761a5039ff5002fc1a069",
        "publishedAt": 1630411672210,
        "publishedBy": "elisabeth@visikon.com",
        "version": 13
       },
       {
        "__v": 0,
        "_id": {
         "$oid": "612e1c0a7a804c00387f80b7"
        },
        "_type": "PublishedContent",
        "approved": true,
        "blobName": "published/mitforlob/20210831120946246_9292317216_5d97704f541886002ff7a228.json",
        "disabled": false,
        "namespace": "mitforlob",
        "originalId": "5d97704f541886002ff7a228",
        "publishedAt": 1630411786311,
        "publishedBy": "elisabeth@visikon.com",
        "version": 17
       },
       {
        "__v": 0,
        "_id": {
         "$oid": "612e1c797a804c00387f80b8"
        },
        "_type": "PublishedContent",
        "approved": true,
        "blobName": "published/mitforlob/20210831121137335_2528237271_5d9771a4541886002ff7a22a.json",
        "disabled": false,
        "namespace": "mitforlob",
        "originalId": "5d9771a4541886002ff7a22a",
        "publishedAt": 1630411897430,
        "publishedBy": "elisabeth@visikon.com",
        "version": 13
       },
       {
        "__v": 0,
        "_id": {
         "$oid": "613f2fb68fe1c20039c96109"
        },
        "_type": "PublishedContent",
        "approved": true,
        "blobName": "published/mitforlob/20210913110214118_4432181061_6124e8c47a804c00387f5cce.json",
        "disabled": true,
        "namespace": "mitforlob",
        "originalId": "6124e8c47a804c00387f5cce",
        "publishedAt": 1631530934200,
        "publishedBy": "elisabeth@visikon.com",
        "version": 2
       },
       {
        "__v": 0,
        "_id": {
         "$oid": "61443e6a2ccfb00039a23a9e"
        },
        "_type": "PublishedContent",
        "approved": true,
        "blobName": "published/mitforlob/20210917070618538_201843900_6011cbb91d0fc2003937373a.json",
        "disabled": false,
        "namespace": "mitforlob",
        "originalId": "6011cbb91d0fc2003937373a",
        "publishedAt": 1631862378658,
        "publishedBy": "elisabeth@visikon.com",
        "version": 22
       },
       {
        "__v": 0,
        "_id": {
         "$oid": "6144726d2ccfb00039a23ac5"
        },
        "_type": "PublishedContent",
        "approved": true,
        "blobName": "published/mitforlob/20210917104813162_2369814745_5fb3a6eeff01c80035696efe.json",
        "disabled": false,
        "namespace": "mitforlob",
        "originalId": "5fb3a6eeff01c80035696efe",
        "publishedAt": 1631875693347,
        "publishedBy": "mette@visikon.com",
        "version": 18
       },
       {
        "__v": 0,
        "_id": {
         "$oid": "618aebdd6a1977003a9c0dd4"
        },
        "_type": "PublishedContent",
        "approved": true,
        "blobName": "published/mitforlob/20211109214501711_9360631497_61370d8a7a804c00387f8239.json",
        "disabled": false,
        "namespace": "mitforlob",
        "originalId": "61370d8a7a804c00387f8239",
        "publishedAt": 1636494301788,
        "publishedBy": "anders@visikon.com",
        "version": 8
       },
       {
        "__v": 0,
        "_id": {
         "$oid": "618aec7a6a1977003a9c0dd5"
        },
        "_type": "PublishedContent",
        "approved": true,
        "blobName": "published/mitforlob/20211109214738719_5697419317_61370d8a7a804c00387f8239.json",
        "disabled": false,
        "namespace": "mitforlob",
        "originalId": "61370d8a7a804c00387f8239",
        "publishedAt": 1636494458826,
        "publishedBy": "anders@visikon.com",
        "version": 9
       },
       {
        "__v": 0,
        "_id": {
         "$oid": "618aee4e6a1977003a9c0dd6"
        },
        "_type": "PublishedContent",
        "approved": true,
        "blobName": "published/mitforlob/20211109215526803_2703377664_61370d8a7a804c00387f8239.json",
        "disabled": false,
        "namespace": "mitforlob",
        "originalId": "61370d8a7a804c00387f8239",
        "publishedAt": 1636494926895,
        "publishedBy": "anders@visikon.com",
        "version": 10
       },
       {
        "__v": 0,
        "_id": {
         "$oid": "618aefb96a1977003a9c0dd8"
        },
        "_type": "PublishedContent",
        "approved": true,
        "blobName": "published/mitforlob/20211109220129169_7359805137_61370d8a7a804c00387f8239.json",
        "disabled": false,
        "namespace": "mitforlob",
        "originalId": "61370d8a7a804c00387f8239",
        "publishedAt": 1636495289299,
        "publishedBy": "anders@visikon.com",
        "version": 11
       },
       {
        "__v": 0,
        "_id": {
         "$oid": "618af0c56a1977003a9c0dd9"
        },
        "_type": "PublishedContent",
        "approved": true,
        "blobName": "published/mitforlob/20211109220556970_1614806117_61370d8a7a804c00387f8239.json",
        "disabled": false,
        "namespace": "mitforlob",
        "originalId": "61370d8a7a804c00387f8239",
        "publishedAt": 1636495557061,
        "publishedBy": "anders@visikon.com",
        "version": 12
       },
       {
        "__v": 0,
        "_id": {
         "$oid": "618b5f9a6a1977003a9c0de4"
        },
        "_type": "PublishedContent",
        "approved": true,
        "blobName": "published/mitforlob/20211110055850242_1362365883_61370d8a7a804c00387f8239.json",
        "disabled": true,
        "namespace": "mitforlob",
        "originalId": "61370d8a7a804c00387f8239",
        "publishedAt": 1636523930466,
        "publishedBy": "mette@visikon.com",
        "version": 13
       },
       {
        "__v": 0,
        "_id": {
         "$oid": "618b663a6a1977003a9c0de5"
        },
        "_type": "PublishedContent",
        "approved": true,
        "blobName": "published/mitforlob/20211110062706715_8430630905_61370d8a7a804c00387f8239.json",
        "disabled": false,
        "namespace": "mitforlob",
        "originalId": "61370d8a7a804c00387f8239",
        "publishedAt": 1636525626849,
        "publishedBy": "sameer@visikon.com",
        "version": 14
       },
       {
        "__v": 0,
        "_id": {
         "$oid": "618b67a26a1977003a9c0de6"
        },
        "_type": "PublishedContent",
        "approved": true,
        "blobName": "published/mitforlob/20211110063306821_2570447095_61370d8a7a804c00387f8239.json",
        "disabled": false,
        "namespace": "mitforlob",
        "originalId": "61370d8a7a804c00387f8239",
        "publishedAt": 1636525986959,
        "publishedBy": "sameer@visikon.com",
        "version": 15
       },
       {
        "__v": 0,
        "_id": {
         "$oid": "618b6a236a1977003a9c0de7"
        },
        "_type": "PublishedContent",
        "approved": true,
        "blobName": "published/mitforlob/20211110064347418_6799027081_61370d8a7a804c00387f8239.json",
        "disabled": false,
        "namespace": "mitforlob",
        "originalId": "61370d8a7a804c00387f8239",
        "publishedAt": 1636526627558,
        "publishedBy": "sameer@visikon.com",
        "version": 16
       },
       {
        "__v": 0,
        "_id": {
         "$oid": "618b6e8a6a1977003a9c0de8"
        },
        "_type": "PublishedContent",
        "approved": true,
        "blobName": "published/mitforlob/20211110070234572_9184516397_61370d8a7a804c00387f8239.json",
        "disabled": false,
        "namespace": "mitforlob",
        "originalId": "61370d8a7a804c00387f8239",
        "publishedAt": 1636527754728,
        "publishedBy": "sameer@visikon.com",
        "version": 17
       },
       {
        "__v": 0,
        "_id": {
         "$oid": "618b7c616a1977003a9c0dfb"
        },
        "_type": "PublishedContent",
        "approved": true,
        "blobName": "published/mitforlob/20211110080137543_3083292668_61370d8a7a804c00387f8239.json",
        "disabled": false,
        "namespace": "mitforlob",
        "originalId": "61370d8a7a804c00387f8239",
        "publishedAt": 1636531297645,
        "publishedBy": "sameer@visikon.com",
        "version": 18
       },
       {
        "__v": 0,
        "_id": {
         "$oid": "618b858f6a1977003a9c0e02"
        },
        "_type": "PublishedContent",
        "approved": true,
        "blobName": "published/mitforlob/20211110084047402_3051530992_6099331237745000357bb695.json",
        "disabled": false,
        "namespace": "mitforlob",
        "originalId": "6099331237745000357bb695",
        "publishedAt": 1636533647780,
        "publishedBy": "sameer@visikon.com",
        "version": 1
       },
       {
        "__v": 0,
        "_id": {
         "$oid": "618b89266a1977003a9c0e0c"
        },
        "_type": "PublishedContent",
        "approved": true,
        "blobName": "published/mitforlob/20211110085606378_2083198821_618b87e86a1977003a9c0e03.json",
        "disabled": false,
        "namespace": "mitforlob",
        "originalId": "618b87e86a1977003a9c0e03",
        "publishedAt": 1636534566463,
        "publishedBy": "sameer@visikon.com",
        "version": 1
       },
       {
        "__v": 0,
        "_id": {
         "$oid": "618b8af06a1977003a9c0e16"
        },
        "_type": "PublishedContent",
        "approved": true,
        "blobName": "published/mitforlob/20211110090344154_8439113099_618b8a436a1977003a9c0e14.json",
        "disabled": false,
        "namespace": "mitforlob",
        "originalId": "618b8a436a1977003a9c0e14",
        "publishedAt": 1636535024275,
        "publishedBy": "sameer@visikon.com",
        "version": 1
       },
       {
        "__v": 0,
        "_id": {
         "$oid": "618b8c636a1977003a9c0e24"
        },
        "_type": "PublishedContent",
        "approved": true,
        "blobName": "published/mitforlob/20211110090955705_5830336256_618b8a436a1977003a9c0e14.json",
        "disabled": false,
        "namespace": "mitforlob",
        "originalId": "618b8a436a1977003a9c0e14",
        "publishedAt": 1636535395794,
        "publishedBy": "sameer@visikon.com",
        "version": 2
       },
       {
        "__v": 0,
        "_id": {
         "$oid": "618b905a6a1977003a9c0e5b"
        },
        "_type": "PublishedContent",
        "approved": true,
        "blobName": "published/mitforlob/20211110092650471_6227573900_60d88a617c502700399f4b15.json",
        "disabled": false,
        "namespace": "mitforlob",
        "originalId": "60d88a617c502700399f4b15",
        "publishedAt": 1636536410540,
        "publishedBy": "elisabeth@visikon.com",
        "version": 8
       },
       {
        "__v": 0,
        "_id": {
         "$oid": "618b91176a1977003a9c0e5c"
        },
        "_type": "PublishedContent",
        "approved": true,
        "blobName": "published/mitforlob/20211110092959575_5696511765_60d88a407c502700399f4b13.json",
        "disabled": false,
        "namespace": "mitforlob",
        "originalId": "60d88a407c502700399f4b13",
        "publishedAt": 1636536599657,
        "publishedBy": "elisabeth@visikon.com",
        "version": 8
       },
       {
        "__v": 0,
        "_id": {
         "$oid": "618b912d6a1977003a9c0e5d"
        },
        "_type": "PublishedContent",
        "approved": true,
        "blobName": "published/mitforlob/20211110093021758_2509212048_60d8899c7c502700399f4b0f.json",
        "disabled": false,
        "namespace": "mitforlob",
        "originalId": "60d8899c7c502700399f4b0f",
        "publishedAt": 1636536621843,
        "publishedBy": "elisabeth@visikon.com",
        "version": 8
       },
       {
        "__v": 0,
        "_id": {
         "$oid": "618b91466a1977003a9c0e5e"
        },
        "_type": "PublishedContent",
        "approved": true,
        "blobName": "published/mitforlob/20211110093045944_874630709_60d8898f7c502700399f4b0d.json",
        "disabled": false,
        "namespace": "mitforlob",
        "originalId": "60d8898f7c502700399f4b0d",
        "publishedAt": 1636536646019,
        "publishedBy": "elisabeth@visikon.com",
        "version": 12
       },
       {
        "__v": 0,
        "_id": {
         "$oid": "6196017c6a1977003a9c1d2c"
        },
        "_type": "PublishedContent",
        "approved": true,
        "blobName": "published/mitforlob/20211118073212589_1619550443_60ec24a288f48c0039a51cfc.json",
        "disabled": false,
        "namespace": "mitforlob",
        "originalId": "60ec24a288f48c0039a51cfc",
        "publishedAt": 1637220732655,
        "publishedBy": "sameer@visikon.com",
        "version": 8
       },
       {
        "__v": 0,
        "_id": {
         "$oid": "619666f79c75ff003a29fc7d"
        },
        "_type": "PublishedContent",
        "approved": false,
        "blobName": "published/mitforlob/20211118144511627_8596665425_5d604d4137bf44002f4ee620.json",
        "disabled": true,
        "namespace": "mitforlob",
        "originalId": "5d604d4137bf44002f4ee620",
        "publishedAt": 1637246711691,
        "publishedBy": "mette@visikon.com",
        "version": 6
       },
       {
        "__v": 0,
        "_id": {
         "$oid": "61c314e085fd04003a25050a"
        },
        "_type": "PublishedContent",
        "approved": true,
        "blobName": "published/mitforlob/20211222120656630_3442179267_60e5b25188f48c0039a51560.json",
        "disabled": true,
        "namespace": "mitforlob",
        "originalId": "60e5b25188f48c0039a51560",
        "publishedAt": 1640174816742,
        "publishedBy": "mette@visikon.com",
        "version": 11
       },
       {
        "__v": 0,
        "_id": {
         "$oid": "61c314fb85fd04003a25050b"
        },
        "_type": "PublishedContent",
        "approved": true,
        "blobName": "published/mitforlob/20211222120723840_1736801114_60e5ac1488f48c0039a5155a.json",
        "disabled": false,
        "namespace": "mitforlob",
        "originalId": "60e5ac1488f48c0039a5155a",
        "publishedAt": 1640174843914,
        "publishedBy": "mette@visikon.com",
        "version": 11
       },
       {
        "__v": 0,
        "_id": {
         "$oid": "61c3156f85fd04003a25050d"
        },
        "_type": "PublishedContent",
        "approved": true,
        "blobName": "published/mitforlob/20211222120919101_8111313154_60e5ac1488f48c0039a5155a.json",
        "disabled": true,
        "namespace": "mitforlob",
        "originalId": "60e5ac1488f48c0039a5155a",
        "publishedAt": 1640174959151,
        "publishedBy": "mette@visikon.com",
        "version": 12
       },
       {
        "__v": 0,
        "_id": {
         "$oid": "61c3198d85fd04003a250514"
        },
        "_type": "PublishedContent",
        "approved": false,
        "blobName": "published/mitforlob/20211222122653313_2903405309_60e5ac1488f48c0039a5155a.json",
        "disabled": true,
        "namespace": "mitforlob",
        "originalId": "60e5ac1488f48c0039a5155a",
        "publishedAt": 1640176013621,
        "publishedBy": "mette@visikon.com",
        "version": 13
       },
       {
        "__v": 0,
        "_id": {
         "$oid": "61d8512eb1f6ba0036c1297c"
        },
        "_type": "PublishedContent",
        "approved": true,
        "blobName": "published/mitforlob/20220107144149875_167124548_61a483179c75ff003a2a00ce.json",
        "disabled": false,
        "namespace": "mitforlob",
        "originalId": "61a483179c75ff003a2a00ce",
        "publishedAt": 1641566510042,
        "publishedBy": "mette@visikon.com",
        "version": 1
       },
       {
        "__v": 0,
        "_id": {
         "$oid": "61d8525cb1f6ba0036c1297e"
        },
        "_type": "PublishedContent",
        "approved": true,
        "blobName": "published/mitforlob/20220107144652549_6712427479_61d6c3206b3954003a425b1b.json",
        "disabled": false,
        "namespace": "mitforlob",
        "originalId": "61d6c3206b3954003a425b1b",
        "publishedAt": 1641566812678,
        "publishedBy": "mette@visikon.com",
        "version": 1
       },
       {
        "__v": 0,
        "_id": {
         "$oid": "61d85276b1f6ba0036c1297f"
        },
        "_type": "PublishedContent",
        "approved": true,
        "blobName": "published/mitforlob/20220107144718060_5513812621_61d6c3206b3954003a425b1b.json",
        "disabled": false,
        "namespace": "mitforlob",
        "originalId": "61d6c3206b3954003a425b1b",
        "publishedAt": 1641566838159,
        "publishedBy": "mette@visikon.com",
        "version": 2
       },
       {
        "__v": 0,
        "_id": {
         "$oid": "61d852d9b1f6ba0036c12980"
        },
        "_type": "PublishedContent",
        "approved": true,
        "blobName": "published/mitforlob/20220107144857278_9420737501_61d6c3206b3954003a425b1b.json",
        "disabled": false,
        "namespace": "mitforlob",
        "originalId": "61d6c3206b3954003a425b1b",
        "publishedAt": 1641566937338,
        "publishedBy": "mette@visikon.com",
        "version": 3
       },
       {
        "__v": 0,
        "_id": {
         "$oid": "61d85309b1f6ba0036c12981"
        },
        "_type": "PublishedContent",
        "approved": true,
        "blobName": "published/mitforlob/20220107144945543_2297536027_61d6c3206b3954003a425b1b.json",
        "disabled": false,
        "namespace": "mitforlob",
        "originalId": "61d6c3206b3954003a425b1b",
        "publishedAt": 1641566985648,
        "publishedBy": "mette@visikon.com",
        "version": 4
       },
       {
        "__v": 0,
        "_id": {
         "$oid": "61d8542db1f6ba0036c12986"
        },
        "_type": "PublishedContent",
        "approved": true,
        "blobName": "published/mitforlob/20220107145437796_8786317480_61d6c3206b3954003a425b1b.json",
        "disabled": false,
        "namespace": "mitforlob",
        "originalId": "61d6c3206b3954003a425b1b",
        "publishedAt": 1641567277971,
        "publishedBy": "mette@visikon.com",
        "version": 5
       },
       {
        "__v": 0,
        "_id": {
         "$oid": "61d8546bb1f6ba0036c12987"
        },
        "_type": "PublishedContent",
        "approved": true,
        "blobName": "published/mitforlob/20220107145539726_8619709798_61d6c3206b3954003a425b1b.json",
        "disabled": false,
        "namespace": "mitforlob",
        "originalId": "61d6c3206b3954003a425b1b",
        "publishedAt": 1641567339787,
        "publishedBy": "mette@visikon.com",
        "version": 6
       },
       {
        "__v": 0,
        "_id": {
         "$oid": "61d854c9b1f6ba0036c12988"
        },
        "_type": "PublishedContent",
        "approved": true,
        "blobName": "published/mitforlob/20220107145712978_215963202_61a483339c75ff003a2a00d0.json",
        "disabled": false,
        "namespace": "mitforlob",
        "originalId": "61a483339c75ff003a2a00d0",
        "publishedAt": 1641567433040,
        "publishedBy": "mette@visikon.com",
        "version": 9
       },
       {
        "__v": 0,
        "_id": {
         "$oid": "61e15f82b1fd53003a31f5a3"
        },
        "_type": "PublishedContent",
        "approved": true,
        "blobName": "published/mitforlob/20220114113322340_4224402634_609930f237745000357bb68f.json",
        "disabled": false,
        "namespace": "mitforlob",
        "originalId": "609930f237745000357bb68f",
        "publishedAt": 1642160002412,
        "publishedBy": "mette@visikon.com",
        "version": 21
       },
       {
        "__v": 0,
        "_id": {
         "$oid": "61fd2b84b1fd53003a321ce2"
        },
        "_type": "PublishedContent",
        "approved": false,
        "blobName": "published/mitforlob/20220204133459977_3479642243_60911d208561e50039bc0b8b.json",
        "disabled": true,
        "namespace": "mitforlob",
        "originalId": "60911d208561e50039bc0b8b",
        "publishedAt": 1643981700048,
        "publishedBy": "sameer",
        "version": 6
       },
       {
        "__v": 0,
        "_id": {
         "$oid": "620d0089b57e94003622ace4"
        },
        "_type": "PublishedContent",
        "approved": false,
        "blobName": "published/mitforlob/20220216134753249_2996481187_61ae13319c75ff003a2a0589.json",
        "disabled": true,
        "namespace": "mitforlob",
        "originalId": "61ae13319c75ff003a2a0589",
        "publishedAt": 1645019273300,
        "publishedBy": "alexandra@visikon.com",
        "version": 12
       },
       {
        "__v": 0,
        "_id": {
         "$oid": "6216416ab57e94003622cd6a"
        },
        "_type": "PublishedContent",
        "approved": true,
        "blobName": "published/mitforlob/20220223141506043_8459629116_5e1b8cbb8cf40c004e7d0b8b.json",
        "disabled": false,
        "namespace": "mitforlob",
        "originalId": "5e1b8cbb8cf40c004e7d0b8b",
        "publishedAt": 1645625706129,
        "publishedBy": "alexandra@visikon.com",
        "version": 8
       },
       {
        "__v": 0,
        "_id": {
         "$oid": "621642d6b57e94003622cd6b"
        },
        "_type": "PublishedContent",
        "approved": true,
        "blobName": "published/mitforlob/20220223142110016_4764996782_5e1b8c908cf40c004e7d0b89.json",
        "disabled": false,
        "namespace": "mitforlob",
        "originalId": "5e1b8c908cf40c004e7d0b89",
        "publishedAt": 1645626070070,
        "publishedBy": "alexandra@visikon.com",
        "version": 14
       },
       {
        "__v": 0,
        "_id": {
         "$oid": "621643b8b57e94003622cd6c"
        },
        "_type": "PublishedContent",
        "approved": true,
        "blobName": "published/mitforlob/20220223142456493_8026748458_5de8e137464d3f004e208a8d.json",
        "disabled": false,
        "namespace": "mitforlob",
        "originalId": "5de8e137464d3f004e208a8d",
        "publishedAt": 1645626296547,
        "publishedBy": "alexandra@visikon.com",
        "version": 8
       },
       {
        "__v": 0,
        "_id": {
         "$oid": "6227510aa3a81e0035819262"
        },
        "_type": "PublishedContent",
        "approved": false,
        "blobName": "published/mitforlob/20220308125018340_4569879879_61164e71c35f1700351b7e74.json",
        "disabled": true,
        "namespace": "mitforlob",
        "originalId": "61164e71c35f1700351b7e74",
        "publishedAt": 1646743818419,
        "publishedBy": "alexandra@visikon.com",
        "version": 21
       },
       {
        "__v": 0,
        "_id": {
         "$oid": "62275147a3a81e0035819264"
        },
        "_type": "PublishedContent",
        "approved": false,
        "blobName": "published/mitforlob/20220308125119137_1104191253_61164e71c35f1700351b7e74.json",
        "disabled": true,
        "namespace": "mitforlob",
        "originalId": "61164e71c35f1700351b7e74",
        "publishedAt": 1646743879209,
        "publishedBy": "alexandra@visikon.com",
        "version": 22
       },
       {
        "__v": 0,
        "_id": {
         "$oid": "62275898a3a81e003581926c"
        },
        "_type": "PublishedContent",
        "approved": false,
        "blobName": "published/mitforlob/20220308132232193_6117811864_61164e71c35f1700351b7e74.json",
        "disabled": true,
        "namespace": "mitforlob",
        "originalId": "61164e71c35f1700351b7e74",
        "publishedAt": 1646745752377,
        "publishedBy": "alexandra@visikon.com",
        "version": 25
       },
       {
        "__v": 0,
        "_id": {
         "$oid": "622758d1a3a81e003581926e"
        },
        "_type": "PublishedContent",
        "approved": false,
        "blobName": "published/mitforlob/20220308132329296_3079390395_61164e71c35f1700351b7e74.json",
        "disabled": true,
        "namespace": "mitforlob",
        "originalId": "61164e71c35f1700351b7e74",
        "publishedAt": 1646745809414,
        "publishedBy": "alexandra@visikon.com",
        "version": 26
       },
       {
        "__v": 0,
        "_id": {
         "$oid": "622756b9a3a81e0035819269"
        },
        "_type": "PublishedContent",
        "approved": false,
        "blobName": "published/mitforlob/20220308131433697_7111347251_61164e71c35f1700351b7e74.json",
        "disabled": true,
        "namespace": "mitforlob",
        "originalId": "61164e71c35f1700351b7e74",
        "publishedAt": 1646745273805,
        "publishedBy": "alexandra@visikon.com",
        "version": 24
       },
       {
        "__v": 0,
        "_id": {
         "$oid": "622759b1a3a81e0035819270"
        },
        "_type": "PublishedContent",
        "approved": false,
        "blobName": "published/mitforlob/20220308132713017_7339876283_61164e71c35f1700351b7e74.json",
        "disabled": true,
        "namespace": "mitforlob",
        "originalId": "61164e71c35f1700351b7e74",
        "publishedAt": 1646746033126,
        "publishedBy": "alexandra@visikon.com",
        "version": 27
       },
       {
        "__v": 0,
        "_id": {
         "$oid": "62275a11a3a81e0035819272"
        },
        "_type": "PublishedContent",
        "approved": false,
        "blobName": "published/mitforlob/20220308132849464_9938814490_61164e71c35f1700351b7e74.json",
        "disabled": true,
        "namespace": "mitforlob",
        "originalId": "61164e71c35f1700351b7e74",
        "publishedAt": 1646746129585,
        "publishedBy": "alexandra@visikon.com",
        "version": 28
       },
       {
        "__v": 0,
        "_id": {
         "$oid": "62275c1fa3a81e0035819274"
        },
        "_type": "PublishedContent",
        "approved": false,
        "blobName": "published/mitforlob/20220308133735064_8788993320_61164e71c35f1700351b7e74.json",
        "disabled": true,
        "namespace": "mitforlob",
        "originalId": "61164e71c35f1700351b7e74",
        "publishedAt": 1646746655187,
        "publishedBy": "alexandra@visikon.com",
        "version": 29
       },
       {
        "__v": 0,
        "_id": {
         "$oid": "62275cc8a3a81e0035819278"
        },
        "_type": "PublishedContent",
        "approved": false,
        "blobName": "published/mitforlob/20220308134024379_1471134582_61164e71c35f1700351b7e74.json",
        "disabled": true,
        "namespace": "mitforlob",
        "originalId": "61164e71c35f1700351b7e74",
        "publishedAt": 1646746824501,
        "publishedBy": "alexandra@visikon.com",
        "version": 31
       },
       {
        "__v": 0,
        "_id": {
         "$oid": "62275d23a3a81e003581927a"
        },
        "_type": "PublishedContent",
        "approved": false,
        "blobName": "published/mitforlob/20220308134155517_6167821904_61164e71c35f1700351b7e74.json",
        "disabled": true,
        "namespace": "mitforlob",
        "originalId": "61164e71c35f1700351b7e74",
        "publishedAt": 1646746915639,
        "publishedBy": "alexandra@visikon.com",
        "version": 32
       },
       {
        "__v": 0,
        "_id": {
         "$oid": "62275d91a3a81e003581927c"
        },
        "_type": "PublishedContent",
        "approved": false,
        "blobName": "published/mitforlob/20220308134345443_4895161338_61164e71c35f1700351b7e74.json",
        "disabled": true,
        "namespace": "mitforlob",
        "originalId": "61164e71c35f1700351b7e74",
        "publishedAt": 1646747025565,
        "publishedBy": "alexandra@visikon.com",
        "version": 33
       },
       {
        "__v": 0,
        "_id": {
         "$oid": "62275df4a3a81e003581927e"
        },
        "_type": "PublishedContent",
        "approved": false,
        "blobName": "published/mitforlob/20220308134523970_2505148365_61164e71c35f1700351b7e74.json",
        "disabled": true,
        "namespace": "mitforlob",
        "originalId": "61164e71c35f1700351b7e74",
        "publishedAt": 1646747124101,
        "publishedBy": "alexandra@visikon.com",
        "version": 34
       },
       {
        "__v": 0,
        "_id": {
         "$oid": "62275e42a3a81e0035819280"
        },
        "_type": "PublishedContent",
        "approved": true,
        "blobName": "published/mitforlob/20220308134642684_3031426367_61164e71c35f1700351b7e74.json",
        "disabled": false,
        "namespace": "mitforlob",
        "originalId": "61164e71c35f1700351b7e74",
        "publishedAt": 1646747202746,
        "publishedBy": "alexandra@visikon.com",
        "version": 35
       },
       {
        "__v": 0,
        "_id": {
         "$oid": "624157ef2153a300350697ed"
        },
        "_type": "PublishedContent",
        "approved": true,
        "blobName": "published/mitforlob/20220328063839139_7521635763_601d72297470e100390f03e9.json",
        "disabled": false,
        "namespace": "mitforlob",
        "originalId": "601d72297470e100390f03e9",
        "publishedAt": 1648449519293,
        "publishedBy": "mette@visikon.com",
        "version": 3
       },
       {
        "__v": 0,
        "_id": {
         "$oid": "6255954b3ed8ac00390fe5cc"
        },
        "_type": "PublishedContent",
        "approved": true,
        "blobName": "published/mitforlob/20220412150547784_8167799475_5fc0c8e6dec8ed003942b1c2.json",
        "disabled": false,
        "namespace": "mitforlob",
        "originalId": "5fc0c8e6dec8ed003942b1c2",
        "publishedAt": 1649775947880,
        "publishedBy": "mette@visikon.com",
        "version": 1
       },
       {
        "__v": 0,
        "_id": {
         "$oid": "62669f99892f2f0039e0afa0"
        },
        "_type": "PublishedContent",
        "approved": false,
        "blobName": "published/mitforlob/20220425131817881_6183755954_6225bbfda3a81e0035818ee8.json",
        "disabled": true,
        "namespace": "mitforlob",
        "originalId": "6225bbfda3a81e0035818ee8",
        "publishedAt": 1650892697982,
        "publishedBy": "marie@visikon.com",
        "version": 2
       },
       {
        "__v": 0,
        "_id": {
         "$oid": "6266a37d892f2f0039e0afa5"
        },
        "_type": "PublishedContent",
        "approved": false,
        "blobName": "published/mitforlob/20220425133453196_3795386098_5e1c42280a54b800507e232a.json",
        "disabled": false,
        "namespace": "mitforlob",
        "originalId": "5e1c42280a54b800507e232a",
        "publishedAt": 1650893693272,
        "publishedBy": "marie@visikon.com",
        "version": 6
       },
       {
        "__v": 0,
        "_id": {
         "$oid": "6266b0f6892f2f0039e0afa8"
        },
        "_type": "PublishedContent",
        "approved": false,
        "blobName": "published/mitforlob/20220425143222560_2428839593_62021cbc8f79da003a3e4160.json",
        "disabled": true,
        "namespace": "mitforlob",
        "originalId": "62021cbc8f79da003a3e4160",
        "publishedAt": 1650897142717,
        "publishedBy": "marie@visikon.com",
        "version": 8
       },
       {
        "__v": 0,
        "_id": {
         "$oid": "6266b166892f2f0039e0afaa"
        },
        "_type": "PublishedContent",
        "approved": false,
        "blobName": "published/mitforlob/20220425143414190_4701960104_62021c698f79da003a3e415e.json",
        "disabled": true,
        "namespace": "mitforlob",
        "originalId": "62021c698f79da003a3e415e",
        "publishedAt": 1650897254264,
        "publishedBy": "marie@visikon.com",
        "version": 8
       },
       {
        "__v": 0,
        "_id": {
         "$oid": "6266b19d892f2f0039e0afab"
        },
        "_type": "PublishedContent",
        "approved": false,
        "blobName": "published/mitforlob/20220425143509848_4494629361_62021c118f79da003a3e415c.json",
        "disabled": true,
        "namespace": "mitforlob",
        "originalId": "62021c118f79da003a3e415c",
        "publishedAt": 1650897309938,
        "publishedBy": "marie@visikon.com",
        "version": 5
       },
       {
        "__v": 0,
        "_id": {
         "$oid": "6266b1c2892f2f0039e0afac"
        },
        "_type": "PublishedContent",
        "approved": false,
        "blobName": "published/mitforlob/20220425143546745_5041373209_62021a368f79da003a3e415a.json",
        "disabled": true,
        "namespace": "mitforlob",
        "originalId": "62021a368f79da003a3e415a",
        "publishedAt": 1650897346802,
        "publishedBy": "marie@visikon.com",
        "version": 7
       },
       {
        "__v": 0,
        "_id": {
         "$oid": "6266b1ee892f2f0039e0afad"
        },
        "_type": "PublishedContent",
        "approved": false,
        "blobName": "published/mitforlob/20220425143630703_1779612629_616fb022145521003944227d.json",
        "disabled": true,
        "namespace": "mitforlob",
        "originalId": "616fb022145521003944227d",
        "publishedAt": 1650897390797,
        "publishedBy": "marie@visikon.com",
        "version": 12
       },
       {
        "__v": 0,
        "_id": {
         "$oid": "6267a711892f2f0039e0b029"
        },
        "_type": "PublishedContent",
        "approved": false,
        "blobName": "published/mitforlob/20220426080225704_7604158610_6225bbfda3a81e0035818ee8.json",
        "disabled": false,
        "namespace": "mitforlob",
        "originalId": "6225bbfda3a81e0035818ee8",
        "publishedAt": 1650960145826,
        "publishedBy": "marie@visikon.com",
        "version": 3
       },
       {
        "__v": 0,
        "_id": {
         "$oid": "626fc3c7f8495700357e9559"
        },
        "_type": "PublishedContent",
        "approved": false,
        "blobName": "published/mitforlob/20220502114303333_9097071352_62021cff8f79da003a3e4162.json",
        "disabled": true,
        "namespace": "mitforlob",
        "originalId": "62021cff8f79da003a3e4162",
        "publishedAt": 1651491783412,
        "publishedBy": "marie@visikon.com",
        "version": 7
       },
       {
        "__v": 0,
        "_id": {
         "$oid": "626fc3f3f8495700357e955b"
        },
        "_type": "PublishedContent",
        "approved": false,
        "blobName": "published/mitforlob/20220502114347137_3375122024_62021c118f79da003a3e415c.json",
        "disabled": true,
        "namespace": "mitforlob",
        "originalId": "62021c118f79da003a3e415c",
        "publishedAt": 1651491827192,
        "publishedBy": "marie@visikon.com",
        "version": 6
       },
       {
        "__v": 0,
        "_id": {
         "$oid": "6274d389f8495700357e98ce"
        },
        "_type": "PublishedContent",
        "approved": false,
        "blobName": "published/mitforlob/20220506075137670_3315505507_5de8cd2a464d3f004e208a6e.json",
        "disabled": true,
        "namespace": "mitforlob",
        "originalId": "5de8cd2a464d3f004e208a6e",
        "publishedAt": 1651823497726,
        "publishedBy": "marie@visikon.com",
        "version": 7
       },
       {
        "__v": 0,
        "_id": {
         "$oid": "62a810f7d0216e0e841f4683"
        },
        "_type": "PublishedContent",
        "approved": false,
        "blobName": "published/mitforlob/20220614043919105_2235815040_62a5adff402a62f95fee4999.json",
        "disabled": false,
        "namespace": "mitforlob",
        "originalId": "62a5adff402a62f95fee4999",
        "publishedAt": 1655181559721,
        "publishedBy": "brian@visikon.com",
        "version": 1
       },
       {
        "__v": 0,
        "_id": {
         "$oid": "62a81805d0216e0a451f46ef"
        },
        "_type": "PublishedContent",
        "approved": false,
        "blobName": "published/mitforlob/20220614050925423_7919749415_62a5adff402a62f95fee4999.json",
        "disabled": false,
        "namespace": "mitforlob",
        "originalId": "62a5adff402a62f95fee4999",
        "publishedAt": 1655183365465,
        "publishedBy": "brian@visikon.com",
        "version": 2
       },
       {
        "__v": 0,
        "_id": {
         "$oid": "62a818c0d0216e47081f47be"
        },
        "_type": "PublishedContent",
        "approved": false,
        "blobName": "published/mitforlob/20220614051231829_4247434925_62a5adff402a62f95fee4999.json",
        "disabled": false,
        "namespace": "mitforlob",
        "originalId": "62a5adff402a62f95fee4999",
        "publishedAt": 1655183552422,
        "publishedBy": "brian@visikon.com",
        "version": 3
       },
       {
        "__v": 0,
        "_id": {
         "$oid": "62a82b59d0216e6ae61f4975"
        },
        "_type": "PublishedContent",
        "approved": false,
        "blobName": "published/mitforlob/20220614063152623_21539036_62a5adff402a62f95fee4999.json",
        "disabled": false,
        "namespace": "mitforlob",
        "originalId": "62a5adff402a62f95fee4999",
        "publishedAt": 1655188313230,
        "publishedBy": "brian@visikon.com",
        "version": 4
       },
       {
        "__v": 0,
        "_id": {
         "$oid": "62a848e06553940a2ec5791b"
        },
        "_type": "PublishedContent",
        "approved": false,
        "blobName": "published/mitforlob/20220614083751958_201625125_62a5adff402a62f95fee4999.json",
        "disabled": false,
        "namespace": "mitforlob",
        "originalId": "62a5adff402a62f95fee4999",
        "publishedAt": 1655195872741,
        "publishedBy": "brian@visikon.com",
        "version": 5
       },
       {
        "__v": 0,
        "_id": {
         "$oid": "62a84f42655394177ec57ae3"
        },
        "_type": "PublishedContent",
        "approved": false,
        "blobName": "published/mitforlob/20220614090505970_2546856383_62a5adff402a62f95fee4999.json",
        "disabled": false,
        "namespace": "mitforlob",
        "originalId": "62a5adff402a62f95fee4999",
        "publishedAt": 1655197506846,
        "publishedBy": "brian@visikon.com",
        "version": 6
       },
       {
        "__v": 0,
        "_id": {
         "$oid": "62a850f76553940e0ec57c4a"
        },
        "_type": "PublishedContent",
        "approved": false,
        "blobName": "published/mitforlob/20220614091222160_1011335126_62a5adff402a62f95fee4999.json",
        "disabled": false,
        "namespace": "mitforlob",
        "originalId": "62a5adff402a62f95fee4999",
        "publishedAt": 1655197943152,
        "publishedBy": "brian@visikon.com",
        "version": 7
       },
       {
        "__v": 0,
        "_id": {
         "$oid": "62a8518e655394b18ec57ccf"
        },
        "_type": "PublishedContent",
        "approved": false,
        "blobName": "published/mitforlob/20220614091454030_6936233834_62a5adff402a62f95fee4999.json",
        "disabled": false,
        "namespace": "mitforlob",
        "originalId": "62a5adff402a62f95fee4999",
        "publishedAt": 1655198094622,
        "publishedBy": "brian@visikon.com",
        "version": 8
       },
       {
        "__v": 0,
        "_id": {
         "$oid": "62a875c265539497bec58358"
        },
        "_type": "PublishedContent",
        "approved": false,
        "blobName": "published/mitforlob/20220614114921343_7372860989_62a870506553943d33c58243.json",
        "disabled": false,
        "namespace": "mitforlob",
        "originalId": "62a870506553943d33c58243",
        "publishedAt": 1655207362331,
        "publishedBy": "brian@visikon.com",
        "version": 1
       },
       {
        "__v": 0,
        "_id": {
         "$oid": "62a879576553941fa0c58715"
        },
        "_type": "PublishedContent",
        "approved": false,
        "blobName": "published/mitforlob/20220614120438328_2567022379_62a870506553943d33c58243.json",
        "disabled": false,
        "namespace": "mitforlob",
        "originalId": "62a870506553943d33c58243",
        "publishedAt": 1655208279240,
        "publishedBy": "brian@visikon.com",
        "version": 2
       },
       {
        "__v": 0,
        "_id": {
         "$oid": "62ac5fdb831a58c1cc2542bd"
        },
        "_type": "PublishedContent",
        "approved": true,
        "blobName": "published/mitforlob/20220617110458787_8549532484_626a654a892f2f0039e0b697.json",
        "disabled": false,
        "namespace": "mitforlob",
        "originalId": "626a654a892f2f0039e0b697",
        "publishedAt": 1655463899592,
        "publishedBy": "agris@visikon.com",
        "version": 10
       },
       {
        "__v": 0,
        "_id": {
         "$oid": "62b03d56831a586abc254641"
        },
        "_type": "PublishedContent",
        "approved": false,
        "blobName": "published/mitforlob/20220620092645666_9260778849_62a870506553943d33c58243.json",
        "disabled": false,
        "namespace": "mitforlob",
        "originalId": "62a870506553943d33c58243",
        "publishedAt": 1655717206574,
        "publishedBy": "marcus@visikon.com",
        "version": 3
       },
       {
        "__v": 0,
        "_id": {
         "$oid": "62b03fdc831a5861da25474e"
        },
        "_type": "PublishedContent",
        "approved": true,
        "blobName": "published/mitforlob/20220620093731380_2621269618_62b03d92831a58de7a254678.json",
        "disabled": false,
        "namespace": "mitforlob",
        "originalId": "62b03d92831a58de7a254678",
        "publishedAt": 1655717852064,
        "publishedBy": "marcus@visikon.com",
        "version": 1
       },
       {
        "__v": 0,
        "_id": {
         "$oid": "62b03fe5831a58068d25476c"
        },
        "_type": "PublishedContent",
        "approved": false,
        "blobName": "published/mitforlob/20220620093741589_8751350079_62b03d92831a58de7a254678.json",
        "disabled": true,
        "namespace": "mitforlob",
        "originalId": "62b03d92831a58de7a254678",
        "publishedAt": 1655717861856,
        "publishedBy": "marcus@visikon.com",
        "version": 2
       },
       {
        "__v": 0,
        "_id": {
         "$oid": "62b45de77d8e6f4416ac41ab"
        },
        "_type": "PublishedContent",
        "approved": false,
        "blobName": "published/mitforlob/20220623123447711_7803489129_62b03d92831a58de7a254678.json",
        "disabled": false,
        "namespace": "mitforlob",
        "originalId": "62b03d92831a58de7a254678",
        "publishedAt": 1655987687928,
        "publishedBy": "marcus@visikon.com",
        "version": 3
       },
       {
        "__v": 0,
        "_id": {
         "$oid": "62b45df27d8e6fe04bac41c7"
        },
        "_type": "PublishedContent",
        "approved": false,
        "blobName": "published/mitforlob/20220623123457384_1316861929_62b03d92831a58de7a254678.json",
        "disabled": false,
        "namespace": "mitforlob",
        "originalId": "62b03d92831a58de7a254678",
        "publishedAt": 1655987698100,
        "publishedBy": "marcus@visikon.com",
        "version": 4
       },
       {
        "__v": 0,
        "_id": {
         "$oid": "62da57dff40e99820f348376"
        },
        "_type": "PublishedContent",
        "approved": true,
        "blobName": "published/mitforlob/20220722075510983_9012926891_62da577bf40e996bcc348321.json",
        "disabled": false,
        "namespace": "mitforlob",
        "originalId": "62da577bf40e996bcc348321",
        "publishedAt": 1658476511875,
        "publishedBy": "brian@visikon.com",
        "version": 1
       },
       {
        "__v": 0,
        "_id": {
         "$oid": "62da85d43208221ee5c4340f"
        },
        "_type": "PublishedContent",
        "approved": true,
        "blobName": "published/mitforlob/20220722111115977_566482787_62da577bf40e996bcc348321.json",
        "disabled": false,
        "namespace": "mitforlob",
        "originalId": "62da577bf40e996bcc348321",
        "publishedAt": 1658488276575,
        "publishedBy": "brian@visikon.com",
        "version": 2
       },
       {
        "__v": 0,
        "_id": {
         "$oid": "62da87383208222117c43532"
        },
        "_type": "PublishedContent",
        "approved": true,
        "blobName": "published/mitforlob/20220722111712014_2930262994_62da86e2320822c290c4349f.json",
        "disabled": false,
        "namespace": "mitforlob",
        "originalId": "62da86e2320822c290c4349f",
        "publishedAt": 1658488632633,
        "publishedBy": "brian@visikon.com",
        "version": 1
       },
       {
        "__v": 0,
        "_id": {
         "$oid": "62da887132082284e1c43674"
        },
        "_type": "PublishedContent",
        "approved": true,
        "blobName": "published/mitforlob/20220722112225495_5789079738_62da87ff3208222d73c435e9.json",
        "disabled": false,
        "namespace": "mitforlob",
        "originalId": "62da87ff3208222d73c435e9",
        "publishedAt": 1658488945675,
        "publishedBy": "brian@visikon.com",
        "version": 1
       },
       {
        "__v": 0,
        "_id": {
         "$oid": "62da8c53320822967ec437ce"
        },
        "_type": "PublishedContent",
        "approved": true,
        "blobName": "published/mitforlob/20220722113859877_2446589828_62da8c023208227448c43747.json",
        "disabled": false,
        "namespace": "mitforlob",
        "originalId": "62da8c023208227448c43747",
        "publishedAt": 1658489939983,
        "publishedBy": "brian@visikon.com",
        "version": 1
       },
       {
        "__v": 0,
        "_id": {
         "$oid": "62f35c995d3b1b5b5338c4b0"
        },
        "_type": "PublishedContent",
        "approved": true,
        "blobName": "published/mitforlob/20220810072200356_6632802084_62f35a2a5d3b1b7f8c38c411.json",
        "disabled": false,
        "namespace": "mitforlob",
        "originalId": "62f35a2a5d3b1b7f8c38c411",
        "publishedAt": 1660116121364,
        "publishedBy": "brian@visikon.com",
        "version": 1
       },
       {
        "__v": 0,
        "_id": {
         "$oid": "62f364185d3b1be0d938c774"
        },
        "_type": "PublishedContent",
        "approved": true,
        "blobName": "published/mitforlob/20220810075400358_3005131506_62f3614fa378e3379b1a9a6c.json",
        "disabled": false,
        "namespace": "mitforlob",
        "originalId": "62f3614fa378e3379b1a9a6c",
        "publishedAt": 1660118040574,
        "publishedBy": "mette@visikon.com",
        "version": 1
       },
       {
        "__v": 0,
        "_id": {
         "$oid": "62f3643fa378e32d411a9b95"
        },
        "_type": "PublishedContent",
        "approved": true,
        "blobName": "published/mitforlob/20220810075438275_6840054539_62f363e4a378e3278b1a9b63.json",
        "disabled": false,
        "namespace": "mitforlob",
        "originalId": "62f363e4a378e3278b1a9b63",
        "publishedAt": 1660118079574,
        "publishedBy": "alexandra@visikon.com",
        "version": 1
       },
       {
        "__v": 0,
        "_id": {
         "$oid": "62f37343a378e3803a1a9f90"
        },
        "_type": "PublishedContent",
        "approved": false,
        "blobName": "published/mitforlob/20220810085843371_1148139264_62f363e4a378e3278b1a9b63.json",
        "disabled": false,
        "namespace": "mitforlob",
        "originalId": "62f363e4a378e3278b1a9b63",
        "publishedAt": 1660121923771,
        "publishedBy": "alexandra@visikon.com",
        "version": 2
       },
       {
        "__v": 0,
        "_id": {
         "$oid": "62f37367a378e351ad1a9fd0"
        },
        "_type": "PublishedContent",
        "approved": true,
        "blobName": "published/mitforlob/20220810085919491_6702001681_62f363e4a378e3278b1a9b63.json",
        "disabled": false,
        "namespace": "mitforlob",
        "originalId": "62f363e4a378e3278b1a9b63",
        "publishedAt": 1660121959688,
        "publishedBy": "alexandra@visikon.com",
        "version": 3
       },
       {
        "__v": 0,
        "_id": {
         "$oid": "62f37d265d3b1b81e838cc53"
        },
        "_type": "PublishedContent",
        "approved": false,
        "blobName": "published/mitforlob/20220810094053941_3116840455_62f37cd7a378e338581aa0f5.json",
        "disabled": false,
        "namespace": "mitforlob",
        "originalId": "62f37cd7a378e338581aa0f5",
        "publishedAt": 1660124454757,
        "publishedBy": "shehan@visikon.com",
        "version": 1
       },
       {
        "__v": 0,
        "_id": {
         "$oid": "62f37d47983415d1a4917a64"
        },
        "_type": "PublishedContent",
        "approved": false,
        "blobName": "published/mitforlob/20220810094126537_4170850561_62f37cd7a378e338581aa0f5.json",
        "disabled": false,
        "namespace": "mitforlob",
        "originalId": "62f37cd7a378e338581aa0f5",
        "publishedAt": 1660124487962,
        "publishedBy": "shehan@visikon.com",
        "version": 2
       },
       {
        "__v": 0,
        "_id": {
         "$oid": "62f37f4971b3ad2238a63ba3"
        },
        "_type": "PublishedContent",
        "approved": false,
        "blobName": "published/mitforlob/20220810095001241_7995026467_62f37cd7a378e338581aa0f5.json",
        "disabled": false,
        "namespace": "mitforlob",
        "originalId": "62f37cd7a378e338581aa0f5",
        "publishedAt": 1660125001756,
        "publishedBy": "shehan@visikon.com",
        "version": 3
       },
       {
        "__v": 0,
        "_id": {
         "$oid": "62f37f66a378e354e51aa1e2"
        },
        "_type": "PublishedContent",
        "approved": false,
        "blobName": "published/mitforlob/20220810095028915_8373239600_62f37cd7a378e338581aa0f5.json",
        "disabled": false,
        "namespace": "mitforlob",
        "originalId": "62f37cd7a378e338581aa0f5",
        "publishedAt": 1660125030092,
        "publishedBy": "shehan@visikon.com",
        "version": 4
       },
       {
        "__v": 0,
        "_id": {
         "$oid": "62f37fd95d3b1b2fc138cdda"
        },
        "_type": "PublishedContent",
        "approved": false,
        "blobName": "published/mitforlob/20220810095225222_3909628615_62f37cd7a378e338581aa0f5.json",
        "disabled": false,
        "namespace": "mitforlob",
        "originalId": "62f37cd7a378e338581aa0f5",
        "publishedAt": 1660125145577,
        "publishedBy": "shehan@visikon.com",
        "version": 5
       },
       {
        "__v": 0,
        "_id": {
         "$oid": "62f38046a378e32f0b1aa278"
        },
        "_type": "PublishedContent",
        "approved": true,
        "blobName": "published/mitforlob/20220810095412884_5006747875_62f37cd7a378e338581aa0f5.json",
        "disabled": false,
        "namespace": "mitforlob",
        "originalId": "62f37cd7a378e338581aa0f5",
        "publishedAt": 1660125254080,
        "publishedBy": "shehan@visikon.com",
        "version": 6
       },
       {
        "__v": 0,
        "_id": {
         "$oid": "62f38d08a378e328f41aa2c0"
        },
        "_type": "PublishedContent",
        "approved": true,
        "blobName": "published/mitforlob/20220810104839190_6966943761_62f38cbabd519853f7ed2803.json",
        "disabled": false,
        "namespace": "mitforlob",
        "originalId": "62f38cbabd519853f7ed2803",
        "publishedAt": 1660128520319,
        "publishedBy": "alexandra@visikon.com",
        "version": 1
       },
       {
        "__v": 0,
        "_id": {
         "$oid": "62fe166dc53e0cee335e79c0"
        },
        "_type": "PublishedContent",
        "approved": true,
        "blobName": "published/mitforlob/20220818103732557_8525729366_62da86e2320822c290c4349f.json",
        "disabled": true,
        "namespace": "mitforlob",
        "originalId": "62da86e2320822c290c4349f",
        "publishedAt": 1660819053589,
        "publishedBy": "brian@visikon.com",
        "version": 2
       },
       {
        "__v": 0,
        "_id": {
         "$oid": "62fe9a6bfe8a3c349008d7f5"
        },
        "_type": "PublishedContent",
        "approved": true,
        "blobName": "published/mitforlob/20220818200043480_8938060968_62da86e2320822c290c4349f.json",
        "disabled": false,
        "namespace": "mitforlob",
        "originalId": "62da86e2320822c290c4349f",
        "publishedAt": 1660852843859,
        "publishedBy": "brian@visikon.com",
        "version": 3
       },
       {
        "__v": 0,
        "_id": {
         "$oid": "630e03478bd9c3101728c9ff"
        },
        "_type": "PublishedContent",
        "approved": true,
        "blobName": "published/mitforlob/20220830123206226_2318211389_62da577bf40e996bcc348321.json",
        "disabled": false,
        "namespace": "mitforlob",
        "originalId": "62da577bf40e996bcc348321",
        "publishedAt": 1661862727127,
        "publishedBy": "brian@visikon.com",
        "version": 3
       },
       {
        "__v": 0,
        "_id": {
         "$oid": "630f1a2eb782f891dc31af9b"
        },
        "_type": "PublishedContent",
        "approved": false,
        "blobName": "published\\mitforlob\\20220831082206861_1205437129_630f1a1ab782f891dc31af72.json",
        "disabled": false,
        "namespace": "mitforlob",
        "originalId": "630f1a1ab782f891dc31af72",
        "publishedAt": 1661934126916,
        "publishedBy": "thomas@visikon.com",
        "version": 1
       },
       {
        "__v": 0,
        "_id": {
         "$oid": "630f2214b697fbaaa8836401"
        },
        "_type": "PublishedContent",
        "approved": false,
        "blobName": "published\\mitforlob\\20220831085548063_514454647_630f1a1ab782f891dc31af72.json",
        "disabled": false,
        "namespace": "mitforlob",
        "originalId": "630f1a1ab782f891dc31af72",
        "publishedAt": 1661936148111,
        "publishedBy": "thomas@visikon.com",
        "version": 2
       },
       {
        "__v": 0,
        "_id": {
         "$oid": "630f227fb697fbaaa8836421"
        },
        "_type": "PublishedContent",
        "approved": true,
        "blobName": "published\\mitforlob\\20220831085735463_7372271921_630f1a1ab782f891dc31af72.json",
        "disabled": false,
        "namespace": "mitforlob",
        "originalId": "630f1a1ab782f891dc31af72",
        "publishedAt": 1661936255518,
        "publishedBy": "thomas@visikon.com",
        "version": 3
       },
       {
        "__v": 0,
        "_id": {
         "$oid": "630f42b831f0f99e30232ad3"
        },
        "_type": "PublishedContent",
        "approved": true,
        "blobName": "published\\mitforlob\\20220831111504807_9098069937_630f1a1ab782f891dc31af72.json",
        "disabled": false,
        "namespace": "mitforlob",
        "originalId": "630f1a1ab782f891dc31af72",
        "publishedAt": 1661944504855,
        "publishedBy": "thomas@visikon.com",
        "version": 4
       },
       {
        "__v": 0,
        "_id": {
         "$oid": "630f503331f0f99e30232c66"
        },
        "_type": "PublishedContent",
        "approved": true,
        "blobName": "published\\mitforlob\\20220831121235233_5231358605_630f1a1ab782f891dc31af72.json",
        "disabled": false,
        "namespace": "mitforlob",
        "originalId": "630f1a1ab782f891dc31af72",
        "publishedAt": 1661947955277,
        "publishedBy": "thomas@visikon.com",
        "version": 5
       },
       {
        "__v": 0,
        "_id": {
         "$oid": "630f51a30f605179cfabe9b2"
        },
        "_type": "PublishedContent",
        "approved": true,
        "blobName": "published/mitforlob/20220831121842220_6611389813_630f50991f0e5b5595f39e16.json",
        "disabled": false,
        "namespace": "mitforlob",
        "originalId": "630f50991f0e5b5595f39e16",
        "publishedAt": 1661948323467,
        "publishedBy": "brian@visikon.com",
        "version": 1
       },
       {
        "__v": 0,
        "_id": {
         "$oid": "630f522d8bd9c3e87e28cb20"
        },
        "_type": "PublishedContent",
        "approved": true,
        "blobName": "published/mitforlob/20220831122100927_8510877973_630f50991f0e5b5595f39e16.json",
        "disabled": false,
        "namespace": "mitforlob",
        "originalId": "630f50991f0e5b5595f39e16",
        "publishedAt": 1661948461924,
        "publishedBy": "brian@visikon.com",
        "version": 2
       },
       {
        "__v": 0,
        "_id": {
         "$oid": "630f524d1f0e5b61b9f39e92"
        },
        "_type": "PublishedContent",
        "approved": true,
        "blobName": "published/mitforlob/20220831122131839_4529515763_630f50991f0e5b5595f39e16.json",
        "disabled": false,
        "namespace": "mitforlob",
        "originalId": "630f50991f0e5b5595f39e16",
        "publishedAt": 1661948493255,
        "publishedBy": "brian@visikon.com",
        "version": 3
       },
       {
        "__v": 0,
        "_id": {
         "$oid": "630f56f38bd9c35f5928cb8a"
        },
        "_type": "PublishedContent",
        "approved": true,
        "blobName": "published/mitforlob/20220831124122570_1904608290_630f50991f0e5b5595f39e16.json",
        "disabled": false,
        "namespace": "mitforlob",
        "originalId": "630f50991f0e5b5595f39e16",
        "publishedAt": 1661949683408,
        "publishedBy": "brian@visikon.com",
        "version": 4
       },
       {
        "__v": 0,
        "_id": {
         "$oid": "630f63d28bd9c332aa28ccda"
        },
        "_type": "PublishedContent",
        "approved": true,
        "blobName": "published/mitforlob/20220831133617606_2632344667_630da089056f936f63e3a09b.json",
        "disabled": false,
        "namespace": "mitforlob",
        "originalId": "630da089056f936f63e3a09b",
        "publishedAt": 1661952978426,
        "publishedBy": "brian@visikon.com",
        "version": 1
       },
       {
        "__v": 0,
        "_id": {
         "$oid": "630f63f92df49f180f334bb0"
        },
        "_type": "PublishedContent",
        "approved": false,
        "blobName": "published/mitforlob/20220831133655722_9308500011_630da089056f936f63e3a09b.json",
        "disabled": true,
        "namespace": "mitforlob",
        "originalId": "630da089056f936f63e3a09b",
        "publishedAt": 1661953017053,
        "publishedBy": "brian@visikon.com",
        "version": 2
       },
       {
        "__v": 0,
        "_id": {
         "$oid": "630f6402213dbf7f6fbe71c2"
        },
        "_type": "PublishedContent",
        "approved": true,
        "blobName": "published/mitforlob/20220831133705228_5566868409_630da089056f936f63e3a09b.json",
        "disabled": false,
        "namespace": "mitforlob",
        "originalId": "630da089056f936f63e3a09b",
        "publishedAt": 1661953026155,
        "publishedBy": "brian@visikon.com",
        "version": 3
       },
       {
        "__v": 0,
        "_id": {
         "$oid": "630f69d9a8c6788565f5108c"
        },
        "_type": "PublishedContent",
        "approved": true,
        "blobName": "published/mitforlob/20220831140201231_2145628253_630da089056f936f63e3a09b.json",
        "disabled": false,
        "namespace": "mitforlob",
        "originalId": "630da089056f936f63e3a09b",
        "publishedAt": 1661954521821,
        "publishedBy": "brian@visikon.com",
        "version": 4
       },
       {
        "__v": 0,
        "_id": {
         "$oid": "631047104c0290584f689bbe"
        },
        "_type": "PublishedContent",
        "approved": true,
        "blobName": "published/mitforlob/20220901054551525_2522387382_630da089056f936f63e3a09b.json",
        "disabled": false,
        "namespace": "mitforlob",
        "originalId": "630da089056f936f63e3a09b",
        "publishedAt": 1662011152521,
        "publishedBy": "brian@visikon.com",
        "version": 5
       },
       {
        "__v": 0,
        "_id": {
         "$oid": "631049c05759dd1b4617bf74"
        },
        "_type": "PublishedContent",
        "approved": true,
        "blobName": "published/mitforlob/20220901055719074_4263716920_630da089056f936f63e3a09b.json",
        "disabled": false,
        "namespace": "mitforlob",
        "originalId": "630da089056f936f63e3a09b",
        "publishedAt": 1662011840308,
        "publishedBy": "brian@visikon.com",
        "version": 6
       },
       {
        "__v": 0,
        "_id": {
         "$oid": "63106be331f0f99e30232e85"
        },
        "_type": "PublishedContent",
        "approved": true,
        "blobName": "published\\mitforlob\\20220901082259862_6897031207_630f1a1ab782f891dc31af72.json",
        "disabled": false,
        "namespace": "mitforlob",
        "originalId": "630f1a1ab782f891dc31af72",
        "publishedAt": 1662020579911,
        "publishedBy": "thomas@visikon.com",
        "version": 6
       },
       {
        "__v": 0,
        "_id": {
         "$oid": "6310723f5759dd7cf617c02e"
        },
        "_type": "PublishedContent",
        "approved": true,
        "blobName": "published/mitforlob/20220901085005763_7340197584_630da089056f936f63e3a09b.json",
        "disabled": false,
        "namespace": "mitforlob",
        "originalId": "630da089056f936f63e3a09b",
        "publishedAt": 1662022207083,
        "publishedBy": "brian@visikon.com",
        "version": 7
       },
       {
        "__v": 0,
        "_id": {
         "$oid": "6310a1636ca56b9e98a0d7c2"
        },
        "_type": "PublishedContent",
        "approved": true,
        "blobName": "published\\mitforlob\\20220901121115049_5847475792_630f1a1ab782f891dc31af72.json",
        "disabled": false,
        "namespace": "mitforlob",
        "originalId": "630f1a1ab782f891dc31af72",
        "publishedAt": 1662034275101,
        "publishedBy": "thomas@visikon.com",
        "version": 7
       },
       {
        "__v": 0,
        "_id": {
         "$oid": "6310a2566ca56b9e98a0d84b"
        },
        "_type": "PublishedContent",
        "approved": false,
        "blobName": "published\\mitforlob\\20220901121518112_5413159596_630f1a1ab782f891dc31af72.json",
        "disabled": false,
        "namespace": "mitforlob",
        "originalId": "630f1a1ab782f891dc31af72",
        "publishedAt": 1662034518174,
        "publishedBy": "thomas@visikon.com",
        "version": 8
       },
       {
        "__v": 0,
        "_id": {
         "$oid": "6310a25b6ca56b9e98a0d87d"
        },
        "_type": "PublishedContent",
        "approved": true,
        "blobName": "published\\mitforlob\\20220901121523903_8853221939_630f1a1ab782f891dc31af72.json",
        "disabled": false,
        "namespace": "mitforlob",
        "originalId": "630f1a1ab782f891dc31af72",
        "publishedAt": 1662034523945,
        "publishedBy": "thomas@visikon.com",
        "version": 9
       },
       {
        "__v": 0,
        "_id": {
         "$oid": "6310a7b56ca56b9e98a0d9c5"
        },
        "_type": "PublishedContent",
        "approved": true,
        "blobName": "published\\mitforlob\\20220901123813626_6388855842_630f1a1ab782f891dc31af72.json",
        "disabled": false,
        "namespace": "mitforlob",
        "originalId": "630f1a1ab782f891dc31af72",
        "publishedAt": 1662035893672,
        "publishedBy": "thomas@visikon.com",
        "version": 10
       },
       {
        "__v": 0,
        "_id": {
         "$oid": "63136a2f3f210383bad3c1c3"
        },
        "_type": "PublishedContent",
        "approved": true,
        "blobName": "published/mitforlob/20220903145230424_7583278661_630f1a1ab782f891dc31af72.json",
        "disabled": false,
        "namespace": "mitforlob",
        "originalId": "630f1a1ab782f891dc31af72",
        "publishedAt": 1662216751707,
        "publishedBy": "thomas@visikon.com",
        "version": 11
       },
       {
        "__v": 0,
        "_id": {
         "$oid": "6313ac564bd7acdfef60c11d"
        },
        "_type": "PublishedContent",
        "approved": true,
        "blobName": "published/mitforlob/20220903193445445_9722219275_630da089056f936f63e3a09b.json",
        "disabled": false,
        "namespace": "mitforlob",
        "originalId": "630da089056f936f63e3a09b",
        "publishedAt": 1662233686611,
        "publishedBy": "thomas@visikon.com",
        "version": 8
       },
       {
        "__v": 0,
        "_id": {
         "$oid": "6314693eb930b70dd89e632f"
        },
        "_type": "PublishedContent",
        "approved": true,
        "blobName": "published/mitforlob/20220904090046006_838459372_630f1a1ab782f891dc31af72.json",
        "disabled": false,
        "namespace": "mitforlob",
        "originalId": "630f1a1ab782f891dc31af72",
        "publishedAt": 1662282046355,
        "publishedBy": "thomas@visikon.com",
        "version": 12
       },
       {
        "__v": 0,
        "_id": {
         "$oid": "631477684bd7ac047160c229"
        },
        "_type": "PublishedContent",
        "approved": true,
        "blobName": "published/mitforlob/20220904100111157_5818043667_630f1a1ab782f891dc31af72.json",
        "disabled": false,
        "namespace": "mitforlob",
        "originalId": "630f1a1ab782f891dc31af72",
        "publishedAt": 1662285672460,
        "publishedBy": "thomas@visikon.com",
        "version": 13
       },
       {
        "__v": 0,
        "_id": {
         "$oid": "6315b1284bd7ac00fa60c311"
        },
        "_type": "PublishedContent",
        "approved": true,
        "blobName": "published/mitforlob/20220905081950856_6132514667_630da089056f936f63e3a09b.json",
        "disabled": false,
        "namespace": "mitforlob",
        "originalId": "630da089056f936f63e3a09b",
        "publishedAt": 1662365992290,
        "publishedBy": "agris@visikon.com",
        "version": 9
       },
       {
        "__v": 0,
        "_id": {
         "$oid": "6315b1a2864c989364f3a797"
        },
        "_type": "PublishedContent",
        "approved": true,
        "blobName": "published\\mitforlob\\20220905082153957_5698268161_630da089056f936f63e3a09b.json",
        "disabled": false,
        "namespace": "mitforlob",
        "originalId": "630da089056f936f63e3a09b",
        "publishedAt": 1662366114143,
        "publishedBy": "thomas@visikon.com",
        "version": 10
       },
       {
        "__v": 0,
        "_id": {
         "$oid": "6315b1e7864c989364f3a8b1"
        },
        "_type": "PublishedContent",
        "approved": true,
        "blobName": "published\\mitforlob\\20220905082302927_2133455282_630da089056f936f63e3a09b.json",
        "disabled": false,
        "namespace": "mitforlob",
        "originalId": "630da089056f936f63e3a09b",
        "publishedAt": 1662366183071,
        "publishedBy": "thomas@visikon.com",
        "version": 12
       },
       {
        "__v": 0,
        "_id": {
         "$oid": "63185acdb9aa88aab26b6ca2"
        },
        "_type": "PublishedContent",
        "approved": true,
        "blobName": "published/mitforlob/20220907084812332_8639170904_630da089056f936f63e3a09b.json",
        "disabled": false,
        "namespace": "mitforlob",
        "originalId": "630da089056f936f63e3a09b",
        "publishedAt": 1662540493675,
        "publishedBy": "brian@visikon.com",
        "version": 13
       },
       {
        "__v": 0,
        "_id": {
         "$oid": "63185c458f4132bf20040d82"
        },
        "_type": "PublishedContent",
        "approved": true,
        "blobName": "published/mitforlob/20220907085429131_5551719233_630da089056f936f63e3a09b.json",
        "disabled": false,
        "namespace": "mitforlob",
        "originalId": "630da089056f936f63e3a09b",
        "publishedAt": 1662540869795,
        "publishedBy": "agris@visikon.com",
        "version": 14
       },
       {
        "__v": 0,
        "_id": {
         "$oid": "631b1cc7efb45a563e270d05"
        },
        "_type": "PublishedContent",
        "approved": true,
        "blobName": "published/mitforlob/20220909110022569_9765886122_630da089056f936f63e3a09b.json",
        "disabled": false,
        "namespace": "mitforlob",
        "originalId": "630da089056f936f63e3a09b",
        "publishedAt": 1662721223000,
        "publishedBy": "marie@visikon.com",
        "version": 15
       },
       {
        "__v": 0,
        "_id": {
         "$oid": "631b1dadefb45abe78270e2a"
        },
        "_type": "PublishedContent",
        "approved": true,
        "blobName": "published/mitforlob/20220909110413243_2161343572_630da089056f936f63e3a09b.json",
        "disabled": false,
        "namespace": "mitforlob",
        "originalId": "630da089056f936f63e3a09b",
        "publishedAt": 1662721453361,
        "publishedBy": "brian@visikon.com",
        "version": 16
       },
       {
        "__v": 0,
        "_id": {
         "$oid": "631b1e93efb45a404e270f00"
        },
        "_type": "PublishedContent",
        "approved": true,
        "blobName": "published/mitforlob/20220909110802744_7258195991_630da089056f936f63e3a09b.json",
        "disabled": false,
        "namespace": "mitforlob",
        "originalId": "630da089056f936f63e3a09b",
        "publishedAt": 1662721683221,
        "publishedBy": "brian@visikon.com",
        "version": 17
       },
       {
        "__v": 0,
        "_id": {
         "$oid": "631edcd7efb45a35082712aa"
        },
        "_type": "PublishedContent",
        "approved": true,
        "blobName": "published/mitforlob/20220912071638719_968248133_630da089056f936f63e3a09b.json",
        "disabled": false,
        "namespace": "mitforlob",
        "originalId": "630da089056f936f63e3a09b",
        "publishedAt": 1662966999519,
        "publishedBy": "marie@visikon.com",
        "version": 18
       },
       {
        "__v": 0,
        "_id": {
         "$oid": "631edda8efb45a58c32713c3"
        },
        "_type": "PublishedContent",
        "approved": true,
        "blobName": "published/mitforlob/20220912072007858_8724816730_630da089056f936f63e3a09b.json",
        "disabled": false,
        "namespace": "mitforlob",
        "originalId": "630da089056f936f63e3a09b",
        "publishedAt": 1662967208071,
        "publishedBy": "marie@visikon.com",
        "version": 19
       },
       {
        "__v": 0,
        "_id": {
         "$oid": "631edf07efb45a7863271493"
        },
        "_type": "PublishedContent",
        "approved": true,
        "blobName": "published/mitforlob/20220912072558458_5307982036_630da089056f936f63e3a09b.json",
        "disabled": false,
        "namespace": "mitforlob",
        "originalId": "630da089056f936f63e3a09b",
        "publishedAt": 1662967559059,
        "publishedBy": "marie@visikon.com",
        "version": 20
       },
       {
        "__v": 0,
        "_id": {
         "$oid": "631f112aefb45ac3f3271ec4"
        },
        "_type": "PublishedContent",
        "approved": true,
        "blobName": "published/mitforlob/20220912105953945_1544783502_630da089056f936f63e3a09b.json",
        "disabled": false,
        "namespace": "mitforlob",
        "originalId": "630da089056f936f63e3a09b",
        "publishedAt": 1662980394619,
        "publishedBy": "brian@visikon.com",
        "version": 21
       },
       {
        "__v": 0,
        "_id": {
         "$oid": "632079046011693d2eec0720"
        },
        "_type": "PublishedContent",
        "approved": true,
        "blobName": "published/mitforlob/20220913123516018_9662223746_630f1a1ab782f891dc31af72.json",
        "disabled": false,
        "namespace": "mitforlob",
        "originalId": "630f1a1ab782f891dc31af72",
        "publishedAt": 1663072516579,
        "publishedBy": "alexandra@visikon.com",
        "version": 14
       },
       {
        "__v": 0,
        "_id": {
         "$oid": "6323211624fe4275ef6b12f9"
        },
        "_type": "PublishedContent",
        "approved": true,
        "blobName": "published/mitforlob/20220915125653277_7619226830_6323210c24fe425da46b12d1.json",
        "disabled": false,
        "namespace": "mitforlob",
        "originalId": "6323210c24fe425da46b12d1",
        "publishedAt": 1663246614202,
        "publishedBy": "agris@visikon.com",
        "version": 1
       },
       {
        "__v": 0,
        "_id": {
         "$oid": "632d47429d4bc6487cf0c194"
        },
        "_type": "PublishedContent",
        "approved": true,
        "blobName": "published/mitforlob/20220923054225817_8209338976_632d47219d4bc61884f0c100.json",
        "disabled": false,
        "namespace": "mitforlob",
        "originalId": "632d47219d4bc61884f0c100",
        "publishedAt": 1663911746057,
        "publishedBy": "brian@visikon.com",
        "version": 1
       },
       {
        "__v": 0,
        "_id": {
         "$oid": "632d94759d4bc69307f0c2e3"
        },
        "_type": "PublishedContent",
        "approved": true,
        "blobName": "published/mitforlob/20220923111148956_3890012806_6323210c24fe425da46b12d1.json",
        "disabled": false,
        "namespace": "mitforlob",
        "originalId": "6323210c24fe425da46b12d1",
        "publishedAt": 1663931509211,
        "publishedBy": "agris@visikon.com",
        "version": 2
       },
       {
        "__v": 0,
        "_id": {
         "$oid": "632d94d99d4bc62fcbf0c348"
        },
        "_type": "PublishedContent",
        "approved": false,
        "blobName": "published/mitforlob/20220923111329022_8208505716_6323210c24fe425da46b12d1.json",
        "disabled": true,
        "namespace": "mitforlob",
        "originalId": "6323210c24fe425da46b12d1",
        "publishedAt": 1663931609204,
        "publishedBy": "agris@visikon.com",
        "version": 3
       },
       {
        "__v": 0,
        "_id": {
         "$oid": "632d94e29d4bc6107df0c3a1"
        },
        "_type": "PublishedContent",
        "approved": false,
        "blobName": "published/mitforlob/20220923111338044_6359428142_6323210c24fe425da46b12d1.json",
        "disabled": true,
        "namespace": "mitforlob",
        "originalId": "6323210c24fe425da46b12d1",
        "publishedAt": 1663931618269,
        "publishedBy": "agris@visikon.com",
        "version": 4
       },
       {
        "__v": 0,
        "_id": {
         "$oid": "632d94ef9d4bc64ee3f0c40a"
        },
        "_type": "PublishedContent",
        "approved": false,
        "blobName": "published/mitforlob/20220923111351039_2274948671_6323210c24fe425da46b12d1.json",
        "disabled": true,
        "namespace": "mitforlob",
        "originalId": "6323210c24fe425da46b12d1",
        "publishedAt": 1663931631270,
        "publishedBy": "agris@visikon.com",
        "version": 5
       },
       {
        "__v": 0,
        "_id": {
         "$oid": "632d951b9d4bc61327f0c484"
        },
        "_type": "PublishedContent",
        "approved": false,
        "blobName": "published/mitforlob/20220923111435647_7987158145_6323210c24fe425da46b12d1.json",
        "disabled": false,
        "namespace": "mitforlob",
        "originalId": "6323210c24fe425da46b12d1",
        "publishedAt": 1663931675859,
        "publishedBy": "agris@visikon.com",
        "version": 6
       },
       {
        "__v": 0,
        "_id": {
         "$oid": "632d95329d4bc66abdf0c4e7"
        },
        "_type": "PublishedContent",
        "approved": true,
        "blobName": "published/mitforlob/20220923111457650_8992800180_6323210c24fe425da46b12d1.json",
        "disabled": false,
        "namespace": "mitforlob",
        "originalId": "6323210c24fe425da46b12d1",
        "publishedAt": 1663931698073,
        "publishedBy": "agris@visikon.com",
        "version": 7
       },
       {
        "__v": 0,
        "_id": {
         "$oid": "632d99c99d4bc65953f0c611"
        },
        "_type": "PublishedContent",
        "approved": true,
        "blobName": "published/mitforlob/20220923113433030_7016785033_6323210c24fe425da46b12d1.json",
        "disabled": false,
        "namespace": "mitforlob",
        "originalId": "6323210c24fe425da46b12d1",
        "publishedAt": 1663932873268,
        "publishedBy": "agris@visikon.com",
        "version": 8
       },
       {
        "__v": 0,
        "_id": {
         "$oid": "632d9cad9d4bc69927f0c73f"
        },
        "_type": "PublishedContent",
        "approved": true,
        "blobName": "published/mitforlob/20220923114653567_156258212_632d9bf39d4bc68ed6f0c6c5.json",
        "disabled": false,
        "namespace": "mitforlob",
        "originalId": "632d9bf39d4bc68ed6f0c6c5",
        "publishedAt": 1663933613748,
        "publishedBy": "brian@visikon.com",
        "version": 1
       },
       {
        "__v": 0,
        "_id": {
         "$oid": "632d9d069d4bc61052f0c7b1"
        },
        "_type": "PublishedContent",
        "approved": true,
        "blobName": "published/mitforlob/20220923114822414_4744044204_632d9bf39d4bc68ed6f0c6c5.json",
        "disabled": false,
        "namespace": "mitforlob",
        "originalId": "632d9bf39d4bc68ed6f0c6c5",
        "publishedAt": 1663933702730,
        "publishedBy": "brian@visikon.com",
        "version": 2
       },
       {
        "__v": 0,
        "_id": {
         "$oid": "632db3039d4bc61747f0d757"
        },
        "_type": "PublishedContent",
        "approved": true,
        "blobName": "published/mitforlob/20220923132210955_704437150_632d9bf39d4bc68ed6f0c6c5.json",
        "disabled": false,
        "namespace": "mitforlob",
        "originalId": "632d9bf39d4bc68ed6f0c6c5",
        "publishedAt": 1663939331251,
        "publishedBy": "brian@visikon.com",
        "version": 3
       },
       {
        "__v": 0,
        "_id": {
         "$oid": "632db6ae9d6f648734a503ed"
        },
        "_type": "PublishedContent",
        "approved": true,
        "blobName": "published/mitforlob/20220923133749835_3961818033_632d9bf39d4bc68ed6f0c6c5.json",
        "disabled": false,
        "namespace": "mitforlob",
        "originalId": "632d9bf39d4bc68ed6f0c6c5",
        "publishedAt": 1663940270154,
        "publishedBy": "brian@visikon.com",
        "version": 4
       },
       {
        "__v": 0,
        "_id": {
         "$oid": "6331874f9d4bc60e25f0e1d6"
        },
        "_type": "PublishedContent",
        "approved": true,
        "blobName": "published/mitforlob/20220926110447578_4765370931_6323210c24fe425da46b12d1.json",
        "disabled": false,
        "namespace": "mitforlob",
        "originalId": "6323210c24fe425da46b12d1",
        "publishedAt": 1664190287790,
        "publishedBy": "agris@visikon.com",
        "version": 9
       },
       {
        "__v": 0,
        "_id": {
         "$oid": "6331aef79d4bc6129df0e37d"
        },
        "_type": "PublishedContent",
        "approved": true,
        "blobName": "published/mitforlob/20220926135359596_8164646463_6323210c24fe425da46b12d1.json",
        "disabled": false,
        "namespace": "mitforlob",
        "originalId": "6323210c24fe425da46b12d1",
        "publishedAt": 1664200439833,
        "publishedBy": "agris@visikon.com",
        "version": 10
       },
       {
        "__v": 0,
        "_id": {
         "$oid": "6331af7b9d4bc666e3f0e41f"
        },
        "_type": "PublishedContent",
        "approved": true,
        "blobName": "published/mitforlob/20220926135611896_9184707043_6323210c24fe425da46b12d1.json",
        "disabled": false,
        "namespace": "mitforlob",
        "originalId": "6323210c24fe425da46b12d1",
        "publishedAt": 1664200571946,
        "publishedBy": "agris@visikon.com",
        "version": 11
       },
       {
        "__v": 0,
        "_id": {
         "$oid": "6336d148264eb3e2f513b7f3"
        },
        "_type": "PublishedContent",
        "approved": true,
        "blobName": "published/mitforlob/20220930112143849_9568788029_6336d124264eb3f6f713b7bb.json",
        "disabled": false,
        "namespace": "mitforlob",
        "originalId": "6336d124264eb3f6f713b7bb",
        "publishedAt": 1664536904139,
        "publishedBy": "thomas@visikon.com",
        "version": 1
       },
       {
        "__v": 0,
        "_id": {
         "$oid": "6336d40a264eb3103d13b892"
        },
        "_type": "PublishedContent",
        "approved": true,
        "blobName": "published/mitforlob/20220930113330648_4486462924_631761fedf0dbd321316957d.json",
        "disabled": false,
        "namespace": "mitforlob",
        "originalId": "631761fedf0dbd321316957d",
        "publishedAt": 1664537610942,
        "publishedBy": "brian@visikon.com",
        "version": 1
       },
       {
        "__v": 0,
        "_id": {
         "$oid": "6336d88b264eb3d02313b983"
        },
        "_type": "PublishedContent",
        "approved": true,
        "blobName": "published/mitforlob/20220930115243064_4947626028_630f1a1ab782f891dc31af72.json",
        "disabled": false,
        "namespace": "mitforlob",
        "originalId": "630f1a1ab782f891dc31af72",
        "publishedAt": 1664538763320,
        "publishedBy": "thomas@visikon.com",
        "version": 15
       },
       {
        "__v": 0,
        "_id": {
         "$oid": "63398c0f7521a8246450b188"
        },
        "_type": "PublishedContent",
        "approved": true,
        "blobName": "published/mitforlob/20221002130310920_7049975283_6336d124264eb3f6f713b7bb.json",
        "disabled": false,
        "namespace": "mitforlob",
        "originalId": "6336d124264eb3f6f713b7bb",
        "publishedAt": 1664715791255,
        "publishedBy": "thomas@visikon.com",
        "version": 2
       },
       {
        "__v": 0,
        "_id": {
         "$oid": "633a7c037521a8f5d850b290"
        },
        "_type": "PublishedContent",
        "approved": true,
        "blobName": "published/mitforlob/20221003060659571_445548038_633a7ba97521a8721f50b1ec.json",
        "disabled": false,
        "namespace": "mitforlob",
        "originalId": "633a7ba97521a8721f50b1ec",
        "publishedAt": 1664777219787,
        "publishedBy": "brian@visikon.com",
        "version": 1
       },
       {
        "__v": 0,
        "_id": {
         "$oid": "633a83c1a56247267b714dcc"
        },
        "_type": "PublishedContent",
        "approved": true,
        "blobName": "published/mitforlob/20221003064001455_2836749261_633a78be04c5f1039820b87f.json",
        "disabled": false,
        "namespace": "mitforlob",
        "originalId": "633a78be04c5f1039820b87f",
        "publishedAt": 1664779201929,
        "publishedBy": "brian@visikon.com",
        "version": 1
       },
       {
        "__v": 0,
        "_id": {
         "$oid": "633ab04aa562476ab57151eb"
        },
        "_type": "PublishedContent",
        "approved": true,
        "blobName": "published/mitforlob/20221003095001909_8733508749_633aaf89a562477e96715115.json",
        "disabled": false,
        "namespace": "mitforlob",
        "originalId": "633aaf89a562477e96715115",
        "publishedAt": 1664790602427,
        "publishedBy": "thomas@visikon.com",
        "version": 1
       },
       {
        "__v": 0,
        "_id": {
         "$oid": "633bf9e5914bfb11f3e2ee1c"
        },
        "_type": "PublishedContent",
        "approved": true,
        "blobName": "published/mitforlob/20221004091620833_8482832092_633aaf89a562477e96715115.json",
        "disabled": false,
        "namespace": "mitforlob",
        "originalId": "633aaf89a562477e96715115",
        "publishedAt": 1664874981087,
        "publishedBy": "thomas@visikon.com",
        "version": 2
       },
       {
        "__v": 0,
        "_id": {
         "$oid": "633bfa25914bfbbaaae2eea9"
        },
        "_type": "PublishedContent",
        "approved": true,
        "blobName": "published/mitforlob/20221004091725836_1572829885_633aaf89a562477e96715115.json",
        "disabled": false,
        "namespace": "mitforlob",
        "originalId": "633aaf89a562477e96715115",
        "publishedAt": 1664875045902,
        "publishedBy": "thomas@visikon.com",
        "version": 3
       },
       {
        "__v": 0,
        "_id": {
         "$oid": "633bfa9a914bfb508be2ef57"
        },
        "_type": "PublishedContent",
        "approved": true,
        "blobName": "published/mitforlob/20221004091921891_8286387348_633aaf89a562477e96715115.json",
        "disabled": false,
        "namespace": "mitforlob",
        "originalId": "633aaf89a562477e96715115",
        "publishedAt": 1664875162168,
        "publishedBy": "thomas@visikon.com",
        "version": 4
       },
       {
        "__v": 0,
        "_id": {
         "$oid": "633c0503914bfb5427e2f09a"
        },
        "_type": "PublishedContent",
        "approved": true,
        "blobName": "published/mitforlob/20221004100347229_9076690160_633aaf89a562477e96715115.json",
        "disabled": false,
        "namespace": "mitforlob",
        "originalId": "633aaf89a562477e96715115",
        "publishedAt": 1664877827515,
        "publishedBy": "thomas@visikon.com",
        "version": 5
       },
       {
        "__v": 0,
        "_id": {
         "$oid": "633c0544914bfbb663e2f14f"
        },
        "_type": "PublishedContent",
        "approved": true,
        "blobName": "published/mitforlob/20221004100452868_5469907113_633aaf89a562477e96715115.json",
        "disabled": false,
        "namespace": "mitforlob",
        "originalId": "633aaf89a562477e96715115",
        "publishedAt": 1664877892931,
        "publishedBy": "thomas@visikon.com",
        "version": 6
       },
       {
        "__v": 0,
        "_id": {
         "$oid": "633c0560914bfb54b4e2f1ae"
        },
        "_type": "PublishedContent",
        "approved": true,
        "blobName": "published/mitforlob/20221004100520543_6835363546_633aaf89a562477e96715115.json",
        "disabled": false,
        "namespace": "mitforlob",
        "originalId": "633aaf89a562477e96715115",
        "publishedAt": 1664877920837,
        "publishedBy": "thomas@visikon.com",
        "version": 7
       },
       {
        "__v": 0,
        "_id": {
         "$oid": "633c0d69914bfb40c0e2f2d4"
        },
        "_type": "PublishedContent",
        "approved": true,
        "blobName": "published/mitforlob/20221004103937647_709437572_633aaf89a562477e96715115.json",
        "disabled": false,
        "namespace": "mitforlob",
        "originalId": "633aaf89a562477e96715115",
        "publishedAt": 1664879977967,
        "publishedBy": "thomas@visikon.com",
        "version": 8
       },
       {
        "__v": 0,
        "_id": {
         "$oid": "633c0db6914bfb74f3e2f35b"
        },
        "_type": "PublishedContent",
        "approved": true,
        "blobName": "published/mitforlob/20221004104054034_88490414_633aaf89a562477e96715115.json",
        "disabled": false,
        "namespace": "mitforlob",
        "originalId": "633aaf89a562477e96715115",
        "publishedAt": 1664880054230,
        "publishedBy": "thomas@visikon.com",
        "version": 9
       },
       {
        "__v": 0,
        "_id": {
         "$oid": "633c2259842b5b95ea50b208"
        },
        "_type": "PublishedContent",
        "approved": true,
        "blobName": "published/mitforlob/20221004120857164_4660002763_633c217d842b5b017f50b077.json",
        "disabled": false,
        "namespace": "mitforlob",
        "originalId": "633c217d842b5b017f50b077",
        "publishedAt": 1664885337504,
        "publishedBy": "frederik@visikon.com",
        "version": 1
       },
       {
        "__v": 0,
        "_id": {
         "$oid": "633c234f842b5b62b050b3b1"
        },
        "_type": "PublishedContent",
        "approved": true,
        "blobName": "published/mitforlob/20221004121303256_7987202089_633c217d842b5b017f50b077.json",
        "disabled": false,
        "namespace": "mitforlob",
        "originalId": "633c217d842b5b017f50b077",
        "publishedAt": 1664885583494,
        "publishedBy": "frederik@visikon.com",
        "version": 2
       },
       {
        "__v": 0,
        "_id": {
         "$oid": "633c31eb842b5b677050b65e"
        },
        "_type": "PublishedContent",
        "approved": true,
        "blobName": "published/mitforlob/20221004131522828_7173442519_633c217d842b5b017f50b077.json",
        "disabled": false,
        "namespace": "mitforlob",
        "originalId": "633c217d842b5b017f50b077",
        "publishedAt": 1664889323080,
        "publishedBy": "frederik@visikon.com",
        "version": 3
       },
       {
        "__v": 0,
        "_id": {
         "$oid": "633eb0db59a4013db86c874f"
        },
        "_type": "PublishedContent",
        "approved": true,
        "blobName": "published\\mitforlob\\20221006104131534_3751413805_633aaf89a562477e96715115.json",
        "disabled": false,
        "namespace": "mitforlob",
        "originalId": "633aaf89a562477e96715115",
        "publishedAt": 1665052891858,
        "publishedBy": "thomas@visikon.com",
        "version": 10
       },
       {
        "__v": 0,
        "_id": {
         "$oid": "633ec0f4e76c8423ce2bdbad"
        },
        "_type": "PublishedContent",
        "approved": true,
        "blobName": "published/mitforlob/20221006115012587_2638907115_633ec0d2e76c84dc552bdaf0.json",
        "disabled": false,
        "namespace": "mitforlob",
        "originalId": "633ec0d2e76c84dc552bdaf0",
        "publishedAt": 1665057012773,
        "publishedBy": "frederik@visikon.com",
        "version": 1
       },
       {
        "__v": 0,
        "_id": {
         "$oid": "633ec12be76c84502c2bdc8e"
        },
        "_type": "PublishedContent",
        "approved": true,
        "blobName": "published/mitforlob/20221006115107252_5296288537_633ec123e76c84421b2bdbfe.json",
        "disabled": false,
        "namespace": "mitforlob",
        "originalId": "633ec123e76c84421b2bdbfe",
        "publishedAt": 1665057067347,
        "publishedBy": "frederik@visikon.com",
        "version": 1
       },
       {
        "__v": 0,
        "_id": {
         "$oid": "633ec451e76c8483f22bde14"
        },
        "_type": "PublishedContent",
        "approved": true,
        "blobName": "published/mitforlob/20221006120433109_6319616079_633ec123e76c84421b2bdbfe.json",
        "disabled": false,
        "namespace": "mitforlob",
        "originalId": "633ec123e76c84421b2bdbfe",
        "publishedAt": 1665057873306,
        "publishedBy": "frederik@visikon.com",
        "version": 2
       },
       {
        "__v": 0,
        "_id": {
         "$oid": "633eca65e76c84e6012bdfd2"
        },
        "_type": "PublishedContent",
        "approved": true,
        "blobName": "published/mitforlob/20221006123029552_1190428435_633ec959e76c8420212bdf1e.json",
        "disabled": false,
        "namespace": "mitforlob",
        "originalId": "633ec959e76c8420212bdf1e",
        "publishedAt": 1665059429838,
        "publishedBy": "frederik@visikon.com",
        "version": 1
       },
       {
        "__v": 0,
        "_id": {
         "$oid": "633ecad5e76c84a86c2be03a"
        },
        "_type": "PublishedContent",
        "approved": true,
        "blobName": "published/mitforlob/20221006123221705_8852250819_633ec959e76c8420212bdf1e.json",
        "disabled": false,
        "namespace": "mitforlob",
        "originalId": "633ec959e76c8420212bdf1e",
        "publishedAt": 1665059541970,
        "publishedBy": "frederik@visikon.com",
        "version": 2
       },
       {
        "__v": 0,
        "_id": {
         "$oid": "633ecb89e76c847be02c85be"
        },
        "_type": "PublishedContent",
        "approved": true,
        "blobName": "published/mitforlob/20221006123520938_6244790087_633ec959e76c8420212bdf1e.json",
        "disabled": false,
        "namespace": "mitforlob",
        "originalId": "633ec959e76c8420212bdf1e",
        "publishedAt": 1665059721081,
        "publishedBy": "frederik@visikon.com",
        "version": 3
       },
       {
        "__v": 0,
        "_id": {
         "$oid": "633ece9de76c846d4a2c8704"
        },
        "_type": "PublishedContent",
        "approved": true,
        "blobName": "published/mitforlob/20221006124828751_2033000924_633ec959e76c8420212bdf1e.json",
        "disabled": false,
        "namespace": "mitforlob",
        "originalId": "633ec959e76c8420212bdf1e",
        "publishedAt": 1665060509006,
        "publishedBy": "frederik@visikon.com",
        "version": 4
       },
       {
        "__v": 0,
        "_id": {
         "$oid": "633ed261e76c84ab3e2c88e5"
        },
        "_type": "PublishedContent",
        "approved": true,
        "blobName": "published/mitforlob/20221006130433079_9305056635_633ec959e76c8420212bdf1e.json",
        "disabled": false,
        "namespace": "mitforlob",
        "originalId": "633ec959e76c8420212bdf1e",
        "publishedAt": 1665061473398,
        "publishedBy": "frederik@visikon.com",
        "version": 5
       },
       {
        "__v": 0,
        "_id": {
         "$oid": "633ed3bee76c8449c52c89dd"
        },
        "_type": "PublishedContent",
        "approved": true,
        "blobName": "published/mitforlob/20221006131021731_6092660690_633ec959e76c8420212bdf1e.json",
        "disabled": false,
        "namespace": "mitforlob",
        "originalId": "633ec959e76c8420212bdf1e",
        "publishedAt": 1665061822120,
        "publishedBy": "frederik@visikon.com",
        "version": 6
       },
       {
        "__v": 0,
        "_id": {
         "$oid": "633ed3fbe76c844ac82c8aca"
        },
        "_type": "PublishedContent",
        "approved": false,
        "blobName": "published/mitforlob/20221006131123463_9557025911_633ec959e76c8420212bdf1e.json",
        "disabled": false,
        "namespace": "mitforlob",
        "originalId": "633ec959e76c8420212bdf1e",
        "publishedAt": 1665061883822,
        "publishedBy": "frederik@visikon.com",
        "version": 7
       },
       {
        "__v": 0,
        "_id": {
         "$oid": "633ed402e76c847a142c8b0f"
        },
        "_type": "PublishedContent",
        "approved": true,
        "blobName": "published/mitforlob/20221006131130633_1096622355_633ec959e76c8420212bdf1e.json",
        "disabled": false,
        "namespace": "mitforlob",
        "originalId": "633ec959e76c8420212bdf1e",
        "publishedAt": 1665061890945,
        "publishedBy": "frederik@visikon.com",
        "version": 8
       },
       {
        "__v": 0,
        "_id": {
         "$oid": "633ed423e76c843fc92c8bcd"
        },
        "_type": "PublishedContent",
        "approved": true,
        "blobName": "published/mitforlob/20221006131203145_5127109903_633ec959e76c8420212bdf1e.json",
        "disabled": false,
        "namespace": "mitforlob",
        "originalId": "633ec959e76c8420212bdf1e",
        "publishedAt": 1665061923764,
        "publishedBy": "frederik@visikon.com",
        "version": 9
       },
       {
        "__v": 0,
        "_id": {
         "$oid": "633ed45fe76c8430692c8c76"
        },
        "_type": "PublishedContent",
        "approved": true,
        "blobName": "published/mitforlob/20221006131303421_6215795753_633ec959e76c8420212bdf1e.json",
        "disabled": false,
        "namespace": "mitforlob",
        "originalId": "633ec959e76c8420212bdf1e",
        "publishedAt": 1665061983782,
        "publishedBy": "frederik@visikon.com",
        "version": 10
       },
       {
        "__v": 0,
        "_id": {
         "$oid": "633ed494e76c846dcc2c8d9b"
        },
        "_type": "PublishedContent",
        "approved": true,
        "blobName": "published/mitforlob/20221006131356163_554627616_633ec123e76c84421b2bdbfe.json",
        "disabled": false,
        "namespace": "mitforlob",
        "originalId": "633ec123e76c84421b2bdbfe",
        "publishedAt": 1665062036225,
        "publishedBy": "frederik@visikon.com",
        "version": 3
       },
       {
        "__v": 0,
        "_id": {
         "$oid": "633ed586e76c848dec2c8e85"
        },
        "_type": "PublishedContent",
        "approved": true,
        "blobName": "published/mitforlob/20221006131758221_1157376047_633ec959e76c8420212bdf1e.json",
        "disabled": false,
        "namespace": "mitforlob",
        "originalId": "633ec959e76c8420212bdf1e",
        "publishedAt": 1665062278493,
        "publishedBy": "frederik@visikon.com",
        "version": 11
       },
       {
        "__v": 0,
        "_id": {
         "$oid": "633ed61459a4013db86c8c03"
        },
        "_type": "PublishedContent",
        "approved": true,
        "blobName": "published\\mitforlob\\20221006132020434_5146539190_633aaf89a562477e96715115.json",
        "disabled": false,
        "namespace": "mitforlob",
        "originalId": "633aaf89a562477e96715115",
        "publishedAt": 1665062420642,
        "publishedBy": "thomas@visikon.com",
        "version": 11
       },
       {
        "__v": 0,
        "_id": {
         "$oid": "633ed6b7e76c845ed82c8fdb"
        },
        "_type": "PublishedContent",
        "approved": true,
        "blobName": "published/mitforlob/20221006132303395_3930745854_633ec959e76c8420212bdf1e.json",
        "disabled": false,
        "namespace": "mitforlob",
        "originalId": "633ec959e76c8420212bdf1e",
        "publishedAt": 1665062583496,
        "publishedBy": "frederik@visikon.com",
        "version": 12
       },
       {
        "__v": 0,
        "_id": {
         "$oid": "633ed780e76c847a0c2c90c5"
        },
        "_type": "PublishedContent",
        "approved": true,
        "blobName": "published/mitforlob/20221006132624765_2337375650_633ec959e76c8420212bdf1e.json",
        "disabled": false,
        "namespace": "mitforlob",
        "originalId": "633ec959e76c8420212bdf1e",
        "publishedAt": 1665062784984,
        "publishedBy": "frederik@visikon.com",
        "version": 13
       },
       {
        "__v": 0,
        "_id": {
         "$oid": "633ed7d9e76c8456fa2c91c8"
        },
        "_type": "PublishedContent",
        "approved": true,
        "blobName": "published/mitforlob/20221006132752880_808598446_633ec959e76c8420212bdf1e.json",
        "disabled": false,
        "namespace": "mitforlob",
        "originalId": "633ec959e76c8420212bdf1e",
        "publishedAt": 1665062873179,
        "publishedBy": "frederik@visikon.com",
        "version": 14
       },
       {
        "__v": 0,
        "_id": {
         "$oid": "633ee7f0e76c8448212c9463"
        },
        "_type": "PublishedContent",
        "approved": true,
        "blobName": "published/mitforlob/20221006143632160_7536250326_633a78be04c5f1039820b87f.json",
        "disabled": false,
        "namespace": "mitforlob",
        "originalId": "633a78be04c5f1039820b87f",
        "publishedAt": 1665066992259,
        "publishedBy": "brian@visikon.com",
        "version": 2
       },
       {
        "__v": 0,
        "_id": {
         "$oid": "633ee890cb47cba6cb788780"
        },
        "_type": "PublishedContent",
        "approved": true,
        "blobName": "published/mitforlob/20221006143911679_240535843_633a78be04c5f1039820b87f.json",
        "disabled": false,
        "minimumClientVersion": "2.3.4",
        "namespace": "mitforlob",
        "originalId": "633a78be04c5f1039820b87f",
        "publishedAt": 1665067152013,
        "publishedBy": "brian@visikon.com",
        "version": 3
       }
      ],
      "text/plain": [
       "<IPython.core.display.JSON object>"
      ]
     },
     "execution_count": 19,
     "metadata": {
      "application/json": {
       "expanded": false,
       "root": "root"
      }
     },
     "output_type": "execute_result"
    }
   ],
   "source": [
    "%%time\n",
    "\n",
    "dev = db.qa()\n",
    "begin = datetime.today() + timedelta(days=-30)\n",
    "data = list(\n",
    "    dev.vCoreQa.find({\"_type\": \"PublishedContent\"})\n",
    ")\n",
    "parser.pretty(data)"
   ]
  },
  {
   "cell_type": "code",
   "execution_count": 20,
   "id": "c4b56c2d-37b1-4359-8284-152072944771",
   "metadata": {},
   "outputs": [
    {
     "data": {
      "text/html": [
       "<div>\n",
       "<style scoped>\n",
       "    .dataframe tbody tr th:only-of-type {\n",
       "        vertical-align: middle;\n",
       "    }\n",
       "\n",
       "    .dataframe tbody tr th {\n",
       "        vertical-align: top;\n",
       "    }\n",
       "\n",
       "    .dataframe thead th {\n",
       "        text-align: right;\n",
       "    }\n",
       "</style>\n",
       "<table border=\"1\" class=\"dataframe\">\n",
       "  <thead>\n",
       "    <tr style=\"text-align: right;\">\n",
       "      <th></th>\n",
       "      <th>_id</th>\n",
       "      <th>originalId</th>\n",
       "      <th>version</th>\n",
       "      <th>publishedAt</th>\n",
       "      <th>publishedBy</th>\n",
       "      <th>namespace</th>\n",
       "      <th>approved</th>\n",
       "      <th>disabled</th>\n",
       "      <th>blobName</th>\n",
       "      <th>_type</th>\n",
       "      <th>__v</th>\n",
       "      <th>minimumClientVersion</th>\n",
       "    </tr>\n",
       "  </thead>\n",
       "  <tbody>\n",
       "    <tr>\n",
       "      <th>1364</th>\n",
       "      <td>633ed6b7e76c845ed82c8fdb</td>\n",
       "      <td>633ec959e76c8420212bdf1e</td>\n",
       "      <td>12.0</td>\n",
       "      <td>1.665063e+12</td>\n",
       "      <td>frederik@visikon.com</td>\n",
       "      <td>mitforlob</td>\n",
       "      <td>True</td>\n",
       "      <td>False</td>\n",
       "      <td>published/mitforlob/20221006132303395_39307458...</td>\n",
       "      <td>PublishedContent</td>\n",
       "      <td>0</td>\n",
       "      <td>NaN</td>\n",
       "    </tr>\n",
       "    <tr>\n",
       "      <th>1365</th>\n",
       "      <td>633ed780e76c847a0c2c90c5</td>\n",
       "      <td>633ec959e76c8420212bdf1e</td>\n",
       "      <td>13.0</td>\n",
       "      <td>1.665063e+12</td>\n",
       "      <td>frederik@visikon.com</td>\n",
       "      <td>mitforlob</td>\n",
       "      <td>True</td>\n",
       "      <td>False</td>\n",
       "      <td>published/mitforlob/20221006132624765_23373756...</td>\n",
       "      <td>PublishedContent</td>\n",
       "      <td>0</td>\n",
       "      <td>NaN</td>\n",
       "    </tr>\n",
       "    <tr>\n",
       "      <th>1366</th>\n",
       "      <td>633ed7d9e76c8456fa2c91c8</td>\n",
       "      <td>633ec959e76c8420212bdf1e</td>\n",
       "      <td>14.0</td>\n",
       "      <td>1.665063e+12</td>\n",
       "      <td>frederik@visikon.com</td>\n",
       "      <td>mitforlob</td>\n",
       "      <td>True</td>\n",
       "      <td>False</td>\n",
       "      <td>published/mitforlob/20221006132752880_80859844...</td>\n",
       "      <td>PublishedContent</td>\n",
       "      <td>0</td>\n",
       "      <td>NaN</td>\n",
       "    </tr>\n",
       "    <tr>\n",
       "      <th>1367</th>\n",
       "      <td>633ee7f0e76c8448212c9463</td>\n",
       "      <td>633a78be04c5f1039820b87f</td>\n",
       "      <td>2.0</td>\n",
       "      <td>1.665067e+12</td>\n",
       "      <td>brian@visikon.com</td>\n",
       "      <td>mitforlob</td>\n",
       "      <td>True</td>\n",
       "      <td>False</td>\n",
       "      <td>published/mitforlob/20221006143632160_75362503...</td>\n",
       "      <td>PublishedContent</td>\n",
       "      <td>0</td>\n",
       "      <td>NaN</td>\n",
       "    </tr>\n",
       "    <tr>\n",
       "      <th>1368</th>\n",
       "      <td>633ee890cb47cba6cb788780</td>\n",
       "      <td>633a78be04c5f1039820b87f</td>\n",
       "      <td>3.0</td>\n",
       "      <td>1.665067e+12</td>\n",
       "      <td>brian@visikon.com</td>\n",
       "      <td>mitforlob</td>\n",
       "      <td>True</td>\n",
       "      <td>False</td>\n",
       "      <td>published/mitforlob/20221006143911679_24053584...</td>\n",
       "      <td>PublishedContent</td>\n",
       "      <td>0</td>\n",
       "      <td>2.3.4</td>\n",
       "    </tr>\n",
       "  </tbody>\n",
       "</table>\n",
       "</div>"
      ],
      "text/plain": [
       "                           _id                originalId  version  \\\n",
       "1364  633ed6b7e76c845ed82c8fdb  633ec959e76c8420212bdf1e     12.0   \n",
       "1365  633ed780e76c847a0c2c90c5  633ec959e76c8420212bdf1e     13.0   \n",
       "1366  633ed7d9e76c8456fa2c91c8  633ec959e76c8420212bdf1e     14.0   \n",
       "1367  633ee7f0e76c8448212c9463  633a78be04c5f1039820b87f      2.0   \n",
       "1368  633ee890cb47cba6cb788780  633a78be04c5f1039820b87f      3.0   \n",
       "\n",
       "       publishedAt           publishedBy  namespace approved  disabled  \\\n",
       "1364  1.665063e+12  frederik@visikon.com  mitforlob     True     False   \n",
       "1365  1.665063e+12  frederik@visikon.com  mitforlob     True     False   \n",
       "1366  1.665063e+12  frederik@visikon.com  mitforlob     True     False   \n",
       "1367  1.665067e+12     brian@visikon.com  mitforlob     True     False   \n",
       "1368  1.665067e+12     brian@visikon.com  mitforlob     True     False   \n",
       "\n",
       "                                               blobName             _type  \\\n",
       "1364  published/mitforlob/20221006132303395_39307458...  PublishedContent   \n",
       "1365  published/mitforlob/20221006132624765_23373756...  PublishedContent   \n",
       "1366  published/mitforlob/20221006132752880_80859844...  PublishedContent   \n",
       "1367  published/mitforlob/20221006143632160_75362503...  PublishedContent   \n",
       "1368  published/mitforlob/20221006143911679_24053584...  PublishedContent   \n",
       "\n",
       "      __v minimumClientVersion  \n",
       "1364    0                  NaN  \n",
       "1365    0                  NaN  \n",
       "1366    0                  NaN  \n",
       "1367    0                  NaN  \n",
       "1368    0                2.3.4  "
      ]
     },
     "execution_count": 20,
     "metadata": {},
     "output_type": "execute_result"
    }
   ],
   "source": [
    "df = pd.DataFrame(data)\n",
    "\n",
    "df.tail()"
   ]
  },
  {
   "cell_type": "code",
   "execution_count": 21,
   "id": "d83819a9-525e-4fdb-b071-234a39c46635",
   "metadata": {},
   "outputs": [
    {
     "data": {
      "text/plain": [
       "datetime.datetime(2022, 10, 6, 13, 38, 24, 979000)"
      ]
     },
     "execution_count": 21,
     "metadata": {},
     "output_type": "execute_result"
    }
   ],
   "source": [
    "# 1665056304979 = 6-10-2022 - 13:38\n",
    "ms = 1665056304979\n",
    "datetime.fromtimestamp(ms/1000.0)"
   ]
  },
  {
   "cell_type": "code",
   "execution_count": 22,
   "id": "d2a68f86-bd65-4070-b518-1b8d5c1b0adc",
   "metadata": {},
   "outputs": [],
   "source": [
    "df['publishedDatetime'] = df['publishedAt'].apply(parser.to_datetime)"
   ]
  },
  {
   "cell_type": "code",
   "execution_count": 23,
   "id": "eb809fd2-2868-4b54-9660-59e1d540b8a5",
   "metadata": {},
   "outputs": [
    {
     "data": {
      "text/html": [
       "<div>\n",
       "<style scoped>\n",
       "    .dataframe tbody tr th:only-of-type {\n",
       "        vertical-align: middle;\n",
       "    }\n",
       "\n",
       "    .dataframe tbody tr th {\n",
       "        vertical-align: top;\n",
       "    }\n",
       "\n",
       "    .dataframe thead th {\n",
       "        text-align: right;\n",
       "    }\n",
       "</style>\n",
       "<table border=\"1\" class=\"dataframe\">\n",
       "  <thead>\n",
       "    <tr style=\"text-align: right;\">\n",
       "      <th></th>\n",
       "      <th>_id</th>\n",
       "      <th>originalId</th>\n",
       "      <th>version</th>\n",
       "      <th>publishedAt</th>\n",
       "      <th>publishedBy</th>\n",
       "      <th>namespace</th>\n",
       "      <th>approved</th>\n",
       "      <th>disabled</th>\n",
       "      <th>blobName</th>\n",
       "      <th>_type</th>\n",
       "      <th>__v</th>\n",
       "      <th>minimumClientVersion</th>\n",
       "      <th>publishedDatetime</th>\n",
       "    </tr>\n",
       "  </thead>\n",
       "  <tbody>\n",
       "    <tr>\n",
       "      <th>1364</th>\n",
       "      <td>633ed6b7e76c845ed82c8fdb</td>\n",
       "      <td>633ec959e76c8420212bdf1e</td>\n",
       "      <td>12.0</td>\n",
       "      <td>1.665063e+12</td>\n",
       "      <td>frederik@visikon.com</td>\n",
       "      <td>mitforlob</td>\n",
       "      <td>True</td>\n",
       "      <td>False</td>\n",
       "      <td>published/mitforlob/20221006132303395_39307458...</td>\n",
       "      <td>PublishedContent</td>\n",
       "      <td>0</td>\n",
       "      <td>NaN</td>\n",
       "      <td>2022-10-06 15:23:03.496</td>\n",
       "    </tr>\n",
       "    <tr>\n",
       "      <th>1365</th>\n",
       "      <td>633ed780e76c847a0c2c90c5</td>\n",
       "      <td>633ec959e76c8420212bdf1e</td>\n",
       "      <td>13.0</td>\n",
       "      <td>1.665063e+12</td>\n",
       "      <td>frederik@visikon.com</td>\n",
       "      <td>mitforlob</td>\n",
       "      <td>True</td>\n",
       "      <td>False</td>\n",
       "      <td>published/mitforlob/20221006132624765_23373756...</td>\n",
       "      <td>PublishedContent</td>\n",
       "      <td>0</td>\n",
       "      <td>NaN</td>\n",
       "      <td>2022-10-06 15:26:24.984</td>\n",
       "    </tr>\n",
       "    <tr>\n",
       "      <th>1366</th>\n",
       "      <td>633ed7d9e76c8456fa2c91c8</td>\n",
       "      <td>633ec959e76c8420212bdf1e</td>\n",
       "      <td>14.0</td>\n",
       "      <td>1.665063e+12</td>\n",
       "      <td>frederik@visikon.com</td>\n",
       "      <td>mitforlob</td>\n",
       "      <td>True</td>\n",
       "      <td>False</td>\n",
       "      <td>published/mitforlob/20221006132752880_80859844...</td>\n",
       "      <td>PublishedContent</td>\n",
       "      <td>0</td>\n",
       "      <td>NaN</td>\n",
       "      <td>2022-10-06 15:27:53.179</td>\n",
       "    </tr>\n",
       "    <tr>\n",
       "      <th>1367</th>\n",
       "      <td>633ee7f0e76c8448212c9463</td>\n",
       "      <td>633a78be04c5f1039820b87f</td>\n",
       "      <td>2.0</td>\n",
       "      <td>1.665067e+12</td>\n",
       "      <td>brian@visikon.com</td>\n",
       "      <td>mitforlob</td>\n",
       "      <td>True</td>\n",
       "      <td>False</td>\n",
       "      <td>published/mitforlob/20221006143632160_75362503...</td>\n",
       "      <td>PublishedContent</td>\n",
       "      <td>0</td>\n",
       "      <td>NaN</td>\n",
       "      <td>2022-10-06 16:36:32.259</td>\n",
       "    </tr>\n",
       "    <tr>\n",
       "      <th>1368</th>\n",
       "      <td>633ee890cb47cba6cb788780</td>\n",
       "      <td>633a78be04c5f1039820b87f</td>\n",
       "      <td>3.0</td>\n",
       "      <td>1.665067e+12</td>\n",
       "      <td>brian@visikon.com</td>\n",
       "      <td>mitforlob</td>\n",
       "      <td>True</td>\n",
       "      <td>False</td>\n",
       "      <td>published/mitforlob/20221006143911679_24053584...</td>\n",
       "      <td>PublishedContent</td>\n",
       "      <td>0</td>\n",
       "      <td>2.3.4</td>\n",
       "      <td>2022-10-06 16:39:12.013</td>\n",
       "    </tr>\n",
       "  </tbody>\n",
       "</table>\n",
       "</div>"
      ],
      "text/plain": [
       "                           _id                originalId  version  \\\n",
       "1364  633ed6b7e76c845ed82c8fdb  633ec959e76c8420212bdf1e     12.0   \n",
       "1365  633ed780e76c847a0c2c90c5  633ec959e76c8420212bdf1e     13.0   \n",
       "1366  633ed7d9e76c8456fa2c91c8  633ec959e76c8420212bdf1e     14.0   \n",
       "1367  633ee7f0e76c8448212c9463  633a78be04c5f1039820b87f      2.0   \n",
       "1368  633ee890cb47cba6cb788780  633a78be04c5f1039820b87f      3.0   \n",
       "\n",
       "       publishedAt           publishedBy  namespace approved  disabled  \\\n",
       "1364  1.665063e+12  frederik@visikon.com  mitforlob     True     False   \n",
       "1365  1.665063e+12  frederik@visikon.com  mitforlob     True     False   \n",
       "1366  1.665063e+12  frederik@visikon.com  mitforlob     True     False   \n",
       "1367  1.665067e+12     brian@visikon.com  mitforlob     True     False   \n",
       "1368  1.665067e+12     brian@visikon.com  mitforlob     True     False   \n",
       "\n",
       "                                               blobName             _type  \\\n",
       "1364  published/mitforlob/20221006132303395_39307458...  PublishedContent   \n",
       "1365  published/mitforlob/20221006132624765_23373756...  PublishedContent   \n",
       "1366  published/mitforlob/20221006132752880_80859844...  PublishedContent   \n",
       "1367  published/mitforlob/20221006143632160_75362503...  PublishedContent   \n",
       "1368  published/mitforlob/20221006143911679_24053584...  PublishedContent   \n",
       "\n",
       "      __v minimumClientVersion       publishedDatetime  \n",
       "1364    0                  NaN 2022-10-06 15:23:03.496  \n",
       "1365    0                  NaN 2022-10-06 15:26:24.984  \n",
       "1366    0                  NaN 2022-10-06 15:27:53.179  \n",
       "1367    0                  NaN 2022-10-06 16:36:32.259  \n",
       "1368    0                2.3.4 2022-10-06 16:39:12.013  "
      ]
     },
     "execution_count": 23,
     "metadata": {},
     "output_type": "execute_result"
    }
   ],
   "source": [
    "df.tail()"
   ]
  }
 ],
 "metadata": {
  "kernelspec": {
   "display_name": "Python 3 (ipykernel)",
   "language": "python",
   "name": "python3"
  },
  "language_info": {
   "codemirror_mode": {
    "name": "ipython",
    "version": 3
   },
   "file_extension": ".py",
   "mimetype": "text/x-python",
   "name": "python",
   "nbconvert_exporter": "python",
   "pygments_lexer": "ipython3",
   "version": "3.10.7"
  }
 },
 "nbformat": 4,
 "nbformat_minor": 5
}
