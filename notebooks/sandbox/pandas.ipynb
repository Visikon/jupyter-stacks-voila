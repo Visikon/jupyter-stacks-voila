{
 "cells": [
  {
   "cell_type": "markdown",
   "id": "8e7dee7b-a781-433e-b6f0-941046b791db",
   "metadata": {},
   "source": [
    "# Using Pandas DataFrames to explore tabular data"
   ]
  },
  {
   "cell_type": "code",
   "execution_count": 2,
   "id": "5ca4d0e4-06b0-4150-9b3f-7d961df24b12",
   "metadata": {},
   "outputs": [],
   "source": [
    "import db\n",
    "import parser\n",
    "import pandas as pd\n",
    "from datetime import datetime, timedelta"
   ]
  },
  {
   "cell_type": "code",
   "execution_count": 3,
   "id": "88b9854e-a4bf-439f-b682-7612c5133b9d",
   "metadata": {},
   "outputs": [
    {
     "data": {
      "text/plain": "<IPython.core.display.JSON object>",
      "application/json": [
       {
        "_id": {
         "$oid": "6336d71d7e33950e68882dad"
        },
        "userId": "6336d434a699e9717dd1dfb6",
        "clientType": "ios",
        "status": "succeeded",
        "updatedAt": {
         "$date": "2022-09-30T11:47:51.347Z"
        },
        "__v": 0,
        "createdAt": {
         "$date": "2022-09-30T11:46:37.630Z"
        },
        "log": [
         {
          "_id": {
           "$oid": "6336d71d7cfcbf754182815d"
          },
          "programId": "631761fedf0dbd321316957d",
          "targetVersion": "2.3.1",
          "clientVersion": "2.1.0",
          "status": "rejected",
          "timestamp": {
           "$date": "2022-09-30T11:46:37.625Z"
          }
         },
         {
          "_id": {
           "$oid": "6336d7677cfcbf754182816a"
          },
          "programId": "631761fedf0dbd321316957d",
          "clientVersion": "2.5.0",
          "status": "succeeded",
          "timestamp": {
           "$date": "2022-09-30T11:47:51.347Z"
          }
         }
        ]
       },
       {
        "_id": {
         "$oid": "6336f01020214122c0a33513"
        },
        "userId": "6336efd5d6a8402586edb070",
        "clientType": "ios",
        "status": "rejected",
        "updatedAt": {
         "$date": "2022-09-30T13:36:04.624Z"
        },
        "__v": 0,
        "createdAt": {
         "$date": "2022-09-30T13:33:04.544Z"
        },
        "log": [
         {
          "_id": {
           "$oid": "6336f010805e2327981eee18"
          },
          "programId": "631761fedf0dbd321316957d",
          "targetVersion": "2.3.1",
          "clientVersion": "2.1.0",
          "status": "rejected",
          "timestamp": {
           "$date": "2022-09-30T13:33:04.543Z"
          }
         },
         {
          "_id": {
           "$oid": "6336f05e805e2327981eee25"
          },
          "programId": "631761fedf0dbd321316957d",
          "targetVersion": "2.3.1",
          "clientVersion": "2.1.0",
          "status": "rejected",
          "timestamp": {
           "$date": "2022-09-30T13:34:22.449Z"
          }
         },
         {
          "_id": {
           "$oid": "6336f06d805e2327981eee32"
          },
          "programId": "631761fedf0dbd321316957d",
          "targetVersion": "2.3.1",
          "clientVersion": "2.1.0",
          "status": "rejected",
          "timestamp": {
           "$date": "2022-09-30T13:34:37.483Z"
          }
         },
         {
          "_id": {
           "$oid": "6336f0c4805e2327981eee3f"
          },
          "programId": "631761fedf0dbd321316957d",
          "targetVersion": "2.3.1",
          "clientVersion": "2.1.0",
          "status": "rejected",
          "timestamp": {
           "$date": "2022-09-30T13:36:04.624Z"
          }
         }
        ]
       },
       {
        "_id": {
         "$oid": "633a83d301ce66624827fc8f"
        },
        "userId": "633a7fd999cf56307b8a278c",
        "clientType": "ios",
        "status": "succeeded",
        "updatedAt": {
         "$date": "2022-10-04T08:06:49.100Z"
        },
        "__v": 0,
        "createdAt": {
         "$date": "2022-10-03T06:40:19.394Z"
        },
        "log": [
         {
          "_id": {
           "$oid": "633a83d3d704bd36571957d9"
          },
          "programId": "633a78be04c5f1039820b87f",
          "targetVersion": "2.3.1",
          "clientVersion": "2.1.0",
          "status": "rejected",
          "timestamp": {
           "$date": "2022-10-03T06:40:19.393Z"
          }
         },
         {
          "_id": {
           "$oid": "633a882dd704bd36571957e6"
          },
          "programId": "633a78be04c5f1039820b87f",
          "targetVersion": "2.3.1",
          "clientVersion": "2.1.0",
          "status": "rejected",
          "timestamp": {
           "$date": "2022-10-03T06:58:53.502Z"
          }
         },
         {
          "_id": {
           "$oid": "633aac5fd704bd36571957f3"
          },
          "programId": "633a78be04c5f1039820b87f",
          "targetVersion": "2.3.1",
          "clientVersion": "2.1.0",
          "status": "rejected",
          "timestamp": {
           "$date": "2022-10-03T09:33:19.165Z"
          }
         },
         {
          "_id": {
           "$oid": "633aacc7d704bd3657195806"
          },
          "programId": "633a78be04c5f1039820b87f",
          "targetVersion": "2.3.1",
          "clientVersion": "2.1.0",
          "status": "rejected",
          "timestamp": {
           "$date": "2022-10-03T09:35:03.071Z"
          }
         },
         {
          "_id": {
           "$oid": "633aacc8d704bd365719580a"
          },
          "programId": "633a78be04c5f1039820b87f",
          "targetVersion": "2.3.1",
          "clientVersion": "2.1.0",
          "status": "rejected",
          "timestamp": {
           "$date": "2022-10-03T09:35:04.129Z"
          }
         },
         {
          "_id": {
           "$oid": "633acf37658e1bbd1f672719"
          },
          "programId": "633a78be04c5f1039820b87f",
          "targetVersion": "2.3.1",
          "clientVersion": "2.1.0",
          "status": "rejected",
          "timestamp": {
           "$date": "2022-10-03T12:01:59.690Z"
          }
         },
         {
          "_id": {
           "$oid": "633adf197f29bb05bb42461e"
          },
          "programId": "633a78be04c5f1039820b87f",
          "targetVersion": "2.3.1",
          "clientVersion": "2.1.0",
          "status": "rejected",
          "timestamp": {
           "$date": "2022-10-03T13:09:45.003Z"
          }
         },
         {
          "_id": {
           "$oid": "633adf4e7f29bb05bb424630"
          },
          "programId": "633a78be04c5f1039820b87f",
          "targetVersion": "2.3.1",
          "clientVersion": "2.1.0",
          "status": "rejected",
          "timestamp": {
           "$date": "2022-10-03T13:10:38.428Z"
          }
         },
         {
          "_id": {
           "$oid": "633be9997066050855d9c85a"
          },
          "programId": "633a78be04c5f1039820b87f",
          "clientVersion": "2.4.0",
          "status": "succeeded",
          "timestamp": {
           "$date": "2022-10-04T08:06:49.099Z"
          }
         }
        ]
       },
       {
        "_id": {
         "$oid": "633bef12d90300275c009797"
        },
        "userId": "633a7fd999cf56307b8a278c",
        "clientType": "ios",
        "status": "succeeded",
        "updatedAt": {
         "$date": "2022-10-04T11:29:01.712Z"
        },
        "__v": 0,
        "createdAt": {
         "$date": "2022-10-04T08:30:10.800Z"
        },
        "log": [
         {
          "_id": {
           "$oid": "633bef12af57961829cb2e6e"
          },
          "programId": "633a78be04c5f1039820b87f",
          "targetVersion": "2.3.1",
          "clientVersion": "2.1.0",
          "status": "rejected",
          "timestamp": {
           "$date": "2022-10-04T08:30:10.799Z"
          }
         },
         {
          "_id": {
           "$oid": "633bef13af57961829cb2e78"
          },
          "programId": "633a78be04c5f1039820b87f",
          "targetVersion": "2.3.1",
          "clientVersion": "2.1.0",
          "status": "rejected",
          "timestamp": {
           "$date": "2022-10-04T08:30:11.710Z"
          }
         },
         {
          "_id": {
           "$oid": "633c18baaf57961829cb2e82"
          },
          "programId": "633a78be04c5f1039820b87f",
          "targetVersion": "2.3.1",
          "clientVersion": "2.1.0",
          "status": "rejected",
          "timestamp": {
           "$date": "2022-10-04T11:27:54.954Z"
          }
         },
         {
          "_id": {
           "$oid": "633c18bdaf57961829cb2e8c"
          },
          "programId": "633a78be04c5f1039820b87f",
          "targetVersion": "2.3.1",
          "clientVersion": "2.1.0",
          "status": "rejected",
          "timestamp": {
           "$date": "2022-10-04T11:27:57.108Z"
          }
         },
         {
          "_id": {
           "$oid": "633c18fdaf57961829cb2e96"
          },
          "programId": "633a78be04c5f1039820b87f",
          "clientVersion": "2.5.0",
          "status": "succeeded",
          "timestamp": {
           "$date": "2022-10-04T11:29:01.711Z"
          }
         }
        ]
       },
       {
        "_id": {
         "$oid": "633c1f21d3c333945cc42faf"
        },
        "userId": "633c1b2bbac87360380842f7",
        "clientType": "ios",
        "status": "succeeded",
        "updatedAt": {
         "$date": "2022-10-04T17:33:08.745Z"
        },
        "__v": 0,
        "createdAt": {
         "$date": "2022-10-04T11:55:13.326Z"
        },
        "log": [
         {
          "_id": {
           "$oid": "633c1f2123e935695dadb4c0"
          },
          "programId": "633a78be04c5f1039820b87f",
          "targetVersion": "2.3.1",
          "clientVersion": "2.1.0",
          "status": "rejected",
          "timestamp": {
           "$date": "2022-10-04T11:55:13.325Z"
          }
         },
         {
          "_id": {
           "$oid": "633c1f3823e935695dadb4d8"
          },
          "programId": "633a78be04c5f1039820b87f",
          "targetVersion": "2.3.1",
          "clientVersion": "2.1.0",
          "status": "rejected",
          "timestamp": {
           "$date": "2022-10-04T11:55:36.954Z"
          }
         },
         {
          "_id": {
           "$oid": "633c271c23e935695dadb4e5"
          },
          "programId": "633a78be04c5f1039820b87f",
          "targetVersion": "2.3.1",
          "clientVersion": "2.1.0",
          "status": "rejected",
          "timestamp": {
           "$date": "2022-10-04T12:29:16.369Z"
          }
         },
         {
          "_id": {
           "$oid": "633c6e545ca797c6c720b597"
          },
          "programId": "633a78be04c5f1039820b87f",
          "clientVersion": "2.5.0",
          "status": "succeeded",
          "timestamp": {
           "$date": "2022-10-04T17:33:08.745Z"
          }
         }
        ]
       },
       {
        "_id": {
         "$oid": "633c70e084da365064f2a32a"
        },
        "userId": "633c1b2bbac87360380842f7",
        "clientType": "ios",
        "status": "succeeded",
        "updatedAt": {
         "$date": "2022-10-04T17:44:34.675Z"
        },
        "__v": 0,
        "createdAt": {
         "$date": "2022-10-04T17:44:00.345Z"
        },
        "log": [
         {
          "_id": {
           "$oid": "633c70e0a10691cbec0ba3b9"
          },
          "programId": "633a78be04c5f1039820b87f",
          "targetVersion": "2.3.1",
          "clientVersion": "2.1.0",
          "status": "rejected",
          "timestamp": {
           "$date": "2022-10-04T17:44:00.344Z"
          }
         },
         {
          "_id": {
           "$oid": "633c7102a10691cbec0ba3c6"
          },
          "programId": "633a78be04c5f1039820b87f",
          "clientVersion": "2.5.0",
          "status": "succeeded",
          "timestamp": {
           "$date": "2022-10-04T17:44:34.674Z"
          }
         }
        ]
       },
       {
        "_id": {
         "$oid": "633edff82f4a5f6af07f25df"
        },
        "userId": "633c1b2bbac87360380842f7",
        "clientType": "ios",
        "status": "succeeded",
        "updatedAt": {
         "$date": "2022-10-06T14:04:35.405Z"
        },
        "__v": 0,
        "createdAt": {
         "$date": "2022-10-06T14:02:32.037Z"
        },
        "log": [
         {
          "_id": {
           "$oid": "633edff818e8bb9dc6e3aac3"
          },
          "programId": "633a78be04c5f1039820b87f",
          "targetVersion": "2.3.1",
          "clientVersion": "2.3.0",
          "status": "rejected",
          "timestamp": {
           "$date": "2022-10-06T14:02:32.037Z"
          }
         },
         {
          "_id": {
           "$oid": "633ee07318e8bb9dc6e3aad0"
          },
          "programId": "633a78be04c5f1039820b87f",
          "clientVersion": "2.3.1",
          "status": "succeeded",
          "timestamp": {
           "$date": "2022-10-06T14:04:35.405Z"
          }
         }
        ]
       },
       {
        "_id": {
         "$oid": "633ee8a66918a836683531b5"
        },
        "userId": "633c1b2bbac87360380842f7",
        "clientType": "ios",
        "status": "rejected",
        "updatedAt": {
         "$date": "2022-10-06T14:39:34.444Z"
        },
        "__v": 0,
        "createdAt": {
         "$date": "2022-10-06T14:39:34.444Z"
        },
        "log": [
         {
          "_id": {
           "$oid": "633ee8a6cb47cba6cb78879d"
          },
          "programId": "633a78be04c5f1039820b87f",
          "targetVersion": "2.3.4",
          "clientVersion": "2.3.1",
          "status": "rejected",
          "timestamp": {
           "$date": "2022-10-06T14:39:34.443Z"
          }
         }
        ]
       }
      ]
     },
     "execution_count": 3,
     "metadata": {
      "application/json": {
       "expanded": false,
       "root": "root"
      }
     },
     "output_type": "execute_result"
    }
   ],
   "source": [
    "dev = db.qa()\n",
    "begin = datetime.today() + timedelta(days=-30)\n",
    "data = list(\n",
    "    dev.AppUpdateLog.find({\"createdAt\": {\"$gt\": begin}})\n",
    ")\n",
    "parser.pretty(data)"
   ]
  },
  {
   "cell_type": "code",
   "execution_count": 62,
   "id": "c4b56c2d-37b1-4359-8284-152072944771",
   "metadata": {},
   "outputs": [],
   "source": [
    "# pd.DataFrame(data)"
   ]
  },
  {
   "cell_type": "code",
   "execution_count": 4,
   "id": "fa27f033-b79a-4f46-9dfb-38cea6f5bc46",
   "metadata": {},
   "outputs": [
    {
     "data": {
      "text/plain": "                 timestamp                      user   os version     status  \\\n0  2022-09-30 11:46:37.625  6336d434a699e9717dd1dfb6  ios   2.1.0   rejected   \n1  2022-09-30 11:47:51.347  6336d434a699e9717dd1dfb6  ios   2.5.0  succeeded   \n2  2022-09-30 13:33:04.543  6336efd5d6a8402586edb070  ios   2.1.0   rejected   \n3  2022-09-30 13:34:22.449  6336efd5d6a8402586edb070  ios   2.1.0   rejected   \n4  2022-09-30 13:34:37.483  6336efd5d6a8402586edb070  ios   2.1.0   rejected   \n5  2022-09-30 13:36:04.624  6336efd5d6a8402586edb070  ios   2.1.0   rejected   \n6  2022-10-03 06:40:19.393  633a7fd999cf56307b8a278c  ios   2.1.0   rejected   \n7  2022-10-03 06:58:53.502  633a7fd999cf56307b8a278c  ios   2.1.0   rejected   \n8  2022-10-03 09:33:19.165  633a7fd999cf56307b8a278c  ios   2.1.0   rejected   \n9  2022-10-03 09:35:03.071  633a7fd999cf56307b8a278c  ios   2.1.0   rejected   \n10 2022-10-03 09:35:04.129  633a7fd999cf56307b8a278c  ios   2.1.0   rejected   \n11 2022-10-03 12:01:59.690  633a7fd999cf56307b8a278c  ios   2.1.0   rejected   \n12 2022-10-03 13:09:45.003  633a7fd999cf56307b8a278c  ios   2.1.0   rejected   \n13 2022-10-03 13:10:38.428  633a7fd999cf56307b8a278c  ios   2.1.0   rejected   \n14 2022-10-04 08:06:49.099  633a7fd999cf56307b8a278c  ios   2.4.0  succeeded   \n15 2022-10-04 08:30:10.799  633a7fd999cf56307b8a278c  ios   2.1.0   rejected   \n16 2022-10-04 08:30:11.710  633a7fd999cf56307b8a278c  ios   2.1.0   rejected   \n17 2022-10-04 11:27:54.954  633a7fd999cf56307b8a278c  ios   2.1.0   rejected   \n18 2022-10-04 11:27:57.108  633a7fd999cf56307b8a278c  ios   2.1.0   rejected   \n19 2022-10-04 11:29:01.711  633a7fd999cf56307b8a278c  ios   2.5.0  succeeded   \n20 2022-10-04 11:55:13.325  633c1b2bbac87360380842f7  ios   2.1.0   rejected   \n21 2022-10-04 11:55:36.954  633c1b2bbac87360380842f7  ios   2.1.0   rejected   \n22 2022-10-04 12:29:16.369  633c1b2bbac87360380842f7  ios   2.1.0   rejected   \n23 2022-10-04 17:33:08.745  633c1b2bbac87360380842f7  ios   2.5.0  succeeded   \n24 2022-10-04 17:44:00.344  633c1b2bbac87360380842f7  ios   2.1.0   rejected   \n25 2022-10-04 17:44:34.674  633c1b2bbac87360380842f7  ios   2.5.0  succeeded   \n26 2022-10-06 14:02:32.037  633c1b2bbac87360380842f7  ios   2.3.0   rejected   \n27 2022-10-06 14:04:35.405  633c1b2bbac87360380842f7  ios   2.3.1  succeeded   \n28 2022-10-06 14:39:34.443  633c1b2bbac87360380842f7  ios   2.3.1   rejected   \n\n   finalStatus  \n0    succeeded  \n1    succeeded  \n2     rejected  \n3     rejected  \n4     rejected  \n5     rejected  \n6    succeeded  \n7    succeeded  \n8    succeeded  \n9    succeeded  \n10   succeeded  \n11   succeeded  \n12   succeeded  \n13   succeeded  \n14   succeeded  \n15   succeeded  \n16   succeeded  \n17   succeeded  \n18   succeeded  \n19   succeeded  \n20   succeeded  \n21   succeeded  \n22   succeeded  \n23   succeeded  \n24   succeeded  \n25   succeeded  \n26   succeeded  \n27   succeeded  \n28    rejected  ",
      "text/html": "<div>\n<style scoped>\n    .dataframe tbody tr th:only-of-type {\n        vertical-align: middle;\n    }\n\n    .dataframe tbody tr th {\n        vertical-align: top;\n    }\n\n    .dataframe thead th {\n        text-align: right;\n    }\n</style>\n<table border=\"1\" class=\"dataframe\">\n  <thead>\n    <tr style=\"text-align: right;\">\n      <th></th>\n      <th>timestamp</th>\n      <th>user</th>\n      <th>os</th>\n      <th>version</th>\n      <th>status</th>\n      <th>finalStatus</th>\n    </tr>\n  </thead>\n  <tbody>\n    <tr>\n      <th>0</th>\n      <td>2022-09-30 11:46:37.625</td>\n      <td>6336d434a699e9717dd1dfb6</td>\n      <td>ios</td>\n      <td>2.1.0</td>\n      <td>rejected</td>\n      <td>succeeded</td>\n    </tr>\n    <tr>\n      <th>1</th>\n      <td>2022-09-30 11:47:51.347</td>\n      <td>6336d434a699e9717dd1dfb6</td>\n      <td>ios</td>\n      <td>2.5.0</td>\n      <td>succeeded</td>\n      <td>succeeded</td>\n    </tr>\n    <tr>\n      <th>2</th>\n      <td>2022-09-30 13:33:04.543</td>\n      <td>6336efd5d6a8402586edb070</td>\n      <td>ios</td>\n      <td>2.1.0</td>\n      <td>rejected</td>\n      <td>rejected</td>\n    </tr>\n    <tr>\n      <th>3</th>\n      <td>2022-09-30 13:34:22.449</td>\n      <td>6336efd5d6a8402586edb070</td>\n      <td>ios</td>\n      <td>2.1.0</td>\n      <td>rejected</td>\n      <td>rejected</td>\n    </tr>\n    <tr>\n      <th>4</th>\n      <td>2022-09-30 13:34:37.483</td>\n      <td>6336efd5d6a8402586edb070</td>\n      <td>ios</td>\n      <td>2.1.0</td>\n      <td>rejected</td>\n      <td>rejected</td>\n    </tr>\n    <tr>\n      <th>5</th>\n      <td>2022-09-30 13:36:04.624</td>\n      <td>6336efd5d6a8402586edb070</td>\n      <td>ios</td>\n      <td>2.1.0</td>\n      <td>rejected</td>\n      <td>rejected</td>\n    </tr>\n    <tr>\n      <th>6</th>\n      <td>2022-10-03 06:40:19.393</td>\n      <td>633a7fd999cf56307b8a278c</td>\n      <td>ios</td>\n      <td>2.1.0</td>\n      <td>rejected</td>\n      <td>succeeded</td>\n    </tr>\n    <tr>\n      <th>7</th>\n      <td>2022-10-03 06:58:53.502</td>\n      <td>633a7fd999cf56307b8a278c</td>\n      <td>ios</td>\n      <td>2.1.0</td>\n      <td>rejected</td>\n      <td>succeeded</td>\n    </tr>\n    <tr>\n      <th>8</th>\n      <td>2022-10-03 09:33:19.165</td>\n      <td>633a7fd999cf56307b8a278c</td>\n      <td>ios</td>\n      <td>2.1.0</td>\n      <td>rejected</td>\n      <td>succeeded</td>\n    </tr>\n    <tr>\n      <th>9</th>\n      <td>2022-10-03 09:35:03.071</td>\n      <td>633a7fd999cf56307b8a278c</td>\n      <td>ios</td>\n      <td>2.1.0</td>\n      <td>rejected</td>\n      <td>succeeded</td>\n    </tr>\n    <tr>\n      <th>10</th>\n      <td>2022-10-03 09:35:04.129</td>\n      <td>633a7fd999cf56307b8a278c</td>\n      <td>ios</td>\n      <td>2.1.0</td>\n      <td>rejected</td>\n      <td>succeeded</td>\n    </tr>\n    <tr>\n      <th>11</th>\n      <td>2022-10-03 12:01:59.690</td>\n      <td>633a7fd999cf56307b8a278c</td>\n      <td>ios</td>\n      <td>2.1.0</td>\n      <td>rejected</td>\n      <td>succeeded</td>\n    </tr>\n    <tr>\n      <th>12</th>\n      <td>2022-10-03 13:09:45.003</td>\n      <td>633a7fd999cf56307b8a278c</td>\n      <td>ios</td>\n      <td>2.1.0</td>\n      <td>rejected</td>\n      <td>succeeded</td>\n    </tr>\n    <tr>\n      <th>13</th>\n      <td>2022-10-03 13:10:38.428</td>\n      <td>633a7fd999cf56307b8a278c</td>\n      <td>ios</td>\n      <td>2.1.0</td>\n      <td>rejected</td>\n      <td>succeeded</td>\n    </tr>\n    <tr>\n      <th>14</th>\n      <td>2022-10-04 08:06:49.099</td>\n      <td>633a7fd999cf56307b8a278c</td>\n      <td>ios</td>\n      <td>2.4.0</td>\n      <td>succeeded</td>\n      <td>succeeded</td>\n    </tr>\n    <tr>\n      <th>15</th>\n      <td>2022-10-04 08:30:10.799</td>\n      <td>633a7fd999cf56307b8a278c</td>\n      <td>ios</td>\n      <td>2.1.0</td>\n      <td>rejected</td>\n      <td>succeeded</td>\n    </tr>\n    <tr>\n      <th>16</th>\n      <td>2022-10-04 08:30:11.710</td>\n      <td>633a7fd999cf56307b8a278c</td>\n      <td>ios</td>\n      <td>2.1.0</td>\n      <td>rejected</td>\n      <td>succeeded</td>\n    </tr>\n    <tr>\n      <th>17</th>\n      <td>2022-10-04 11:27:54.954</td>\n      <td>633a7fd999cf56307b8a278c</td>\n      <td>ios</td>\n      <td>2.1.0</td>\n      <td>rejected</td>\n      <td>succeeded</td>\n    </tr>\n    <tr>\n      <th>18</th>\n      <td>2022-10-04 11:27:57.108</td>\n      <td>633a7fd999cf56307b8a278c</td>\n      <td>ios</td>\n      <td>2.1.0</td>\n      <td>rejected</td>\n      <td>succeeded</td>\n    </tr>\n    <tr>\n      <th>19</th>\n      <td>2022-10-04 11:29:01.711</td>\n      <td>633a7fd999cf56307b8a278c</td>\n      <td>ios</td>\n      <td>2.5.0</td>\n      <td>succeeded</td>\n      <td>succeeded</td>\n    </tr>\n    <tr>\n      <th>20</th>\n      <td>2022-10-04 11:55:13.325</td>\n      <td>633c1b2bbac87360380842f7</td>\n      <td>ios</td>\n      <td>2.1.0</td>\n      <td>rejected</td>\n      <td>succeeded</td>\n    </tr>\n    <tr>\n      <th>21</th>\n      <td>2022-10-04 11:55:36.954</td>\n      <td>633c1b2bbac87360380842f7</td>\n      <td>ios</td>\n      <td>2.1.0</td>\n      <td>rejected</td>\n      <td>succeeded</td>\n    </tr>\n    <tr>\n      <th>22</th>\n      <td>2022-10-04 12:29:16.369</td>\n      <td>633c1b2bbac87360380842f7</td>\n      <td>ios</td>\n      <td>2.1.0</td>\n      <td>rejected</td>\n      <td>succeeded</td>\n    </tr>\n    <tr>\n      <th>23</th>\n      <td>2022-10-04 17:33:08.745</td>\n      <td>633c1b2bbac87360380842f7</td>\n      <td>ios</td>\n      <td>2.5.0</td>\n      <td>succeeded</td>\n      <td>succeeded</td>\n    </tr>\n    <tr>\n      <th>24</th>\n      <td>2022-10-04 17:44:00.344</td>\n      <td>633c1b2bbac87360380842f7</td>\n      <td>ios</td>\n      <td>2.1.0</td>\n      <td>rejected</td>\n      <td>succeeded</td>\n    </tr>\n    <tr>\n      <th>25</th>\n      <td>2022-10-04 17:44:34.674</td>\n      <td>633c1b2bbac87360380842f7</td>\n      <td>ios</td>\n      <td>2.5.0</td>\n      <td>succeeded</td>\n      <td>succeeded</td>\n    </tr>\n    <tr>\n      <th>26</th>\n      <td>2022-10-06 14:02:32.037</td>\n      <td>633c1b2bbac87360380842f7</td>\n      <td>ios</td>\n      <td>2.3.0</td>\n      <td>rejected</td>\n      <td>succeeded</td>\n    </tr>\n    <tr>\n      <th>27</th>\n      <td>2022-10-06 14:04:35.405</td>\n      <td>633c1b2bbac87360380842f7</td>\n      <td>ios</td>\n      <td>2.3.1</td>\n      <td>succeeded</td>\n      <td>succeeded</td>\n    </tr>\n    <tr>\n      <th>28</th>\n      <td>2022-10-06 14:39:34.443</td>\n      <td>633c1b2bbac87360380842f7</td>\n      <td>ios</td>\n      <td>2.3.1</td>\n      <td>rejected</td>\n      <td>rejected</td>\n    </tr>\n  </tbody>\n</table>\n</div>"
     },
     "execution_count": 4,
     "metadata": {},
     "output_type": "execute_result"
    }
   ],
   "source": [
    "# Explode array\n",
    "df = pd.json_normalize(data, \"log\", record_prefix=\"log.\", meta=['userId', 'clientType', 'status'])\n",
    "\n",
    "# Reorder columns\n",
    "df = pd.DataFrame({\n",
    "    'timestamp': df['log.timestamp'], \n",
    "    'user': df['userId'],\n",
    "    'os': df['clientType'],\n",
    "    'version': df['log.clientVersion'],\n",
    "    'status': df['log.status'],\n",
    "    'finalStatus': df['status']\n",
    "})\n",
    "\n",
    "df.sort_values(by=['timestamp'])"
   ]
  },
  {
   "cell_type": "code",
   "execution_count": 5,
   "id": "f7f8cab5-501a-43e6-b6a9-8168ced01ff7",
   "metadata": {
    "tags": []
   },
   "outputs": [
    {
     "data": {
      "text/plain": "                 timestamp                      user   os version     status  \\\n1  2022-09-30 11:47:51.347  6336d434a699e9717dd1dfb6  ios   2.5.0  succeeded   \n14 2022-10-04 08:06:49.099  633a7fd999cf56307b8a278c  ios   2.4.0  succeeded   \n19 2022-10-04 11:29:01.711  633a7fd999cf56307b8a278c  ios   2.5.0  succeeded   \n23 2022-10-04 17:33:08.745  633c1b2bbac87360380842f7  ios   2.5.0  succeeded   \n25 2022-10-04 17:44:34.674  633c1b2bbac87360380842f7  ios   2.5.0  succeeded   \n27 2022-10-06 14:04:35.405  633c1b2bbac87360380842f7  ios   2.3.1  succeeded   \n\n   finalStatus  \n1    succeeded  \n14   succeeded  \n19   succeeded  \n23   succeeded  \n25   succeeded  \n27   succeeded  ",
      "text/html": "<div>\n<style scoped>\n    .dataframe tbody tr th:only-of-type {\n        vertical-align: middle;\n    }\n\n    .dataframe tbody tr th {\n        vertical-align: top;\n    }\n\n    .dataframe thead th {\n        text-align: right;\n    }\n</style>\n<table border=\"1\" class=\"dataframe\">\n  <thead>\n    <tr style=\"text-align: right;\">\n      <th></th>\n      <th>timestamp</th>\n      <th>user</th>\n      <th>os</th>\n      <th>version</th>\n      <th>status</th>\n      <th>finalStatus</th>\n    </tr>\n  </thead>\n  <tbody>\n    <tr>\n      <th>1</th>\n      <td>2022-09-30 11:47:51.347</td>\n      <td>6336d434a699e9717dd1dfb6</td>\n      <td>ios</td>\n      <td>2.5.0</td>\n      <td>succeeded</td>\n      <td>succeeded</td>\n    </tr>\n    <tr>\n      <th>14</th>\n      <td>2022-10-04 08:06:49.099</td>\n      <td>633a7fd999cf56307b8a278c</td>\n      <td>ios</td>\n      <td>2.4.0</td>\n      <td>succeeded</td>\n      <td>succeeded</td>\n    </tr>\n    <tr>\n      <th>19</th>\n      <td>2022-10-04 11:29:01.711</td>\n      <td>633a7fd999cf56307b8a278c</td>\n      <td>ios</td>\n      <td>2.5.0</td>\n      <td>succeeded</td>\n      <td>succeeded</td>\n    </tr>\n    <tr>\n      <th>23</th>\n      <td>2022-10-04 17:33:08.745</td>\n      <td>633c1b2bbac87360380842f7</td>\n      <td>ios</td>\n      <td>2.5.0</td>\n      <td>succeeded</td>\n      <td>succeeded</td>\n    </tr>\n    <tr>\n      <th>25</th>\n      <td>2022-10-04 17:44:34.674</td>\n      <td>633c1b2bbac87360380842f7</td>\n      <td>ios</td>\n      <td>2.5.0</td>\n      <td>succeeded</td>\n      <td>succeeded</td>\n    </tr>\n    <tr>\n      <th>27</th>\n      <td>2022-10-06 14:04:35.405</td>\n      <td>633c1b2bbac87360380842f7</td>\n      <td>ios</td>\n      <td>2.3.1</td>\n      <td>succeeded</td>\n      <td>succeeded</td>\n    </tr>\n  </tbody>\n</table>\n</div>"
     },
     "execution_count": 5,
     "metadata": {},
     "output_type": "execute_result"
    }
   ],
   "source": [
    "df[df['status'] == 'succeeded']"
   ]
  },
  {
   "cell_type": "code",
   "execution_count": 10,
   "id": "e98e9f98-20e1-46a9-b2b5-80f39917a0f9",
   "metadata": {},
   "outputs": [
    {
     "data": {
      "text/plain": "'Count: 4/29 (users/events)'"
     },
     "execution_count": 10,
     "metadata": {},
     "output_type": "execute_result"
    }
   ],
   "source": [
    ">>> f'Count: {len(df[\"user\"].unique())}/{len(df)} (users/events)'"
   ]
  },
  {
   "cell_type": "code",
   "execution_count": 7,
   "id": "76f48db5-3d78-44fa-a004-7bd39675e3aa",
   "metadata": {},
   "outputs": [
    {
     "data": {
      "text/plain": "array(['2.1.0', '2.5.0', '2.4.0', '2.3.0', '2.3.1'], dtype=object)"
     },
     "execution_count": 7,
     "metadata": {},
     "output_type": "execute_result"
    }
   ],
   "source": [
    "df[\"version\"].unique()"
   ]
  },
  {
   "cell_type": "code",
   "execution_count": 8,
   "id": "a8dd4a40-7296-4f63-b411-38a1d6e4bc2f",
   "metadata": {},
   "outputs": [
    {
     "data": {
      "text/plain": "2.1.0    21\n2.5.0     4\n2.3.1     2\n2.4.0     1\n2.3.0     1\nName: version, dtype: int64"
     },
     "execution_count": 8,
     "metadata": {},
     "output_type": "execute_result"
    }
   ],
   "source": [
    "df[\"version\"].value_counts()"
   ]
  },
  {
   "cell_type": "code",
   "execution_count": 9,
   "id": "490bce04-ffa3-41d3-95e6-a97c7490b1af",
   "metadata": {},
   "outputs": [
    {
     "data": {
      "text/plain": "                                  timestamp  user  finalStatus\ndate       os  version status                                 \n2022-09-30 ios 2.1.0   rejected           5     5            5\n               2.5.0   succeeded          1     1            1\n2022-10-03 ios 2.1.0   rejected           8     8            8\n2022-10-04 ios 2.1.0   rejected           8     8            8\n               2.4.0   succeeded          1     1            1\n               2.5.0   succeeded          3     3            3\n2022-10-06 ios 2.3.0   rejected           1     1            1\n               2.3.1   rejected           1     1            1\n                       succeeded          1     1            1",
      "text/html": "<div>\n<style scoped>\n    .dataframe tbody tr th:only-of-type {\n        vertical-align: middle;\n    }\n\n    .dataframe tbody tr th {\n        vertical-align: top;\n    }\n\n    .dataframe thead th {\n        text-align: right;\n    }\n</style>\n<table border=\"1\" class=\"dataframe\">\n  <thead>\n    <tr style=\"text-align: right;\">\n      <th></th>\n      <th></th>\n      <th></th>\n      <th></th>\n      <th>timestamp</th>\n      <th>user</th>\n      <th>finalStatus</th>\n    </tr>\n    <tr>\n      <th>date</th>\n      <th>os</th>\n      <th>version</th>\n      <th>status</th>\n      <th></th>\n      <th></th>\n      <th></th>\n    </tr>\n  </thead>\n  <tbody>\n    <tr>\n      <th rowspan=\"2\" valign=\"top\">2022-09-30</th>\n      <th rowspan=\"2\" valign=\"top\">ios</th>\n      <th>2.1.0</th>\n      <th>rejected</th>\n      <td>5</td>\n      <td>5</td>\n      <td>5</td>\n    </tr>\n    <tr>\n      <th>2.5.0</th>\n      <th>succeeded</th>\n      <td>1</td>\n      <td>1</td>\n      <td>1</td>\n    </tr>\n    <tr>\n      <th>2022-10-03</th>\n      <th>ios</th>\n      <th>2.1.0</th>\n      <th>rejected</th>\n      <td>8</td>\n      <td>8</td>\n      <td>8</td>\n    </tr>\n    <tr>\n      <th rowspan=\"3\" valign=\"top\">2022-10-04</th>\n      <th rowspan=\"3\" valign=\"top\">ios</th>\n      <th>2.1.0</th>\n      <th>rejected</th>\n      <td>8</td>\n      <td>8</td>\n      <td>8</td>\n    </tr>\n    <tr>\n      <th>2.4.0</th>\n      <th>succeeded</th>\n      <td>1</td>\n      <td>1</td>\n      <td>1</td>\n    </tr>\n    <tr>\n      <th>2.5.0</th>\n      <th>succeeded</th>\n      <td>3</td>\n      <td>3</td>\n      <td>3</td>\n    </tr>\n    <tr>\n      <th rowspan=\"3\" valign=\"top\">2022-10-06</th>\n      <th rowspan=\"3\" valign=\"top\">ios</th>\n      <th>2.3.0</th>\n      <th>rejected</th>\n      <td>1</td>\n      <td>1</td>\n      <td>1</td>\n    </tr>\n    <tr>\n      <th rowspan=\"2\" valign=\"top\">2.3.1</th>\n      <th>rejected</th>\n      <td>1</td>\n      <td>1</td>\n      <td>1</td>\n    </tr>\n    <tr>\n      <th>succeeded</th>\n      <td>1</td>\n      <td>1</td>\n      <td>1</td>\n    </tr>\n  </tbody>\n</table>\n</div>"
     },
     "execution_count": 9,
     "metadata": {},
     "output_type": "execute_result"
    }
   ],
   "source": [
    "df['date'] = df['timestamp'].dt.date\n",
    "df.groupby(['date', 'os', 'version', 'status']).count()"
   ]
  },
  {
   "cell_type": "code",
   "execution_count": null,
   "outputs": [],
   "source": [],
   "metadata": {
    "collapsed": false
   }
  }
 ],
 "metadata": {
  "kernelspec": {
   "display_name": "Python 3 (ipykernel)",
   "language": "python",
   "name": "python3"
  },
  "language_info": {
   "codemirror_mode": {
    "name": "ipython",
    "version": 3
   },
   "file_extension": ".py",
   "mimetype": "text/x-python",
   "name": "python",
   "nbconvert_exporter": "python",
   "pygments_lexer": "ipython3",
   "version": "3.10.7"
  }
 },
 "nbformat": 4,
 "nbformat_minor": 5
}
