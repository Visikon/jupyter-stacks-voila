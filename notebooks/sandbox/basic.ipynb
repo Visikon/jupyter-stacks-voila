{
 "cells": [
  {
   "cell_type": "markdown",
   "id": "5eed39a1-9e66-42b1-aa1b-51a3a9c482c9",
   "metadata": {
    "tags": []
   },
   "source": [
    "# Data exploration in Jupyter\n",
    "This **text** is ~~not~~ a *markdown* `cell` ..."
   ]
  },
  {
   "cell_type": "code",
   "execution_count": null,
   "id": "93819175-5da5-4c27-8070-e74aaf0f8009",
   "metadata": {
    "tags": []
   },
   "outputs": [],
   "source": [
    "# Start out by importing the utilities\n",
    "import db\n",
    "import parser"
   ]
  },
  {
   "cell_type": "code",
   "execution_count": null,
   "id": "3685111e-28f2-4f3f-a5dc-252f3c4a68b8",
   "metadata": {},
   "outputs": [],
   "source": [
    "%%time\n",
    "\n",
    "# then connect to the database and fetch a document\n",
    "doc = db.dev().AppUpdateLog.find_one()"
   ]
  },
  {
   "cell_type": "markdown",
   "id": "d2f45188-282c-46d0-ad33-f79bf5b58892",
   "metadata": {},
   "source": [
    "---\n",
    "### The `pretty` function does exactly what it says"
   ]
  },
  {
   "cell_type": "code",
   "execution_count": null,
   "id": "610723e7-7dba-4ea5-89ca-95dc8e7bf22d",
   "metadata": {},
   "outputs": [],
   "source": [
    "parser.pretty(doc)"
   ]
  },
  {
   "cell_type": "markdown",
   "id": "6927b08c-a554-4894-8eb2-ab917a21b082",
   "metadata": {},
   "source": [
    "---\n",
    "### The `tree` function enables dot-navigation, instead of brackets.\n",
    "Eaxmple: \n",
    "* `data.foo.bar` instead of `data['foo']['bar']`"
   ]
  },
  {
   "cell_type": "code",
   "execution_count": null,
   "id": "2edc712d-33e2-4f2c-9f4d-70447d1b59be",
   "metadata": {},
   "outputs": [],
   "source": [
    "parser.tree(doc).status"
   ]
  },
  {
   "cell_type": "code",
   "execution_count": null,
   "id": "4b1d0976-5a81-4ee1-a37e-b5022a0a58af",
   "metadata": {},
   "outputs": [],
   "source": [
    "lastLogEntry = parser.tree(doc).log[-1]\n",
    "parser.pretty(lastLogEntry)"
   ]
  },
  {
   "cell_type": "code",
   "execution_count": null,
   "id": "535c261c-9e58-43ea-8808-664f7db7e9ca",
   "metadata": {},
   "outputs": [],
   "source": []
  }
 ],
 "metadata": {
  "kernelspec": {
   "display_name": "Python 3 (ipykernel)",
   "language": "python",
   "name": "python3"
  },
  "language_info": {
   "codemirror_mode": {
    "name": "ipython",
    "version": 3
   },
   "file_extension": ".py",
   "mimetype": "text/x-python",
   "name": "python",
   "nbconvert_exporter": "python",
   "pygments_lexer": "ipython3",
   "version": "3.10.7"
  }
 },
 "nbformat": 4,
 "nbformat_minor": 5
}
