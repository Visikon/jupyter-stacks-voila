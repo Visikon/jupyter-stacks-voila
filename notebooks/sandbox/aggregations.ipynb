{
 "cells": [
  {
   "cell_type": "markdown",
   "id": "7d0df4a8-267c-49d6-bbe0-30ae4e7a21c8",
   "metadata": {},
   "source": [
    "# Tabular exploration"
   ]
  },
  {
   "cell_type": "code",
   "execution_count": 31,
   "id": "f705febd-db90-4f66-9a59-2fc2df4c8aaa",
   "metadata": {},
   "outputs": [],
   "source": [
    "import db\n",
    "import parser\n",
    "import pandas as pd\n",
    "from datetime import datetime, timedelta"
   ]
  },
  {
   "cell_type": "code",
   "execution_count": 32,
   "id": "fdc3639c-3f56-4693-8140-da391dc02194",
   "metadata": {},
   "outputs": [],
   "source": [
    "dev = db.dev()\n",
    "begin = datetime.today() + timedelta(days=-30)"
   ]
  },
  {
   "cell_type": "code",
   "execution_count": 33,
   "id": "6af0fef1-a98d-40a5-b6df-04a0bf90106a",
   "metadata": {},
   "outputs": [],
   "source": [
    "logEntries = dev.AppUpdateLog.find({\"createdAt\": {\"$gt\": begin}})  #.limit(2)"
   ]
  },
  {
   "cell_type": "code",
   "execution_count": 34,
   "id": "368f3fd7-2991-4c9f-9c6a-10693cdf16bf",
   "metadata": {},
   "outputs": [
    {
     "data": {
      "application/json": [
       {
        "__v": 0,
        "_id": {
         "$oid": "632c123c9bed81b619c1722e"
        },
        "clientType": "web",
        "createdAt": {
         "$date": "2022-09-22T07:43:56.703Z"
        },
        "log": [
         {
          "_id": {
           "$oid": "632c123ccb347419e335d588"
          },
          "clientVersion": "2.3.3",
          "programId": "62da73f0c2707758b0c12e22",
          "status": "rejected",
          "targetVersion": "2.3.4",
          "timestamp": {
           "$date": "2022-09-22T07:43:56.694Z"
          }
         },
         {
          "_id": {
           "$oid": "632c123ccb347419e335d593"
          },
          "clientVersion": "2.3.3",
          "programId": "62da73f0c2707758b0c12e22",
          "status": "rejected",
          "targetVersion": "2.3.4",
          "timestamp": {
           "$date": "2022-09-22T07:43:56.981Z"
          }
         },
         {
          "_id": {
           "$oid": "632c1259cb347419e335d5a9"
          },
          "clientVersion": "2.3.3",
          "programId": "62da73f0c2707758b0c12e22",
          "status": "rejected",
          "targetVersion": "2.3.4",
          "timestamp": {
           "$date": "2022-09-22T07:44:25.865Z"
          }
         },
         {
          "_id": {
           "$oid": "632c125acb347419e335d5b4"
          },
          "clientVersion": "2.3.3",
          "programId": "62da73f0c2707758b0c12e22",
          "status": "rejected",
          "targetVersion": "2.3.4",
          "timestamp": {
           "$date": "2022-09-22T07:44:26.115Z"
          }
         },
         {
          "_id": {
           "$oid": "632c13482187ea1a40092ee9"
          },
          "clientVersion": "2.3.3",
          "programId": "62da73f0c2707758b0c12e22",
          "status": "rejected",
          "targetVersion": "2.3.4",
          "timestamp": {
           "$date": "2022-09-22T07:48:24.467Z"
          }
         },
         {
          "_id": {
           "$oid": "632c13482187ea1a40092ef4"
          },
          "clientVersion": "2.3.3",
          "programId": "62da73f0c2707758b0c12e22",
          "status": "rejected",
          "targetVersion": "2.3.4",
          "timestamp": {
           "$date": "2022-09-22T07:48:24.725Z"
          }
         },
         {
          "_id": {
           "$oid": "632c144f2187ea1a40092f0a"
          },
          "clientVersion": "2.3.3",
          "programId": "62da73f0c2707758b0c12e22",
          "status": "rejected",
          "targetVersion": "2.3.4",
          "timestamp": {
           "$date": "2022-09-22T07:52:47.456Z"
          }
         },
         {
          "_id": {
           "$oid": "632c144f2187ea1a40092f15"
          },
          "clientVersion": "2.3.3",
          "programId": "62da73f0c2707758b0c12e22",
          "status": "rejected",
          "targetVersion": "2.3.4",
          "timestamp": {
           "$date": "2022-09-22T07:52:47.715Z"
          }
         },
         {
          "_id": {
           "$oid": "632c14522187ea1a40092f2b"
          },
          "clientVersion": "2.3.3",
          "programId": "62da73f0c2707758b0c12e22",
          "status": "rejected",
          "targetVersion": "2.3.4",
          "timestamp": {
           "$date": "2022-09-22T07:52:50.741Z"
          }
         },
         {
          "_id": {
           "$oid": "632c14532187ea1a40092f36"
          },
          "clientVersion": "2.3.3",
          "programId": "62da73f0c2707758b0c12e22",
          "status": "rejected",
          "targetVersion": "2.3.4",
          "timestamp": {
           "$date": "2022-09-22T07:52:51.016Z"
          }
         },
         {
          "_id": {
           "$oid": "632c18212da1f01c2af7caf5"
          },
          "clientVersion": "2.3.3",
          "programId": "62da73f0c2707758b0c12e22",
          "status": "rejected",
          "targetVersion": "2.3.4",
          "timestamp": {
           "$date": "2022-09-22T08:09:05.941Z"
          }
         },
         {
          "_id": {
           "$oid": "632c18222da1f01c2af7cb00"
          },
          "clientVersion": "2.3.3",
          "programId": "62da73f0c2707758b0c12e22",
          "status": "succeeded",
          "targetVersion": "2.3.4",
          "timestamp": {
           "$date": "2022-09-22T08:09:06.200Z"
          }
         }
        ],
        "status": "succeeded",
        "updatedAt": {
         "$date": "2022-09-22T08:09:25.709Z"
        },
        "userId": "63118ee37da4395a758f5c09"
       },
       {
        "__v": 0,
        "_id": {
         "$oid": "632c18a19bed81b619c17712"
        },
        "clientType": "web",
        "createdAt": {
         "$date": "2022-09-22T08:11:13.995Z"
        },
        "log": [
         {
          "_id": {
           "$oid": "632c18a1b8c4f91ca03b7b9a"
          },
          "clientVersion": "2.3.3",
          "programId": "62da73f0c2707758b0c12e22",
          "status": "rejected",
          "targetVersion": "2.3.4",
          "timestamp": {
           "$date": "2022-09-22T08:11:13.994Z"
          }
         },
         {
          "_id": {
           "$oid": "632c18a2b8c4f91ca03b7ba5"
          },
          "clientVersion": "2.3.3",
          "programId": "62da73f0c2707758b0c12e22",
          "status": "rejected",
          "targetVersion": "2.3.4",
          "timestamp": {
           "$date": "2022-09-22T08:11:14.275Z"
          }
         },
         {
          "_id": {
           "$oid": "632c18b9b8c4f91ca03b7bbb"
          },
          "clientVersion": "2.3.3",
          "programId": "62da73f0c2707758b0c12e22",
          "status": "rejected",
          "targetVersion": "2.3.4",
          "timestamp": {
           "$date": "2022-09-22T08:11:37.446Z"
          }
         },
         {
          "_id": {
           "$oid": "632c18b9b8c4f91ca03b7bc6"
          },
          "clientVersion": "2.3.3",
          "programId": "62da73f0c2707758b0c12e22",
          "status": "rejected",
          "targetVersion": "2.3.4",
          "timestamp": {
           "$date": "2022-09-22T08:11:37.694Z"
          }
         },
         {
          "_id": {
           "$oid": "632c18cdb8c4f91ca03b7bdc"
          },
          "clientVersion": "2.3.4",
          "programId": "62da73f0c2707758b0c12e22",
          "status": "succeeded",
          "timestamp": {
           "$date": "2022-09-22T08:11:57.886Z"
          }
         }
        ],
        "status": "succeeded",
        "updatedAt": {
         "$date": "2022-09-22T08:11:57.886Z"
        },
        "userId": "63118ee37da4395a758f5c09"
       },
       {
        "__v": 0,
        "_id": {
         "$oid": "632c2b119bed81b619c182e8"
        },
        "clientType": "ios",
        "createdAt": {
         "$date": "2022-09-22T09:29:53.728Z"
        },
        "log": [
         {
          "_id": {
           "$oid": "632c2b115f2147223d9d2dd7"
          },
          "clientVersion": "2.2.18",
          "programId": "62da73f0c2707758b0c12e22",
          "status": "rejected",
          "targetVersion": "2.3.4",
          "timestamp": {
           "$date": "2022-09-22T09:29:53.727Z"
          }
         },
         {
          "_id": {
           "$oid": "632c2be5d10f1d28a33c6378"
          },
          "clientVersion": "2.2.18",
          "programId": "62da73f0c2707758b0c12e22",
          "status": "rejected",
          "targetVersion": "2.3.4",
          "timestamp": {
           "$date": "2022-09-22T09:33:25.021Z"
          }
         },
         {
          "_id": {
           "$oid": "632c2c81d10f1d28a33c6385"
          },
          "clientVersion": "2.5.0",
          "programId": "62da73f0c2707758b0c12e22",
          "status": "succeeded",
          "timestamp": {
           "$date": "2022-09-22T09:36:01.341Z"
          }
         }
        ],
        "status": "succeeded",
        "updatedAt": {
         "$date": "2022-09-22T09:36:01.342Z"
        },
        "userId": "6329a334815a036554b35b2f"
       },
       {
        "__v": 0,
        "_id": {
         "$oid": "632c58959bed81b619c19b9d"
        },
        "clientType": "ios",
        "createdAt": {
         "$date": "2022-09-22T12:44:05.835Z"
        },
        "log": [
         {
          "_id": {
           "$oid": "632c58950dc6e263f6c4b21f"
          },
          "clientVersion": "2.1.0",
          "programId": "6242d9b0a4ea7a0039a68406",
          "status": "rejected",
          "targetVersion": "2.3.1",
          "timestamp": {
           "$date": "2022-09-22T12:44:05.835Z"
          }
         },
         {
          "_id": {
           "$oid": "632c59030dc6e263f6c4b22c"
          },
          "clientVersion": "2.1.0",
          "programId": "6242d9b0a4ea7a0039a68406",
          "status": "rejected",
          "targetVersion": "2.3.1",
          "timestamp": {
           "$date": "2022-09-22T12:45:55.533Z"
          }
         },
         {
          "_id": {
           "$oid": "632c5a630dc6e263f6c4b239"
          },
          "clientVersion": "2.1.0",
          "programId": "6242d9b0a4ea7a0039a68406",
          "status": "rejected",
          "targetVersion": "2.3.1",
          "timestamp": {
           "$date": "2022-09-22T12:51:47.945Z"
          }
         },
         {
          "_id": {
           "$oid": "632c5dbd74b66367262751e2"
          },
          "clientVersion": "2.1.0",
          "programId": "6242d9b0a4ea7a0039a68406",
          "status": "rejected",
          "targetVersion": "2.3.1",
          "timestamp": {
           "$date": "2022-09-22T13:06:05.476Z"
          }
         }
        ],
        "status": "rejected",
        "updatedAt": {
         "$date": "2022-09-22T13:06:05.477Z"
        },
        "userId": "632c58940dc6e263f6c4b210"
       },
       {
        "__v": 0,
        "_id": {
         "$oid": "632c5ad29bed81b619c19d59"
        },
        "clientType": "web",
        "createdAt": {
         "$date": "2022-09-22T12:53:38.471Z"
        },
        "log": [
         {
          "_id": {
           "$oid": "632c5ad274b66367262751d0"
          },
          "clientVersion": "2.3.0",
          "programId": "6242d9b0a4ea7a0039a68406",
          "status": "rejected",
          "targetVersion": "2.3.1",
          "timestamp": {
           "$date": "2022-09-22T12:53:38.470Z"
          }
         },
         {
          "_id": {
           "$oid": "632c6376cbc2d171ad5548c9"
          },
          "clientVersion": "2.3.4",
          "programId": "6242d9b0a4ea7a0039a68406",
          "status": "succeeded",
          "timestamp": {
           "$date": "2022-09-22T13:30:30.368Z"
          }
         }
        ],
        "status": "succeeded",
        "updatedAt": {
         "$date": "2022-09-22T13:30:30.369Z"
        },
        "userId": "632c5ad174b66367262751c1"
       },
       {
        "__v": 0,
        "_id": {
         "$oid": "6332cdce9bed81b619c2fa31"
        },
        "clientType": "ios",
        "createdAt": {
         "$date": "2022-09-27T10:17:50.163Z"
        },
        "log": [
         {
          "_id": {
           "$oid": "6332cdce3ac74d7c49d18ede"
          },
          "clientVersion": "2.2.18",
          "programId": "6242d9b0a4ea7a0039a68406",
          "status": "rejected",
          "targetVersion": "2.3.1",
          "timestamp": {
           "$date": "2022-09-27T10:17:50.162Z"
          }
         }
        ],
        "status": "rejected",
        "updatedAt": {
         "$date": "2022-09-27T10:17:50.163Z"
        },
        "userId": "6332cdcd3ac74d7c49d18ecf"
       },
       {
        "__v": 0,
        "_id": {
         "$oid": "6336eee49bed81b619c406f2"
        },
        "clientType": "ios",
        "createdAt": {
         "$date": "2022-09-30T13:28:04.604Z"
        },
        "log": [
         {
          "_id": {
           "$oid": "6336eee4397cee21c27590a8"
          },
          "clientVersion": "2.1.0",
          "programId": "62da73f0c2707758b0c12e22",
          "status": "rejected",
          "targetVersion": "2.3.4",
          "timestamp": {
           "$date": "2022-09-30T13:28:04.600Z"
          }
         }
        ],
        "status": "rejected",
        "updatedAt": {
         "$date": "2022-09-30T13:28:04.604Z"
        },
        "userId": "6336ee727223d31b214336ee"
       }
      ],
      "text/plain": [
       "<IPython.core.display.JSON object>"
      ]
     },
     "execution_count": 34,
     "metadata": {
      "application/json": {
       "expanded": false,
       "root": "root"
      }
     },
     "output_type": "execute_result"
    }
   ],
   "source": [
    "parser.pretty(logEntries)"
   ]
  },
  {
   "cell_type": "markdown",
   "id": "fe15f40d-7666-4ab8-a4f9-93abd5fcb455",
   "metadata": {},
   "source": [
    "### A database aggregation has a pipeline with multiple stages\n",
    "In the pibeline below I have the following stages:\n",
    "- Stage 1: Fetch the latest entries, using `$match`\n",
    "- Stage 2: Group by two fields and counts the entries, using `$group`\n",
    "- Stage 3: Flatten the result into a tabular structure, using `$project`\n",
    "- Stage 4: Sort the data, using `$sort`"
   ]
  },
  {
   "cell_type": "code",
   "execution_count": 35,
   "id": "0e00594e-21f2-49d8-a46e-228a8e02b8da",
   "metadata": {},
   "outputs": [],
   "source": [
    "statuses = list(dev.AppUpdateLog.aggregate([\n",
    "    {\"$match\": { \"createdAt\": {\"$gt\": begin} }},\n",
    "    {\"$group\": { \"_id\": {\"status\": \"$status\", \"os\": \"$clientType\"}, \"count\": { \"$sum\": 1 }}},\n",
    "    {\"$project\": {\"status\": '$_id.status', \"os\": '$_id.os', \"count\": \"$count\"}},\n",
    "    {\"$sort\": {\"count\": -1, \"os\": 1}}\n",
    "]))"
   ]
  },
  {
   "cell_type": "markdown",
   "id": "66eec2ec-6fa8-483a-8ba2-e5b28f5f70c6",
   "metadata": {},
   "source": [
    "### Using DataFrames, data can be presented with formatting"
   ]
  },
  {
   "cell_type": "code",
   "execution_count": 36,
   "id": "d89ab157-434f-49e6-84c0-e6e47b67aa48",
   "metadata": {},
   "outputs": [
    {
     "data": {
      "text/html": [
       "<div>\n",
       "<style scoped>\n",
       "    .dataframe tbody tr th:only-of-type {\n",
       "        vertical-align: middle;\n",
       "    }\n",
       "\n",
       "    .dataframe tbody tr th {\n",
       "        vertical-align: top;\n",
       "    }\n",
       "\n",
       "    .dataframe thead th {\n",
       "        text-align: right;\n",
       "    }\n",
       "</style>\n",
       "<table border=\"1\" class=\"dataframe\">\n",
       "  <thead>\n",
       "    <tr style=\"text-align: right;\">\n",
       "      <th></th>\n",
       "      <th>_id</th>\n",
       "      <th>status</th>\n",
       "      <th>os</th>\n",
       "      <th>count</th>\n",
       "    </tr>\n",
       "  </thead>\n",
       "  <tbody>\n",
       "    <tr>\n",
       "      <th>0</th>\n",
       "      <td>{'status': 'rejected', 'os': 'ios'}</td>\n",
       "      <td>rejected</td>\n",
       "      <td>ios</td>\n",
       "      <td>3</td>\n",
       "    </tr>\n",
       "    <tr>\n",
       "      <th>1</th>\n",
       "      <td>{'status': 'succeeded', 'os': 'web'}</td>\n",
       "      <td>succeeded</td>\n",
       "      <td>web</td>\n",
       "      <td>3</td>\n",
       "    </tr>\n",
       "    <tr>\n",
       "      <th>2</th>\n",
       "      <td>{'status': 'succeeded', 'os': 'ios'}</td>\n",
       "      <td>succeeded</td>\n",
       "      <td>ios</td>\n",
       "      <td>1</td>\n",
       "    </tr>\n",
       "  </tbody>\n",
       "</table>\n",
       "</div>"
      ],
      "text/plain": [
       "                                    _id     status   os  count\n",
       "0   {'status': 'rejected', 'os': 'ios'}   rejected  ios      3\n",
       "1  {'status': 'succeeded', 'os': 'web'}  succeeded  web      3\n",
       "2  {'status': 'succeeded', 'os': 'ios'}  succeeded  ios      1"
      ]
     },
     "execution_count": 36,
     "metadata": {},
     "output_type": "execute_result"
    }
   ],
   "source": [
    "pd.DataFrame(statuses)"
   ]
  },
  {
   "cell_type": "code",
   "execution_count": 37,
   "id": "fba10eb1-0dd8-4290-a6b5-6298e5e73d77",
   "metadata": {},
   "outputs": [
    {
     "data": {
      "text/html": [
       "<div>\n",
       "<style scoped>\n",
       "    .dataframe tbody tr th:only-of-type {\n",
       "        vertical-align: middle;\n",
       "    }\n",
       "\n",
       "    .dataframe tbody tr th {\n",
       "        vertical-align: top;\n",
       "    }\n",
       "\n",
       "    .dataframe thead th {\n",
       "        text-align: right;\n",
       "    }\n",
       "</style>\n",
       "<table border=\"1\" class=\"dataframe\">\n",
       "  <thead>\n",
       "    <tr style=\"text-align: right;\">\n",
       "      <th></th>\n",
       "      <th>logIndex</th>\n",
       "      <th>timestamp</th>\n",
       "      <th>user</th>\n",
       "      <th>os</th>\n",
       "      <th>version</th>\n",
       "      <th>status</th>\n",
       "      <th>finalStatus</th>\n",
       "    </tr>\n",
       "  </thead>\n",
       "  <tbody>\n",
       "    <tr>\n",
       "      <th>0</th>\n",
       "      <td>0</td>\n",
       "      <td>2022-09-22 07:43:56.694</td>\n",
       "      <td>63118ee37da4395a758f5c09</td>\n",
       "      <td>web</td>\n",
       "      <td>2.3.3</td>\n",
       "      <td>rejected</td>\n",
       "      <td>succeeded</td>\n",
       "    </tr>\n",
       "    <tr>\n",
       "      <th>1</th>\n",
       "      <td>1</td>\n",
       "      <td>2022-09-22 07:43:56.981</td>\n",
       "      <td>63118ee37da4395a758f5c09</td>\n",
       "      <td>web</td>\n",
       "      <td>2.3.3</td>\n",
       "      <td>rejected</td>\n",
       "      <td>succeeded</td>\n",
       "    </tr>\n",
       "    <tr>\n",
       "      <th>2</th>\n",
       "      <td>2</td>\n",
       "      <td>2022-09-22 07:44:25.865</td>\n",
       "      <td>63118ee37da4395a758f5c09</td>\n",
       "      <td>web</td>\n",
       "      <td>2.3.3</td>\n",
       "      <td>rejected</td>\n",
       "      <td>succeeded</td>\n",
       "    </tr>\n",
       "    <tr>\n",
       "      <th>3</th>\n",
       "      <td>3</td>\n",
       "      <td>2022-09-22 07:44:26.115</td>\n",
       "      <td>63118ee37da4395a758f5c09</td>\n",
       "      <td>web</td>\n",
       "      <td>2.3.3</td>\n",
       "      <td>rejected</td>\n",
       "      <td>succeeded</td>\n",
       "    </tr>\n",
       "    <tr>\n",
       "      <th>4</th>\n",
       "      <td>4</td>\n",
       "      <td>2022-09-22 07:48:24.467</td>\n",
       "      <td>63118ee37da4395a758f5c09</td>\n",
       "      <td>web</td>\n",
       "      <td>2.3.3</td>\n",
       "      <td>rejected</td>\n",
       "      <td>succeeded</td>\n",
       "    </tr>\n",
       "    <tr>\n",
       "      <th>5</th>\n",
       "      <td>5</td>\n",
       "      <td>2022-09-22 07:48:24.725</td>\n",
       "      <td>63118ee37da4395a758f5c09</td>\n",
       "      <td>web</td>\n",
       "      <td>2.3.3</td>\n",
       "      <td>rejected</td>\n",
       "      <td>succeeded</td>\n",
       "    </tr>\n",
       "    <tr>\n",
       "      <th>6</th>\n",
       "      <td>6</td>\n",
       "      <td>2022-09-22 07:52:47.456</td>\n",
       "      <td>63118ee37da4395a758f5c09</td>\n",
       "      <td>web</td>\n",
       "      <td>2.3.3</td>\n",
       "      <td>rejected</td>\n",
       "      <td>succeeded</td>\n",
       "    </tr>\n",
       "    <tr>\n",
       "      <th>7</th>\n",
       "      <td>7</td>\n",
       "      <td>2022-09-22 07:52:47.715</td>\n",
       "      <td>63118ee37da4395a758f5c09</td>\n",
       "      <td>web</td>\n",
       "      <td>2.3.3</td>\n",
       "      <td>rejected</td>\n",
       "      <td>succeeded</td>\n",
       "    </tr>\n",
       "    <tr>\n",
       "      <th>8</th>\n",
       "      <td>8</td>\n",
       "      <td>2022-09-22 07:52:50.741</td>\n",
       "      <td>63118ee37da4395a758f5c09</td>\n",
       "      <td>web</td>\n",
       "      <td>2.3.3</td>\n",
       "      <td>rejected</td>\n",
       "      <td>succeeded</td>\n",
       "    </tr>\n",
       "    <tr>\n",
       "      <th>9</th>\n",
       "      <td>9</td>\n",
       "      <td>2022-09-22 07:52:51.016</td>\n",
       "      <td>63118ee37da4395a758f5c09</td>\n",
       "      <td>web</td>\n",
       "      <td>2.3.3</td>\n",
       "      <td>rejected</td>\n",
       "      <td>succeeded</td>\n",
       "    </tr>\n",
       "    <tr>\n",
       "      <th>10</th>\n",
       "      <td>10</td>\n",
       "      <td>2022-09-22 08:09:05.941</td>\n",
       "      <td>63118ee37da4395a758f5c09</td>\n",
       "      <td>web</td>\n",
       "      <td>2.3.3</td>\n",
       "      <td>rejected</td>\n",
       "      <td>succeeded</td>\n",
       "    </tr>\n",
       "    <tr>\n",
       "      <th>11</th>\n",
       "      <td>11</td>\n",
       "      <td>2022-09-22 08:09:06.200</td>\n",
       "      <td>63118ee37da4395a758f5c09</td>\n",
       "      <td>web</td>\n",
       "      <td>2.3.3</td>\n",
       "      <td>succeeded</td>\n",
       "      <td>succeeded</td>\n",
       "    </tr>\n",
       "    <tr>\n",
       "      <th>12</th>\n",
       "      <td>0</td>\n",
       "      <td>2022-09-22 08:11:13.994</td>\n",
       "      <td>63118ee37da4395a758f5c09</td>\n",
       "      <td>web</td>\n",
       "      <td>2.3.3</td>\n",
       "      <td>rejected</td>\n",
       "      <td>succeeded</td>\n",
       "    </tr>\n",
       "    <tr>\n",
       "      <th>13</th>\n",
       "      <td>1</td>\n",
       "      <td>2022-09-22 08:11:14.275</td>\n",
       "      <td>63118ee37da4395a758f5c09</td>\n",
       "      <td>web</td>\n",
       "      <td>2.3.3</td>\n",
       "      <td>rejected</td>\n",
       "      <td>succeeded</td>\n",
       "    </tr>\n",
       "    <tr>\n",
       "      <th>14</th>\n",
       "      <td>2</td>\n",
       "      <td>2022-09-22 08:11:37.446</td>\n",
       "      <td>63118ee37da4395a758f5c09</td>\n",
       "      <td>web</td>\n",
       "      <td>2.3.3</td>\n",
       "      <td>rejected</td>\n",
       "      <td>succeeded</td>\n",
       "    </tr>\n",
       "    <tr>\n",
       "      <th>15</th>\n",
       "      <td>3</td>\n",
       "      <td>2022-09-22 08:11:37.694</td>\n",
       "      <td>63118ee37da4395a758f5c09</td>\n",
       "      <td>web</td>\n",
       "      <td>2.3.3</td>\n",
       "      <td>rejected</td>\n",
       "      <td>succeeded</td>\n",
       "    </tr>\n",
       "    <tr>\n",
       "      <th>16</th>\n",
       "      <td>4</td>\n",
       "      <td>2022-09-22 08:11:57.886</td>\n",
       "      <td>63118ee37da4395a758f5c09</td>\n",
       "      <td>web</td>\n",
       "      <td>2.3.4</td>\n",
       "      <td>succeeded</td>\n",
       "      <td>succeeded</td>\n",
       "    </tr>\n",
       "    <tr>\n",
       "      <th>17</th>\n",
       "      <td>0</td>\n",
       "      <td>2022-09-22 09:29:53.727</td>\n",
       "      <td>6329a334815a036554b35b2f</td>\n",
       "      <td>ios</td>\n",
       "      <td>2.2.18</td>\n",
       "      <td>rejected</td>\n",
       "      <td>succeeded</td>\n",
       "    </tr>\n",
       "    <tr>\n",
       "      <th>18</th>\n",
       "      <td>1</td>\n",
       "      <td>2022-09-22 09:33:25.021</td>\n",
       "      <td>6329a334815a036554b35b2f</td>\n",
       "      <td>ios</td>\n",
       "      <td>2.2.18</td>\n",
       "      <td>rejected</td>\n",
       "      <td>succeeded</td>\n",
       "    </tr>\n",
       "    <tr>\n",
       "      <th>19</th>\n",
       "      <td>2</td>\n",
       "      <td>2022-09-22 09:36:01.341</td>\n",
       "      <td>6329a334815a036554b35b2f</td>\n",
       "      <td>ios</td>\n",
       "      <td>2.5.0</td>\n",
       "      <td>succeeded</td>\n",
       "      <td>succeeded</td>\n",
       "    </tr>\n",
       "    <tr>\n",
       "      <th>20</th>\n",
       "      <td>0</td>\n",
       "      <td>2022-09-22 12:44:05.835</td>\n",
       "      <td>632c58940dc6e263f6c4b210</td>\n",
       "      <td>ios</td>\n",
       "      <td>2.1.0</td>\n",
       "      <td>rejected</td>\n",
       "      <td>rejected</td>\n",
       "    </tr>\n",
       "    <tr>\n",
       "      <th>21</th>\n",
       "      <td>1</td>\n",
       "      <td>2022-09-22 12:45:55.533</td>\n",
       "      <td>632c58940dc6e263f6c4b210</td>\n",
       "      <td>ios</td>\n",
       "      <td>2.1.0</td>\n",
       "      <td>rejected</td>\n",
       "      <td>rejected</td>\n",
       "    </tr>\n",
       "    <tr>\n",
       "      <th>22</th>\n",
       "      <td>2</td>\n",
       "      <td>2022-09-22 12:51:47.945</td>\n",
       "      <td>632c58940dc6e263f6c4b210</td>\n",
       "      <td>ios</td>\n",
       "      <td>2.1.0</td>\n",
       "      <td>rejected</td>\n",
       "      <td>rejected</td>\n",
       "    </tr>\n",
       "    <tr>\n",
       "      <th>23</th>\n",
       "      <td>0</td>\n",
       "      <td>2022-09-22 12:53:38.470</td>\n",
       "      <td>632c5ad174b66367262751c1</td>\n",
       "      <td>web</td>\n",
       "      <td>2.3.0</td>\n",
       "      <td>rejected</td>\n",
       "      <td>succeeded</td>\n",
       "    </tr>\n",
       "    <tr>\n",
       "      <th>24</th>\n",
       "      <td>3</td>\n",
       "      <td>2022-09-22 13:06:05.476</td>\n",
       "      <td>632c58940dc6e263f6c4b210</td>\n",
       "      <td>ios</td>\n",
       "      <td>2.1.0</td>\n",
       "      <td>rejected</td>\n",
       "      <td>rejected</td>\n",
       "    </tr>\n",
       "    <tr>\n",
       "      <th>25</th>\n",
       "      <td>1</td>\n",
       "      <td>2022-09-22 13:30:30.368</td>\n",
       "      <td>632c5ad174b66367262751c1</td>\n",
       "      <td>web</td>\n",
       "      <td>2.3.4</td>\n",
       "      <td>succeeded</td>\n",
       "      <td>succeeded</td>\n",
       "    </tr>\n",
       "    <tr>\n",
       "      <th>26</th>\n",
       "      <td>0</td>\n",
       "      <td>2022-09-27 10:17:50.162</td>\n",
       "      <td>6332cdcd3ac74d7c49d18ecf</td>\n",
       "      <td>ios</td>\n",
       "      <td>2.2.18</td>\n",
       "      <td>rejected</td>\n",
       "      <td>rejected</td>\n",
       "    </tr>\n",
       "    <tr>\n",
       "      <th>27</th>\n",
       "      <td>0</td>\n",
       "      <td>2022-09-30 13:28:04.600</td>\n",
       "      <td>6336ee727223d31b214336ee</td>\n",
       "      <td>ios</td>\n",
       "      <td>2.1.0</td>\n",
       "      <td>rejected</td>\n",
       "      <td>rejected</td>\n",
       "    </tr>\n",
       "  </tbody>\n",
       "</table>\n",
       "</div>"
      ],
      "text/plain": [
       "    logIndex               timestamp                      user   os version  \\\n",
       "0          0 2022-09-22 07:43:56.694  63118ee37da4395a758f5c09  web   2.3.3   \n",
       "1          1 2022-09-22 07:43:56.981  63118ee37da4395a758f5c09  web   2.3.3   \n",
       "2          2 2022-09-22 07:44:25.865  63118ee37da4395a758f5c09  web   2.3.3   \n",
       "3          3 2022-09-22 07:44:26.115  63118ee37da4395a758f5c09  web   2.3.3   \n",
       "4          4 2022-09-22 07:48:24.467  63118ee37da4395a758f5c09  web   2.3.3   \n",
       "5          5 2022-09-22 07:48:24.725  63118ee37da4395a758f5c09  web   2.3.3   \n",
       "6          6 2022-09-22 07:52:47.456  63118ee37da4395a758f5c09  web   2.3.3   \n",
       "7          7 2022-09-22 07:52:47.715  63118ee37da4395a758f5c09  web   2.3.3   \n",
       "8          8 2022-09-22 07:52:50.741  63118ee37da4395a758f5c09  web   2.3.3   \n",
       "9          9 2022-09-22 07:52:51.016  63118ee37da4395a758f5c09  web   2.3.3   \n",
       "10        10 2022-09-22 08:09:05.941  63118ee37da4395a758f5c09  web   2.3.3   \n",
       "11        11 2022-09-22 08:09:06.200  63118ee37da4395a758f5c09  web   2.3.3   \n",
       "12         0 2022-09-22 08:11:13.994  63118ee37da4395a758f5c09  web   2.3.3   \n",
       "13         1 2022-09-22 08:11:14.275  63118ee37da4395a758f5c09  web   2.3.3   \n",
       "14         2 2022-09-22 08:11:37.446  63118ee37da4395a758f5c09  web   2.3.3   \n",
       "15         3 2022-09-22 08:11:37.694  63118ee37da4395a758f5c09  web   2.3.3   \n",
       "16         4 2022-09-22 08:11:57.886  63118ee37da4395a758f5c09  web   2.3.4   \n",
       "17         0 2022-09-22 09:29:53.727  6329a334815a036554b35b2f  ios  2.2.18   \n",
       "18         1 2022-09-22 09:33:25.021  6329a334815a036554b35b2f  ios  2.2.18   \n",
       "19         2 2022-09-22 09:36:01.341  6329a334815a036554b35b2f  ios   2.5.0   \n",
       "20         0 2022-09-22 12:44:05.835  632c58940dc6e263f6c4b210  ios   2.1.0   \n",
       "21         1 2022-09-22 12:45:55.533  632c58940dc6e263f6c4b210  ios   2.1.0   \n",
       "22         2 2022-09-22 12:51:47.945  632c58940dc6e263f6c4b210  ios   2.1.0   \n",
       "23         0 2022-09-22 12:53:38.470  632c5ad174b66367262751c1  web   2.3.0   \n",
       "24         3 2022-09-22 13:06:05.476  632c58940dc6e263f6c4b210  ios   2.1.0   \n",
       "25         1 2022-09-22 13:30:30.368  632c5ad174b66367262751c1  web   2.3.4   \n",
       "26         0 2022-09-27 10:17:50.162  6332cdcd3ac74d7c49d18ecf  ios  2.2.18   \n",
       "27         0 2022-09-30 13:28:04.600  6336ee727223d31b214336ee  ios   2.1.0   \n",
       "\n",
       "       status finalStatus  \n",
       "0    rejected   succeeded  \n",
       "1    rejected   succeeded  \n",
       "2    rejected   succeeded  \n",
       "3    rejected   succeeded  \n",
       "4    rejected   succeeded  \n",
       "5    rejected   succeeded  \n",
       "6    rejected   succeeded  \n",
       "7    rejected   succeeded  \n",
       "8    rejected   succeeded  \n",
       "9    rejected   succeeded  \n",
       "10   rejected   succeeded  \n",
       "11  succeeded   succeeded  \n",
       "12   rejected   succeeded  \n",
       "13   rejected   succeeded  \n",
       "14   rejected   succeeded  \n",
       "15   rejected   succeeded  \n",
       "16  succeeded   succeeded  \n",
       "17   rejected   succeeded  \n",
       "18   rejected   succeeded  \n",
       "19  succeeded   succeeded  \n",
       "20   rejected    rejected  \n",
       "21   rejected    rejected  \n",
       "22   rejected    rejected  \n",
       "23   rejected   succeeded  \n",
       "24   rejected    rejected  \n",
       "25  succeeded   succeeded  \n",
       "26   rejected    rejected  \n",
       "27   rejected    rejected  "
      ]
     },
     "execution_count": 37,
     "metadata": {},
     "output_type": "execute_result"
    }
   ],
   "source": [
    "statuses = list(dev.AppUpdateLog.aggregate([\n",
    "    {\"$match\": { \"createdAt\": {\"$gt\": begin} }},\n",
    "    {\"$unwind\": { \"path\": \"$log\", \"includeArrayIndex\": \"logIndex\"}},\n",
    "    {\"$project\": {\"timestamp\": \"$log.timestamp\", \n",
    "                  \"user\": \"$userId\", \n",
    "                  \"logIndex\": 1, \n",
    "                  \"os\": \"$clientType\", \n",
    "                  \"version\": \"$log.clientVersion\", \n",
    "                  \"status\": \"$log.status\",\n",
    "                  \"finalStatus\": \"$status\"}},\n",
    "    {\"$sort\": {\"timestamp\": 1}}\n",
    "]))\n",
    "\n",
    "pd.DataFrame(statuses).drop([\"_id\"], axis=1)"
   ]
  }
 ],
 "metadata": {
  "kernelspec": {
   "display_name": "Python 3 (ipykernel)",
   "language": "python",
   "name": "python3"
  },
  "language_info": {
   "codemirror_mode": {
    "name": "ipython",
    "version": 3
   },
   "file_extension": ".py",
   "mimetype": "text/x-python",
   "name": "python",
   "nbconvert_exporter": "python",
   "pygments_lexer": "ipython3",
   "version": "3.10.7"
  }
 },
 "nbformat": 4,
 "nbformat_minor": 5
}
